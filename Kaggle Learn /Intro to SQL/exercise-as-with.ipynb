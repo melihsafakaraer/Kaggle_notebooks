{
 "cells": [
  {
   "cell_type": "markdown",
   "id": "c2542eec",
   "metadata": {
    "papermill": {
     "duration": 0.009026,
     "end_time": "2024-02-22T12:35:23.083233",
     "exception": false,
     "start_time": "2024-02-22T12:35:23.074207",
     "status": "completed"
    },
    "tags": []
   },
   "source": [
    "**This notebook is an exercise in the [SQL](https://www.kaggle.com/learn/intro-to-sql) course.  You can reference the tutorial at [this link](https://www.kaggle.com/dansbecker/as-with).**\n",
    "\n",
    "---\n"
   ]
  },
  {
   "cell_type": "markdown",
   "id": "d294652e",
   "metadata": {
    "papermill": {
     "duration": 0.008131,
     "end_time": "2024-02-22T12:35:23.099809",
     "exception": false,
     "start_time": "2024-02-22T12:35:23.091678",
     "status": "completed"
    },
    "tags": []
   },
   "source": [
    "# Introduction\n",
    "\n",
    "You are getting to the point where you can own an analysis from beginning to end. So you'll do more data exploration in this exercise than you've done before.  Before you get started, run the following set-up code as usual. "
   ]
  },
  {
   "cell_type": "code",
   "execution_count": 1,
   "id": "2671a3b6",
   "metadata": {
    "execution": {
     "iopub.execute_input": "2024-02-22T12:35:23.119816Z",
     "iopub.status.busy": "2024-02-22T12:35:23.118978Z",
     "iopub.status.idle": "2024-02-22T12:36:16.327506Z",
     "shell.execute_reply": "2024-02-22T12:36:16.326578Z"
    },
    "papermill": {
     "duration": 53.221377,
     "end_time": "2024-02-22T12:36:16.329861",
     "exception": false,
     "start_time": "2024-02-22T12:35:23.108484",
     "status": "completed"
    },
    "tags": []
   },
   "outputs": [
    {
     "name": "stdout",
     "output_type": "stream",
     "text": [
      "Collecting git+https://github.com/Kaggle/learntools.git\r\n",
      "  Cloning https://github.com/Kaggle/learntools.git to /tmp/pip-req-build-r6veo2q0\r\n",
      "  Running command git clone --filter=blob:none --quiet https://github.com/Kaggle/learntools.git /tmp/pip-req-build-r6veo2q0\r\n",
      "  fatal: unable to access 'https://github.com/Kaggle/learntools.git/': Could not resolve host: github.com\r\n",
      "  \u001b[1;31merror\u001b[0m: \u001b[1msubprocess-exited-with-error\u001b[0m\r\n",
      "  \r\n",
      "  \u001b[31m×\u001b[0m \u001b[32mgit clone --\u001b[0m\u001b[32mfilter\u001b[0m\u001b[32m=\u001b[0m\u001b[32mblob\u001b[0m\u001b[32m:none --quiet \u001b[0m\u001b[4;32mhttps://github.com/Kaggle/learntools.git\u001b[0m\u001b[32m \u001b[0m\u001b[32m/tmp/\u001b[0m\u001b[32mpip-req-build-r6veo2q0\u001b[0m did not run successfully.\r\n",
      "  \u001b[31m│\u001b[0m exit code: \u001b[1;36m128\u001b[0m\r\n",
      "  \u001b[31m╰─>\u001b[0m See above for output.\r\n",
      "  \r\n",
      "  \u001b[1;35mnote\u001b[0m: This error originates from a subprocess, and is likely not a problem with pip.\r\n",
      "\u001b[1;31merror\u001b[0m: \u001b[1msubprocess-exited-with-error\u001b[0m\r\n",
      "\r\n",
      "\u001b[31m×\u001b[0m \u001b[32mgit clone --\u001b[0m\u001b[32mfilter\u001b[0m\u001b[32m=\u001b[0m\u001b[32mblob\u001b[0m\u001b[32m:none --quiet \u001b[0m\u001b[4;32mhttps://github.com/Kaggle/learntools.git\u001b[0m\u001b[32m \u001b[0m\u001b[32m/tmp/\u001b[0m\u001b[32mpip-req-build-r6veo2q0\u001b[0m did not run successfully.\r\n",
      "\u001b[31m│\u001b[0m exit code: \u001b[1;36m128\u001b[0m\r\n",
      "\u001b[31m╰─>\u001b[0m See above for output.\r\n",
      "\r\n",
      "\u001b[1;35mnote\u001b[0m: This error originates from a subprocess, and is likely not a problem with pip.\r\n",
      "Using Kaggle's public dataset BigQuery integration.\n",
      "Setup Complete\n"
     ]
    }
   ],
   "source": [
    "# Get most recent checking code\n",
    "!pip install -U -t /kaggle/working/ git+https://github.com/Kaggle/learntools.git\n",
    "# Set up feedback system\n",
    "from learntools.core import binder\n",
    "binder.bind(globals())\n",
    "from learntools.sql.ex5 import *\n",
    "print(\"Setup Complete\")"
   ]
  },
  {
   "cell_type": "markdown",
   "id": "31e84fe4",
   "metadata": {
    "papermill": {
     "duration": 0.008603,
     "end_time": "2024-02-22T12:36:16.347666",
     "exception": false,
     "start_time": "2024-02-22T12:36:16.339063",
     "status": "completed"
    },
    "tags": []
   },
   "source": [
    "You'll work with a dataset about taxi trips in the city of Chicago. Run the cell below to fetch the `chicago_taxi_trips` dataset."
   ]
  },
  {
   "cell_type": "code",
   "execution_count": 2,
   "id": "c99054f5",
   "metadata": {
    "execution": {
     "iopub.execute_input": "2024-02-22T12:36:16.368790Z",
     "iopub.status.busy": "2024-02-22T12:36:16.367042Z",
     "iopub.status.idle": "2024-02-22T12:36:16.975943Z",
     "shell.execute_reply": "2024-02-22T12:36:16.974735Z"
    },
    "papermill": {
     "duration": 0.622465,
     "end_time": "2024-02-22T12:36:16.978871",
     "exception": false,
     "start_time": "2024-02-22T12:36:16.356406",
     "status": "completed"
    },
    "tags": []
   },
   "outputs": [
    {
     "name": "stdout",
     "output_type": "stream",
     "text": [
      "Using Kaggle's public dataset BigQuery integration.\n"
     ]
    }
   ],
   "source": [
    "from google.cloud import bigquery\n",
    "\n",
    "# Create a \"Client\" object\n",
    "client = bigquery.Client()\n",
    "\n",
    "# Construct a reference to the \"chicago_taxi_trips\" dataset\n",
    "dataset_ref = client.dataset(\"chicago_taxi_trips\", project=\"bigquery-public-data\")\n",
    "\n",
    "# API request - fetch the dataset\n",
    "dataset = client.get_dataset(dataset_ref)"
   ]
  },
  {
   "cell_type": "markdown",
   "id": "b50fb3e4",
   "metadata": {
    "papermill": {
     "duration": 0.008799,
     "end_time": "2024-02-22T12:36:16.996672",
     "exception": false,
     "start_time": "2024-02-22T12:36:16.987873",
     "status": "completed"
    },
    "tags": []
   },
   "source": [
    "# Exercises\n",
    "\n",
    "You are curious how much slower traffic moves when traffic volume is high. This involves a few steps.\n",
    "\n",
    "### 1) Find the data\n",
    "Before you can access the data, you need to find the table name with the data.\n",
    "\n",
    "*Hint*: Tab completion is helpful whenever you can't remember a command. Type `client.` and then hit the tab key. Don't forget the period before hitting tab."
   ]
  },
  {
   "cell_type": "code",
   "execution_count": 3,
   "id": "26372b9c",
   "metadata": {
    "execution": {
     "iopub.execute_input": "2024-02-22T12:36:17.017032Z",
     "iopub.status.busy": "2024-02-22T12:36:17.016645Z",
     "iopub.status.idle": "2024-02-22T12:36:17.477013Z",
     "shell.execute_reply": "2024-02-22T12:36:17.475298Z"
    },
    "papermill": {
     "duration": 0.473955,
     "end_time": "2024-02-22T12:36:17.479831",
     "exception": false,
     "start_time": "2024-02-22T12:36:17.005876",
     "status": "completed"
    },
    "tags": []
   },
   "outputs": [
    {
     "name": "stdout",
     "output_type": "stream",
     "text": [
      "taxi_trips\n"
     ]
    }
   ],
   "source": [
    "# Your code here to find the table name\n",
    "tables = list(client.list_tables(dataset))\n",
    "for table in tables:  \n",
    "    print(table.table_id)"
   ]
  },
  {
   "cell_type": "code",
   "execution_count": 4,
   "id": "d2dec3e5",
   "metadata": {
    "execution": {
     "iopub.execute_input": "2024-02-22T12:36:17.500810Z",
     "iopub.status.busy": "2024-02-22T12:36:17.500386Z",
     "iopub.status.idle": "2024-02-22T12:36:17.510654Z",
     "shell.execute_reply": "2024-02-22T12:36:17.509848Z"
    },
    "papermill": {
     "duration": 0.023454,
     "end_time": "2024-02-22T12:36:17.512699",
     "exception": false,
     "start_time": "2024-02-22T12:36:17.489245",
     "status": "completed"
    },
    "tags": []
   },
   "outputs": [
    {
     "data": {
      "application/javascript": [
       "parent.postMessage({\"jupyterEvent\": \"custom.exercise_interaction\", \"data\": {\"outcomeType\": 1, \"valueTowardsCompletion\": 0.16666666666666666, \"interactionType\": 1, \"questionType\": 1, \"questionId\": \"1_GetTableName\", \"learnToolsVersion\": \"0.3.4\", \"failureMessage\": \"\", \"exceptionClass\": \"\", \"trace\": \"\"}}, \"*\")"
      ],
      "text/plain": [
       "<IPython.core.display.Javascript object>"
      ]
     },
     "metadata": {},
     "output_type": "display_data"
    },
    {
     "data": {
      "text/markdown": [
       "<span style=\"color:#33cc33\">Correct</span>"
      ],
      "text/plain": [
       "Correct"
      ]
     },
     "metadata": {},
     "output_type": "display_data"
    }
   ],
   "source": [
    "# Write the table name as a string below\n",
    "table_name = \"taxi_trips\"\n",
    "\n",
    "# Check your answer\n",
    "q_1.check()"
   ]
  },
  {
   "cell_type": "markdown",
   "id": "bc2b87f2",
   "metadata": {
    "papermill": {
     "duration": 0.011491,
     "end_time": "2024-02-22T12:36:17.533492",
     "exception": false,
     "start_time": "2024-02-22T12:36:17.522001",
     "status": "completed"
    },
    "tags": []
   },
   "source": [
    "For the solution, uncomment the line below."
   ]
  },
  {
   "cell_type": "code",
   "execution_count": 5,
   "id": "8f47166f",
   "metadata": {
    "execution": {
     "iopub.execute_input": "2024-02-22T12:36:17.554551Z",
     "iopub.status.busy": "2024-02-22T12:36:17.554096Z",
     "iopub.status.idle": "2024-02-22T12:36:17.559074Z",
     "shell.execute_reply": "2024-02-22T12:36:17.557800Z"
    },
    "papermill": {
     "duration": 0.018637,
     "end_time": "2024-02-22T12:36:17.561619",
     "exception": false,
     "start_time": "2024-02-22T12:36:17.542982",
     "status": "completed"
    },
    "tags": []
   },
   "outputs": [],
   "source": [
    "#q_1.solution()"
   ]
  },
  {
   "cell_type": "markdown",
   "id": "f0124bd3",
   "metadata": {
    "papermill": {
     "duration": 0.009358,
     "end_time": "2024-02-22T12:36:17.580549",
     "exception": false,
     "start_time": "2024-02-22T12:36:17.571191",
     "status": "completed"
    },
    "tags": []
   },
   "source": [
    "### 2) Peek at the data\n",
    "\n",
    "Use the next code cell to peek at the top few rows of the data. Inspect the data and see if any issues with data quality are immediately obvious. "
   ]
  },
  {
   "cell_type": "code",
   "execution_count": 6,
   "id": "86e212f1",
   "metadata": {
    "execution": {
     "iopub.execute_input": "2024-02-22T12:36:17.601603Z",
     "iopub.status.busy": "2024-02-22T12:36:17.601107Z",
     "iopub.status.idle": "2024-02-22T12:36:18.526464Z",
     "shell.execute_reply": "2024-02-22T12:36:18.525267Z"
    },
    "papermill": {
     "duration": 0.939584,
     "end_time": "2024-02-22T12:36:18.529573",
     "exception": false,
     "start_time": "2024-02-22T12:36:17.589989",
     "status": "completed"
    },
    "tags": []
   },
   "outputs": [
    {
     "data": {
      "text/html": [
       "<div>\n",
       "<style scoped>\n",
       "    .dataframe tbody tr th:only-of-type {\n",
       "        vertical-align: middle;\n",
       "    }\n",
       "\n",
       "    .dataframe tbody tr th {\n",
       "        vertical-align: top;\n",
       "    }\n",
       "\n",
       "    .dataframe thead th {\n",
       "        text-align: right;\n",
       "    }\n",
       "</style>\n",
       "<table border=\"1\" class=\"dataframe\">\n",
       "  <thead>\n",
       "    <tr style=\"text-align: right;\">\n",
       "      <th></th>\n",
       "      <th>unique_key</th>\n",
       "      <th>taxi_id</th>\n",
       "      <th>trip_start_timestamp</th>\n",
       "      <th>trip_end_timestamp</th>\n",
       "      <th>trip_seconds</th>\n",
       "      <th>trip_miles</th>\n",
       "      <th>pickup_census_tract</th>\n",
       "      <th>dropoff_census_tract</th>\n",
       "      <th>pickup_community_area</th>\n",
       "      <th>dropoff_community_area</th>\n",
       "      <th>...</th>\n",
       "      <th>extras</th>\n",
       "      <th>trip_total</th>\n",
       "      <th>payment_type</th>\n",
       "      <th>company</th>\n",
       "      <th>pickup_latitude</th>\n",
       "      <th>pickup_longitude</th>\n",
       "      <th>pickup_location</th>\n",
       "      <th>dropoff_latitude</th>\n",
       "      <th>dropoff_longitude</th>\n",
       "      <th>dropoff_location</th>\n",
       "    </tr>\n",
       "  </thead>\n",
       "  <tbody>\n",
       "    <tr>\n",
       "      <th>0</th>\n",
       "      <td>d0dd5f20073d6174a456961088231dc46006a5c0</td>\n",
       "      <td>efce437d4bc2a79b12ac131e37789da8fe5e53f37d12c2...</td>\n",
       "      <td>2015-10-17 19:15:00+00:00</td>\n",
       "      <td>2015-10-17 19:30:00+00:00</td>\n",
       "      <td>780</td>\n",
       "      <td>2.2</td>\n",
       "      <td>1.703107e+10</td>\n",
       "      <td>1.703106e+10</td>\n",
       "      <td>7</td>\n",
       "      <td>6</td>\n",
       "      <td>...</td>\n",
       "      <td>0.0</td>\n",
       "      <td>10.20</td>\n",
       "      <td>Credit Card</td>\n",
       "      <td>None</td>\n",
       "      <td>41.926811</td>\n",
       "      <td>-87.642605</td>\n",
       "      <td>POINT (-87.6426052473 41.9268111821)</td>\n",
       "      <td>41.953400</td>\n",
       "      <td>-87.646007</td>\n",
       "      <td>POINT (-87.6460070664 41.9534000435)</td>\n",
       "    </tr>\n",
       "    <tr>\n",
       "      <th>1</th>\n",
       "      <td>37682f189f404780d57f266556003849c5fec752</td>\n",
       "      <td>a02e1f355041b6350e4d79a4de1e650b266f5dc1ea40d1...</td>\n",
       "      <td>2015-10-12 23:45:00+00:00</td>\n",
       "      <td>2015-10-12 23:45:00+00:00</td>\n",
       "      <td>300</td>\n",
       "      <td>1.0</td>\n",
       "      <td>NaN</td>\n",
       "      <td>NaN</td>\n",
       "      <td>11</td>\n",
       "      <td>15</td>\n",
       "      <td>...</td>\n",
       "      <td>0.0</td>\n",
       "      <td>5.45</td>\n",
       "      <td>Cash</td>\n",
       "      <td>None</td>\n",
       "      <td>41.978830</td>\n",
       "      <td>-87.771167</td>\n",
       "      <td>POINT (-87.771166703 41.9788295262)</td>\n",
       "      <td>41.954028</td>\n",
       "      <td>-87.763399</td>\n",
       "      <td>POINT (-87.7633990316 41.9540276487)</td>\n",
       "    </tr>\n",
       "    <tr>\n",
       "      <th>2</th>\n",
       "      <td>7add88253c78688a6a0920cb30adbb4944418601</td>\n",
       "      <td>e637e1afe0dab0e2d04c635335602caf1045d43e3741c2...</td>\n",
       "      <td>2015-10-16 15:45:00+00:00</td>\n",
       "      <td>2015-10-16 15:45:00+00:00</td>\n",
       "      <td>360</td>\n",
       "      <td>0.8</td>\n",
       "      <td>1.703108e+10</td>\n",
       "      <td>1.703184e+10</td>\n",
       "      <td>8</td>\n",
       "      <td>32</td>\n",
       "      <td>...</td>\n",
       "      <td>1.0</td>\n",
       "      <td>6.25</td>\n",
       "      <td>Cash</td>\n",
       "      <td>None</td>\n",
       "      <td>41.909496</td>\n",
       "      <td>-87.630964</td>\n",
       "      <td>POINT (-87.630963601 41.9094956686)</td>\n",
       "      <td>41.871016</td>\n",
       "      <td>-87.631407</td>\n",
       "      <td>POINT (-87.6314065252 41.8710158803)</td>\n",
       "    </tr>\n",
       "    <tr>\n",
       "      <th>3</th>\n",
       "      <td>7d597ed8fa15502482d3c98b74fdc084785c7f14</td>\n",
       "      <td>a538132e78f04101a86f83f4697f6944ea8c97acef8eb3...</td>\n",
       "      <td>2015-10-11 02:15:00+00:00</td>\n",
       "      <td>2015-10-11 02:15:00+00:00</td>\n",
       "      <td>780</td>\n",
       "      <td>6.6</td>\n",
       "      <td>1.703103e+10</td>\n",
       "      <td>1.703107e+10</td>\n",
       "      <td>77</td>\n",
       "      <td>7</td>\n",
       "      <td>...</td>\n",
       "      <td>1.0</td>\n",
       "      <td>16.65</td>\n",
       "      <td>Cash</td>\n",
       "      <td>None</td>\n",
       "      <td>41.994442</td>\n",
       "      <td>-87.665225</td>\n",
       "      <td>POINT (-87.6652247765 41.9944422482)</td>\n",
       "      <td>41.921855</td>\n",
       "      <td>-87.646211</td>\n",
       "      <td>POINT (-87.6462109769 41.9218549112)</td>\n",
       "    </tr>\n",
       "    <tr>\n",
       "      <th>4</th>\n",
       "      <td>053c4b3fe66ca85a76998502de77bbc34ddf4668</td>\n",
       "      <td>0c1aa5b32422ba0cc2082cd87c91d95f8ec088421d886a...</td>\n",
       "      <td>2015-10-11 01:30:00+00:00</td>\n",
       "      <td>2015-10-11 01:45:00+00:00</td>\n",
       "      <td>480</td>\n",
       "      <td>2.0</td>\n",
       "      <td>1.703105e+10</td>\n",
       "      <td>1.703104e+10</td>\n",
       "      <td>5</td>\n",
       "      <td>4</td>\n",
       "      <td>...</td>\n",
       "      <td>0.0</td>\n",
       "      <td>7.45</td>\n",
       "      <td>Cash</td>\n",
       "      <td>None</td>\n",
       "      <td>41.950546</td>\n",
       "      <td>-87.676182</td>\n",
       "      <td>POINT (-87.6761824959 41.95054569650001)</td>\n",
       "      <td>41.966806</td>\n",
       "      <td>-87.694020</td>\n",
       "      <td>POINT (-87.6940200973 41.9668063463)</td>\n",
       "    </tr>\n",
       "  </tbody>\n",
       "</table>\n",
       "<p>5 rows × 23 columns</p>\n",
       "</div>"
      ],
      "text/plain": [
       "                                 unique_key  \\\n",
       "0  d0dd5f20073d6174a456961088231dc46006a5c0   \n",
       "1  37682f189f404780d57f266556003849c5fec752   \n",
       "2  7add88253c78688a6a0920cb30adbb4944418601   \n",
       "3  7d597ed8fa15502482d3c98b74fdc084785c7f14   \n",
       "4  053c4b3fe66ca85a76998502de77bbc34ddf4668   \n",
       "\n",
       "                                             taxi_id  \\\n",
       "0  efce437d4bc2a79b12ac131e37789da8fe5e53f37d12c2...   \n",
       "1  a02e1f355041b6350e4d79a4de1e650b266f5dc1ea40d1...   \n",
       "2  e637e1afe0dab0e2d04c635335602caf1045d43e3741c2...   \n",
       "3  a538132e78f04101a86f83f4697f6944ea8c97acef8eb3...   \n",
       "4  0c1aa5b32422ba0cc2082cd87c91d95f8ec088421d886a...   \n",
       "\n",
       "       trip_start_timestamp        trip_end_timestamp  trip_seconds  \\\n",
       "0 2015-10-17 19:15:00+00:00 2015-10-17 19:30:00+00:00           780   \n",
       "1 2015-10-12 23:45:00+00:00 2015-10-12 23:45:00+00:00           300   \n",
       "2 2015-10-16 15:45:00+00:00 2015-10-16 15:45:00+00:00           360   \n",
       "3 2015-10-11 02:15:00+00:00 2015-10-11 02:15:00+00:00           780   \n",
       "4 2015-10-11 01:30:00+00:00 2015-10-11 01:45:00+00:00           480   \n",
       "\n",
       "   trip_miles  pickup_census_tract  dropoff_census_tract  \\\n",
       "0         2.2         1.703107e+10          1.703106e+10   \n",
       "1         1.0                  NaN                   NaN   \n",
       "2         0.8         1.703108e+10          1.703184e+10   \n",
       "3         6.6         1.703103e+10          1.703107e+10   \n",
       "4         2.0         1.703105e+10          1.703104e+10   \n",
       "\n",
       "   pickup_community_area  dropoff_community_area  ...  extras  trip_total  \\\n",
       "0                      7                       6  ...     0.0       10.20   \n",
       "1                     11                      15  ...     0.0        5.45   \n",
       "2                      8                      32  ...     1.0        6.25   \n",
       "3                     77                       7  ...     1.0       16.65   \n",
       "4                      5                       4  ...     0.0        7.45   \n",
       "\n",
       "   payment_type  company  pickup_latitude pickup_longitude  \\\n",
       "0   Credit Card     None        41.926811       -87.642605   \n",
       "1          Cash     None        41.978830       -87.771167   \n",
       "2          Cash     None        41.909496       -87.630964   \n",
       "3          Cash     None        41.994442       -87.665225   \n",
       "4          Cash     None        41.950546       -87.676182   \n",
       "\n",
       "                            pickup_location  dropoff_latitude  \\\n",
       "0      POINT (-87.6426052473 41.9268111821)         41.953400   \n",
       "1       POINT (-87.771166703 41.9788295262)         41.954028   \n",
       "2       POINT (-87.630963601 41.9094956686)         41.871016   \n",
       "3      POINT (-87.6652247765 41.9944422482)         41.921855   \n",
       "4  POINT (-87.6761824959 41.95054569650001)         41.966806   \n",
       "\n",
       "   dropoff_longitude                      dropoff_location  \n",
       "0         -87.646007  POINT (-87.6460070664 41.9534000435)  \n",
       "1         -87.763399  POINT (-87.7633990316 41.9540276487)  \n",
       "2         -87.631407  POINT (-87.6314065252 41.8710158803)  \n",
       "3         -87.646211  POINT (-87.6462109769 41.9218549112)  \n",
       "4         -87.694020  POINT (-87.6940200973 41.9668063463)  \n",
       "\n",
       "[5 rows x 23 columns]"
      ]
     },
     "execution_count": 6,
     "metadata": {},
     "output_type": "execute_result"
    }
   ],
   "source": [
    "# Your code here\n",
    "table = client.get_table(dataset_ref.table(\"taxi_trips\"))\n",
    "client.list_rows(table, max_results=5).to_dataframe()"
   ]
  },
  {
   "cell_type": "markdown",
   "id": "b3124985",
   "metadata": {
    "papermill": {
     "duration": 0.010139,
     "end_time": "2024-02-22T12:36:18.551500",
     "exception": false,
     "start_time": "2024-02-22T12:36:18.541361",
     "status": "completed"
    },
    "tags": []
   },
   "source": [
    "After deciding whether you see any important issues, run the code cell below."
   ]
  },
  {
   "cell_type": "code",
   "execution_count": 7,
   "id": "100dffd2",
   "metadata": {
    "execution": {
     "iopub.execute_input": "2024-02-22T12:36:18.574238Z",
     "iopub.status.busy": "2024-02-22T12:36:18.573803Z",
     "iopub.status.idle": "2024-02-22T12:36:18.581707Z",
     "shell.execute_reply": "2024-02-22T12:36:18.580928Z"
    },
    "papermill": {
     "duration": 0.022761,
     "end_time": "2024-02-22T12:36:18.584680",
     "exception": false,
     "start_time": "2024-02-22T12:36:18.561919",
     "status": "completed"
    },
    "tags": []
   },
   "outputs": [
    {
     "data": {
      "application/javascript": [
       "parent.postMessage({\"jupyterEvent\": \"custom.exercise_interaction\", \"data\": {\"interactionType\": 3, \"questionType\": 4, \"questionId\": \"2_WhatsWrongWithData\", \"learnToolsVersion\": \"0.3.4\", \"valueTowardsCompletion\": 0.0, \"failureMessage\": \"\", \"exceptionClass\": \"\", \"trace\": \"\", \"outcomeType\": 4}}, \"*\")"
      ],
      "text/plain": [
       "<IPython.core.display.Javascript object>"
      ]
     },
     "metadata": {},
     "output_type": "display_data"
    },
    {
     "data": {
      "text/markdown": [
       "<span style=\"color:#33cc99\">Solution:</span> \n",
       "You can see the data by calling: \n",
       "```python\n",
       "# Construct a reference to the \"taxi_trips\" table\n",
       "table_ref = dataset_ref.table(\"taxi_trips\")\n",
       "\n",
       "# API request - fetch the table\n",
       "table = client.get_table(table_ref)\n",
       "\n",
       "# Preview the first five lines of the \"taxi_trips\" table\n",
       "client.list_rows(table, max_results=5).to_dataframe()\n",
       "```\n",
       "\n",
       "Some location fields have values of `None` or `NaN`. That is a problem if we want to use those fields.\n"
      ],
      "text/plain": [
       "Solution: \n",
       "You can see the data by calling: \n",
       "```python\n",
       "# Construct a reference to the \"taxi_trips\" table\n",
       "table_ref = dataset_ref.table(\"taxi_trips\")\n",
       "\n",
       "# API request - fetch the table\n",
       "table = client.get_table(table_ref)\n",
       "\n",
       "# Preview the first five lines of the \"taxi_trips\" table\n",
       "client.list_rows(table, max_results=5).to_dataframe()\n",
       "```\n",
       "\n",
       "Some location fields have values of `None` or `NaN`. That is a problem if we want to use those fields."
      ]
     },
     "metadata": {},
     "output_type": "display_data"
    }
   ],
   "source": [
    "# Check your answer (Run this code cell to receive credit!)\n",
    "q_2.solution()"
   ]
  },
  {
   "cell_type": "markdown",
   "id": "7c7379d3",
   "metadata": {
    "papermill": {
     "duration": 0.010557,
     "end_time": "2024-02-22T12:36:18.605898",
     "exception": false,
     "start_time": "2024-02-22T12:36:18.595341",
     "status": "completed"
    },
    "tags": []
   },
   "source": [
    "### 3) Determine when this data is from\n",
    "\n",
    "If the data is sufficiently old, we might be careful before assuming the data is still relevant to traffic patterns today. Write a query that counts the number of trips in each year.  \n",
    "\n",
    "Your results should have two columns:\n",
    "- `year` - the year of the trips\n",
    "- `num_trips` - the number of trips in that year\n",
    "\n",
    "Hints:\n",
    "- When using **GROUP BY** and **ORDER BY**, you should refer to the columns by the alias `year` that you set at the top of the **SELECT** query.\n",
    "- The SQL code to **SELECT** the year from `trip_start_timestamp` is <code>SELECT EXTRACT(YEAR FROM trip_start_timestamp)</code>\n",
    "- The **FROM** field can be a little tricky until you are used to it.  The format is:\n",
    "    1. A backick (the symbol \\`).\n",
    "    2. The project name. In this case it is `bigquery-public-data`.\n",
    "    3. A period.\n",
    "    4. The dataset name. In this case, it is `chicago_taxi_trips`.\n",
    "    5. A period.\n",
    "    6. The table name. You used this as your answer in **1) Find the data**.\n",
    "    7. A backtick (the symbol \\`)."
   ]
  },
  {
   "cell_type": "code",
   "execution_count": 8,
   "id": "f6eeb50d",
   "metadata": {
    "execution": {
     "iopub.execute_input": "2024-02-22T12:36:18.629968Z",
     "iopub.status.busy": "2024-02-22T12:36:18.628847Z",
     "iopub.status.idle": "2024-02-22T12:36:19.828621Z",
     "shell.execute_reply": "2024-02-22T12:36:19.827476Z"
    },
    "papermill": {
     "duration": 1.216545,
     "end_time": "2024-02-22T12:36:19.833234",
     "exception": false,
     "start_time": "2024-02-22T12:36:18.616689",
     "status": "completed"
    },
    "tags": []
   },
   "outputs": [
    {
     "name": "stdout",
     "output_type": "stream",
     "text": [
      "    num_trips  year\n",
      "0     3888831  2020\n",
      "1     3947677  2021\n",
      "2     6382071  2022\n",
      "3     6495415  2023\n",
      "4    16476440  2019\n",
      "5    20731105  2018\n",
      "6    24979611  2017\n",
      "7    27217300  2013\n",
      "8    31756403  2016\n",
      "9    32385527  2015\n",
      "10   37395079  2014\n"
     ]
    },
    {
     "data": {
      "application/javascript": [
       "parent.postMessage({\"jupyterEvent\": \"custom.exercise_interaction\", \"data\": {\"outcomeType\": 1, \"valueTowardsCompletion\": 0.16666666666666666, \"interactionType\": 1, \"questionType\": 2, \"questionId\": \"3_YearDistrib\", \"learnToolsVersion\": \"0.3.4\", \"failureMessage\": \"\", \"exceptionClass\": \"\", \"trace\": \"\"}}, \"*\")"
      ],
      "text/plain": [
       "<IPython.core.display.Javascript object>"
      ]
     },
     "metadata": {},
     "output_type": "display_data"
    },
    {
     "data": {
      "text/markdown": [
       "<span style=\"color:#33cc33\">Correct</span>"
      ],
      "text/plain": [
       "Correct"
      ]
     },
     "metadata": {},
     "output_type": "display_data"
    }
   ],
   "source": [
    "# Your code goes here\n",
    "rides_per_year_query = \"\"\"SELECT COUNT(1) AS num_trips,EXTRACT(YEAR FROM trip_start_timestamp) AS year\n",
    "                          FROM `bigquery-public-data.chicago_taxi_trips.taxi_trips`\n",
    "                          GROUP BY year\n",
    "                          ORDER BY num_trips\n",
    "                            \"\"\"\n",
    "\n",
    "# Set up the query (cancel the query if it would use too much of \n",
    "# your quota)\n",
    "safe_config = bigquery.QueryJobConfig(maximum_bytes_billed=10**10)\n",
    "rides_per_year_query_job = client.query(rides_per_year_query, job_config = safe_config) # Your code goes here\n",
    "\n",
    "# API request - run the query, and return a pandas DataFrame\n",
    "rides_per_year_result = rides_per_year_query_job.to_dataframe() # Your code goes here\n",
    "\n",
    "# View results\n",
    "print(rides_per_year_result)\n",
    "\n",
    "# Check your answer\n",
    "q_3.check()"
   ]
  },
  {
   "cell_type": "markdown",
   "id": "2cb5dc3a",
   "metadata": {
    "papermill": {
     "duration": 0.010813,
     "end_time": "2024-02-22T12:36:19.855432",
     "exception": false,
     "start_time": "2024-02-22T12:36:19.844619",
     "status": "completed"
    },
    "tags": []
   },
   "source": [
    "For a hint or the solution, uncomment the appropriate line below."
   ]
  },
  {
   "cell_type": "code",
   "execution_count": 9,
   "id": "5a3b3277",
   "metadata": {
    "execution": {
     "iopub.execute_input": "2024-02-22T12:36:19.880557Z",
     "iopub.status.busy": "2024-02-22T12:36:19.880096Z",
     "iopub.status.idle": "2024-02-22T12:36:19.885845Z",
     "shell.execute_reply": "2024-02-22T12:36:19.884745Z"
    },
    "papermill": {
     "duration": 0.021504,
     "end_time": "2024-02-22T12:36:19.888182",
     "exception": false,
     "start_time": "2024-02-22T12:36:19.866678",
     "status": "completed"
    },
    "tags": []
   },
   "outputs": [],
   "source": [
    "#q_3.hint()\n",
    "#q_3.solution()"
   ]
  },
  {
   "cell_type": "markdown",
   "id": "90643b1a",
   "metadata": {
    "papermill": {
     "duration": 0.010811,
     "end_time": "2024-02-22T12:36:19.910727",
     "exception": false,
     "start_time": "2024-02-22T12:36:19.899916",
     "status": "completed"
    },
    "tags": []
   },
   "source": [
    "### 4) Dive slightly deeper\n",
    "\n",
    "You'd like to take a closer look at rides from 2016.  Copy the query you used above in `rides_per_year_query` into the cell below for `rides_per_month_query`.  Then modify it in two ways:\n",
    "1. Use a **WHERE** clause to limit the query to data from 2016.\n",
    "2. Modify the query to extract the month rather than the year."
   ]
  },
  {
   "cell_type": "code",
   "execution_count": 10,
   "id": "1f7d13c7",
   "metadata": {
    "execution": {
     "iopub.execute_input": "2024-02-22T12:36:19.934996Z",
     "iopub.status.busy": "2024-02-22T12:36:19.933958Z",
     "iopub.status.idle": "2024-02-22T12:36:21.326297Z",
     "shell.execute_reply": "2024-02-22T12:36:21.325171Z"
    },
    "papermill": {
     "duration": 1.40716,
     "end_time": "2024-02-22T12:36:21.328846",
     "exception": false,
     "start_time": "2024-02-22T12:36:19.921686",
     "status": "completed"
    },
    "tags": []
   },
   "outputs": [
    {
     "name": "stdout",
     "output_type": "stream",
     "text": [
      "    month  num_trips\n",
      "0       1    2510389\n",
      "1       2    2568433\n",
      "2       3    2851106\n",
      "3       4    2854290\n",
      "4       5    2859147\n",
      "5       6    2841872\n",
      "6       7    2682912\n",
      "7       8    2629482\n",
      "8       9    2532650\n",
      "9      10    2725340\n",
      "10     11    2387790\n",
      "11     12    2312992\n"
     ]
    },
    {
     "data": {
      "application/javascript": [
       "parent.postMessage({\"jupyterEvent\": \"custom.exercise_interaction\", \"data\": {\"outcomeType\": 1, \"valueTowardsCompletion\": 0.16666666666666666, \"interactionType\": 1, \"questionType\": 2, \"questionId\": \"4_MonthDistrib\", \"learnToolsVersion\": \"0.3.4\", \"failureMessage\": \"\", \"exceptionClass\": \"\", \"trace\": \"\"}}, \"*\")"
      ],
      "text/plain": [
       "<IPython.core.display.Javascript object>"
      ]
     },
     "metadata": {},
     "output_type": "display_data"
    },
    {
     "data": {
      "text/markdown": [
       "<span style=\"color:#33cc33\">Correct</span>"
      ],
      "text/plain": [
       "Correct"
      ]
     },
     "metadata": {},
     "output_type": "display_data"
    }
   ],
   "source": [
    "# Your code goes here\n",
    "rides_per_month_query = \"\"\"SELECT EXTRACT(MONTH FROM trip_start_timestamp) AS month, COUNT(1) AS num_trips\n",
    "                          FROM `bigquery-public-data.chicago_taxi_trips.taxi_trips`\n",
    "                          WHERE EXTRACT(YEAR FROM trip_start_timestamp) = 2016\n",
    "                          GROUP BY month\n",
    "                          ORDER BY month\"\"\" \n",
    "\n",
    "# Set up the query\n",
    "safe_config = bigquery.QueryJobConfig(maximum_bytes_billed=10**10)\n",
    "rides_per_month_query_job = client.query(rides_per_month_query, job_config = safe_config) # Your code goes here\n",
    "\n",
    "# API request - run the query, and return a pandas DataFrame\n",
    "rides_per_month_result = rides_per_month_query_job.to_dataframe() # Your code goes here\n",
    "\n",
    "# View results\n",
    "print(rides_per_month_result)\n",
    "\n",
    "# Check your answer\n",
    "q_4.check()"
   ]
  },
  {
   "cell_type": "markdown",
   "id": "7024960a",
   "metadata": {
    "papermill": {
     "duration": 0.011218,
     "end_time": "2024-02-22T12:36:21.351248",
     "exception": false,
     "start_time": "2024-02-22T12:36:21.340030",
     "status": "completed"
    },
    "tags": []
   },
   "source": [
    "For a hint or the solution, uncomment the appropriate line below."
   ]
  },
  {
   "cell_type": "code",
   "execution_count": 11,
   "id": "70d19231",
   "metadata": {
    "execution": {
     "iopub.execute_input": "2024-02-22T12:36:21.375757Z",
     "iopub.status.busy": "2024-02-22T12:36:21.375342Z",
     "iopub.status.idle": "2024-02-22T12:36:21.379578Z",
     "shell.execute_reply": "2024-02-22T12:36:21.378518Z"
    },
    "papermill": {
     "duration": 0.019384,
     "end_time": "2024-02-22T12:36:21.381887",
     "exception": false,
     "start_time": "2024-02-22T12:36:21.362503",
     "status": "completed"
    },
    "tags": []
   },
   "outputs": [],
   "source": [
    "#q_4.hint()\n",
    "#q_4.solution()"
   ]
  },
  {
   "cell_type": "markdown",
   "id": "a816ea89",
   "metadata": {
    "papermill": {
     "duration": 0.01115,
     "end_time": "2024-02-22T12:36:21.404317",
     "exception": false,
     "start_time": "2024-02-22T12:36:21.393167",
     "status": "completed"
    },
    "tags": []
   },
   "source": [
    "### 5) Write the query\n",
    "\n",
    "It's time to step up the sophistication of your queries.  Write a query that shows, for each hour of the day in the dataset, the corresponding number of trips and average speed.\n",
    "\n",
    "Your results should have three columns:\n",
    "- `hour_of_day` - sort by this column, which holds the result of extracting the hour from `trip_start_timestamp`.\n",
    "- `num_trips` - the count of the total number of trips in each hour of the day (e.g. how many trips were started between 6AM and 7AM, independent of which day it occurred on).\n",
    "- `avg_mph` - the average speed, measured in miles per hour, for trips that started in that hour of the day.  Average speed in miles per hour is calculated as `3600 * SUM(trip_miles) / SUM(trip_seconds)`. (The value 3600 is used to convert from seconds to hours.)\n",
    "\n",
    "Restrict your query to data meeting the following criteria:\n",
    "- a `trip_start_timestamp` > **2016-01-01** and < **2016-04-01**\n",
    "- `trip_seconds` > 0 and `trip_miles` > 0\n",
    "\n",
    "You will use a common table expression (CTE) to select just the relevant rides.  Because this dataset is very big, this CTE should select only the columns you'll need to create the final output (though you won't actually create those in the CTE -- instead you'll create those in the later **SELECT** statement below the CTE).\n",
    "\n",
    "This is a much harder query than anything you've written so far.  Good luck!"
   ]
  },
  {
   "cell_type": "code",
   "execution_count": 12,
   "id": "900f7e43",
   "metadata": {
    "execution": {
     "iopub.execute_input": "2024-02-22T12:36:21.429653Z",
     "iopub.status.busy": "2024-02-22T12:36:21.428432Z",
     "iopub.status.idle": "2024-02-22T12:36:22.818856Z",
     "shell.execute_reply": "2024-02-22T12:36:22.817537Z"
    },
    "papermill": {
     "duration": 1.406516,
     "end_time": "2024-02-22T12:36:22.822105",
     "exception": false,
     "start_time": "2024-02-22T12:36:21.415589",
     "status": "completed"
    },
    "tags": []
   },
   "outputs": [
    {
     "name": "stdout",
     "output_type": "stream",
     "text": [
      "    hour_of_day  num_trips    avg_mph\n",
      "0             0     203092  20.191744\n",
      "1             1     178046  18.628598\n",
      "2             2     143447  18.444370\n",
      "3             3     108899  19.273107\n",
      "4             4      80067  27.599669\n",
      "5             5      75786  33.065604\n",
      "6             6     102254  28.533112\n",
      "7             7     187585  19.884592\n",
      "8             8     284223  16.787900\n",
      "9             9     306854  18.434124\n",
      "10           10     279762  20.091309\n",
      "11           11     294006  20.926340\n",
      "12           12     311522  20.063901\n",
      "13           13     317225  19.766321\n",
      "14           14     312629  19.309655\n",
      "15           15     319953  18.515564\n",
      "16           16     349455  17.168814\n",
      "17           17     394324  14.641375\n",
      "18           18     431991  15.381995\n",
      "19           19     416743  17.795008\n",
      "20           20     356279  20.347398\n",
      "21           21     318363  22.584731\n",
      "22           22     289886  21.129847\n",
      "23           23     241690  20.259757\n"
     ]
    },
    {
     "data": {
      "application/javascript": [
       "parent.postMessage({\"jupyterEvent\": \"custom.exercise_interaction\", \"data\": {\"outcomeType\": 1, \"valueTowardsCompletion\": 0.16666666666666666, \"interactionType\": 1, \"questionType\": 2, \"questionId\": \"5_TheLongQuery\", \"learnToolsVersion\": \"0.3.4\", \"failureMessage\": \"\", \"exceptionClass\": \"\", \"trace\": \"\"}}, \"*\")"
      ],
      "text/plain": [
       "<IPython.core.display.Javascript object>"
      ]
     },
     "metadata": {},
     "output_type": "display_data"
    },
    {
     "data": {
      "text/markdown": [
       "<span style=\"color:#33cc33\">Correct</span>"
      ],
      "text/plain": [
       "Correct"
      ]
     },
     "metadata": {},
     "output_type": "display_data"
    }
   ],
   "source": [
    "# Your code goes here\n",
    "speeds_query = \"\"\"\n",
    "               WITH RelevantRides AS\n",
    "               (\n",
    "                   SELECT *\n",
    "                   FROM `bigquery-public-data.chicago_taxi_trips.taxi_trips`\n",
    "                   WHERE trip_start_timestamp > '2016-01-01' AND trip_start_timestamp < '2016-04-01' AND trip_seconds > 0 AND trip_miles > 0\n",
    "               )\n",
    "               SELECT EXTRACT(HOUR FROM trip_start_timestamp) AS hour_of_day, COUNT(1) AS num_trips, 3600 * SUM(trip_miles) / SUM(trip_seconds) AS avg_mph\n",
    "               FROM RelevantRides\n",
    "               GROUP BY hour_of_day\n",
    "               ORDER BY hour_of_day\n",
    "               \"\"\"\n",
    "\n",
    "# Set up the query\n",
    "safe_config = bigquery.QueryJobConfig(maximum_bytes_billed=10**10)\n",
    "speeds_query_job = client.query(speeds_query, job_config = safe_config) # Your code here\n",
    "\n",
    "# API request - run the query, and return a pandas DataFrame\n",
    "speeds_result = speeds_query_job.to_dataframe() # Your code here\n",
    "\n",
    "# View results\n",
    "print(speeds_result)\n",
    "\n",
    "# Check your answer\n",
    "q_5.check()"
   ]
  },
  {
   "cell_type": "markdown",
   "id": "d7bbf488",
   "metadata": {
    "papermill": {
     "duration": 0.012678,
     "end_time": "2024-02-22T12:36:22.848535",
     "exception": false,
     "start_time": "2024-02-22T12:36:22.835857",
     "status": "completed"
    },
    "tags": []
   },
   "source": [
    "For the solution, uncomment the appropriate line below."
   ]
  },
  {
   "cell_type": "code",
   "execution_count": 13,
   "id": "435adf4c",
   "metadata": {
    "execution": {
     "iopub.execute_input": "2024-02-22T12:36:22.876306Z",
     "iopub.status.busy": "2024-02-22T12:36:22.875191Z",
     "iopub.status.idle": "2024-02-22T12:36:22.885641Z",
     "shell.execute_reply": "2024-02-22T12:36:22.884320Z"
    },
    "papermill": {
     "duration": 0.026923,
     "end_time": "2024-02-22T12:36:22.888436",
     "exception": false,
     "start_time": "2024-02-22T12:36:22.861513",
     "status": "completed"
    },
    "tags": []
   },
   "outputs": [
    {
     "data": {
      "application/javascript": [
       "parent.postMessage({\"jupyterEvent\": \"custom.exercise_interaction\", \"data\": {\"interactionType\": 3, \"questionType\": 2, \"questionId\": \"5_TheLongQuery\", \"learnToolsVersion\": \"0.3.4\", \"valueTowardsCompletion\": 0.0, \"failureMessage\": \"\", \"exceptionClass\": \"\", \"trace\": \"\", \"outcomeType\": 4}}, \"*\")"
      ],
      "text/plain": [
       "<IPython.core.display.Javascript object>"
      ]
     },
     "metadata": {},
     "output_type": "display_data"
    },
    {
     "data": {
      "text/markdown": [
       "<span style=\"color:#33cc99\">Solution:</span> \n",
       "```python\n",
       "\n",
       "speeds_query = \"\"\"\n",
       "               WITH RelevantRides AS\n",
       "               (\n",
       "                   SELECT EXTRACT(HOUR FROM trip_start_timestamp) AS hour_of_day, \n",
       "                          trip_miles, \n",
       "                          trip_seconds\n",
       "                   FROM `bigquery-public-data.chicago_taxi_trips.taxi_trips`\n",
       "                   WHERE trip_start_timestamp > '2016-01-01' AND \n",
       "                         trip_start_timestamp < '2016-04-01' AND \n",
       "                         trip_seconds > 0 AND \n",
       "                         trip_miles > 0\n",
       "               )\n",
       "               SELECT hour_of_day, \n",
       "                      COUNT(1) AS num_trips, \n",
       "                      3600 * SUM(trip_miles) / SUM(trip_seconds) AS avg_mph\n",
       "               FROM RelevantRides\n",
       "               GROUP BY hour_of_day\n",
       "               ORDER BY hour_of_day\n",
       "               \"\"\"\n",
       "\n",
       "# Set up the query (cancel the query if it would use too much of \n",
       "# your quota)\n",
       "safe_config = bigquery.QueryJobConfig(maximum_bytes_billed=10**10)\n",
       "speeds_query_job = client.query(speeds_query, job_config=safe_config)\n",
       "\n",
       "# API request - run the query, and return a pandas DataFrame\n",
       "speeds_result = speeds_query_job.to_dataframe()\n",
       "\n",
       "# View results\n",
       "print(speeds_result)\n",
       "\n",
       "```"
      ],
      "text/plain": [
       "Solution: \n",
       "```python\n",
       "\n",
       "speeds_query = \"\"\"\n",
       "               WITH RelevantRides AS\n",
       "               (\n",
       "                   SELECT EXTRACT(HOUR FROM trip_start_timestamp) AS hour_of_day, \n",
       "                          trip_miles, \n",
       "                          trip_seconds\n",
       "                   FROM `bigquery-public-data.chicago_taxi_trips.taxi_trips`\n",
       "                   WHERE trip_start_timestamp > '2016-01-01' AND \n",
       "                         trip_start_timestamp < '2016-04-01' AND \n",
       "                         trip_seconds > 0 AND \n",
       "                         trip_miles > 0\n",
       "               )\n",
       "               SELECT hour_of_day, \n",
       "                      COUNT(1) AS num_trips, \n",
       "                      3600 * SUM(trip_miles) / SUM(trip_seconds) AS avg_mph\n",
       "               FROM RelevantRides\n",
       "               GROUP BY hour_of_day\n",
       "               ORDER BY hour_of_day\n",
       "               \"\"\"\n",
       "\n",
       "# Set up the query (cancel the query if it would use too much of \n",
       "# your quota)\n",
       "safe_config = bigquery.QueryJobConfig(maximum_bytes_billed=10**10)\n",
       "speeds_query_job = client.query(speeds_query, job_config=safe_config)\n",
       "\n",
       "# API request - run the query, and return a pandas DataFrame\n",
       "speeds_result = speeds_query_job.to_dataframe()\n",
       "\n",
       "# View results\n",
       "print(speeds_result)\n",
       "\n",
       "```"
      ]
     },
     "metadata": {},
     "output_type": "display_data"
    }
   ],
   "source": [
    "q_5.solution()"
   ]
  },
  {
   "cell_type": "markdown",
   "id": "22cc22fc",
   "metadata": {
    "papermill": {
     "duration": 0.012238,
     "end_time": "2024-02-22T12:36:22.913182",
     "exception": false,
     "start_time": "2024-02-22T12:36:22.900944",
     "status": "completed"
    },
    "tags": []
   },
   "source": [
    "That's a hard query. If you made good progress towards the solution, congratulations!"
   ]
  },
  {
   "cell_type": "markdown",
   "id": "5b2c8980",
   "metadata": {
    "papermill": {
     "duration": 0.012063,
     "end_time": "2024-02-22T12:36:22.937874",
     "exception": false,
     "start_time": "2024-02-22T12:36:22.925811",
     "status": "completed"
    },
    "tags": []
   },
   "source": [
    "# Keep going\n",
    "\n",
    "You can write very complex queries now with a single data source. But nothing expands the horizons of SQL as much as the ability to combine or **JOIN** tables.\n",
    "\n",
    "**[Click here](https://www.kaggle.com/dansbecker/joining-data)** to start the last lesson in the Intro to SQL course."
   ]
  },
  {
   "cell_type": "markdown",
   "id": "d87c1461",
   "metadata": {
    "papermill": {
     "duration": 0.01205,
     "end_time": "2024-02-22T12:36:22.962486",
     "exception": false,
     "start_time": "2024-02-22T12:36:22.950436",
     "status": "completed"
    },
    "tags": []
   },
   "source": [
    "---\n",
    "\n",
    "\n",
    "\n",
    "\n",
    "*Have questions or comments? Visit the [course discussion forum](https://www.kaggle.com/learn/intro-to-sql/discussion) to chat with other learners.*"
   ]
  }
 ],
 "metadata": {
  "kaggle": {
   "accelerator": "none",
   "dataSources": [
    {
     "datasetId": 22219,
     "sourceId": 28536,
     "sourceType": "datasetVersion"
    },
    {
     "datasetId": 11496,
     "sourceId": 285947,
     "sourceType": "datasetVersion"
    }
   ],
   "isGpuEnabled": false,
   "isInternetEnabled": false,
   "language": "python",
   "sourceType": "notebook"
  },
  "kernelspec": {
   "display_name": "Python 3",
   "language": "python",
   "name": "python3"
  },
  "language_info": {
   "codemirror_mode": {
    "name": "ipython",
    "version": 3
   },
   "file_extension": ".py",
   "mimetype": "text/x-python",
   "name": "python",
   "nbconvert_exporter": "python",
   "pygments_lexer": "ipython3",
   "version": "3.10.13"
  },
  "papermill": {
   "default_parameters": {},
   "duration": 64.019792,
   "end_time": "2024-02-22T12:36:23.899795",
   "environment_variables": {},
   "exception": null,
   "input_path": "__notebook__.ipynb",
   "output_path": "__notebook__.ipynb",
   "parameters": {},
   "start_time": "2024-02-22T12:35:19.880003",
   "version": "2.5.0"
  }
 },
 "nbformat": 4,
 "nbformat_minor": 5
}
