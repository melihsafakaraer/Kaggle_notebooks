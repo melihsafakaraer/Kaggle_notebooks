{
 "cells": [
  {
   "cell_type": "markdown",
   "id": "68c05884",
   "metadata": {
    "papermill": {
     "duration": 0.008061,
     "end_time": "2024-02-22T12:31:57.779241",
     "exception": false,
     "start_time": "2024-02-22T12:31:57.771180",
     "status": "completed"
    },
    "tags": []
   },
   "source": [
    "**This notebook is an exercise in the [SQL](https://www.kaggle.com/learn/intro-to-sql) course.  You can reference the tutorial at [this link](https://www.kaggle.com/dansbecker/getting-started-with-sql-and-bigquery).**\n",
    "\n",
    "---\n"
   ]
  },
  {
   "cell_type": "markdown",
   "id": "479ab367",
   "metadata": {
    "papermill": {
     "duration": 0.007044,
     "end_time": "2024-02-22T12:31:57.794149",
     "exception": false,
     "start_time": "2024-02-22T12:31:57.787105",
     "status": "completed"
    },
    "tags": []
   },
   "source": [
    "# Introduction\n",
    "\n",
    "The first test of your new data exploration skills uses data describing crime in the city of Chicago.\n",
    "\n",
    "Before you get started, run the following cell. It sets up the automated feedback system to review your answers."
   ]
  },
  {
   "cell_type": "code",
   "execution_count": 1,
   "id": "8135b845",
   "metadata": {
    "execution": {
     "iopub.execute_input": "2024-02-22T12:31:57.810671Z",
     "iopub.status.busy": "2024-02-22T12:31:57.810266Z",
     "iopub.status.idle": "2024-02-22T12:32:05.081496Z",
     "shell.execute_reply": "2024-02-22T12:32:05.080128Z"
    },
    "papermill": {
     "duration": 7.282837,
     "end_time": "2024-02-22T12:32:05.084185",
     "exception": false,
     "start_time": "2024-02-22T12:31:57.801348",
     "status": "completed"
    },
    "tags": []
   },
   "outputs": [
    {
     "name": "stdout",
     "output_type": "stream",
     "text": [
      "Using Kaggle's public dataset BigQuery integration.\n",
      "Setup Complete\n"
     ]
    }
   ],
   "source": [
    "# Set up feedack system\n",
    "from learntools.core import binder\n",
    "binder.bind(globals())\n",
    "from learntools.sql.ex1 import *\n",
    "print(\"Setup Complete\")"
   ]
  },
  {
   "cell_type": "markdown",
   "id": "fb2f1d26",
   "metadata": {
    "papermill": {
     "duration": 0.007035,
     "end_time": "2024-02-22T12:32:05.098722",
     "exception": false,
     "start_time": "2024-02-22T12:32:05.091687",
     "status": "completed"
    },
    "tags": []
   },
   "source": [
    "Use the next code cell to fetch the dataset."
   ]
  },
  {
   "cell_type": "code",
   "execution_count": 2,
   "id": "a83c0fb4",
   "metadata": {
    "execution": {
     "iopub.execute_input": "2024-02-22T12:32:05.115232Z",
     "iopub.status.busy": "2024-02-22T12:32:05.114577Z",
     "iopub.status.idle": "2024-02-22T12:32:05.440953Z",
     "shell.execute_reply": "2024-02-22T12:32:05.439868Z"
    },
    "papermill": {
     "duration": 0.337871,
     "end_time": "2024-02-22T12:32:05.443786",
     "exception": false,
     "start_time": "2024-02-22T12:32:05.105915",
     "status": "completed"
    },
    "tags": []
   },
   "outputs": [
    {
     "name": "stdout",
     "output_type": "stream",
     "text": [
      "Using Kaggle's public dataset BigQuery integration.\n"
     ]
    }
   ],
   "source": [
    "from google.cloud import bigquery\n",
    "\n",
    "# Create a \"Client\" object\n",
    "client = bigquery.Client()\n",
    "\n",
    "# Construct a reference to the \"chicago_crime\" dataset\n",
    "dataset_ref = client.dataset(\"chicago_crime\", project=\"bigquery-public-data\")\n",
    "\n",
    "# API request - fetch the dataset\n",
    "dataset = client.get_dataset(dataset_ref)"
   ]
  },
  {
   "cell_type": "markdown",
   "id": "31b7a33d",
   "metadata": {
    "papermill": {
     "duration": 0.007131,
     "end_time": "2024-02-22T12:32:05.458395",
     "exception": false,
     "start_time": "2024-02-22T12:32:05.451264",
     "status": "completed"
    },
    "tags": []
   },
   "source": [
    "# Exercises\n",
    "\n",
    "### 1) Count tables in the dataset\n",
    "\n",
    "How many tables are in the Chicago Crime dataset?"
   ]
  },
  {
   "cell_type": "code",
   "execution_count": 3,
   "id": "6718c11c",
   "metadata": {
    "execution": {
     "iopub.execute_input": "2024-02-22T12:32:05.475462Z",
     "iopub.status.busy": "2024-02-22T12:32:05.474958Z",
     "iopub.status.idle": "2024-02-22T12:32:05.668983Z",
     "shell.execute_reply": "2024-02-22T12:32:05.668008Z"
    },
    "papermill": {
     "duration": 0.20566,
     "end_time": "2024-02-22T12:32:05.671657",
     "exception": false,
     "start_time": "2024-02-22T12:32:05.465997",
     "status": "completed"
    },
    "tags": []
   },
   "outputs": [
    {
     "name": "stdout",
     "output_type": "stream",
     "text": [
      "crime\n"
     ]
    }
   ],
   "source": [
    "# Write the code you need here to figure out the answer\n",
    "tables = list(client.list_tables(dataset))\n",
    "\n",
    "for table in tables:  \n",
    "    print(table.table_id)"
   ]
  },
  {
   "cell_type": "code",
   "execution_count": 4,
   "id": "73b19415",
   "metadata": {
    "execution": {
     "iopub.execute_input": "2024-02-22T12:32:05.688971Z",
     "iopub.status.busy": "2024-02-22T12:32:05.688589Z",
     "iopub.status.idle": "2024-02-22T12:32:05.699400Z",
     "shell.execute_reply": "2024-02-22T12:32:05.698099Z"
    },
    "papermill": {
     "duration": 0.022418,
     "end_time": "2024-02-22T12:32:05.701777",
     "exception": false,
     "start_time": "2024-02-22T12:32:05.679359",
     "status": "completed"
    },
    "tags": []
   },
   "outputs": [
    {
     "data": {
      "application/javascript": [
       "parent.postMessage({\"jupyterEvent\": \"custom.exercise_interaction\", \"data\": {\"outcomeType\": 1, \"valueTowardsCompletion\": 0.3333333333333333, \"interactionType\": 1, \"questionType\": 1, \"questionId\": \"1_CountTables\", \"learnToolsVersion\": \"0.3.4\", \"failureMessage\": \"\", \"exceptionClass\": \"\", \"trace\": \"\"}}, \"*\")"
      ],
      "text/plain": [
       "<IPython.core.display.Javascript object>"
      ]
     },
     "metadata": {},
     "output_type": "display_data"
    },
    {
     "data": {
      "text/markdown": [
       "<span style=\"color:#33cc33\">Correct</span>"
      ],
      "text/plain": [
       "Correct"
      ]
     },
     "metadata": {},
     "output_type": "display_data"
    }
   ],
   "source": [
    "num_tables = 1  # Store the answer as num_tables and then run this cell\n",
    "\n",
    "# Check your answer\n",
    "q_1.check()"
   ]
  },
  {
   "cell_type": "markdown",
   "id": "4f0454b6",
   "metadata": {
    "papermill": {
     "duration": 0.007585,
     "end_time": "2024-02-22T12:32:05.717602",
     "exception": false,
     "start_time": "2024-02-22T12:32:05.710017",
     "status": "completed"
    },
    "tags": []
   },
   "source": [
    "For a hint or the solution, uncomment the appropriate line below."
   ]
  },
  {
   "cell_type": "code",
   "execution_count": 5,
   "id": "c19c339f",
   "metadata": {
    "execution": {
     "iopub.execute_input": "2024-02-22T12:32:05.736625Z",
     "iopub.status.busy": "2024-02-22T12:32:05.736159Z",
     "iopub.status.idle": "2024-02-22T12:32:05.741059Z",
     "shell.execute_reply": "2024-02-22T12:32:05.739915Z"
    },
    "papermill": {
     "duration": 0.017827,
     "end_time": "2024-02-22T12:32:05.743392",
     "exception": false,
     "start_time": "2024-02-22T12:32:05.725565",
     "status": "completed"
    },
    "tags": []
   },
   "outputs": [],
   "source": [
    "#q_1.hint()\n",
    "#q_1.solution()"
   ]
  },
  {
   "cell_type": "markdown",
   "id": "5583fb7c",
   "metadata": {
    "papermill": {
     "duration": 0.009013,
     "end_time": "2024-02-22T12:32:05.760980",
     "exception": false,
     "start_time": "2024-02-22T12:32:05.751967",
     "status": "completed"
    },
    "tags": []
   },
   "source": [
    "### 2) Explore the table schema\n",
    "\n",
    "How many columns in the `crime` table have `TIMESTAMP` data?"
   ]
  },
  {
   "cell_type": "code",
   "execution_count": 6,
   "id": "6bb43442",
   "metadata": {
    "execution": {
     "iopub.execute_input": "2024-02-22T12:32:05.778983Z",
     "iopub.status.busy": "2024-02-22T12:32:05.778580Z",
     "iopub.status.idle": "2024-02-22T12:32:05.995956Z",
     "shell.execute_reply": "2024-02-22T12:32:05.994847Z"
    },
    "papermill": {
     "duration": 0.229405,
     "end_time": "2024-02-22T12:32:05.998460",
     "exception": false,
     "start_time": "2024-02-22T12:32:05.769055",
     "status": "completed"
    },
    "tags": []
   },
   "outputs": [
    {
     "data": {
      "text/plain": [
       "[SchemaField('unique_key', 'INTEGER', 'REQUIRED', None, (), None),\n",
       " SchemaField('case_number', 'STRING', 'NULLABLE', None, (), None),\n",
       " SchemaField('date', 'TIMESTAMP', 'NULLABLE', None, (), None),\n",
       " SchemaField('block', 'STRING', 'NULLABLE', None, (), None),\n",
       " SchemaField('iucr', 'STRING', 'NULLABLE', None, (), None),\n",
       " SchemaField('primary_type', 'STRING', 'NULLABLE', None, (), None),\n",
       " SchemaField('description', 'STRING', 'NULLABLE', None, (), None),\n",
       " SchemaField('location_description', 'STRING', 'NULLABLE', None, (), None),\n",
       " SchemaField('arrest', 'BOOLEAN', 'NULLABLE', None, (), None),\n",
       " SchemaField('domestic', 'BOOLEAN', 'NULLABLE', None, (), None),\n",
       " SchemaField('beat', 'INTEGER', 'NULLABLE', None, (), None),\n",
       " SchemaField('district', 'INTEGER', 'NULLABLE', None, (), None),\n",
       " SchemaField('ward', 'INTEGER', 'NULLABLE', None, (), None),\n",
       " SchemaField('community_area', 'INTEGER', 'NULLABLE', None, (), None),\n",
       " SchemaField('fbi_code', 'STRING', 'NULLABLE', None, (), None),\n",
       " SchemaField('x_coordinate', 'FLOAT', 'NULLABLE', None, (), None),\n",
       " SchemaField('y_coordinate', 'FLOAT', 'NULLABLE', None, (), None),\n",
       " SchemaField('year', 'INTEGER', 'NULLABLE', None, (), None),\n",
       " SchemaField('updated_on', 'TIMESTAMP', 'NULLABLE', None, (), None),\n",
       " SchemaField('latitude', 'FLOAT', 'NULLABLE', None, (), None),\n",
       " SchemaField('longitude', 'FLOAT', 'NULLABLE', None, (), None),\n",
       " SchemaField('location', 'STRING', 'NULLABLE', None, (), None)]"
      ]
     },
     "execution_count": 6,
     "metadata": {},
     "output_type": "execute_result"
    }
   ],
   "source": [
    "# Write the code to figure out the answer\n",
    "table_ref = dataset_ref.table(\"crime\")\n",
    "table = client.get_table(table_ref)\n",
    "table.schema"
   ]
  },
  {
   "cell_type": "code",
   "execution_count": 7,
   "id": "507e3491",
   "metadata": {
    "execution": {
     "iopub.execute_input": "2024-02-22T12:32:06.018283Z",
     "iopub.status.busy": "2024-02-22T12:32:06.017056Z",
     "iopub.status.idle": "2024-02-22T12:32:06.025869Z",
     "shell.execute_reply": "2024-02-22T12:32:06.024891Z"
    },
    "papermill": {
     "duration": 0.021185,
     "end_time": "2024-02-22T12:32:06.028228",
     "exception": false,
     "start_time": "2024-02-22T12:32:06.007043",
     "status": "completed"
    },
    "tags": []
   },
   "outputs": [
    {
     "data": {
      "application/javascript": [
       "parent.postMessage({\"jupyterEvent\": \"custom.exercise_interaction\", \"data\": {\"outcomeType\": 1, \"valueTowardsCompletion\": 0.3333333333333333, \"interactionType\": 1, \"questionType\": 1, \"questionId\": \"2_CountTimestampFields\", \"learnToolsVersion\": \"0.3.4\", \"failureMessage\": \"\", \"exceptionClass\": \"\", \"trace\": \"\"}}, \"*\")"
      ],
      "text/plain": [
       "<IPython.core.display.Javascript object>"
      ]
     },
     "metadata": {},
     "output_type": "display_data"
    },
    {
     "data": {
      "text/markdown": [
       "<span style=\"color:#33cc33\">Correct</span>"
      ],
      "text/plain": [
       "Correct"
      ]
     },
     "metadata": {},
     "output_type": "display_data"
    }
   ],
   "source": [
    "num_timestamp_fields = 2 # Put your answer here\n",
    "\n",
    "# Check your answer\n",
    "q_2.check()"
   ]
  },
  {
   "cell_type": "markdown",
   "id": "c3475bcc",
   "metadata": {
    "papermill": {
     "duration": 0.008226,
     "end_time": "2024-02-22T12:32:06.045119",
     "exception": false,
     "start_time": "2024-02-22T12:32:06.036893",
     "status": "completed"
    },
    "tags": []
   },
   "source": [
    "For a hint or the solution, uncomment the appropriate line below."
   ]
  },
  {
   "cell_type": "code",
   "execution_count": 8,
   "id": "7767b42c",
   "metadata": {
    "execution": {
     "iopub.execute_input": "2024-02-22T12:32:06.064055Z",
     "iopub.status.busy": "2024-02-22T12:32:06.063675Z",
     "iopub.status.idle": "2024-02-22T12:32:06.067452Z",
     "shell.execute_reply": "2024-02-22T12:32:06.066610Z"
    },
    "papermill": {
     "duration": 0.016343,
     "end_time": "2024-02-22T12:32:06.069967",
     "exception": false,
     "start_time": "2024-02-22T12:32:06.053624",
     "status": "completed"
    },
    "tags": []
   },
   "outputs": [],
   "source": [
    "#q_2.hint()\n",
    "#q_2.solution()"
   ]
  },
  {
   "cell_type": "markdown",
   "id": "630424a2",
   "metadata": {
    "papermill": {
     "duration": 0.008757,
     "end_time": "2024-02-22T12:32:06.087696",
     "exception": false,
     "start_time": "2024-02-22T12:32:06.078939",
     "status": "completed"
    },
    "tags": []
   },
   "source": [
    "### 3) Create a crime map\n",
    "\n",
    "If you wanted to create a map with a dot at the location of each crime, what are the names of the two fields you likely need to pull out of the `crime` table to plot the crimes on a map?"
   ]
  },
  {
   "cell_type": "code",
   "execution_count": 9,
   "id": "219518fb",
   "metadata": {
    "execution": {
     "iopub.execute_input": "2024-02-22T12:32:06.107234Z",
     "iopub.status.busy": "2024-02-22T12:32:06.106803Z",
     "iopub.status.idle": "2024-02-22T12:32:06.111653Z",
     "shell.execute_reply": "2024-02-22T12:32:06.110340Z"
    },
    "papermill": {
     "duration": 0.017215,
     "end_time": "2024-02-22T12:32:06.113976",
     "exception": false,
     "start_time": "2024-02-22T12:32:06.096761",
     "status": "completed"
    },
    "tags": []
   },
   "outputs": [],
   "source": [
    "# Write the code here to explore the data so you can find the answer"
   ]
  },
  {
   "cell_type": "code",
   "execution_count": 10,
   "id": "c1f6ac9e",
   "metadata": {
    "execution": {
     "iopub.execute_input": "2024-02-22T12:32:06.133821Z",
     "iopub.status.busy": "2024-02-22T12:32:06.132820Z",
     "iopub.status.idle": "2024-02-22T12:32:06.144073Z",
     "shell.execute_reply": "2024-02-22T12:32:06.142851Z"
    },
    "papermill": {
     "duration": 0.023699,
     "end_time": "2024-02-22T12:32:06.146537",
     "exception": false,
     "start_time": "2024-02-22T12:32:06.122838",
     "status": "completed"
    },
    "tags": []
   },
   "outputs": [
    {
     "name": "stdout",
     "output_type": "stream",
     "text": [
      "`'latitude'` and `'longitude'` would be better and more standard than `'x_coordinate'` and `'y_coordinate'`, but this might work.\n"
     ]
    },
    {
     "data": {
      "application/javascript": [
       "parent.postMessage({\"jupyterEvent\": \"custom.exercise_interaction\", \"data\": {\"outcomeType\": 1, \"valueTowardsCompletion\": 0.3333333333333333, \"interactionType\": 1, \"questionType\": 2, \"questionId\": \"3_IdentifyFieldsForPlotting\", \"learnToolsVersion\": \"0.3.4\", \"failureMessage\": \"\", \"exceptionClass\": \"\", \"trace\": \"\"}}, \"*\")"
      ],
      "text/plain": [
       "<IPython.core.display.Javascript object>"
      ]
     },
     "metadata": {},
     "output_type": "display_data"
    },
    {
     "data": {
      "text/markdown": [
       "<span style=\"color:#33cc33\">Correct</span>"
      ],
      "text/plain": [
       "Correct"
      ]
     },
     "metadata": {},
     "output_type": "display_data"
    }
   ],
   "source": [
    "fields_for_plotting = [\"x_coordinate\", \"y_coordinate\"] # Put your answers here\n",
    "\n",
    "# Check your answer\n",
    "q_3.check()"
   ]
  },
  {
   "cell_type": "markdown",
   "id": "a204ff83",
   "metadata": {
    "papermill": {
     "duration": 0.008681,
     "end_time": "2024-02-22T12:32:06.164769",
     "exception": false,
     "start_time": "2024-02-22T12:32:06.156088",
     "status": "completed"
    },
    "tags": []
   },
   "source": [
    "For a hint or the solution, uncomment the appropriate line below."
   ]
  },
  {
   "cell_type": "code",
   "execution_count": 11,
   "id": "dde1168e",
   "metadata": {
    "execution": {
     "iopub.execute_input": "2024-02-22T12:32:06.185032Z",
     "iopub.status.busy": "2024-02-22T12:32:06.183874Z",
     "iopub.status.idle": "2024-02-22T12:32:06.189207Z",
     "shell.execute_reply": "2024-02-22T12:32:06.187869Z"
    },
    "papermill": {
     "duration": 0.018154,
     "end_time": "2024-02-22T12:32:06.191844",
     "exception": false,
     "start_time": "2024-02-22T12:32:06.173690",
     "status": "completed"
    },
    "tags": []
   },
   "outputs": [],
   "source": [
    "#q_3.hint()\n",
    "#q_3.solution()"
   ]
  },
  {
   "cell_type": "markdown",
   "id": "d283803b",
   "metadata": {
    "papermill": {
     "duration": 0.008686,
     "end_time": "2024-02-22T12:32:06.209772",
     "exception": false,
     "start_time": "2024-02-22T12:32:06.201086",
     "status": "completed"
    },
    "tags": []
   },
   "source": [
    "Thinking about the question above, there are a few columns that appear to have geographic data. Look at a few values (with the `list_rows()` command) to see if you can determine their relationship.  Two columns will still be hard to interpret. But it should be obvious how the `location` column relates to `latitude` and `longitude`."
   ]
  },
  {
   "cell_type": "code",
   "execution_count": 12,
   "id": "a2b4d0e6",
   "metadata": {
    "execution": {
     "iopub.execute_input": "2024-02-22T12:32:06.229973Z",
     "iopub.status.busy": "2024-02-22T12:32:06.229533Z",
     "iopub.status.idle": "2024-02-22T12:32:06.613407Z",
     "shell.execute_reply": "2024-02-22T12:32:06.612499Z"
    },
    "papermill": {
     "duration": 0.396929,
     "end_time": "2024-02-22T12:32:06.615719",
     "exception": false,
     "start_time": "2024-02-22T12:32:06.218790",
     "status": "completed"
    },
    "tags": []
   },
   "outputs": [
    {
     "data": {
      "text/html": [
       "<div>\n",
       "<style scoped>\n",
       "    .dataframe tbody tr th:only-of-type {\n",
       "        vertical-align: middle;\n",
       "    }\n",
       "\n",
       "    .dataframe tbody tr th {\n",
       "        vertical-align: top;\n",
       "    }\n",
       "\n",
       "    .dataframe thead th {\n",
       "        text-align: right;\n",
       "    }\n",
       "</style>\n",
       "<table border=\"1\" class=\"dataframe\">\n",
       "  <thead>\n",
       "    <tr style=\"text-align: right;\">\n",
       "      <th></th>\n",
       "      <th>unique_key</th>\n",
       "      <th>case_number</th>\n",
       "      <th>date</th>\n",
       "      <th>block</th>\n",
       "      <th>iucr</th>\n",
       "      <th>primary_type</th>\n",
       "      <th>description</th>\n",
       "      <th>location_description</th>\n",
       "      <th>arrest</th>\n",
       "      <th>domestic</th>\n",
       "      <th>...</th>\n",
       "      <th>ward</th>\n",
       "      <th>community_area</th>\n",
       "      <th>fbi_code</th>\n",
       "      <th>x_coordinate</th>\n",
       "      <th>y_coordinate</th>\n",
       "      <th>year</th>\n",
       "      <th>updated_on</th>\n",
       "      <th>latitude</th>\n",
       "      <th>longitude</th>\n",
       "      <th>location</th>\n",
       "    </tr>\n",
       "  </thead>\n",
       "  <tbody>\n",
       "    <tr>\n",
       "      <th>0</th>\n",
       "      <td>12490107</td>\n",
       "      <td>JE382792</td>\n",
       "      <td>2021-09-22 04:40:00+00:00</td>\n",
       "      <td>002XX N WABASH AVE</td>\n",
       "      <td>0281</td>\n",
       "      <td>CRIMINAL SEXUAL ASSAULT</td>\n",
       "      <td>NON-AGGRAVATED</td>\n",
       "      <td>HOTEL / MOTEL</td>\n",
       "      <td>False</td>\n",
       "      <td>False</td>\n",
       "      <td>...</td>\n",
       "      <td>42</td>\n",
       "      <td>32</td>\n",
       "      <td>02</td>\n",
       "      <td>1176777.0</td>\n",
       "      <td>1901808.0</td>\n",
       "      <td>2021</td>\n",
       "      <td>2021-09-29 03:41:20+00:00</td>\n",
       "      <td>41.885908</td>\n",
       "      <td>-87.626289</td>\n",
       "      <td>(41.885908101, -87.626289429)</td>\n",
       "    </tr>\n",
       "    <tr>\n",
       "      <th>1</th>\n",
       "      <td>11664927</td>\n",
       "      <td>JC235991</td>\n",
       "      <td>2019-04-23 11:31:00+00:00</td>\n",
       "      <td>001XX N STATE ST</td>\n",
       "      <td>031A</td>\n",
       "      <td>ROBBERY</td>\n",
       "      <td>ARMED: HANDGUN</td>\n",
       "      <td>CTA TRAIN</td>\n",
       "      <td>True</td>\n",
       "      <td>False</td>\n",
       "      <td>...</td>\n",
       "      <td>42</td>\n",
       "      <td>32</td>\n",
       "      <td>03</td>\n",
       "      <td>1176330.0</td>\n",
       "      <td>1901649.0</td>\n",
       "      <td>2019</td>\n",
       "      <td>2019-05-26 03:41:37+00:00</td>\n",
       "      <td>41.885482</td>\n",
       "      <td>-87.627936</td>\n",
       "      <td>(41.885481891, -87.627935689)</td>\n",
       "    </tr>\n",
       "    <tr>\n",
       "      <th>2</th>\n",
       "      <td>6153563</td>\n",
       "      <td>HP244171</td>\n",
       "      <td>2008-03-26 12:35:00+00:00</td>\n",
       "      <td>001XX S JEFFERSON ST</td>\n",
       "      <td>031A</td>\n",
       "      <td>ROBBERY</td>\n",
       "      <td>ARMED: HANDGUN</td>\n",
       "      <td>RESIDENCE-GARAGE</td>\n",
       "      <td>False</td>\n",
       "      <td>False</td>\n",
       "      <td>...</td>\n",
       "      <td>2</td>\n",
       "      <td>28</td>\n",
       "      <td>03</td>\n",
       "      <td>1172352.0</td>\n",
       "      <td>1899646.0</td>\n",
       "      <td>2008</td>\n",
       "      <td>2018-02-28 03:56:25+00:00</td>\n",
       "      <td>41.880074</td>\n",
       "      <td>-87.642603</td>\n",
       "      <td>(41.88007433, -87.642602726)</td>\n",
       "    </tr>\n",
       "    <tr>\n",
       "      <th>3</th>\n",
       "      <td>13227018</td>\n",
       "      <td>JG442858</td>\n",
       "      <td>2023-09-28 05:20:00+00:00</td>\n",
       "      <td>002XX N STATE ST</td>\n",
       "      <td>0320</td>\n",
       "      <td>ROBBERY</td>\n",
       "      <td>STRONG ARM - NO WEAPON</td>\n",
       "      <td>CTA TRAIN</td>\n",
       "      <td>False</td>\n",
       "      <td>False</td>\n",
       "      <td>...</td>\n",
       "      <td>42</td>\n",
       "      <td>32</td>\n",
       "      <td>03</td>\n",
       "      <td>1176327.0</td>\n",
       "      <td>1901797.0</td>\n",
       "      <td>2023</td>\n",
       "      <td>2023-10-06 03:43:01+00:00</td>\n",
       "      <td>41.885888</td>\n",
       "      <td>-87.627942</td>\n",
       "      <td>(41.885888079, -87.627942238)</td>\n",
       "    </tr>\n",
       "    <tr>\n",
       "      <th>4</th>\n",
       "      <td>8106028</td>\n",
       "      <td>HT338669</td>\n",
       "      <td>2011-06-08 11:30:00+00:00</td>\n",
       "      <td>002XX S CANAL ST</td>\n",
       "      <td>0320</td>\n",
       "      <td>ROBBERY</td>\n",
       "      <td>STRONGARM - NO WEAPON</td>\n",
       "      <td>STREET</td>\n",
       "      <td>False</td>\n",
       "      <td>False</td>\n",
       "      <td>...</td>\n",
       "      <td>2</td>\n",
       "      <td>28</td>\n",
       "      <td>03</td>\n",
       "      <td>1173177.0</td>\n",
       "      <td>1899236.0</td>\n",
       "      <td>2011</td>\n",
       "      <td>2018-02-10 03:50:01+00:00</td>\n",
       "      <td>41.878931</td>\n",
       "      <td>-87.639586</td>\n",
       "      <td>(41.878931004, -87.639585621)</td>\n",
       "    </tr>\n",
       "  </tbody>\n",
       "</table>\n",
       "<p>5 rows × 22 columns</p>\n",
       "</div>"
      ],
      "text/plain": [
       "   unique_key case_number                      date                 block  \\\n",
       "0    12490107    JE382792 2021-09-22 04:40:00+00:00    002XX N WABASH AVE   \n",
       "1    11664927    JC235991 2019-04-23 11:31:00+00:00      001XX N STATE ST   \n",
       "2     6153563    HP244171 2008-03-26 12:35:00+00:00  001XX S JEFFERSON ST   \n",
       "3    13227018    JG442858 2023-09-28 05:20:00+00:00      002XX N STATE ST   \n",
       "4     8106028    HT338669 2011-06-08 11:30:00+00:00      002XX S CANAL ST   \n",
       "\n",
       "   iucr             primary_type             description location_description  \\\n",
       "0  0281  CRIMINAL SEXUAL ASSAULT          NON-AGGRAVATED        HOTEL / MOTEL   \n",
       "1  031A                  ROBBERY          ARMED: HANDGUN            CTA TRAIN   \n",
       "2  031A                  ROBBERY          ARMED: HANDGUN     RESIDENCE-GARAGE   \n",
       "3  0320                  ROBBERY  STRONG ARM - NO WEAPON            CTA TRAIN   \n",
       "4  0320                  ROBBERY   STRONGARM - NO WEAPON               STREET   \n",
       "\n",
       "   arrest  domestic  ...  ward  community_area  fbi_code  x_coordinate  \\\n",
       "0   False     False  ...    42              32        02     1176777.0   \n",
       "1    True     False  ...    42              32        03     1176330.0   \n",
       "2   False     False  ...     2              28        03     1172352.0   \n",
       "3   False     False  ...    42              32        03     1176327.0   \n",
       "4   False     False  ...     2              28        03     1173177.0   \n",
       "\n",
       "  y_coordinate  year                updated_on   latitude  longitude  \\\n",
       "0    1901808.0  2021 2021-09-29 03:41:20+00:00  41.885908 -87.626289   \n",
       "1    1901649.0  2019 2019-05-26 03:41:37+00:00  41.885482 -87.627936   \n",
       "2    1899646.0  2008 2018-02-28 03:56:25+00:00  41.880074 -87.642603   \n",
       "3    1901797.0  2023 2023-10-06 03:43:01+00:00  41.885888 -87.627942   \n",
       "4    1899236.0  2011 2018-02-10 03:50:01+00:00  41.878931 -87.639586   \n",
       "\n",
       "                        location  \n",
       "0  (41.885908101, -87.626289429)  \n",
       "1  (41.885481891, -87.627935689)  \n",
       "2   (41.88007433, -87.642602726)  \n",
       "3  (41.885888079, -87.627942238)  \n",
       "4  (41.878931004, -87.639585621)  \n",
       "\n",
       "[5 rows x 22 columns]"
      ]
     },
     "execution_count": 12,
     "metadata": {},
     "output_type": "execute_result"
    }
   ],
   "source": [
    "# Scratch space for your code\n",
    "client.list_rows(table, max_results=5).to_dataframe()"
   ]
  },
  {
   "cell_type": "markdown",
   "id": "2909525d",
   "metadata": {
    "papermill": {
     "duration": 0.009181,
     "end_time": "2024-02-22T12:32:06.634898",
     "exception": false,
     "start_time": "2024-02-22T12:32:06.625717",
     "status": "completed"
    },
    "tags": []
   },
   "source": [
    "# Keep going\n",
    "\n",
    "You've looked at the schema, but you haven't yet done anything exciting with the data itself. Things get more interesting when you get to the data, so keep going to **[write your first SQL query](https://www.kaggle.com/dansbecker/select-from-where).**"
   ]
  },
  {
   "cell_type": "markdown",
   "id": "13418a0e",
   "metadata": {
    "papermill": {
     "duration": 0.00933,
     "end_time": "2024-02-22T12:32:06.653899",
     "exception": false,
     "start_time": "2024-02-22T12:32:06.644569",
     "status": "completed"
    },
    "tags": []
   },
   "source": [
    "---\n",
    "\n",
    "\n",
    "\n",
    "\n",
    "*Have questions or comments? Visit the [course discussion forum](https://www.kaggle.com/learn/intro-to-sql/discussion) to chat with other learners.*"
   ]
  }
 ],
 "metadata": {
  "kaggle": {
   "accelerator": "none",
   "dataSources": [
    {
     "datasetId": 22090,
     "sourceId": 28376,
     "sourceType": "datasetVersion"
    },
    {
     "datasetId": 6057,
     "sourceId": 285982,
     "sourceType": "datasetVersion"
    }
   ],
   "isGpuEnabled": false,
   "isInternetEnabled": false,
   "language": "python",
   "sourceType": "notebook"
  },
  "kernelspec": {
   "display_name": "Python 3",
   "language": "python",
   "name": "python3"
  },
  "language_info": {
   "codemirror_mode": {
    "name": "ipython",
    "version": 3
   },
   "file_extension": ".py",
   "mimetype": "text/x-python",
   "name": "python",
   "nbconvert_exporter": "python",
   "pygments_lexer": "ipython3",
   "version": "3.10.13"
  },
  "papermill": {
   "default_parameters": {},
   "duration": 12.970614,
   "end_time": "2024-02-22T12:32:07.485228",
   "environment_variables": {},
   "exception": null,
   "input_path": "__notebook__.ipynb",
   "output_path": "__notebook__.ipynb",
   "parameters": {},
   "start_time": "2024-02-22T12:31:54.514614",
   "version": "2.5.0"
  }
 },
 "nbformat": 4,
 "nbformat_minor": 5
}
