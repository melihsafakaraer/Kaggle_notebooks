{
 "cells": [
  {
   "cell_type": "markdown",
   "id": "4225418b",
   "metadata": {
    "papermill": {
     "duration": 0.009785,
     "end_time": "2024-02-22T21:19:27.429799",
     "exception": false,
     "start_time": "2024-02-22T21:19:27.420014",
     "status": "completed"
    },
    "tags": []
   },
   "source": [
    "**This notebook is an exercise in the [Data Cleaning](https://www.kaggle.com/learn/data-cleaning) course.  You can reference the tutorial at [this link](https://www.kaggle.com/alexisbcook/parsing-dates).**\n",
    "\n",
    "---\n"
   ]
  },
  {
   "cell_type": "markdown",
   "id": "92e1cd1f",
   "metadata": {
    "papermill": {
     "duration": 0.009031,
     "end_time": "2024-02-22T21:19:27.448428",
     "exception": false,
     "start_time": "2024-02-22T21:19:27.439397",
     "status": "completed"
    },
    "tags": []
   },
   "source": [
    "In this exercise, you'll apply what you learned in the **Parsing dates** tutorial.\n",
    "\n",
    "# Setup\n",
    "\n",
    "The questions below will give you feedback on your work. Run the following cell to set up the feedback system."
   ]
  },
  {
   "cell_type": "code",
   "execution_count": 1,
   "id": "e50028cf",
   "metadata": {
    "execution": {
     "iopub.execute_input": "2024-02-22T21:19:27.470874Z",
     "iopub.status.busy": "2024-02-22T21:19:27.470212Z",
     "iopub.status.idle": "2024-02-22T21:19:30.246261Z",
     "shell.execute_reply": "2024-02-22T21:19:30.244780Z"
    },
    "papermill": {
     "duration": 2.791287,
     "end_time": "2024-02-22T21:19:30.248970",
     "exception": false,
     "start_time": "2024-02-22T21:19:27.457683",
     "status": "completed"
    },
    "tags": []
   },
   "outputs": [
    {
     "name": "stdout",
     "output_type": "stream",
     "text": [
      "Setup Complete\n"
     ]
    }
   ],
   "source": [
    "from learntools.core import binder\n",
    "binder.bind(globals())\n",
    "from learntools.data_cleaning.ex3 import *\n",
    "print(\"Setup Complete\")"
   ]
  },
  {
   "cell_type": "markdown",
   "id": "35206f26",
   "metadata": {
    "papermill": {
     "duration": 0.009126,
     "end_time": "2024-02-22T21:19:30.267607",
     "exception": false,
     "start_time": "2024-02-22T21:19:30.258481",
     "status": "completed"
    },
    "tags": []
   },
   "source": [
    "# Get our environment set up\n",
    "\n",
    "The first thing we'll need to do is load in the libraries and dataset we'll be using. We'll be working with a dataset containing information on earthquakes that occured between 1965 and 2016."
   ]
  },
  {
   "cell_type": "code",
   "execution_count": 2,
   "id": "a4867239",
   "metadata": {
    "execution": {
     "iopub.execute_input": "2024-02-22T21:19:30.288746Z",
     "iopub.status.busy": "2024-02-22T21:19:30.287939Z",
     "iopub.status.idle": "2024-02-22T21:19:30.394509Z",
     "shell.execute_reply": "2024-02-22T21:19:30.393437Z"
    },
    "papermill": {
     "duration": 0.120293,
     "end_time": "2024-02-22T21:19:30.397385",
     "exception": false,
     "start_time": "2024-02-22T21:19:30.277092",
     "status": "completed"
    },
    "tags": []
   },
   "outputs": [],
   "source": [
    "# modules we'll use\n",
    "import pandas as pd\n",
    "import numpy as np\n",
    "import seaborn as sns\n",
    "import datetime\n",
    "\n",
    "# read in our data\n",
    "earthquakes = pd.read_csv(\"../input/earthquake-database/database.csv\")\n",
    "\n",
    "# set seed for reproducibility\n",
    "np.random.seed(0)"
   ]
  },
  {
   "cell_type": "markdown",
   "id": "92d0526d",
   "metadata": {
    "papermill": {
     "duration": 0.009311,
     "end_time": "2024-02-22T21:19:30.416315",
     "exception": false,
     "start_time": "2024-02-22T21:19:30.407004",
     "status": "completed"
    },
    "tags": []
   },
   "source": [
    "# 1) Check the data type of our date column\n",
    "\n",
    "You'll be working with the \"Date\" column from the `earthquakes` dataframe.  Investigate this column now: does it look like it contains dates?  What is the dtype of the column?"
   ]
  },
  {
   "cell_type": "code",
   "execution_count": 3,
   "id": "9c3aa42a",
   "metadata": {
    "execution": {
     "iopub.execute_input": "2024-02-22T21:19:30.436920Z",
     "iopub.status.busy": "2024-02-22T21:19:30.436533Z",
     "iopub.status.idle": "2024-02-22T21:19:30.446919Z",
     "shell.execute_reply": "2024-02-22T21:19:30.445591Z"
    },
    "papermill": {
     "duration": 0.023292,
     "end_time": "2024-02-22T21:19:30.449132",
     "exception": false,
     "start_time": "2024-02-22T21:19:30.425840",
     "status": "completed"
    },
    "tags": []
   },
   "outputs": [
    {
     "name": "stdout",
     "output_type": "stream",
     "text": [
      "0    01/02/1965\n",
      "1    01/04/1965\n",
      "2    01/05/1965\n",
      "3    01/08/1965\n",
      "4    01/09/1965\n",
      "Name: Date, dtype: object\n"
     ]
    },
    {
     "data": {
      "text/plain": [
       "dtype('O')"
      ]
     },
     "execution_count": 3,
     "metadata": {},
     "output_type": "execute_result"
    }
   ],
   "source": [
    "# TODO: Your code here!\n",
    "print(earthquakes.Date.head())\n",
    "earthquakes[\"Date\"].dtype"
   ]
  },
  {
   "cell_type": "markdown",
   "id": "e74d1929",
   "metadata": {
    "papermill": {
     "duration": 0.01169,
     "end_time": "2024-02-22T21:19:30.470382",
     "exception": false,
     "start_time": "2024-02-22T21:19:30.458692",
     "status": "completed"
    },
    "tags": []
   },
   "source": [
    "Once you have answered the question above, run the code cell below to get credit for your work."
   ]
  },
  {
   "cell_type": "code",
   "execution_count": 4,
   "id": "d8c04c2a",
   "metadata": {
    "execution": {
     "iopub.execute_input": "2024-02-22T21:19:30.493104Z",
     "iopub.status.busy": "2024-02-22T21:19:30.492670Z",
     "iopub.status.idle": "2024-02-22T21:19:30.502181Z",
     "shell.execute_reply": "2024-02-22T21:19:30.501016Z"
    },
    "papermill": {
     "duration": 0.023089,
     "end_time": "2024-02-22T21:19:30.504508",
     "exception": false,
     "start_time": "2024-02-22T21:19:30.481419",
     "status": "completed"
    },
    "tags": []
   },
   "outputs": [
    {
     "data": {
      "application/javascript": [
       "parent.postMessage({\"jupyterEvent\": \"custom.exercise_interaction\", \"data\": {\"outcomeType\": 1, \"valueTowardsCompletion\": 0.25, \"interactionType\": 1, \"questionType\": 4, \"questionId\": \"1_CheckDtype\", \"learnToolsVersion\": \"0.3.4\", \"failureMessage\": \"\", \"exceptionClass\": \"\", \"trace\": \"\"}}, \"*\")"
      ],
      "text/plain": [
       "<IPython.core.display.Javascript object>"
      ]
     },
     "metadata": {},
     "output_type": "display_data"
    },
    {
     "data": {
      "text/markdown": [
       "<span style=\"color:#33cc33\">Correct:</span> \n",
       "\n",
       "The \"Date\" column in the `earthquakes` DataFrame does have dates.  The dtype is \"object\"."
      ],
      "text/plain": [
       "Correct: \n",
       "\n",
       "The \"Date\" column in the `earthquakes` DataFrame does have dates.  The dtype is \"object\"."
      ]
     },
     "metadata": {},
     "output_type": "display_data"
    }
   ],
   "source": [
    "# Check your answer (Run this code cell to receive credit!)\n",
    "q1.check()"
   ]
  },
  {
   "cell_type": "code",
   "execution_count": 5,
   "id": "b691cfc3",
   "metadata": {
    "execution": {
     "iopub.execute_input": "2024-02-22T21:19:30.526559Z",
     "iopub.status.busy": "2024-02-22T21:19:30.526135Z",
     "iopub.status.idle": "2024-02-22T21:19:30.530626Z",
     "shell.execute_reply": "2024-02-22T21:19:30.529522Z"
    },
    "papermill": {
     "duration": 0.018264,
     "end_time": "2024-02-22T21:19:30.532937",
     "exception": false,
     "start_time": "2024-02-22T21:19:30.514673",
     "status": "completed"
    },
    "tags": []
   },
   "outputs": [],
   "source": [
    "# Line below will give you a hint\n",
    "#q1.hint()"
   ]
  },
  {
   "cell_type": "markdown",
   "id": "eb69cd7a",
   "metadata": {
    "papermill": {
     "duration": 0.010424,
     "end_time": "2024-02-22T21:19:30.553461",
     "exception": false,
     "start_time": "2024-02-22T21:19:30.543037",
     "status": "completed"
    },
    "tags": []
   },
   "source": [
    "# 2) Convert our date columns to datetime\n",
    "\n",
    "Most of the entries in the \"Date\" column follow the same format: \"month/day/four-digit year\".  However, the entry at index 3378 follows a completely different pattern.  Run the code cell below to see this."
   ]
  },
  {
   "cell_type": "code",
   "execution_count": 6,
   "id": "e507dc5c",
   "metadata": {
    "execution": {
     "iopub.execute_input": "2024-02-22T21:19:30.575145Z",
     "iopub.status.busy": "2024-02-22T21:19:30.574721Z",
     "iopub.status.idle": "2024-02-22T21:19:30.614447Z",
     "shell.execute_reply": "2024-02-22T21:19:30.613306Z"
    },
    "papermill": {
     "duration": 0.053713,
     "end_time": "2024-02-22T21:19:30.617235",
     "exception": false,
     "start_time": "2024-02-22T21:19:30.563522",
     "status": "completed"
    },
    "tags": []
   },
   "outputs": [
    {
     "data": {
      "text/html": [
       "<div>\n",
       "<style scoped>\n",
       "    .dataframe tbody tr th:only-of-type {\n",
       "        vertical-align: middle;\n",
       "    }\n",
       "\n",
       "    .dataframe tbody tr th {\n",
       "        vertical-align: top;\n",
       "    }\n",
       "\n",
       "    .dataframe thead th {\n",
       "        text-align: right;\n",
       "    }\n",
       "</style>\n",
       "<table border=\"1\" class=\"dataframe\">\n",
       "  <thead>\n",
       "    <tr style=\"text-align: right;\">\n",
       "      <th></th>\n",
       "      <th>Date</th>\n",
       "      <th>Time</th>\n",
       "      <th>Latitude</th>\n",
       "      <th>Longitude</th>\n",
       "      <th>Type</th>\n",
       "      <th>Depth</th>\n",
       "      <th>Depth Error</th>\n",
       "      <th>Depth Seismic Stations</th>\n",
       "      <th>Magnitude</th>\n",
       "      <th>Magnitude Type</th>\n",
       "      <th>...</th>\n",
       "      <th>Magnitude Seismic Stations</th>\n",
       "      <th>Azimuthal Gap</th>\n",
       "      <th>Horizontal Distance</th>\n",
       "      <th>Horizontal Error</th>\n",
       "      <th>Root Mean Square</th>\n",
       "      <th>ID</th>\n",
       "      <th>Source</th>\n",
       "      <th>Location Source</th>\n",
       "      <th>Magnitude Source</th>\n",
       "      <th>Status</th>\n",
       "    </tr>\n",
       "  </thead>\n",
       "  <tbody>\n",
       "    <tr>\n",
       "      <th>2090</th>\n",
       "      <td>09/15/1971</td>\n",
       "      <td>14:55:08</td>\n",
       "      <td>39.110</td>\n",
       "      <td>143.525</td>\n",
       "      <td>Earthquake</td>\n",
       "      <td>25.0</td>\n",
       "      <td>NaN</td>\n",
       "      <td>NaN</td>\n",
       "      <td>6.0</td>\n",
       "      <td>MW</td>\n",
       "      <td>...</td>\n",
       "      <td>NaN</td>\n",
       "      <td>NaN</td>\n",
       "      <td>NaN</td>\n",
       "      <td>NaN</td>\n",
       "      <td>NaN</td>\n",
       "      <td>ISCGEM780342</td>\n",
       "      <td>ISCGEM</td>\n",
       "      <td>ISCGEM</td>\n",
       "      <td>ISCGEM</td>\n",
       "      <td>Automatic</td>\n",
       "    </tr>\n",
       "    <tr>\n",
       "      <th>2091</th>\n",
       "      <td>09/16/1971</td>\n",
       "      <td>06:22:40</td>\n",
       "      <td>-5.912</td>\n",
       "      <td>130.603</td>\n",
       "      <td>Earthquake</td>\n",
       "      <td>131.0</td>\n",
       "      <td>NaN</td>\n",
       "      <td>NaN</td>\n",
       "      <td>7.0</td>\n",
       "      <td>MW</td>\n",
       "      <td>...</td>\n",
       "      <td>NaN</td>\n",
       "      <td>NaN</td>\n",
       "      <td>NaN</td>\n",
       "      <td>NaN</td>\n",
       "      <td>NaN</td>\n",
       "      <td>ISCGEMSUP780358</td>\n",
       "      <td>ISCGEMSUP</td>\n",
       "      <td>ISCGEM</td>\n",
       "      <td>ISCGEM</td>\n",
       "      <td>Automatic</td>\n",
       "    </tr>\n",
       "    <tr>\n",
       "      <th>2092</th>\n",
       "      <td>09/21/1971</td>\n",
       "      <td>08:43:32</td>\n",
       "      <td>37.326</td>\n",
       "      <td>138.748</td>\n",
       "      <td>Earthquake</td>\n",
       "      <td>182.4</td>\n",
       "      <td>NaN</td>\n",
       "      <td>NaN</td>\n",
       "      <td>5.5</td>\n",
       "      <td>MW</td>\n",
       "      <td>...</td>\n",
       "      <td>NaN</td>\n",
       "      <td>NaN</td>\n",
       "      <td>NaN</td>\n",
       "      <td>NaN</td>\n",
       "      <td>NaN</td>\n",
       "      <td>ISCGEM780488</td>\n",
       "      <td>ISCGEM</td>\n",
       "      <td>ISCGEM</td>\n",
       "      <td>ISCGEM</td>\n",
       "      <td>Automatic</td>\n",
       "    </tr>\n",
       "    <tr>\n",
       "      <th>2093</th>\n",
       "      <td>09/22/1971</td>\n",
       "      <td>14:14:20</td>\n",
       "      <td>14.815</td>\n",
       "      <td>-93.829</td>\n",
       "      <td>Earthquake</td>\n",
       "      <td>22.5</td>\n",
       "      <td>NaN</td>\n",
       "      <td>NaN</td>\n",
       "      <td>5.9</td>\n",
       "      <td>MW</td>\n",
       "      <td>...</td>\n",
       "      <td>NaN</td>\n",
       "      <td>NaN</td>\n",
       "      <td>NaN</td>\n",
       "      <td>NaN</td>\n",
       "      <td>NaN</td>\n",
       "      <td>ISCGEM780523</td>\n",
       "      <td>ISCGEM</td>\n",
       "      <td>ISCGEM</td>\n",
       "      <td>ISCGEM</td>\n",
       "      <td>Automatic</td>\n",
       "    </tr>\n",
       "    <tr>\n",
       "      <th>2094</th>\n",
       "      <td>09/23/1971</td>\n",
       "      <td>13:31:14</td>\n",
       "      <td>53.699</td>\n",
       "      <td>-164.778</td>\n",
       "      <td>Earthquake</td>\n",
       "      <td>45.0</td>\n",
       "      <td>NaN</td>\n",
       "      <td>NaN</td>\n",
       "      <td>5.5</td>\n",
       "      <td>MW</td>\n",
       "      <td>...</td>\n",
       "      <td>NaN</td>\n",
       "      <td>NaN</td>\n",
       "      <td>NaN</td>\n",
       "      <td>NaN</td>\n",
       "      <td>NaN</td>\n",
       "      <td>ISCGEM780549</td>\n",
       "      <td>ISCGEM</td>\n",
       "      <td>ISCGEM</td>\n",
       "      <td>ISCGEM</td>\n",
       "      <td>Automatic</td>\n",
       "    </tr>\n",
       "    <tr>\n",
       "      <th>2095</th>\n",
       "      <td>09/24/1971</td>\n",
       "      <td>01:10:02</td>\n",
       "      <td>39.345</td>\n",
       "      <td>143.370</td>\n",
       "      <td>Earthquake</td>\n",
       "      <td>22.0</td>\n",
       "      <td>NaN</td>\n",
       "      <td>NaN</td>\n",
       "      <td>6.4</td>\n",
       "      <td>MW</td>\n",
       "      <td>...</td>\n",
       "      <td>NaN</td>\n",
       "      <td>NaN</td>\n",
       "      <td>NaN</td>\n",
       "      <td>NaN</td>\n",
       "      <td>NaN</td>\n",
       "      <td>ISCGEM780560</td>\n",
       "      <td>ISCGEM</td>\n",
       "      <td>ISCGEM</td>\n",
       "      <td>ISCGEM</td>\n",
       "      <td>Automatic</td>\n",
       "    </tr>\n",
       "    <tr>\n",
       "      <th>2096</th>\n",
       "      <td>09/24/1971</td>\n",
       "      <td>04:32:57</td>\n",
       "      <td>-16.554</td>\n",
       "      <td>-73.614</td>\n",
       "      <td>Earthquake</td>\n",
       "      <td>37.5</td>\n",
       "      <td>NaN</td>\n",
       "      <td>NaN</td>\n",
       "      <td>5.8</td>\n",
       "      <td>MW</td>\n",
       "      <td>...</td>\n",
       "      <td>NaN</td>\n",
       "      <td>NaN</td>\n",
       "      <td>NaN</td>\n",
       "      <td>NaN</td>\n",
       "      <td>NaN</td>\n",
       "      <td>ISCGEM780563</td>\n",
       "      <td>ISCGEM</td>\n",
       "      <td>ISCGEM</td>\n",
       "      <td>ISCGEM</td>\n",
       "      <td>Automatic</td>\n",
       "    </tr>\n",
       "    <tr>\n",
       "      <th>2097</th>\n",
       "      <td>09/25/1971</td>\n",
       "      <td>04:36:15</td>\n",
       "      <td>-6.516</td>\n",
       "      <td>146.636</td>\n",
       "      <td>Earthquake</td>\n",
       "      <td>110.8</td>\n",
       "      <td>NaN</td>\n",
       "      <td>NaN</td>\n",
       "      <td>6.8</td>\n",
       "      <td>MW</td>\n",
       "      <td>...</td>\n",
       "      <td>NaN</td>\n",
       "      <td>NaN</td>\n",
       "      <td>NaN</td>\n",
       "      <td>NaN</td>\n",
       "      <td>NaN</td>\n",
       "      <td>ISCGEMSUP780585</td>\n",
       "      <td>ISCGEMSUP</td>\n",
       "      <td>ISCGEM</td>\n",
       "      <td>ISCGEM</td>\n",
       "      <td>Automatic</td>\n",
       "    </tr>\n",
       "    <tr>\n",
       "      <th>2098</th>\n",
       "      <td>09/25/1971</td>\n",
       "      <td>13:05:57</td>\n",
       "      <td>-32.475</td>\n",
       "      <td>-73.076</td>\n",
       "      <td>Earthquake</td>\n",
       "      <td>15.0</td>\n",
       "      <td>NaN</td>\n",
       "      <td>NaN</td>\n",
       "      <td>5.7</td>\n",
       "      <td>MW</td>\n",
       "      <td>...</td>\n",
       "      <td>NaN</td>\n",
       "      <td>NaN</td>\n",
       "      <td>NaN</td>\n",
       "      <td>NaN</td>\n",
       "      <td>NaN</td>\n",
       "      <td>ISCGEM780598</td>\n",
       "      <td>ISCGEM</td>\n",
       "      <td>ISCGEM</td>\n",
       "      <td>ISCGEM</td>\n",
       "      <td>Automatic</td>\n",
       "    </tr>\n",
       "    <tr>\n",
       "      <th>2099</th>\n",
       "      <td>09/26/1971</td>\n",
       "      <td>11:02:58</td>\n",
       "      <td>-56.628</td>\n",
       "      <td>-27.393</td>\n",
       "      <td>Earthquake</td>\n",
       "      <td>165.0</td>\n",
       "      <td>NaN</td>\n",
       "      <td>NaN</td>\n",
       "      <td>5.8</td>\n",
       "      <td>MW</td>\n",
       "      <td>...</td>\n",
       "      <td>NaN</td>\n",
       "      <td>NaN</td>\n",
       "      <td>NaN</td>\n",
       "      <td>NaN</td>\n",
       "      <td>NaN</td>\n",
       "      <td>ISCGEM780625</td>\n",
       "      <td>ISCGEM</td>\n",
       "      <td>ISCGEM</td>\n",
       "      <td>ISCGEM</td>\n",
       "      <td>Automatic</td>\n",
       "    </tr>\n",
       "  </tbody>\n",
       "</table>\n",
       "<p>10 rows × 21 columns</p>\n",
       "</div>"
      ],
      "text/plain": [
       "            Date      Time  Latitude  Longitude        Type  Depth  \\\n",
       "2090  09/15/1971  14:55:08    39.110    143.525  Earthquake   25.0   \n",
       "2091  09/16/1971  06:22:40    -5.912    130.603  Earthquake  131.0   \n",
       "2092  09/21/1971  08:43:32    37.326    138.748  Earthquake  182.4   \n",
       "2093  09/22/1971  14:14:20    14.815    -93.829  Earthquake   22.5   \n",
       "2094  09/23/1971  13:31:14    53.699   -164.778  Earthquake   45.0   \n",
       "2095  09/24/1971  01:10:02    39.345    143.370  Earthquake   22.0   \n",
       "2096  09/24/1971  04:32:57   -16.554    -73.614  Earthquake   37.5   \n",
       "2097  09/25/1971  04:36:15    -6.516    146.636  Earthquake  110.8   \n",
       "2098  09/25/1971  13:05:57   -32.475    -73.076  Earthquake   15.0   \n",
       "2099  09/26/1971  11:02:58   -56.628    -27.393  Earthquake  165.0   \n",
       "\n",
       "      Depth Error  Depth Seismic Stations  Magnitude Magnitude Type  ...  \\\n",
       "2090          NaN                     NaN        6.0             MW  ...   \n",
       "2091          NaN                     NaN        7.0             MW  ...   \n",
       "2092          NaN                     NaN        5.5             MW  ...   \n",
       "2093          NaN                     NaN        5.9             MW  ...   \n",
       "2094          NaN                     NaN        5.5             MW  ...   \n",
       "2095          NaN                     NaN        6.4             MW  ...   \n",
       "2096          NaN                     NaN        5.8             MW  ...   \n",
       "2097          NaN                     NaN        6.8             MW  ...   \n",
       "2098          NaN                     NaN        5.7             MW  ...   \n",
       "2099          NaN                     NaN        5.8             MW  ...   \n",
       "\n",
       "      Magnitude Seismic Stations  Azimuthal Gap  Horizontal Distance  \\\n",
       "2090                         NaN            NaN                  NaN   \n",
       "2091                         NaN            NaN                  NaN   \n",
       "2092                         NaN            NaN                  NaN   \n",
       "2093                         NaN            NaN                  NaN   \n",
       "2094                         NaN            NaN                  NaN   \n",
       "2095                         NaN            NaN                  NaN   \n",
       "2096                         NaN            NaN                  NaN   \n",
       "2097                         NaN            NaN                  NaN   \n",
       "2098                         NaN            NaN                  NaN   \n",
       "2099                         NaN            NaN                  NaN   \n",
       "\n",
       "      Horizontal Error  Root Mean Square               ID     Source  \\\n",
       "2090               NaN               NaN     ISCGEM780342     ISCGEM   \n",
       "2091               NaN               NaN  ISCGEMSUP780358  ISCGEMSUP   \n",
       "2092               NaN               NaN     ISCGEM780488     ISCGEM   \n",
       "2093               NaN               NaN     ISCGEM780523     ISCGEM   \n",
       "2094               NaN               NaN     ISCGEM780549     ISCGEM   \n",
       "2095               NaN               NaN     ISCGEM780560     ISCGEM   \n",
       "2096               NaN               NaN     ISCGEM780563     ISCGEM   \n",
       "2097               NaN               NaN  ISCGEMSUP780585  ISCGEMSUP   \n",
       "2098               NaN               NaN     ISCGEM780598     ISCGEM   \n",
       "2099               NaN               NaN     ISCGEM780625     ISCGEM   \n",
       "\n",
       "     Location Source Magnitude Source     Status  \n",
       "2090          ISCGEM           ISCGEM  Automatic  \n",
       "2091          ISCGEM           ISCGEM  Automatic  \n",
       "2092          ISCGEM           ISCGEM  Automatic  \n",
       "2093          ISCGEM           ISCGEM  Automatic  \n",
       "2094          ISCGEM           ISCGEM  Automatic  \n",
       "2095          ISCGEM           ISCGEM  Automatic  \n",
       "2096          ISCGEM           ISCGEM  Automatic  \n",
       "2097          ISCGEM           ISCGEM  Automatic  \n",
       "2098          ISCGEM           ISCGEM  Automatic  \n",
       "2099          ISCGEM           ISCGEM  Automatic  \n",
       "\n",
       "[10 rows x 21 columns]"
      ]
     },
     "execution_count": 6,
     "metadata": {},
     "output_type": "execute_result"
    }
   ],
   "source": [
    "earthquakes[2090:2100]"
   ]
  },
  {
   "cell_type": "markdown",
   "id": "d527b49c",
   "metadata": {
    "papermill": {
     "duration": 0.010211,
     "end_time": "2024-02-22T21:19:30.638088",
     "exception": false,
     "start_time": "2024-02-22T21:19:30.627877",
     "status": "completed"
    },
    "tags": []
   },
   "source": [
    "This does appear to be an issue with data entry: ideally, all entries in the column have the same format.  We can get an idea of how widespread this issue is by checking the length of each entry in the \"Date\" column."
   ]
  },
  {
   "cell_type": "code",
   "execution_count": 7,
   "id": "14dd9b82",
   "metadata": {
    "execution": {
     "iopub.execute_input": "2024-02-22T21:19:30.660808Z",
     "iopub.status.busy": "2024-02-22T21:19:30.660445Z",
     "iopub.status.idle": "2024-02-22T21:19:30.689767Z",
     "shell.execute_reply": "2024-02-22T21:19:30.688564Z"
    },
    "papermill": {
     "duration": 0.043821,
     "end_time": "2024-02-22T21:19:30.692385",
     "exception": false,
     "start_time": "2024-02-22T21:19:30.648564",
     "status": "completed"
    },
    "tags": []
   },
   "outputs": [
    {
     "data": {
      "text/plain": [
       "Date\n",
       "10    23409\n",
       "24        3\n",
       "Name: count, dtype: int64"
      ]
     },
     "execution_count": 7,
     "metadata": {},
     "output_type": "execute_result"
    }
   ],
   "source": [
    "date_lengths = earthquakes.Date.str.len()\n",
    "date_lengths.value_counts()"
   ]
  },
  {
   "cell_type": "markdown",
   "id": "d2ebcaa9",
   "metadata": {
    "papermill": {
     "duration": 0.010523,
     "end_time": "2024-02-22T21:19:30.714582",
     "exception": false,
     "start_time": "2024-02-22T21:19:30.704059",
     "status": "completed"
    },
    "tags": []
   },
   "source": [
    "Looks like there are two more rows that has a date in a different format.  Run the code cell below to obtain the indices corresponding to those rows and print the data."
   ]
  },
  {
   "cell_type": "code",
   "execution_count": 8,
   "id": "f5547edd",
   "metadata": {
    "execution": {
     "iopub.execute_input": "2024-02-22T21:19:30.737820Z",
     "iopub.status.busy": "2024-02-22T21:19:30.737440Z",
     "iopub.status.idle": "2024-02-22T21:19:30.767640Z",
     "shell.execute_reply": "2024-02-22T21:19:30.766493Z"
    },
    "papermill": {
     "duration": 0.045293,
     "end_time": "2024-02-22T21:19:30.770742",
     "exception": false,
     "start_time": "2024-02-22T21:19:30.725449",
     "status": "completed"
    },
    "tags": []
   },
   "outputs": [
    {
     "name": "stdout",
     "output_type": "stream",
     "text": [
      "Indices with corrupted data: [ 3378  7512 20650]\n"
     ]
    },
    {
     "data": {
      "text/html": [
       "<div>\n",
       "<style scoped>\n",
       "    .dataframe tbody tr th:only-of-type {\n",
       "        vertical-align: middle;\n",
       "    }\n",
       "\n",
       "    .dataframe tbody tr th {\n",
       "        vertical-align: top;\n",
       "    }\n",
       "\n",
       "    .dataframe thead th {\n",
       "        text-align: right;\n",
       "    }\n",
       "</style>\n",
       "<table border=\"1\" class=\"dataframe\">\n",
       "  <thead>\n",
       "    <tr style=\"text-align: right;\">\n",
       "      <th></th>\n",
       "      <th>Date</th>\n",
       "      <th>Time</th>\n",
       "      <th>Latitude</th>\n",
       "      <th>Longitude</th>\n",
       "      <th>Type</th>\n",
       "      <th>Depth</th>\n",
       "      <th>Depth Error</th>\n",
       "      <th>Depth Seismic Stations</th>\n",
       "      <th>Magnitude</th>\n",
       "      <th>Magnitude Type</th>\n",
       "      <th>...</th>\n",
       "      <th>Magnitude Seismic Stations</th>\n",
       "      <th>Azimuthal Gap</th>\n",
       "      <th>Horizontal Distance</th>\n",
       "      <th>Horizontal Error</th>\n",
       "      <th>Root Mean Square</th>\n",
       "      <th>ID</th>\n",
       "      <th>Source</th>\n",
       "      <th>Location Source</th>\n",
       "      <th>Magnitude Source</th>\n",
       "      <th>Status</th>\n",
       "    </tr>\n",
       "  </thead>\n",
       "  <tbody>\n",
       "    <tr>\n",
       "      <th>3378</th>\n",
       "      <td>1975-02-23T02:58:41.000Z</td>\n",
       "      <td>1975-02-23T02:58:41.000Z</td>\n",
       "      <td>8.017</td>\n",
       "      <td>124.075</td>\n",
       "      <td>Earthquake</td>\n",
       "      <td>623.0</td>\n",
       "      <td>NaN</td>\n",
       "      <td>NaN</td>\n",
       "      <td>5.6</td>\n",
       "      <td>MB</td>\n",
       "      <td>...</td>\n",
       "      <td>NaN</td>\n",
       "      <td>NaN</td>\n",
       "      <td>NaN</td>\n",
       "      <td>NaN</td>\n",
       "      <td>NaN</td>\n",
       "      <td>USP0000A09</td>\n",
       "      <td>US</td>\n",
       "      <td>US</td>\n",
       "      <td>US</td>\n",
       "      <td>Reviewed</td>\n",
       "    </tr>\n",
       "    <tr>\n",
       "      <th>7512</th>\n",
       "      <td>1985-04-28T02:53:41.530Z</td>\n",
       "      <td>1985-04-28T02:53:41.530Z</td>\n",
       "      <td>-32.998</td>\n",
       "      <td>-71.766</td>\n",
       "      <td>Earthquake</td>\n",
       "      <td>33.0</td>\n",
       "      <td>NaN</td>\n",
       "      <td>NaN</td>\n",
       "      <td>5.6</td>\n",
       "      <td>MW</td>\n",
       "      <td>...</td>\n",
       "      <td>NaN</td>\n",
       "      <td>NaN</td>\n",
       "      <td>NaN</td>\n",
       "      <td>NaN</td>\n",
       "      <td>1.30</td>\n",
       "      <td>USP0002E81</td>\n",
       "      <td>US</td>\n",
       "      <td>US</td>\n",
       "      <td>HRV</td>\n",
       "      <td>Reviewed</td>\n",
       "    </tr>\n",
       "    <tr>\n",
       "      <th>20650</th>\n",
       "      <td>2011-03-13T02:23:34.520Z</td>\n",
       "      <td>2011-03-13T02:23:34.520Z</td>\n",
       "      <td>36.344</td>\n",
       "      <td>142.344</td>\n",
       "      <td>Earthquake</td>\n",
       "      <td>10.1</td>\n",
       "      <td>13.9</td>\n",
       "      <td>289.0</td>\n",
       "      <td>5.8</td>\n",
       "      <td>MWC</td>\n",
       "      <td>...</td>\n",
       "      <td>NaN</td>\n",
       "      <td>32.3</td>\n",
       "      <td>NaN</td>\n",
       "      <td>NaN</td>\n",
       "      <td>1.06</td>\n",
       "      <td>USP000HWQP</td>\n",
       "      <td>US</td>\n",
       "      <td>US</td>\n",
       "      <td>GCMT</td>\n",
       "      <td>Reviewed</td>\n",
       "    </tr>\n",
       "  </tbody>\n",
       "</table>\n",
       "<p>3 rows × 21 columns</p>\n",
       "</div>"
      ],
      "text/plain": [
       "                           Date                      Time  Latitude  \\\n",
       "3378   1975-02-23T02:58:41.000Z  1975-02-23T02:58:41.000Z     8.017   \n",
       "7512   1985-04-28T02:53:41.530Z  1985-04-28T02:53:41.530Z   -32.998   \n",
       "20650  2011-03-13T02:23:34.520Z  2011-03-13T02:23:34.520Z    36.344   \n",
       "\n",
       "       Longitude        Type  Depth  Depth Error  Depth Seismic Stations  \\\n",
       "3378     124.075  Earthquake  623.0          NaN                     NaN   \n",
       "7512     -71.766  Earthquake   33.0          NaN                     NaN   \n",
       "20650    142.344  Earthquake   10.1         13.9                   289.0   \n",
       "\n",
       "       Magnitude Magnitude Type  ...  Magnitude Seismic Stations  \\\n",
       "3378         5.6             MB  ...                         NaN   \n",
       "7512         5.6             MW  ...                         NaN   \n",
       "20650        5.8            MWC  ...                         NaN   \n",
       "\n",
       "       Azimuthal Gap  Horizontal Distance  Horizontal Error  Root Mean Square  \\\n",
       "3378             NaN                  NaN               NaN               NaN   \n",
       "7512             NaN                  NaN               NaN              1.30   \n",
       "20650           32.3                  NaN               NaN              1.06   \n",
       "\n",
       "               ID Source Location Source Magnitude Source    Status  \n",
       "3378   USP0000A09     US              US               US  Reviewed  \n",
       "7512   USP0002E81     US              US              HRV  Reviewed  \n",
       "20650  USP000HWQP     US              US             GCMT  Reviewed  \n",
       "\n",
       "[3 rows x 21 columns]"
      ]
     },
     "execution_count": 8,
     "metadata": {},
     "output_type": "execute_result"
    }
   ],
   "source": [
    "indices = np.where([date_lengths == 24])[1]\n",
    "print('Indices with corrupted data:', indices)\n",
    "earthquakes.loc[indices]"
   ]
  },
  {
   "cell_type": "markdown",
   "id": "295df8f2",
   "metadata": {
    "papermill": {
     "duration": 0.011074,
     "end_time": "2024-02-22T21:19:30.792907",
     "exception": false,
     "start_time": "2024-02-22T21:19:30.781833",
     "status": "completed"
    },
    "tags": []
   },
   "source": [
    "Given all of this information, it's your turn to create a new column \"date_parsed\" in the `earthquakes` dataset that has correctly parsed dates in it.  \n",
    "\n",
    "**Note**: When completing this problem, you are allowed to (but are not required to) amend the entries in the \"Date\" and \"Time\" columns.  Do not remove any rows from the dataset."
   ]
  },
  {
   "cell_type": "code",
   "execution_count": 9,
   "id": "bb7a08ed",
   "metadata": {
    "execution": {
     "iopub.execute_input": "2024-02-22T21:19:30.819067Z",
     "iopub.status.busy": "2024-02-22T21:19:30.817842Z",
     "iopub.status.idle": "2024-02-22T21:19:30.895402Z",
     "shell.execute_reply": "2024-02-22T21:19:30.894233Z"
    },
    "papermill": {
     "duration": 0.093386,
     "end_time": "2024-02-22T21:19:30.898150",
     "exception": false,
     "start_time": "2024-02-22T21:19:30.804764",
     "status": "completed"
    },
    "tags": []
   },
   "outputs": [
    {
     "data": {
      "application/javascript": [
       "parent.postMessage({\"jupyterEvent\": \"custom.exercise_interaction\", \"data\": {\"outcomeType\": 1, \"valueTowardsCompletion\": 0.25, \"interactionType\": 1, \"questionType\": 2, \"questionId\": \"2_ConvertToDatetime\", \"learnToolsVersion\": \"0.3.4\", \"failureMessage\": \"\", \"exceptionClass\": \"\", \"trace\": \"\"}}, \"*\")"
      ],
      "text/plain": [
       "<IPython.core.display.Javascript object>"
      ]
     },
     "metadata": {},
     "output_type": "display_data"
    },
    {
     "data": {
      "text/markdown": [
       "<span style=\"color:#33cc33\">Correct</span>"
      ],
      "text/plain": [
       "Correct"
      ]
     },
     "metadata": {},
     "output_type": "display_data"
    }
   ],
   "source": [
    "# TODO: Your code here\n",
    "earthquakes.loc[3378, \"Date\"] = \"02/23/1975\"\n",
    "earthquakes.loc[7512, \"Date\"] = \"04/28/1985\"\n",
    "earthquakes.loc[20650, \"Date\"] = \"03/13/2011\"\n",
    "earthquakes['date_parsed'] = pd.to_datetime(earthquakes['Date'], format=\"%m/%d/%Y\")\n",
    "# Check your answer\n",
    "q2.check()"
   ]
  },
  {
   "cell_type": "code",
   "execution_count": 10,
   "id": "764d24a8",
   "metadata": {
    "execution": {
     "iopub.execute_input": "2024-02-22T21:19:30.923474Z",
     "iopub.status.busy": "2024-02-22T21:19:30.923050Z",
     "iopub.status.idle": "2024-02-22T21:19:30.936302Z",
     "shell.execute_reply": "2024-02-22T21:19:30.935219Z"
    },
    "papermill": {
     "duration": 0.028617,
     "end_time": "2024-02-22T21:19:30.938554",
     "exception": false,
     "start_time": "2024-02-22T21:19:30.909937",
     "status": "completed"
    },
    "tags": []
   },
   "outputs": [
    {
     "data": {
      "application/javascript": [
       "parent.postMessage({\"jupyterEvent\": \"custom.exercise_interaction\", \"data\": {\"interactionType\": 2, \"questionType\": 2, \"questionId\": \"2_ConvertToDatetime\", \"learnToolsVersion\": \"0.3.4\", \"valueTowardsCompletion\": 0.0, \"failureMessage\": \"\", \"exceptionClass\": \"\", \"trace\": \"\", \"outcomeType\": 4}}, \"*\")"
      ],
      "text/plain": [
       "<IPython.core.display.Javascript object>"
      ]
     },
     "metadata": {},
     "output_type": "display_data"
    },
    {
     "data": {
      "text/markdown": [
       "<span style=\"color:#3366cc\">Hint:</span> Since there are only three rows with a fancy type, you might consider manually editing them. For instance, you can begin by setting `earthquakes.loc[3378, \"Date\"] = \"02/23/1975\"`."
      ],
      "text/plain": [
       "Hint: Since there are only three rows with a fancy type, you might consider manually editing them. For instance, you can begin by setting `earthquakes.loc[3378, \"Date\"] = \"02/23/1975\"`."
      ]
     },
     "metadata": {},
     "output_type": "display_data"
    },
    {
     "data": {
      "application/javascript": [
       "parent.postMessage({\"jupyterEvent\": \"custom.exercise_interaction\", \"data\": {\"interactionType\": 3, \"questionType\": 2, \"questionId\": \"2_ConvertToDatetime\", \"learnToolsVersion\": \"0.3.4\", \"valueTowardsCompletion\": 0.0, \"failureMessage\": \"\", \"exceptionClass\": \"\", \"trace\": \"\", \"outcomeType\": 4}}, \"*\")"
      ],
      "text/plain": [
       "<IPython.core.display.Javascript object>"
      ]
     },
     "metadata": {},
     "output_type": "display_data"
    },
    {
     "data": {
      "text/markdown": [
       "<span style=\"color:#33cc99\">Solution:</span> \n",
       "```python\n",
       "\n",
       "earthquakes.loc[3378, \"Date\"] = \"02/23/1975\"\n",
       "earthquakes.loc[7512, \"Date\"] = \"04/28/1985\"\n",
       "earthquakes.loc[20650, \"Date\"] = \"03/13/2011\"\n",
       "earthquakes['date_parsed'] = pd.to_datetime(earthquakes['Date'], format=\"%m/%d/%Y\")\n",
       "\n",
       "```"
      ],
      "text/plain": [
       "Solution: \n",
       "```python\n",
       "\n",
       "earthquakes.loc[3378, \"Date\"] = \"02/23/1975\"\n",
       "earthquakes.loc[7512, \"Date\"] = \"04/28/1985\"\n",
       "earthquakes.loc[20650, \"Date\"] = \"03/13/2011\"\n",
       "earthquakes['date_parsed'] = pd.to_datetime(earthquakes['Date'], format=\"%m/%d/%Y\")\n",
       "\n",
       "```"
      ]
     },
     "metadata": {},
     "output_type": "display_data"
    }
   ],
   "source": [
    "# Lines below will give you a hint or solution code\n",
    "q2.hint()\n",
    "q2.solution()"
   ]
  },
  {
   "cell_type": "markdown",
   "id": "590b55eb",
   "metadata": {
    "papermill": {
     "duration": 0.012067,
     "end_time": "2024-02-22T21:19:30.963346",
     "exception": false,
     "start_time": "2024-02-22T21:19:30.951279",
     "status": "completed"
    },
    "tags": []
   },
   "source": [
    "# 3) Select the day of the month\n",
    "\n",
    "Create a Pandas Series `day_of_month_earthquakes` containing the day of the month from the \"date_parsed\" column."
   ]
  },
  {
   "cell_type": "code",
   "execution_count": 11,
   "id": "efc539c9",
   "metadata": {
    "execution": {
     "iopub.execute_input": "2024-02-22T21:19:30.990154Z",
     "iopub.status.busy": "2024-02-22T21:19:30.989740Z",
     "iopub.status.idle": "2024-02-22T21:19:30.999963Z",
     "shell.execute_reply": "2024-02-22T21:19:30.999099Z"
    },
    "papermill": {
     "duration": 0.026562,
     "end_time": "2024-02-22T21:19:31.002319",
     "exception": false,
     "start_time": "2024-02-22T21:19:30.975757",
     "status": "completed"
    },
    "tags": []
   },
   "outputs": [
    {
     "data": {
      "application/javascript": [
       "parent.postMessage({\"jupyterEvent\": \"custom.exercise_interaction\", \"data\": {\"outcomeType\": 1, \"valueTowardsCompletion\": 0.25, \"interactionType\": 1, \"questionType\": 1, \"questionId\": \"3_DayOfMonth\", \"learnToolsVersion\": \"0.3.4\", \"failureMessage\": \"\", \"exceptionClass\": \"\", \"trace\": \"\"}}, \"*\")"
      ],
      "text/plain": [
       "<IPython.core.display.Javascript object>"
      ]
     },
     "metadata": {},
     "output_type": "display_data"
    },
    {
     "data": {
      "text/markdown": [
       "<span style=\"color:#33cc33\">Correct</span>"
      ],
      "text/plain": [
       "Correct"
      ]
     },
     "metadata": {},
     "output_type": "display_data"
    }
   ],
   "source": [
    "# try to get the day of the month from the date column\n",
    "day_of_month_earthquakes = earthquakes.date_parsed.dt.day\n",
    "\n",
    "# Check your answer\n",
    "q3.check()"
   ]
  },
  {
   "cell_type": "code",
   "execution_count": 12,
   "id": "e0d55dcb",
   "metadata": {
    "execution": {
     "iopub.execute_input": "2024-02-22T21:19:31.029873Z",
     "iopub.status.busy": "2024-02-22T21:19:31.029458Z",
     "iopub.status.idle": "2024-02-22T21:19:31.034495Z",
     "shell.execute_reply": "2024-02-22T21:19:31.033195Z"
    },
    "papermill": {
     "duration": 0.021712,
     "end_time": "2024-02-22T21:19:31.036999",
     "exception": false,
     "start_time": "2024-02-22T21:19:31.015287",
     "status": "completed"
    },
    "tags": []
   },
   "outputs": [],
   "source": [
    "# Lines below will give you a hint or solution code\n",
    "#q3.hint()\n",
    "#q3.solution()"
   ]
  },
  {
   "cell_type": "markdown",
   "id": "000770f5",
   "metadata": {
    "papermill": {
     "duration": 0.012589,
     "end_time": "2024-02-22T21:19:31.063111",
     "exception": false,
     "start_time": "2024-02-22T21:19:31.050522",
     "status": "completed"
    },
    "tags": []
   },
   "source": [
    "# 4) Plot the day of the month to check the date parsing\n",
    "\n",
    "Plot the days of the month from your earthquake dataset."
   ]
  },
  {
   "cell_type": "code",
   "execution_count": 13,
   "id": "644b410a",
   "metadata": {
    "execution": {
     "iopub.execute_input": "2024-02-22T21:19:31.091412Z",
     "iopub.status.busy": "2024-02-22T21:19:31.091017Z",
     "iopub.status.idle": "2024-02-22T21:19:31.464055Z",
     "shell.execute_reply": "2024-02-22T21:19:31.463162Z"
    },
    "papermill": {
     "duration": 0.39006,
     "end_time": "2024-02-22T21:19:31.466535",
     "exception": false,
     "start_time": "2024-02-22T21:19:31.076475",
     "status": "completed"
    },
    "tags": []
   },
   "outputs": [
    {
     "name": "stderr",
     "output_type": "stream",
     "text": [
      "/tmp/ipykernel_18/1813481586.py:2: UserWarning: \n",
      "\n",
      "`distplot` is a deprecated function and will be removed in seaborn v0.14.0.\n",
      "\n",
      "Please adapt your code to use either `displot` (a figure-level function with\n",
      "similar flexibility) or `histplot` (an axes-level function for histograms).\n",
      "\n",
      "For a guide to updating your code to use the new functions, please see\n",
      "https://gist.github.com/mwaskom/de44147ed2974457ad6372750bbe5751\n",
      "\n",
      "  sns.distplot(day_of_month_earthquakes, kde=False, bins=31)\n"
     ]
    },
    {
     "data": {
      "text/plain": [
       "<Axes: xlabel='date_parsed'>"
      ]
     },
     "execution_count": 13,
     "metadata": {},
     "output_type": "execute_result"
    },
    {
     "data": {
      "image/png": "[encoded data removed]",
      "text/plain": [
       "<Figure size 640x480 with 1 Axes>"
      ]
     },
     "metadata": {},
     "output_type": "display_data"
    }
   ],
   "source": [
    "# TODO: Your code here!\n",
    "sns.distplot(day_of_month_earthquakes, kde=False, bins=31)"
   ]
  },
  {
   "cell_type": "markdown",
   "id": "2ddc21ba",
   "metadata": {
    "papermill": {
     "duration": 0.013682,
     "end_time": "2024-02-22T21:19:31.495659",
     "exception": false,
     "start_time": "2024-02-22T21:19:31.481977",
     "status": "completed"
    },
    "tags": []
   },
   "source": [
    "Does the graph make sense to you?"
   ]
  },
  {
   "cell_type": "code",
   "execution_count": 14,
   "id": "ae0815a8",
   "metadata": {
    "execution": {
     "iopub.execute_input": "2024-02-22T21:19:31.524170Z",
     "iopub.status.busy": "2024-02-22T21:19:31.523783Z",
     "iopub.status.idle": "2024-02-22T21:19:31.532177Z",
     "shell.execute_reply": "2024-02-22T21:19:31.531390Z"
    },
    "papermill": {
     "duration": 0.025358,
     "end_time": "2024-02-22T21:19:31.534302",
     "exception": false,
     "start_time": "2024-02-22T21:19:31.508944",
     "status": "completed"
    },
    "tags": []
   },
   "outputs": [
    {
     "data": {
      "application/javascript": [
       "parent.postMessage({\"jupyterEvent\": \"custom.exercise_interaction\", \"data\": {\"outcomeType\": 1, \"valueTowardsCompletion\": 0.25, \"interactionType\": 1, \"questionType\": 4, \"questionId\": \"4_PlotDayOfMonth\", \"learnToolsVersion\": \"0.3.4\", \"failureMessage\": \"\", \"exceptionClass\": \"\", \"trace\": \"\"}}, \"*\")"
      ],
      "text/plain": [
       "<IPython.core.display.Javascript object>"
      ]
     },
     "metadata": {},
     "output_type": "display_data"
    },
    {
     "data": {
      "text/markdown": [
       "<span style=\"color:#33cc33\">Correct:</span> \n",
       "\n",
       "The graph should make sense: it shows a relatively even distribution in days of the month,which is what we would expect."
      ],
      "text/plain": [
       "Correct: \n",
       "\n",
       "The graph should make sense: it shows a relatively even distribution in days of the month,which is what we would expect."
      ]
     },
     "metadata": {},
     "output_type": "display_data"
    }
   ],
   "source": [
    "# Check your answer (Run this code cell to receive credit!)\n",
    "q4.check()"
   ]
  },
  {
   "cell_type": "code",
   "execution_count": 15,
   "id": "daa06049",
   "metadata": {
    "execution": {
     "iopub.execute_input": "2024-02-22T21:19:31.563752Z",
     "iopub.status.busy": "2024-02-22T21:19:31.562743Z",
     "iopub.status.idle": "2024-02-22T21:19:31.567718Z",
     "shell.execute_reply": "2024-02-22T21:19:31.566459Z"
    },
    "papermill": {
     "duration": 0.022023,
     "end_time": "2024-02-22T21:19:31.569902",
     "exception": false,
     "start_time": "2024-02-22T21:19:31.547879",
     "status": "completed"
    },
    "tags": []
   },
   "outputs": [],
   "source": [
    "# Line below will give you a hint\n",
    "#q4.hint()"
   ]
  },
  {
   "cell_type": "markdown",
   "id": "238846df",
   "metadata": {
    "papermill": {
     "duration": 0.014505,
     "end_time": "2024-02-22T21:19:31.598136",
     "exception": false,
     "start_time": "2024-02-22T21:19:31.583631",
     "status": "completed"
    },
    "tags": []
   },
   "source": [
    "# (Optional) Bonus Challenge\n",
    "\n",
    "For an extra challenge, you'll work with a [Smithsonian dataset](https://www.kaggle.com/smithsonian/volcanic-eruptions) that documents Earth's volcanoes and their eruptive history over the past 10,000 years \n",
    "\n",
    "Run the next code cell to load the data."
   ]
  },
  {
   "cell_type": "code",
   "execution_count": 16,
   "id": "ea3f50b5",
   "metadata": {
    "execution": {
     "iopub.execute_input": "2024-02-22T21:19:31.627443Z",
     "iopub.status.busy": "2024-02-22T21:19:31.626706Z",
     "iopub.status.idle": "2024-02-22T21:19:31.650045Z",
     "shell.execute_reply": "2024-02-22T21:19:31.648631Z"
    },
    "papermill": {
     "duration": 0.041042,
     "end_time": "2024-02-22T21:19:31.652804",
     "exception": false,
     "start_time": "2024-02-22T21:19:31.611762",
     "status": "completed"
    },
    "tags": []
   },
   "outputs": [],
   "source": [
    "volcanos = pd.read_csv(\"../input/volcanic-eruptions/database.csv\")"
   ]
  },
  {
   "cell_type": "markdown",
   "id": "2e1a8cdd",
   "metadata": {
    "papermill": {
     "duration": 0.013535,
     "end_time": "2024-02-22T21:19:31.680291",
     "exception": false,
     "start_time": "2024-02-22T21:19:31.666756",
     "status": "completed"
    },
    "tags": []
   },
   "source": [
    "Try parsing the column \"Last Known Eruption\" from the `volcanos` dataframe. This column contains a mixture of text (\"Unknown\") and years both before the common era (BCE, also known as BC) and in the common era (CE, also known as AD)."
   ]
  },
  {
   "cell_type": "code",
   "execution_count": 17,
   "id": "0920ff03",
   "metadata": {
    "execution": {
     "iopub.execute_input": "2024-02-22T21:19:31.709751Z",
     "iopub.status.busy": "2024-02-22T21:19:31.709346Z",
     "iopub.status.idle": "2024-02-22T21:19:31.733458Z",
     "shell.execute_reply": "2024-02-22T21:19:31.732550Z"
    },
    "papermill": {
     "duration": 0.041546,
     "end_time": "2024-02-22T21:19:31.735510",
     "exception": false,
     "start_time": "2024-02-22T21:19:31.693964",
     "status": "completed"
    },
    "tags": []
   },
   "outputs": [
    {
     "name": "stdout",
     "output_type": "stream",
     "text": [
      "764     Unknown\n",
      "1069    1996 CE\n",
      "34      1855 CE\n",
      "489     2016 CE\n",
      "9       1302 CE\n",
      "Name: Last Known Eruption, dtype: object\n"
     ]
    },
    {
     "data": {
      "text/html": [
       "<div>\n",
       "<style scoped>\n",
       "    .dataframe tbody tr th:only-of-type {\n",
       "        vertical-align: middle;\n",
       "    }\n",
       "\n",
       "    .dataframe tbody tr th {\n",
       "        vertical-align: top;\n",
       "    }\n",
       "\n",
       "    .dataframe thead th {\n",
       "        text-align: right;\n",
       "    }\n",
       "</style>\n",
       "<table border=\"1\" class=\"dataframe\">\n",
       "  <thead>\n",
       "    <tr style=\"text-align: right;\">\n",
       "      <th></th>\n",
       "      <th>Number</th>\n",
       "      <th>Name</th>\n",
       "      <th>Country</th>\n",
       "      <th>Region</th>\n",
       "      <th>Type</th>\n",
       "      <th>Activity Evidence</th>\n",
       "      <th>Last Known Eruption</th>\n",
       "      <th>Latitude</th>\n",
       "      <th>Longitude</th>\n",
       "      <th>Elevation (Meters)</th>\n",
       "      <th>Dominant Rock Type</th>\n",
       "      <th>Tectonic Setting</th>\n",
       "    </tr>\n",
       "  </thead>\n",
       "  <tbody>\n",
       "    <tr>\n",
       "      <th>0</th>\n",
       "      <td>210010</td>\n",
       "      <td>West Eifel Volcanic Field</td>\n",
       "      <td>Germany</td>\n",
       "      <td>Mediterranean and Western Asia</td>\n",
       "      <td>Maar(s)</td>\n",
       "      <td>Eruption Dated</td>\n",
       "      <td>8300 BCE</td>\n",
       "      <td>50.170</td>\n",
       "      <td>6.850</td>\n",
       "      <td>600</td>\n",
       "      <td>Foidite</td>\n",
       "      <td>Rift Zone / Continental Crust (&gt;25 km)</td>\n",
       "    </tr>\n",
       "    <tr>\n",
       "      <th>1</th>\n",
       "      <td>210020</td>\n",
       "      <td>Chaine des Puys</td>\n",
       "      <td>France</td>\n",
       "      <td>Mediterranean and Western Asia</td>\n",
       "      <td>Lava dome(s)</td>\n",
       "      <td>Eruption Dated</td>\n",
       "      <td>4040 BCE</td>\n",
       "      <td>45.775</td>\n",
       "      <td>2.970</td>\n",
       "      <td>1464</td>\n",
       "      <td>Basalt / Picro-Basalt</td>\n",
       "      <td>Rift Zone / Continental Crust (&gt;25 km)</td>\n",
       "    </tr>\n",
       "    <tr>\n",
       "      <th>2</th>\n",
       "      <td>210030</td>\n",
       "      <td>Olot Volcanic Field</td>\n",
       "      <td>Spain</td>\n",
       "      <td>Mediterranean and Western Asia</td>\n",
       "      <td>Pyroclastic cone(s)</td>\n",
       "      <td>Evidence Credible</td>\n",
       "      <td>Unknown</td>\n",
       "      <td>42.170</td>\n",
       "      <td>2.530</td>\n",
       "      <td>893</td>\n",
       "      <td>Trachybasalt / Tephrite Basanite</td>\n",
       "      <td>Intraplate / Continental Crust (&gt;25 km)</td>\n",
       "    </tr>\n",
       "    <tr>\n",
       "      <th>3</th>\n",
       "      <td>210040</td>\n",
       "      <td>Calatrava Volcanic Field</td>\n",
       "      <td>Spain</td>\n",
       "      <td>Mediterranean and Western Asia</td>\n",
       "      <td>Pyroclastic cone(s)</td>\n",
       "      <td>Eruption Dated</td>\n",
       "      <td>3600 BCE</td>\n",
       "      <td>38.870</td>\n",
       "      <td>-4.020</td>\n",
       "      <td>1117</td>\n",
       "      <td>Basalt / Picro-Basalt</td>\n",
       "      <td>Intraplate / Continental Crust (&gt;25 km)</td>\n",
       "    </tr>\n",
       "    <tr>\n",
       "      <th>4</th>\n",
       "      <td>211001</td>\n",
       "      <td>Larderello</td>\n",
       "      <td>Italy</td>\n",
       "      <td>Mediterranean and Western Asia</td>\n",
       "      <td>Explosion crater(s)</td>\n",
       "      <td>Eruption Observed</td>\n",
       "      <td>1282 CE</td>\n",
       "      <td>43.250</td>\n",
       "      <td>10.870</td>\n",
       "      <td>500</td>\n",
       "      <td>No Data</td>\n",
       "      <td>Subduction Zone / Continental Crust (&gt;25 km)</td>\n",
       "    </tr>\n",
       "    <tr>\n",
       "      <th>...</th>\n",
       "      <td>...</td>\n",
       "      <td>...</td>\n",
       "      <td>...</td>\n",
       "      <td>...</td>\n",
       "      <td>...</td>\n",
       "      <td>...</td>\n",
       "      <td>...</td>\n",
       "      <td>...</td>\n",
       "      <td>...</td>\n",
       "      <td>...</td>\n",
       "      <td>...</td>\n",
       "      <td>...</td>\n",
       "    </tr>\n",
       "    <tr>\n",
       "      <th>1503</th>\n",
       "      <td>390130</td>\n",
       "      <td>Zavodovski</td>\n",
       "      <td>United Kingdom</td>\n",
       "      <td>Antarctica</td>\n",
       "      <td>Stratovolcano</td>\n",
       "      <td>Eruption Observed</td>\n",
       "      <td>2016 CE</td>\n",
       "      <td>-56.300</td>\n",
       "      <td>-27.570</td>\n",
       "      <td>551</td>\n",
       "      <td>Basalt / Picro-Basalt</td>\n",
       "      <td>Subduction Zone / Oceanic Crust (&lt; 15 km)</td>\n",
       "    </tr>\n",
       "    <tr>\n",
       "      <th>1504</th>\n",
       "      <td>390140</td>\n",
       "      <td>Protector Seamounts</td>\n",
       "      <td>United Kingdom</td>\n",
       "      <td>Antarctica</td>\n",
       "      <td>Submarine</td>\n",
       "      <td>Eruption Observed</td>\n",
       "      <td>1962 CE</td>\n",
       "      <td>-55.912</td>\n",
       "      <td>-28.167</td>\n",
       "      <td>-55</td>\n",
       "      <td>Rhyolite</td>\n",
       "      <td>Subduction Zone / Oceanic Crust (&lt; 15 km)</td>\n",
       "    </tr>\n",
       "    <tr>\n",
       "      <th>1505</th>\n",
       "      <td>390812</td>\n",
       "      <td>Rittmann, Mount</td>\n",
       "      <td>Antarctica</td>\n",
       "      <td>Antarctica</td>\n",
       "      <td>Shield</td>\n",
       "      <td>Unrest / Pleistocene</td>\n",
       "      <td>Unknown</td>\n",
       "      <td>-73.450</td>\n",
       "      <td>165.500</td>\n",
       "      <td>2600</td>\n",
       "      <td>NaN</td>\n",
       "      <td>Intraplate / Continental Crust (&gt;25 km)</td>\n",
       "    </tr>\n",
       "    <tr>\n",
       "      <th>1506</th>\n",
       "      <td>390829</td>\n",
       "      <td>James Ross Island</td>\n",
       "      <td>Antarctica</td>\n",
       "      <td>Antarctica</td>\n",
       "      <td>Shield</td>\n",
       "      <td>Evidence Credible</td>\n",
       "      <td>Unknown</td>\n",
       "      <td>-64.150</td>\n",
       "      <td>-57.750</td>\n",
       "      <td>1630</td>\n",
       "      <td>Basalt / Picro-Basalt</td>\n",
       "      <td>Intraplate / Continental Crust (&gt;25 km)</td>\n",
       "    </tr>\n",
       "    <tr>\n",
       "      <th>1507</th>\n",
       "      <td>390847</td>\n",
       "      <td>Melville</td>\n",
       "      <td>Antarctica</td>\n",
       "      <td>Antarctica</td>\n",
       "      <td>Stratovolcano</td>\n",
       "      <td>Evidence Uncertain</td>\n",
       "      <td>Unknown</td>\n",
       "      <td>-62.020</td>\n",
       "      <td>-57.670</td>\n",
       "      <td>549</td>\n",
       "      <td>NaN</td>\n",
       "      <td>Intraplate / Continental Crust (&gt;25 km)</td>\n",
       "    </tr>\n",
       "  </tbody>\n",
       "</table>\n",
       "<p>1508 rows × 12 columns</p>\n",
       "</div>"
      ],
      "text/plain": [
       "      Number                       Name         Country  \\\n",
       "0     210010  West Eifel Volcanic Field         Germany   \n",
       "1     210020            Chaine des Puys          France   \n",
       "2     210030        Olot Volcanic Field           Spain   \n",
       "3     210040   Calatrava Volcanic Field           Spain   \n",
       "4     211001                 Larderello           Italy   \n",
       "...      ...                        ...             ...   \n",
       "1503  390130                 Zavodovski  United Kingdom   \n",
       "1504  390140        Protector Seamounts  United Kingdom   \n",
       "1505  390812            Rittmann, Mount      Antarctica   \n",
       "1506  390829          James Ross Island      Antarctica   \n",
       "1507  390847                   Melville      Antarctica   \n",
       "\n",
       "                              Region                 Type  \\\n",
       "0     Mediterranean and Western Asia              Maar(s)   \n",
       "1     Mediterranean and Western Asia         Lava dome(s)   \n",
       "2     Mediterranean and Western Asia  Pyroclastic cone(s)   \n",
       "3     Mediterranean and Western Asia  Pyroclastic cone(s)   \n",
       "4     Mediterranean and Western Asia  Explosion crater(s)   \n",
       "...                              ...                  ...   \n",
       "1503                      Antarctica        Stratovolcano   \n",
       "1504                      Antarctica            Submarine   \n",
       "1505                      Antarctica               Shield   \n",
       "1506                      Antarctica               Shield   \n",
       "1507                      Antarctica        Stratovolcano   \n",
       "\n",
       "         Activity Evidence Last Known Eruption  Latitude  Longitude  \\\n",
       "0           Eruption Dated            8300 BCE    50.170      6.850   \n",
       "1           Eruption Dated            4040 BCE    45.775      2.970   \n",
       "2        Evidence Credible             Unknown    42.170      2.530   \n",
       "3           Eruption Dated            3600 BCE    38.870     -4.020   \n",
       "4        Eruption Observed             1282 CE    43.250     10.870   \n",
       "...                    ...                 ...       ...        ...   \n",
       "1503     Eruption Observed             2016 CE   -56.300    -27.570   \n",
       "1504     Eruption Observed             1962 CE   -55.912    -28.167   \n",
       "1505  Unrest / Pleistocene             Unknown   -73.450    165.500   \n",
       "1506     Evidence Credible             Unknown   -64.150    -57.750   \n",
       "1507    Evidence Uncertain             Unknown   -62.020    -57.670   \n",
       "\n",
       "      Elevation (Meters)                Dominant Rock Type  \\\n",
       "0                    600                           Foidite   \n",
       "1                   1464             Basalt / Picro-Basalt   \n",
       "2                    893  Trachybasalt / Tephrite Basanite   \n",
       "3                   1117             Basalt / Picro-Basalt   \n",
       "4                    500                           No Data   \n",
       "...                  ...                               ...   \n",
       "1503                 551             Basalt / Picro-Basalt   \n",
       "1504                 -55                          Rhyolite   \n",
       "1505                2600                               NaN   \n",
       "1506                1630             Basalt / Picro-Basalt   \n",
       "1507                 549                               NaN   \n",
       "\n",
       "                                  Tectonic Setting  \n",
       "0           Rift Zone / Continental Crust (>25 km)  \n",
       "1           Rift Zone / Continental Crust (>25 km)  \n",
       "2          Intraplate / Continental Crust (>25 km)  \n",
       "3          Intraplate / Continental Crust (>25 km)  \n",
       "4     Subduction Zone / Continental Crust (>25 km)  \n",
       "...                                            ...  \n",
       "1503     Subduction Zone / Oceanic Crust (< 15 km)  \n",
       "1504     Subduction Zone / Oceanic Crust (< 15 km)  \n",
       "1505       Intraplate / Continental Crust (>25 km)  \n",
       "1506       Intraplate / Continental Crust (>25 km)  \n",
       "1507       Intraplate / Continental Crust (>25 km)  \n",
       "\n",
       "[1508 rows x 12 columns]"
      ]
     },
     "execution_count": 17,
     "metadata": {},
     "output_type": "execute_result"
    }
   ],
   "source": [
    "print(volcanos['Last Known Eruption'].sample(5))\n",
    "volcanos"
   ]
  },
  {
   "cell_type": "markdown",
   "id": "61f5c88f",
   "metadata": {
    "papermill": {
     "duration": 0.013941,
     "end_time": "2024-02-22T21:19:31.763802",
     "exception": false,
     "start_time": "2024-02-22T21:19:31.749861",
     "status": "completed"
    },
    "tags": []
   },
   "source": [
    "# (Optional) More practice\n",
    "\n",
    "If you're interested in graphing time series, [check out this tutorial](https://www.kaggle.com/residentmario/time-series-plotting-optional).\n",
    "\n",
    "You can also look into passing columns that you know have dates in them  the `parse_dates` argument in `read_csv`. (The documention [is here](https://pandas.pydata.org/pandas-docs/stable/generated/pandas.read_csv.html).) Do note that this method can be very slow, but depending on your needs it may sometimes be handy to use.\n",
    "\n",
    "# Keep going\n",
    "\n",
    "In the next lesson, learn how to [**work with character encodings**](https://www.kaggle.com/alexisbcook/character-encodings)."
   ]
  },
  {
   "cell_type": "markdown",
   "id": "a5ae2573",
   "metadata": {
    "papermill": {
     "duration": 0.013957,
     "end_time": "2024-02-22T21:19:31.792056",
     "exception": false,
     "start_time": "2024-02-22T21:19:31.778099",
     "status": "completed"
    },
    "tags": []
   },
   "source": [
    "---\n",
    "\n",
    "\n",
    "\n",
    "\n",
    "*Have questions or comments? Visit the [course discussion forum](https://www.kaggle.com/learn/data-cleaning/discussion) to chat with other learners.*"
   ]
  }
 ],
 "metadata": {
  "kaggle": {
   "accelerator": "none",
   "dataSources": [
    {
     "datasetId": 705,
     "sourceId": 1325,
     "sourceType": "datasetVersion"
    },
    {
     "datasetId": 732,
     "sourceId": 1360,
     "sourceType": "datasetVersion"
    }
   ],
   "isGpuEnabled": false,
   "isInternetEnabled": false,
   "language": "python",
   "sourceType": "notebook"
  },
  "kernelspec": {
   "display_name": "Python 3",
   "language": "python",
   "name": "python3"
  },
  "language_info": {
   "codemirror_mode": {
    "name": "ipython",
    "version": 3
   },
   "file_extension": ".py",
   "mimetype": "text/x-python",
   "name": "python",
   "nbconvert_exporter": "python",
   "pygments_lexer": "ipython3",
   "version": "3.10.13"
  },
  "papermill": {
   "default_parameters": {},
   "duration": 8.101997,
   "end_time": "2024-02-22T21:19:32.426710",
   "environment_variables": {},
   "exception": null,
   "input_path": "__notebook__.ipynb",
   "output_path": "__notebook__.ipynb",
   "parameters": {},
   "start_time": "2024-02-22T21:19:24.324713",
   "version": "2.5.0"
  }
 },
 "nbformat": 4,
 "nbformat_minor": 5
}
