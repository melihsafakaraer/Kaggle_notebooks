{
 "cells": [
  {
   "cell_type": "markdown",
   "id": "20c4f2ac",
   "metadata": {
    "papermill": {
     "duration": 0.006982,
     "end_time": "2024-02-22T21:19:40.090174",
     "exception": false,
     "start_time": "2024-02-22T21:19:40.083192",
     "status": "completed"
    },
    "tags": []
   },
   "source": [
    "**This notebook is an exercise in the [Data Cleaning](https://www.kaggle.com/learn/data-cleaning) course.  You can reference the tutorial at [this link](https://www.kaggle.com/alexisbcook/character-encodings).**\n",
    "\n",
    "---\n"
   ]
  },
  {
   "cell_type": "markdown",
   "id": "d03ec5d5",
   "metadata": {
    "papermill": {
     "duration": 0.006014,
     "end_time": "2024-02-22T21:19:40.102857",
     "exception": false,
     "start_time": "2024-02-22T21:19:40.096843",
     "status": "completed"
    },
    "tags": []
   },
   "source": [
    "In this exercise, you'll apply what you learned in the **Character encodings** tutorial.\n",
    "\n",
    "# Setup\n",
    "\n",
    "The questions below will give you feedback on your work. Run the following cell to set up the feedback system."
   ]
  },
  {
   "cell_type": "code",
   "execution_count": 1,
   "id": "cf2661be",
   "metadata": {
    "execution": {
     "iopub.execute_input": "2024-02-22T21:19:40.118189Z",
     "iopub.status.busy": "2024-02-22T21:19:40.117280Z",
     "iopub.status.idle": "2024-02-22T21:19:41.354459Z",
     "shell.execute_reply": "2024-02-22T21:19:41.351770Z"
    },
    "papermill": {
     "duration": 1.248366,
     "end_time": "2024-02-22T21:19:41.357499",
     "exception": false,
     "start_time": "2024-02-22T21:19:40.109133",
     "status": "completed"
    },
    "tags": []
   },
   "outputs": [
    {
     "name": "stdout",
     "output_type": "stream",
     "text": [
      "Setup Complete\n"
     ]
    }
   ],
   "source": [
    "from learntools.core import binder\n",
    "binder.bind(globals())\n",
    "from learntools.data_cleaning.ex4 import *\n",
    "print(\"Setup Complete\")"
   ]
  },
  {
   "cell_type": "markdown",
   "id": "52d95e05",
   "metadata": {
    "papermill": {
     "duration": 0.006105,
     "end_time": "2024-02-22T21:19:41.370191",
     "exception": false,
     "start_time": "2024-02-22T21:19:41.364086",
     "status": "completed"
    },
    "tags": []
   },
   "source": [
    "# Get our environment set up\n",
    "\n",
    "The first thing we'll need to do is load in the libraries we'll be using."
   ]
  },
  {
   "cell_type": "code",
   "execution_count": 2,
   "id": "6d63055d",
   "metadata": {
    "execution": {
     "iopub.execute_input": "2024-02-22T21:19:41.385133Z",
     "iopub.status.busy": "2024-02-22T21:19:41.384735Z",
     "iopub.status.idle": "2024-02-22T21:19:41.391210Z",
     "shell.execute_reply": "2024-02-22T21:19:41.389705Z"
    },
    "papermill": {
     "duration": 0.0174,
     "end_time": "2024-02-22T21:19:41.394013",
     "exception": false,
     "start_time": "2024-02-22T21:19:41.376613",
     "status": "completed"
    },
    "tags": []
   },
   "outputs": [],
   "source": [
    "# modules we'll use\n",
    "import pandas as pd\n",
    "import numpy as np\n",
    "\n",
    "# helpful character encoding module\n",
    "import charset_normalizer\n",
    "\n",
    "# set seed for reproducibility\n",
    "np.random.seed(0)"
   ]
  },
  {
   "cell_type": "markdown",
   "id": "28de1941",
   "metadata": {
    "papermill": {
     "duration": 0.006528,
     "end_time": "2024-02-22T21:19:41.407233",
     "exception": false,
     "start_time": "2024-02-22T21:19:41.400705",
     "status": "completed"
    },
    "tags": []
   },
   "source": [
    "# 1) What are encodings?\n",
    "\n",
    "You're working with a dataset composed of bytes.  Run the code cell below to print a sample entry."
   ]
  },
  {
   "cell_type": "code",
   "execution_count": 3,
   "id": "531f3c4f",
   "metadata": {
    "execution": {
     "iopub.execute_input": "2024-02-22T21:19:41.421857Z",
     "iopub.status.busy": "2024-02-22T21:19:41.421441Z",
     "iopub.status.idle": "2024-02-22T21:19:41.427364Z",
     "shell.execute_reply": "2024-02-22T21:19:41.425958Z"
    },
    "papermill": {
     "duration": 0.01674,
     "end_time": "2024-02-22T21:19:41.430310",
     "exception": false,
     "start_time": "2024-02-22T21:19:41.413570",
     "status": "completed"
    },
    "tags": []
   },
   "outputs": [
    {
     "name": "stdout",
     "output_type": "stream",
     "text": [
      "b'\\xa7A\\xa6n'\n",
      "data type: <class 'bytes'>\n"
     ]
    }
   ],
   "source": [
    "sample_entry = b'\\xa7A\\xa6n'\n",
    "print(sample_entry)\n",
    "print('data type:', type(sample_entry))"
   ]
  },
  {
   "cell_type": "code",
   "execution_count": null,
   "id": "75b6d835",
   "metadata": {
    "papermill": {
     "duration": 0.006305,
     "end_time": "2024-02-22T21:19:41.443200",
     "exception": false,
     "start_time": "2024-02-22T21:19:41.436895",
     "status": "completed"
    },
    "tags": []
   },
   "outputs": [],
   "source": []
  },
  {
   "cell_type": "markdown",
   "id": "89666058",
   "metadata": {
    "papermill": {
     "duration": 0.006351,
     "end_time": "2024-02-22T21:19:41.456127",
     "exception": false,
     "start_time": "2024-02-22T21:19:41.449776",
     "status": "completed"
    },
    "tags": []
   },
   "source": [
    "You notice that it doesn't use the standard UTF-8 encoding. \n",
    "\n",
    "Use the next code cell to create a variable `new_entry` that changes the encoding from `\"big5-tw\"` to `\"utf-8\"`.  `new_entry` should have the bytes datatype."
   ]
  },
  {
   "cell_type": "code",
   "execution_count": 4,
   "id": "0103b14c",
   "metadata": {
    "execution": {
     "iopub.execute_input": "2024-02-22T21:19:41.472367Z",
     "iopub.status.busy": "2024-02-22T21:19:41.471933Z",
     "iopub.status.idle": "2024-02-22T21:19:41.485221Z",
     "shell.execute_reply": "2024-02-22T21:19:41.483895Z"
    },
    "papermill": {
     "duration": 0.025224,
     "end_time": "2024-02-22T21:19:41.487944",
     "exception": false,
     "start_time": "2024-02-22T21:19:41.462720",
     "status": "completed"
    },
    "tags": []
   },
   "outputs": [
    {
     "data": {
      "application/javascript": [
       "parent.postMessage({\"jupyterEvent\": \"custom.exercise_interaction\", \"data\": {\"outcomeType\": 1, \"valueTowardsCompletion\": 0.3333333333333333, \"interactionType\": 1, \"questionType\": 1, \"questionId\": \"1_EncodingsIntro\", \"learnToolsVersion\": \"0.3.4\", \"failureMessage\": \"\", \"exceptionClass\": \"\", \"trace\": \"\"}}, \"*\")"
      ],
      "text/plain": [
       "<IPython.core.display.Javascript object>"
      ]
     },
     "metadata": {},
     "output_type": "display_data"
    },
    {
     "data": {
      "text/markdown": [
       "<span style=\"color:#33cc33\">Correct</span>"
      ],
      "text/plain": [
       "Correct"
      ]
     },
     "metadata": {},
     "output_type": "display_data"
    }
   ],
   "source": [
    "new_entry = sample_entry.decode(\"big5-tw\").encode(\"utf-8\", errors=\"replace\")\n",
    "\n",
    "# Check your answer\n",
    "q1.check()"
   ]
  },
  {
   "cell_type": "code",
   "execution_count": 5,
   "id": "80bbf8dd",
   "metadata": {
    "execution": {
     "iopub.execute_input": "2024-02-22T21:19:41.505382Z",
     "iopub.status.busy": "2024-02-22T21:19:41.504959Z",
     "iopub.status.idle": "2024-02-22T21:19:41.509967Z",
     "shell.execute_reply": "2024-02-22T21:19:41.508612Z"
    },
    "papermill": {
     "duration": 0.017192,
     "end_time": "2024-02-22T21:19:41.512666",
     "exception": false,
     "start_time": "2024-02-22T21:19:41.495474",
     "status": "completed"
    },
    "tags": []
   },
   "outputs": [],
   "source": [
    "# Lines below will give you a hint or solution code\n",
    "#q1.hint()\n",
    "#q1.solution()"
   ]
  },
  {
   "cell_type": "markdown",
   "id": "1f1f4a03",
   "metadata": {
    "papermill": {
     "duration": 0.008252,
     "end_time": "2024-02-22T21:19:41.528220",
     "exception": false,
     "start_time": "2024-02-22T21:19:41.519968",
     "status": "completed"
    },
    "tags": []
   },
   "source": [
    "# 2) Reading in files with encoding problems\n",
    "\n",
    "Use the code cell below to read in this file at path `\"../input/fatal-police-shootings-in-the-us/PoliceKillingsUS.csv\"`.  \n",
    "\n",
    "Figure out what the correct encoding should be and read in the file to a DataFrame `police_killings`."
   ]
  },
  {
   "cell_type": "code",
   "execution_count": 6,
   "id": "695da27b",
   "metadata": {
    "execution": {
     "iopub.execute_input": "2024-02-22T21:19:41.546600Z",
     "iopub.status.busy": "2024-02-22T21:19:41.546125Z",
     "iopub.status.idle": "2024-02-22T21:19:41.581218Z",
     "shell.execute_reply": "2024-02-22T21:19:41.579942Z"
    },
    "papermill": {
     "duration": 0.048063,
     "end_time": "2024-02-22T21:19:41.584514",
     "exception": false,
     "start_time": "2024-02-22T21:19:41.536451",
     "status": "completed"
    },
    "tags": []
   },
   "outputs": [
    {
     "data": {
      "application/javascript": [
       "parent.postMessage({\"jupyterEvent\": \"custom.exercise_interaction\", \"data\": {\"outcomeType\": 1, \"valueTowardsCompletion\": 0.3333333333333333, \"interactionType\": 1, \"questionType\": 1, \"questionId\": \"2_ReadIn\", \"learnToolsVersion\": \"0.3.4\", \"failureMessage\": \"\", \"exceptionClass\": \"\", \"trace\": \"\"}}, \"*\")"
      ],
      "text/plain": [
       "<IPython.core.display.Javascript object>"
      ]
     },
     "metadata": {},
     "output_type": "display_data"
    },
    {
     "data": {
      "text/markdown": [
       "<span style=\"color:#33cc33\">Correct</span>"
      ],
      "text/plain": [
       "Correct"
      ]
     },
     "metadata": {},
     "output_type": "display_data"
    }
   ],
   "source": [
    "# TODO: Load in the DataFrame correctly.\n",
    "police_killings = pd.read_csv(\"../input/fatal-police-shootings-in-the-us/PoliceKillingsUS.csv\", encoding = 'Windows-1252')\n",
    "\n",
    "# Check your answer\n",
    "q2.check()"
   ]
  },
  {
   "cell_type": "markdown",
   "id": "5401b54c",
   "metadata": {
    "papermill": {
     "duration": 0.007709,
     "end_time": "2024-02-22T21:19:41.600183",
     "exception": false,
     "start_time": "2024-02-22T21:19:41.592474",
     "status": "completed"
    },
    "tags": []
   },
   "source": [
    "Feel free to use any additional code cells for supplemental work.  To get credit for finishing this question, you'll need to run `q2.check()` and get a result of **Correct**."
   ]
  },
  {
   "cell_type": "code",
   "execution_count": 7,
   "id": "37f56444",
   "metadata": {
    "execution": {
     "iopub.execute_input": "2024-02-22T21:19:41.617995Z",
     "iopub.status.busy": "2024-02-22T21:19:41.617540Z",
     "iopub.status.idle": "2024-02-22T21:19:41.660280Z",
     "shell.execute_reply": "2024-02-22T21:19:41.658896Z"
    },
    "papermill": {
     "duration": 0.055586,
     "end_time": "2024-02-22T21:19:41.663574",
     "exception": false,
     "start_time": "2024-02-22T21:19:41.607988",
     "status": "completed"
    },
    "tags": []
   },
   "outputs": [
    {
     "data": {
      "text/plain": [
       "{'encoding': 'ascii', 'language': 'English', 'confidence': 1.0}"
      ]
     },
     "execution_count": 7,
     "metadata": {},
     "output_type": "execute_result"
    }
   ],
   "source": [
    "# (Optional) Use this code cell for any additional work.\n",
    "with open(\"../input/fatal-police-shootings-in-the-us/PoliceKillingsUS.csv\", 'rb') as rawdata:\n",
    "    result = charset_normalizer.detect(rawdata.read(10000))\n",
    "result"
   ]
  },
  {
   "cell_type": "code",
   "execution_count": 8,
   "id": "65c53b6b",
   "metadata": {
    "execution": {
     "iopub.execute_input": "2024-02-22T21:19:41.682677Z",
     "iopub.status.busy": "2024-02-22T21:19:41.682251Z",
     "iopub.status.idle": "2024-02-22T21:19:41.687768Z",
     "shell.execute_reply": "2024-02-22T21:19:41.686225Z"
    },
    "papermill": {
     "duration": 0.017854,
     "end_time": "2024-02-22T21:19:41.690833",
     "exception": false,
     "start_time": "2024-02-22T21:19:41.672979",
     "status": "completed"
    },
    "tags": []
   },
   "outputs": [],
   "source": [
    "# Lines below will give you a hint or solution code\n",
    "#q2.hint()\n",
    "#q2.solution()"
   ]
  },
  {
   "cell_type": "markdown",
   "id": "5ae126c6",
   "metadata": {
    "papermill": {
     "duration": 0.008268,
     "end_time": "2024-02-22T21:19:41.707445",
     "exception": false,
     "start_time": "2024-02-22T21:19:41.699177",
     "status": "completed"
    },
    "tags": []
   },
   "source": [
    "# 3) Saving your files with UTF-8 encoding\n",
    "\n",
    "Save a version of the police killings dataset to CSV with UTF-8 encoding.  Your answer will be marked correct after saving this file.  \n",
    "\n",
    "Note: When using the `to_csv()` method, supply only the name of the file (e.g., `\"my_file.csv\"`).  This saves the file at the filepath `\"/kaggle/working/my_file.csv\"`."
   ]
  },
  {
   "cell_type": "code",
   "execution_count": 9,
   "id": "d37fc4c6",
   "metadata": {
    "execution": {
     "iopub.execute_input": "2024-02-22T21:19:41.727728Z",
     "iopub.status.busy": "2024-02-22T21:19:41.727329Z",
     "iopub.status.idle": "2024-02-22T21:19:41.781124Z",
     "shell.execute_reply": "2024-02-22T21:19:41.779745Z"
    },
    "papermill": {
     "duration": 0.067854,
     "end_time": "2024-02-22T21:19:41.784045",
     "exception": false,
     "start_time": "2024-02-22T21:19:41.716191",
     "status": "completed"
    },
    "tags": []
   },
   "outputs": [
    {
     "data": {
      "application/javascript": [
       "parent.postMessage({\"jupyterEvent\": \"custom.exercise_interaction\", \"data\": {\"outcomeType\": 1, \"valueTowardsCompletion\": 0.3333333333333333, \"interactionType\": 1, \"questionType\": 2, \"questionId\": \"3_SaveCSV\", \"learnToolsVersion\": \"0.3.4\", \"failureMessage\": \"\", \"exceptionClass\": \"\", \"trace\": \"\"}}, \"*\")"
      ],
      "text/plain": [
       "<IPython.core.display.Javascript object>"
      ]
     },
     "metadata": {},
     "output_type": "display_data"
    },
    {
     "data": {
      "text/markdown": [
       "<span style=\"color:#33cc33\">Correct</span>"
      ],
      "text/plain": [
       "Correct"
      ]
     },
     "metadata": {},
     "output_type": "display_data"
    }
   ],
   "source": [
    "# TODO: Save the police killings dataset to CSV\n",
    "police_killings.to_csv(\"my_file.csv\")\n",
    "\n",
    "# Check your answer\n",
    "q3.check()"
   ]
  },
  {
   "cell_type": "code",
   "execution_count": 10,
   "id": "ff64f5bc",
   "metadata": {
    "execution": {
     "iopub.execute_input": "2024-02-22T21:19:41.802860Z",
     "iopub.status.busy": "2024-02-22T21:19:41.802356Z",
     "iopub.status.idle": "2024-02-22T21:19:41.807737Z",
     "shell.execute_reply": "2024-02-22T21:19:41.806045Z"
    },
    "papermill": {
     "duration": 0.018268,
     "end_time": "2024-02-22T21:19:41.810454",
     "exception": false,
     "start_time": "2024-02-22T21:19:41.792186",
     "status": "completed"
    },
    "tags": []
   },
   "outputs": [],
   "source": [
    "# Lines below will give you a hint or solution code\n",
    "#q3.hint()\n",
    "#q3.solution()"
   ]
  },
  {
   "cell_type": "markdown",
   "id": "885d2c07",
   "metadata": {
    "papermill": {
     "duration": 0.008359,
     "end_time": "2024-02-22T21:19:41.827180",
     "exception": false,
     "start_time": "2024-02-22T21:19:41.818821",
     "status": "completed"
    },
    "tags": []
   },
   "source": [
    "# (Optional) More practice\n",
    "\n",
    "Check out [this dataset of files in different character encodings](https://www.kaggle.com/rtatman/character-encoding-examples). Can you read in all the files with their original encodings and them save them out as UTF-8 files?\n",
    "\n",
    "If you have a file that's in UTF-8 but has just a couple of weird-looking characters in it, you can try out the [ftfy module](https://ftfy.readthedocs.io/en/latest/#) and see if it helps. \n",
    "\n",
    "# Keep going\n",
    "\n",
    "In the final lesson, learn how to [**clean up inconsistent text entries**](https://www.kaggle.com/alexisbcook/inconsistent-data-entry) in your dataset."
   ]
  },
  {
   "cell_type": "markdown",
   "id": "fb0e7275",
   "metadata": {
    "papermill": {
     "duration": 0.007922,
     "end_time": "2024-02-22T21:19:41.843561",
     "exception": false,
     "start_time": "2024-02-22T21:19:41.835639",
     "status": "completed"
    },
    "tags": []
   },
   "source": [
    "---\n",
    "\n",
    "\n",
    "\n",
    "\n",
    "*Have questions or comments? Visit the [course discussion forum](https://www.kaggle.com/learn/data-cleaning/discussion) to chat with other learners.*"
   ]
  }
 ],
 "metadata": {
  "kaggle": {
   "accelerator": "none",
   "dataSources": [
    {
     "datasetId": 2647,
     "sourceId": 4395,
     "sourceType": "datasetVersion"
    }
   ],
   "isGpuEnabled": false,
   "isInternetEnabled": false,
   "language": "python",
   "sourceType": "notebook"
  },
  "kernelspec": {
   "display_name": "Python 3",
   "language": "python",
   "name": "python3"
  },
  "language_info": {
   "codemirror_mode": {
    "name": "ipython",
    "version": 3
   },
   "file_extension": ".py",
   "mimetype": "text/x-python",
   "name": "python",
   "nbconvert_exporter": "python",
   "pygments_lexer": "ipython3",
   "version": "3.10.13"
  },
  "papermill": {
   "default_parameters": {},
   "duration": 5.946029,
   "end_time": "2024-02-22T21:19:42.576655",
   "environment_variables": {},
   "exception": null,
   "input_path": "__notebook__.ipynb",
   "output_path": "__notebook__.ipynb",
   "parameters": {},
   "start_time": "2024-02-22T21:19:36.630626",
   "version": "2.5.0"
  }
 },
 "nbformat": 4,
 "nbformat_minor": 5
}
