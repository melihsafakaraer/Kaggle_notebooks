{
 "cells": [
  {
   "cell_type": "markdown",
   "id": "b77a65ac",
   "metadata": {
    "papermill": {
     "duration": 0.007556,
     "end_time": "2024-02-22T21:19:09.808973",
     "exception": false,
     "start_time": "2024-02-22T21:19:09.801417",
     "status": "completed"
    },
    "tags": []
   },
   "source": [
    "**This notebook is an exercise in the [Data Cleaning](https://www.kaggle.com/learn/data-cleaning) course.  You can reference the tutorial at [this link](https://www.kaggle.com/alexisbcook/scaling-and-normalization).**\n",
    "\n",
    "---\n"
   ]
  },
  {
   "cell_type": "markdown",
   "id": "306a2566",
   "metadata": {
    "papermill": {
     "duration": 0.007365,
     "end_time": "2024-02-22T21:19:09.823492",
     "exception": false,
     "start_time": "2024-02-22T21:19:09.816127",
     "status": "completed"
    },
    "tags": []
   },
   "source": [
    "In this exercise, you'll apply what you learned in the **Scaling and normalization** tutorial.\n",
    "\n",
    "# Setup\n",
    "\n",
    "The questions below will give you feedback on your work. Run the following cell to set up the feedback system."
   ]
  },
  {
   "cell_type": "code",
   "execution_count": 1,
   "id": "f2ba006b",
   "metadata": {
    "execution": {
     "iopub.execute_input": "2024-02-22T21:19:09.840309Z",
     "iopub.status.busy": "2024-02-22T21:19:09.839181Z",
     "iopub.status.idle": "2024-02-22T21:19:15.391585Z",
     "shell.execute_reply": "2024-02-22T21:19:15.390244Z"
    },
    "papermill": {
     "duration": 5.563666,
     "end_time": "2024-02-22T21:19:15.394210",
     "exception": false,
     "start_time": "2024-02-22T21:19:09.830544",
     "status": "completed"
    },
    "tags": []
   },
   "outputs": [
    {
     "name": "stdout",
     "output_type": "stream",
     "text": [
      "Setup Complete\n"
     ]
    }
   ],
   "source": [
    "from learntools.core import binder\n",
    "binder.bind(globals())\n",
    "from learntools.data_cleaning.ex2 import *\n",
    "print(\"Setup Complete\")"
   ]
  },
  {
   "cell_type": "markdown",
   "id": "d13bbe8d",
   "metadata": {
    "papermill": {
     "duration": 0.007125,
     "end_time": "2024-02-22T21:19:15.408629",
     "exception": false,
     "start_time": "2024-02-22T21:19:15.401504",
     "status": "completed"
    },
    "tags": []
   },
   "source": [
    "# Get our environment set up\n",
    "\n",
    "To practice scaling and normalization, we're going to use a [dataset of Kickstarter campaigns](https://www.kaggle.com/kemical/kickstarter-projects). (Kickstarter is a website where people can ask people to invest in various projects and concept products.)\n",
    "\n",
    "The next code cell loads in the libraries and dataset we'll be using. "
   ]
  },
  {
   "cell_type": "code",
   "execution_count": 2,
   "id": "b4926bd8",
   "metadata": {
    "execution": {
     "iopub.execute_input": "2024-02-22T21:19:15.424471Z",
     "iopub.status.busy": "2024-02-22T21:19:15.424042Z",
     "iopub.status.idle": "2024-02-22T21:19:17.350781Z",
     "shell.execute_reply": "2024-02-22T21:19:17.349738Z"
    },
    "papermill": {
     "duration": 1.937917,
     "end_time": "2024-02-22T21:19:17.353585",
     "exception": false,
     "start_time": "2024-02-22T21:19:15.415668",
     "status": "completed"
    },
    "tags": []
   },
   "outputs": [],
   "source": [
    "# modules we'll use\n",
    "import pandas as pd\n",
    "import numpy as np\n",
    "\n",
    "# for Box-Cox Transformation\n",
    "from scipy import stats\n",
    "\n",
    "# for min_max scaling\n",
    "from mlxtend.preprocessing import minmax_scaling\n",
    "\n",
    "# plotting modules\n",
    "import seaborn as sns\n",
    "import matplotlib.pyplot as plt\n",
    "\n",
    "# read in all our data\n",
    "kickstarters_2017 = pd.read_csv(\"../input/kickstarter-projects/ks-projects-201801.csv\")\n",
    "\n",
    "# set seed for reproducibility\n",
    "np.random.seed(0)"
   ]
  },
  {
   "cell_type": "markdown",
   "id": "ed12ddcf",
   "metadata": {
    "papermill": {
     "duration": 0.006681,
     "end_time": "2024-02-22T21:19:17.367478",
     "exception": false,
     "start_time": "2024-02-22T21:19:17.360797",
     "status": "completed"
    },
    "tags": []
   },
   "source": [
    "Let's start by scaling the goals of each campaign, which is how much money they were asking for.  After scaling, all values lie between 0 and 1."
   ]
  },
  {
   "cell_type": "code",
   "execution_count": 3,
   "id": "947ab1ac",
   "metadata": {
    "execution": {
     "iopub.execute_input": "2024-02-22T21:19:17.383565Z",
     "iopub.status.busy": "2024-02-22T21:19:17.383167Z",
     "iopub.status.idle": "2024-02-22T21:19:17.422206Z",
     "shell.execute_reply": "2024-02-22T21:19:17.420735Z"
    },
    "papermill": {
     "duration": 0.05082,
     "end_time": "2024-02-22T21:19:17.425256",
     "exception": false,
     "start_time": "2024-02-22T21:19:17.374436",
     "status": "completed"
    },
    "tags": []
   },
   "outputs": [
    {
     "name": "stdout",
     "output_type": "stream",
     "text": [
      "Original data\n",
      "Preview:\n",
      "    usd_goal_real\n",
      "0        1533.95\n",
      "1       30000.00\n",
      "2       45000.00\n",
      "3        5000.00\n",
      "4       19500.00\n",
      "Minimum value: 0.01 \n",
      "Maximum value: 166361390.71\n",
      "______________________________\n",
      "\n",
      "Scaled data\n",
      "Preview:\n",
      "    usd_goal_real\n",
      "0       0.000009\n",
      "1       0.000180\n",
      "2       0.000270\n",
      "3       0.000030\n",
      "4       0.000117\n",
      "Minimum value: 0.0 \n",
      "Maximum value: 1.0\n"
     ]
    },
    {
     "name": "stderr",
     "output_type": "stream",
     "text": [
      "/tmp/ipykernel_18/93515903.py:8: FutureWarning: Calling float on a single element Series is deprecated and will raise a TypeError in the future. Use float(ser.iloc[0]) instead\n",
      "  print('Minimum value:', float(original_data.min()),\n",
      "/tmp/ipykernel_18/93515903.py:9: FutureWarning: Calling float on a single element Series is deprecated and will raise a TypeError in the future. Use float(ser.iloc[0]) instead\n",
      "  '\\nMaximum value:', float(original_data.max()))\n",
      "/tmp/ipykernel_18/93515903.py:13: FutureWarning: Calling float on a single element Series is deprecated and will raise a TypeError in the future. Use float(ser.iloc[0]) instead\n",
      "  print('Minimum value:', float(scaled_data.min()),\n",
      "/tmp/ipykernel_18/93515903.py:14: FutureWarning: Calling float on a single element Series is deprecated and will raise a TypeError in the future. Use float(ser.iloc[0]) instead\n",
      "  '\\nMaximum value:', float(scaled_data.max()))\n"
     ]
    }
   ],
   "source": [
    "# select the usd_goal_real column\n",
    "original_data = pd.DataFrame(kickstarters_2017.usd_goal_real)\n",
    "\n",
    "# scale the goals from 0 to 1\n",
    "scaled_data = minmax_scaling(original_data, columns=['usd_goal_real'])\n",
    "\n",
    "print('Original data\\nPreview:\\n', original_data.head())\n",
    "print('Minimum value:', float(original_data.min()),\n",
    "      '\\nMaximum value:', float(original_data.max()))\n",
    "print('_'*30)\n",
    "\n",
    "print('\\nScaled data\\nPreview:\\n', scaled_data.head())\n",
    "print('Minimum value:', float(scaled_data.min()),\n",
    "      '\\nMaximum value:', float(scaled_data.max()))"
   ]
  },
  {
   "cell_type": "markdown",
   "id": "5a0c1f4e",
   "metadata": {
    "papermill": {
     "duration": 0.006973,
     "end_time": "2024-02-22T21:19:17.439787",
     "exception": false,
     "start_time": "2024-02-22T21:19:17.432814",
     "status": "completed"
    },
    "tags": []
   },
   "source": [
    "# 1) Practice scaling\n",
    "\n",
    "We just scaled the \"usd_goal_real\" column. What about the \"goal\" column?\n",
    "\n",
    "Begin by running the code cell below to create a DataFrame `original_goal_data` containing the \"goal\" column."
   ]
  },
  {
   "cell_type": "code",
   "execution_count": 4,
   "id": "95eba822",
   "metadata": {
    "execution": {
     "iopub.execute_input": "2024-02-22T21:19:17.457133Z",
     "iopub.status.busy": "2024-02-22T21:19:17.456326Z",
     "iopub.status.idle": "2024-02-22T21:19:17.471881Z",
     "shell.execute_reply": "2024-02-22T21:19:17.471059Z"
    },
    "papermill": {
     "duration": 0.02648,
     "end_time": "2024-02-22T21:19:17.474054",
     "exception": false,
     "start_time": "2024-02-22T21:19:17.447574",
     "status": "completed"
    },
    "tags": []
   },
   "outputs": [
    {
     "data": {
      "text/html": [
       "<div>\n",
       "<style scoped>\n",
       "    .dataframe tbody tr th:only-of-type {\n",
       "        vertical-align: middle;\n",
       "    }\n",
       "\n",
       "    .dataframe tbody tr th {\n",
       "        vertical-align: top;\n",
       "    }\n",
       "\n",
       "    .dataframe thead th {\n",
       "        text-align: right;\n",
       "    }\n",
       "</style>\n",
       "<table border=\"1\" class=\"dataframe\">\n",
       "  <thead>\n",
       "    <tr style=\"text-align: right;\">\n",
       "      <th></th>\n",
       "      <th>goal</th>\n",
       "    </tr>\n",
       "  </thead>\n",
       "  <tbody>\n",
       "    <tr>\n",
       "      <th>0</th>\n",
       "      <td>1000.0</td>\n",
       "    </tr>\n",
       "    <tr>\n",
       "      <th>1</th>\n",
       "      <td>30000.0</td>\n",
       "    </tr>\n",
       "    <tr>\n",
       "      <th>2</th>\n",
       "      <td>45000.0</td>\n",
       "    </tr>\n",
       "    <tr>\n",
       "      <th>3</th>\n",
       "      <td>5000.0</td>\n",
       "    </tr>\n",
       "    <tr>\n",
       "      <th>4</th>\n",
       "      <td>19500.0</td>\n",
       "    </tr>\n",
       "    <tr>\n",
       "      <th>...</th>\n",
       "      <td>...</td>\n",
       "    </tr>\n",
       "    <tr>\n",
       "      <th>378656</th>\n",
       "      <td>50000.0</td>\n",
       "    </tr>\n",
       "    <tr>\n",
       "      <th>378657</th>\n",
       "      <td>1500.0</td>\n",
       "    </tr>\n",
       "    <tr>\n",
       "      <th>378658</th>\n",
       "      <td>15000.0</td>\n",
       "    </tr>\n",
       "    <tr>\n",
       "      <th>378659</th>\n",
       "      <td>15000.0</td>\n",
       "    </tr>\n",
       "    <tr>\n",
       "      <th>378660</th>\n",
       "      <td>2000.0</td>\n",
       "    </tr>\n",
       "  </tbody>\n",
       "</table>\n",
       "<p>378661 rows × 1 columns</p>\n",
       "</div>"
      ],
      "text/plain": [
       "           goal\n",
       "0        1000.0\n",
       "1       30000.0\n",
       "2       45000.0\n",
       "3        5000.0\n",
       "4       19500.0\n",
       "...         ...\n",
       "378656  50000.0\n",
       "378657   1500.0\n",
       "378658  15000.0\n",
       "378659  15000.0\n",
       "378660   2000.0\n",
       "\n",
       "[378661 rows x 1 columns]"
      ]
     },
     "execution_count": 4,
     "metadata": {},
     "output_type": "execute_result"
    }
   ],
   "source": [
    "# select the usd_goal_real column\n",
    "original_goal_data = pd.DataFrame(kickstarters_2017.goal)\n",
    "original_goal_data"
   ]
  },
  {
   "cell_type": "markdown",
   "id": "af926c6b",
   "metadata": {
    "papermill": {
     "duration": 0.007295,
     "end_time": "2024-02-22T21:19:17.488841",
     "exception": false,
     "start_time": "2024-02-22T21:19:17.481546",
     "status": "completed"
    },
    "tags": []
   },
   "source": [
    "Use `original_goal_data` to create a new DataFrame `scaled_goal_data` with values scaled between 0 and 1. You must use the `minmax_scaling()` function."
   ]
  },
  {
   "cell_type": "code",
   "execution_count": 5,
   "id": "7709d800",
   "metadata": {
    "execution": {
     "iopub.execute_input": "2024-02-22T21:19:17.505910Z",
     "iopub.status.busy": "2024-02-22T21:19:17.505015Z",
     "iopub.status.idle": "2024-02-22T21:19:17.540867Z",
     "shell.execute_reply": "2024-02-22T21:19:17.539793Z"
    },
    "papermill": {
     "duration": 0.047279,
     "end_time": "2024-02-22T21:19:17.543575",
     "exception": false,
     "start_time": "2024-02-22T21:19:17.496296",
     "status": "completed"
    },
    "tags": []
   },
   "outputs": [
    {
     "data": {
      "application/javascript": [
       "parent.postMessage({\"jupyterEvent\": \"custom.exercise_interaction\", \"data\": {\"outcomeType\": 1, \"valueTowardsCompletion\": 0.3333333333333333, \"interactionType\": 1, \"questionType\": 1, \"questionId\": \"1_TryScaling\", \"learnToolsVersion\": \"0.3.4\", \"failureMessage\": \"\", \"exceptionClass\": \"\", \"trace\": \"\"}}, \"*\")"
      ],
      "text/plain": [
       "<IPython.core.display.Javascript object>"
      ]
     },
     "metadata": {},
     "output_type": "display_data"
    },
    {
     "data": {
      "text/markdown": [
       "<span style=\"color:#33cc33\">Correct</span>"
      ],
      "text/plain": [
       "Correct"
      ]
     },
     "metadata": {},
     "output_type": "display_data"
    },
    {
     "data": {
      "text/html": [
       "<div>\n",
       "<style scoped>\n",
       "    .dataframe tbody tr th:only-of-type {\n",
       "        vertical-align: middle;\n",
       "    }\n",
       "\n",
       "    .dataframe tbody tr th {\n",
       "        vertical-align: top;\n",
       "    }\n",
       "\n",
       "    .dataframe thead th {\n",
       "        text-align: right;\n",
       "    }\n",
       "</style>\n",
       "<table border=\"1\" class=\"dataframe\">\n",
       "  <thead>\n",
       "    <tr style=\"text-align: right;\">\n",
       "      <th></th>\n",
       "      <th>goal</th>\n",
       "    </tr>\n",
       "  </thead>\n",
       "  <tbody>\n",
       "    <tr>\n",
       "      <th>0</th>\n",
       "      <td>0.000010</td>\n",
       "    </tr>\n",
       "    <tr>\n",
       "      <th>1</th>\n",
       "      <td>0.000300</td>\n",
       "    </tr>\n",
       "    <tr>\n",
       "      <th>2</th>\n",
       "      <td>0.000450</td>\n",
       "    </tr>\n",
       "    <tr>\n",
       "      <th>3</th>\n",
       "      <td>0.000050</td>\n",
       "    </tr>\n",
       "    <tr>\n",
       "      <th>4</th>\n",
       "      <td>0.000195</td>\n",
       "    </tr>\n",
       "    <tr>\n",
       "      <th>...</th>\n",
       "      <td>...</td>\n",
       "    </tr>\n",
       "    <tr>\n",
       "      <th>378656</th>\n",
       "      <td>0.000500</td>\n",
       "    </tr>\n",
       "    <tr>\n",
       "      <th>378657</th>\n",
       "      <td>0.000015</td>\n",
       "    </tr>\n",
       "    <tr>\n",
       "      <th>378658</th>\n",
       "      <td>0.000150</td>\n",
       "    </tr>\n",
       "    <tr>\n",
       "      <th>378659</th>\n",
       "      <td>0.000150</td>\n",
       "    </tr>\n",
       "    <tr>\n",
       "      <th>378660</th>\n",
       "      <td>0.000020</td>\n",
       "    </tr>\n",
       "  </tbody>\n",
       "</table>\n",
       "<p>378661 rows × 1 columns</p>\n",
       "</div>"
      ],
      "text/plain": [
       "            goal\n",
       "0       0.000010\n",
       "1       0.000300\n",
       "2       0.000450\n",
       "3       0.000050\n",
       "4       0.000195\n",
       "...          ...\n",
       "378656  0.000500\n",
       "378657  0.000015\n",
       "378658  0.000150\n",
       "378659  0.000150\n",
       "378660  0.000020\n",
       "\n",
       "[378661 rows x 1 columns]"
      ]
     },
     "execution_count": 5,
     "metadata": {},
     "output_type": "execute_result"
    }
   ],
   "source": [
    "# TODO: Your code here\n",
    "scaled_goal_data = minmax_scaling(original_goal_data, columns = [\"goal\"])\n",
    "\n",
    "# Check your answer\n",
    "q1.check()\n",
    "scaled_goal_data"
   ]
  },
  {
   "cell_type": "code",
   "execution_count": 6,
   "id": "94e6d722",
   "metadata": {
    "execution": {
     "iopub.execute_input": "2024-02-22T21:19:17.562841Z",
     "iopub.status.busy": "2024-02-22T21:19:17.562429Z",
     "iopub.status.idle": "2024-02-22T21:19:17.567654Z",
     "shell.execute_reply": "2024-02-22T21:19:17.566288Z"
    },
    "papermill": {
     "duration": 0.017105,
     "end_time": "2024-02-22T21:19:17.570047",
     "exception": false,
     "start_time": "2024-02-22T21:19:17.552942",
     "status": "completed"
    },
    "tags": []
   },
   "outputs": [],
   "source": [
    "# Lines below will give you a hint or solution code\n",
    "#q1.hint()\n",
    "#q1.solution()"
   ]
  },
  {
   "cell_type": "markdown",
   "id": "a902b5e8",
   "metadata": {
    "papermill": {
     "duration": 0.00781,
     "end_time": "2024-02-22T21:19:17.586259",
     "exception": false,
     "start_time": "2024-02-22T21:19:17.578449",
     "status": "completed"
    },
    "tags": []
   },
   "source": [
    "# 2) Practice normalization\n",
    "\n",
    "Now you'll practice normalization. We begin by normalizing the amount of money pledged to each campaign."
   ]
  },
  {
   "cell_type": "code",
   "execution_count": 7,
   "id": "0882f0ad",
   "metadata": {
    "execution": {
     "iopub.execute_input": "2024-02-22T21:19:17.604343Z",
     "iopub.status.busy": "2024-02-22T21:19:17.603972Z",
     "iopub.status.idle": "2024-02-22T21:19:17.826291Z",
     "shell.execute_reply": "2024-02-22T21:19:17.825215Z"
    },
    "papermill": {
     "duration": 0.234641,
     "end_time": "2024-02-22T21:19:17.828997",
     "exception": false,
     "start_time": "2024-02-22T21:19:17.594356",
     "status": "completed"
    },
    "tags": []
   },
   "outputs": [
    {
     "name": "stdout",
     "output_type": "stream",
     "text": [
      "Original data\n",
      "Preview:\n",
      " 1     2421.0\n",
      "2      220.0\n",
      "3        1.0\n",
      "4     1283.0\n",
      "5    52375.0\n",
      "Name: usd_pledged_real, dtype: float64\n",
      "Minimum value: 0.45 \n",
      "Maximum value: 20338986.27\n",
      "______________________________\n",
      "\n",
      "Normalized data\n",
      "Preview:\n",
      " 1    10.165142\n",
      "2     6.468598\n",
      "3     0.000000\n",
      "4     9.129277\n",
      "5    15.836853\n",
      "Name: usd_pledged_real, dtype: float64\n",
      "Minimum value: -0.7779954122762203 \n",
      "Maximum value: 30.69054020451361\n"
     ]
    }
   ],
   "source": [
    "# get the index of all positive pledges (Box-Cox only takes positive values)\n",
    "index_of_positive_pledges = kickstarters_2017.usd_pledged_real > 0\n",
    "\n",
    "# get only positive pledges (using their indexes)\n",
    "positive_pledges = kickstarters_2017.usd_pledged_real.loc[index_of_positive_pledges]\n",
    "\n",
    "# normalize the pledges (w/ Box-Cox)\n",
    "normalized_pledges = pd.Series(stats.boxcox(positive_pledges)[0], \n",
    "                               name='usd_pledged_real', index=positive_pledges.index)\n",
    "\n",
    "print('Original data\\nPreview:\\n', positive_pledges.head())\n",
    "print('Minimum value:', float(positive_pledges.min()),\n",
    "      '\\nMaximum value:', float(positive_pledges.max()))\n",
    "print('_'*30)\n",
    "\n",
    "print('\\nNormalized data\\nPreview:\\n', normalized_pledges.head())\n",
    "print('Minimum value:', float(normalized_pledges.min()),\n",
    "      '\\nMaximum value:', float(normalized_pledges.max()))"
   ]
  },
  {
   "cell_type": "markdown",
   "id": "0646ff3a",
   "metadata": {
    "papermill": {
     "duration": 0.008629,
     "end_time": "2024-02-22T21:19:17.846405",
     "exception": false,
     "start_time": "2024-02-22T21:19:17.837776",
     "status": "completed"
    },
    "tags": []
   },
   "source": [
    "The values have changed significantly with normalization!\n",
    "\n",
    "In the next code cell, you'll take a look at the distribution of the normalized data, where it should now resemble a normal distribution."
   ]
  },
  {
   "cell_type": "code",
   "execution_count": 8,
   "id": "208b3c7f",
   "metadata": {
    "execution": {
     "iopub.execute_input": "2024-02-22T21:19:17.864931Z",
     "iopub.status.busy": "2024-02-22T21:19:17.864546Z",
     "iopub.status.idle": "2024-02-22T21:19:20.206500Z",
     "shell.execute_reply": "2024-02-22T21:19:20.205247Z"
    },
    "papermill": {
     "duration": 2.354382,
     "end_time": "2024-02-22T21:19:20.209245",
     "exception": false,
     "start_time": "2024-02-22T21:19:17.854863",
     "status": "completed"
    },
    "tags": []
   },
   "outputs": [
    {
     "name": "stderr",
     "output_type": "stream",
     "text": [
      "/opt/conda/lib/python3.10/site-packages/seaborn/_oldcore.py:1119: FutureWarning: use_inf_as_na option is deprecated and will be removed in a future version. Convert inf values to NaN before operating instead.\n",
      "  with pd.option_context('mode.use_inf_as_na', True):\n"
     ]
    },
    {
     "data": {
      "image/png": "[encoded data removed]",
      "text/plain": [
       "<Figure size 640x480 with 1 Axes>"
      ]
     },
     "metadata": {},
     "output_type": "display_data"
    }
   ],
   "source": [
    "# plot normalized data\n",
    "ax = sns.histplot(normalized_pledges, kde=True)\n",
    "ax.set_title(\"Normalized data\")\n",
    "plt.show()"
   ]
  },
  {
   "cell_type": "markdown",
   "id": "efd834bd",
   "metadata": {
    "papermill": {
     "duration": 0.008791,
     "end_time": "2024-02-22T21:19:20.227352",
     "exception": false,
     "start_time": "2024-02-22T21:19:20.218561",
     "status": "completed"
    },
    "tags": []
   },
   "source": [
    "We used the \"usd_pledged_real\" column. Follow the same process to normalize the \"pledged\" column. "
   ]
  },
  {
   "cell_type": "code",
   "execution_count": 9,
   "id": "ee1f0d66",
   "metadata": {
    "execution": {
     "iopub.execute_input": "2024-02-22T21:19:20.248370Z",
     "iopub.status.busy": "2024-02-22T21:19:20.247562Z",
     "iopub.status.idle": "2024-02-22T21:19:25.077392Z",
     "shell.execute_reply": "2024-02-22T21:19:25.076268Z"
    },
    "papermill": {
     "duration": 4.843382,
     "end_time": "2024-02-22T21:19:25.080417",
     "exception": false,
     "start_time": "2024-02-22T21:19:20.237035",
     "status": "completed"
    },
    "tags": []
   },
   "outputs": [
    {
     "name": "stderr",
     "output_type": "stream",
     "text": [
      "/opt/conda/lib/python3.10/site-packages/seaborn/_oldcore.py:1119: FutureWarning: use_inf_as_na option is deprecated and will be removed in a future version. Convert inf values to NaN before operating instead.\n",
      "  with pd.option_context('mode.use_inf_as_na', True):\n"
     ]
    },
    {
     "data": {
      "image/png": "[encoded data removed]",
      "text/plain": [
       "<Figure size 640x480 with 1 Axes>"
      ]
     },
     "metadata": {},
     "output_type": "display_data"
    },
    {
     "name": "stderr",
     "output_type": "stream",
     "text": [
      "/opt/conda/lib/python3.10/site-packages/seaborn/_oldcore.py:1119: FutureWarning: use_inf_as_na option is deprecated and will be removed in a future version. Convert inf values to NaN before operating instead.\n",
      "  with pd.option_context('mode.use_inf_as_na', True):\n"
     ]
    },
    {
     "data": {
      "image/png": "[encoded data removed]",
      "text/plain": [
       "<Figure size 640x480 with 1 Axes>"
      ]
     },
     "metadata": {},
     "output_type": "display_data"
    }
   ],
   "source": [
    "pledged_index_of_positive_pledges = kickstarters_2017.pledged > 0\n",
    "pledged_positive_pledges = kickstarters_2017.pledged.loc[pledged_index_of_positive_pledges]\n",
    "\n",
    "pledged_normalized_pledges = pd.Series(stats.boxcox(pledged_positive_pledges)[0], \n",
    "                               name='pledged', index=pledged_positive_pledges.index)\n",
    "\n",
    "ax = sns.histplot(normalized_pledges, kde=True)\n",
    "ax.set_title(\"Normalized data\")\n",
    "plt.show()\n",
    "\n",
    "ax = sns.histplot(pledged_normalized_pledges, kde=True)\n",
    "ax.set_title(\"pledged_normalized_pledges\")\n",
    "plt.show()\n"
   ]
  },
  {
   "cell_type": "markdown",
   "id": "0567157b",
   "metadata": {
    "papermill": {
     "duration": 0.010209,
     "end_time": "2024-02-22T21:19:25.101397",
     "exception": false,
     "start_time": "2024-02-22T21:19:25.091188",
     "status": "completed"
    },
    "tags": []
   },
   "source": [
    "How does the normalized \"usd_pledged_real\" column look different from when we normalized the \"pledged\" column?  Or, do they look mostly the same?\n",
    "\n",
    "Once you have an answer, run the code cell below."
   ]
  },
  {
   "cell_type": "code",
   "execution_count": 10,
   "id": "bdfca3d6",
   "metadata": {
    "execution": {
     "iopub.execute_input": "2024-02-22T21:19:25.124145Z",
     "iopub.status.busy": "2024-02-22T21:19:25.123716Z",
     "iopub.status.idle": "2024-02-22T21:19:25.133025Z",
     "shell.execute_reply": "2024-02-22T21:19:25.131834Z"
    },
    "papermill": {
     "duration": 0.023323,
     "end_time": "2024-02-22T21:19:25.135207",
     "exception": false,
     "start_time": "2024-02-22T21:19:25.111884",
     "status": "completed"
    },
    "tags": []
   },
   "outputs": [
    {
     "data": {
      "application/javascript": [
       "parent.postMessage({\"jupyterEvent\": \"custom.exercise_interaction\", \"data\": {\"outcomeType\": 1, \"valueTowardsCompletion\": 0.3333333333333333, \"interactionType\": 1, \"questionType\": 4, \"questionId\": \"2_TryNormalization\", \"learnToolsVersion\": \"0.3.4\", \"failureMessage\": \"\", \"exceptionClass\": \"\", \"trace\": \"\"}}, \"*\")"
      ],
      "text/plain": [
       "<IPython.core.display.Javascript object>"
      ]
     },
     "metadata": {},
     "output_type": "display_data"
    },
    {
     "data": {
      "text/markdown": [
       "<span style=\"color:#33cc33\">Correct:</span> \n",
       "\n",
       "The distributions in the normalized data look mostly the same."
      ],
      "text/plain": [
       "Correct: \n",
       "\n",
       "The distributions in the normalized data look mostly the same."
      ]
     },
     "metadata": {},
     "output_type": "display_data"
    }
   ],
   "source": [
    "# Check your answer (Run this code cell to receive credit!)\n",
    "q2.check()"
   ]
  },
  {
   "cell_type": "code",
   "execution_count": 11,
   "id": "072dc668",
   "metadata": {
    "execution": {
     "iopub.execute_input": "2024-02-22T21:19:25.158699Z",
     "iopub.status.busy": "2024-02-22T21:19:25.158269Z",
     "iopub.status.idle": "2024-02-22T21:19:25.163155Z",
     "shell.execute_reply": "2024-02-22T21:19:25.162005Z"
    },
    "papermill": {
     "duration": 0.019449,
     "end_time": "2024-02-22T21:19:25.165572",
     "exception": false,
     "start_time": "2024-02-22T21:19:25.146123",
     "status": "completed"
    },
    "tags": []
   },
   "outputs": [],
   "source": [
    "# Line below will give you a hint\n",
    "#q2.hint()"
   ]
  },
  {
   "cell_type": "markdown",
   "id": "6c5b0616",
   "metadata": {
    "papermill": {
     "duration": 0.010515,
     "end_time": "2024-02-22T21:19:25.186951",
     "exception": false,
     "start_time": "2024-02-22T21:19:25.176436",
     "status": "completed"
    },
    "tags": []
   },
   "source": [
    "# (Optional) More practice\n",
    "\n",
    "Try finding a new dataset and pretend you're preparing to perform a [regression analysis](https://www.kaggle.com/rtatman/the-5-day-regression-challenge). \n",
    "\n",
    "[These datasets are a good start!](https://www.kaggle.com/rtatman/datasets-for-regression-analysis)\n",
    "\n",
    "Pick three or four variables and decide if you need to normalize or scale any of them and, if you think you should, practice applying the correct technique.\n",
    "\n",
    "# Keep going\n",
    "\n",
    "In the next lesson, learn how to [**parse dates**](https://www.kaggle.com/alexisbcook/parsing-dates) in a dataset."
   ]
  },
  {
   "cell_type": "markdown",
   "id": "429288a4",
   "metadata": {
    "papermill": {
     "duration": 0.010475,
     "end_time": "2024-02-22T21:19:25.208403",
     "exception": false,
     "start_time": "2024-02-22T21:19:25.197928",
     "status": "completed"
    },
    "tags": []
   },
   "source": [
    "---\n",
    "\n",
    "\n",
    "\n",
    "\n",
    "*Have questions or comments? Visit the [course discussion forum](https://www.kaggle.com/learn/data-cleaning/discussion) to chat with other learners.*"
   ]
  }
 ],
 "metadata": {
  "kaggle": {
   "accelerator": "none",
   "dataSources": [
    {
     "datasetId": 4104,
     "sourceId": 16930,
     "sourceType": "datasetVersion"
    }
   ],
   "isGpuEnabled": false,
   "isInternetEnabled": false,
   "language": "python",
   "sourceType": "notebook"
  },
  "kernelspec": {
   "display_name": "Python 3",
   "language": "python",
   "name": "python3"
  },
  "language_info": {
   "codemirror_mode": {
    "name": "ipython",
    "version": 3
   },
   "file_extension": ".py",
   "mimetype": "text/x-python",
   "name": "python",
   "nbconvert_exporter": "python",
   "pygments_lexer": "ipython3",
   "version": "3.10.13"
  },
  "papermill": {
   "default_parameters": {},
   "duration": 19.487489,
   "end_time": "2024-02-22T21:19:26.040717",
   "environment_variables": {},
   "exception": null,
   "input_path": "__notebook__.ipynb",
   "output_path": "__notebook__.ipynb",
   "parameters": {},
   "start_time": "2024-02-22T21:19:06.553228",
   "version": "2.5.0"
  }
 },
 "nbformat": 4,
 "nbformat_minor": 5
}
