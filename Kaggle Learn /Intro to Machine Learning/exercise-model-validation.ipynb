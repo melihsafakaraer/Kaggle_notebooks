{
 "cells": [
  {
   "cell_type": "markdown",
   "id": "b11d0535",
   "metadata": {
    "papermill": {
     "duration": 0.006825,
     "end_time": "2024-02-22T21:25:30.999310",
     "exception": false,
     "start_time": "2024-02-22T21:25:30.992485",
     "status": "completed"
    },
    "tags": []
   },
   "source": [
    "**This notebook is an exercise in the [Introduction to Machine Learning](https://www.kaggle.com/learn/intro-to-machine-learning) course.  You can reference the tutorial at [this link](https://www.kaggle.com/dansbecker/model-validation).**\n",
    "\n",
    "---\n"
   ]
  },
  {
   "cell_type": "markdown",
   "id": "99a5198c",
   "metadata": {
    "papermill": {
     "duration": 0.005842,
     "end_time": "2024-02-22T21:25:31.011681",
     "exception": false,
     "start_time": "2024-02-22T21:25:31.005839",
     "status": "completed"
    },
    "tags": []
   },
   "source": [
    "## Recap\n",
    "You've built a model. In this exercise you will test how good your model is.\n",
    "\n",
    "Run the cell below to set up your coding environment where the previous exercise left off."
   ]
  },
  {
   "cell_type": "code",
   "execution_count": 1,
   "id": "d909c079",
   "metadata": {
    "execution": {
     "iopub.execute_input": "2024-02-22T21:25:31.026015Z",
     "iopub.status.busy": "2024-02-22T21:25:31.025480Z",
     "iopub.status.idle": "2024-02-22T21:25:33.940012Z",
     "shell.execute_reply": "2024-02-22T21:25:33.938536Z"
    },
    "papermill": {
     "duration": 2.925438,
     "end_time": "2024-02-22T21:25:33.943229",
     "exception": false,
     "start_time": "2024-02-22T21:25:31.017791",
     "status": "completed"
    },
    "tags": []
   },
   "outputs": [
    {
     "name": "stdout",
     "output_type": "stream",
     "text": [
      "First in-sample predictions: [208500. 181500. 223500. 140000. 250000.]\n",
      "Actual target values for those homes: [208500, 181500, 223500, 140000, 250000]\n",
      "Setup Complete\n"
     ]
    }
   ],
   "source": [
    "# Code you have previously used to load data\n",
    "import pandas as pd\n",
    "from sklearn.tree import DecisionTreeRegressor\n",
    "\n",
    "# Path of the file to read\n",
    "iowa_file_path = '../input/home-data-for-ml-course/train.csv'\n",
    "\n",
    "home_data = pd.read_csv(iowa_file_path)\n",
    "y = home_data.SalePrice\n",
    "feature_columns = ['LotArea', 'YearBuilt', '1stFlrSF', '2ndFlrSF', 'FullBath', 'BedroomAbvGr', 'TotRmsAbvGrd']\n",
    "X = home_data[feature_columns]\n",
    "\n",
    "# Specify Model\n",
    "iowa_model = DecisionTreeRegressor()\n",
    "# Fit Model\n",
    "iowa_model.fit(X, y)\n",
    "\n",
    "print(\"First in-sample predictions:\", iowa_model.predict(X.head()))\n",
    "print(\"Actual target values for those homes:\", y.head().tolist())\n",
    "\n",
    "# Set up code checking\n",
    "from learntools.core import binder\n",
    "binder.bind(globals())\n",
    "from learntools.machine_learning.ex4 import *\n",
    "print(\"Setup Complete\")"
   ]
  },
  {
   "cell_type": "markdown",
   "id": "ac9ea902",
   "metadata": {
    "papermill": {
     "duration": 0.006126,
     "end_time": "2024-02-22T21:25:33.956162",
     "exception": false,
     "start_time": "2024-02-22T21:25:33.950036",
     "status": "completed"
    },
    "tags": []
   },
   "source": [
    "# Exercises\n",
    "\n",
    "## Step 1: Split Your Data\n",
    "Use the `train_test_split` function to split up your data.\n",
    "\n",
    "Give it the argument `random_state=1` so the `check` functions know what to expect when verifying your code.\n",
    "\n",
    "Recall, your features are loaded in the DataFrame **X** and your target is loaded in **y**.\n"
   ]
  },
  {
   "cell_type": "code",
   "execution_count": 2,
   "id": "830b6f35",
   "metadata": {
    "execution": {
     "iopub.execute_input": "2024-02-22T21:25:33.971605Z",
     "iopub.status.busy": "2024-02-22T21:25:33.970397Z",
     "iopub.status.idle": "2024-02-22T21:25:33.989939Z",
     "shell.execute_reply": "2024-02-22T21:25:33.988734Z"
    },
    "papermill": {
     "duration": 0.030678,
     "end_time": "2024-02-22T21:25:33.993110",
     "exception": false,
     "start_time": "2024-02-22T21:25:33.962432",
     "status": "completed"
    },
    "tags": []
   },
   "outputs": [
    {
     "data": {
      "application/javascript": [
       "parent.postMessage({\"jupyterEvent\": \"custom.exercise_interaction\", \"data\": {\"outcomeType\": 1, \"valueTowardsCompletion\": 0.25, \"interactionType\": 1, \"questionType\": 2, \"questionId\": \"1_SplitData\", \"learnToolsVersion\": \"0.3.4\", \"failureMessage\": \"\", \"exceptionClass\": \"\", \"trace\": \"\"}}, \"*\")"
      ],
      "text/plain": [
       "<IPython.core.display.Javascript object>"
      ]
     },
     "metadata": {},
     "output_type": "display_data"
    },
    {
     "data": {
      "text/markdown": [
       "<span style=\"color:#33cc33\">Correct</span>"
      ],
      "text/plain": [
       "Correct"
      ]
     },
     "metadata": {},
     "output_type": "display_data"
    }
   ],
   "source": [
    "# Import the train_test_split function and uncomment\n",
    "from sklearn.model_selection import train_test_split\n",
    "\n",
    "# fill in and uncomment\n",
    "train_X, val_X, train_y, val_y = train_test_split(X,y,random_state = 1)\n",
    "\n",
    "# Check your answer\n",
    "step_1.check()"
   ]
  },
  {
   "cell_type": "code",
   "execution_count": 3,
   "id": "5a2c1945",
   "metadata": {
    "execution": {
     "iopub.execute_input": "2024-02-22T21:25:34.008897Z",
     "iopub.status.busy": "2024-02-22T21:25:34.008403Z",
     "iopub.status.idle": "2024-02-22T21:25:34.013523Z",
     "shell.execute_reply": "2024-02-22T21:25:34.012238Z"
    },
    "papermill": {
     "duration": 0.016095,
     "end_time": "2024-02-22T21:25:34.016115",
     "exception": false,
     "start_time": "2024-02-22T21:25:34.000020",
     "status": "completed"
    },
    "tags": []
   },
   "outputs": [],
   "source": [
    "# The lines below will show you a hint or the solution.\n",
    "# step_1.hint() \n",
    "# step_1.solution()\n"
   ]
  },
  {
   "cell_type": "markdown",
   "id": "ad9a4a49",
   "metadata": {
    "papermill": {
     "duration": 0.006771,
     "end_time": "2024-02-22T21:25:34.029772",
     "exception": false,
     "start_time": "2024-02-22T21:25:34.023001",
     "status": "completed"
    },
    "tags": []
   },
   "source": [
    "## Step 2: Specify and Fit the Model\n",
    "\n",
    "Create a `DecisionTreeRegressor` model and fit it to the relevant data.\n",
    "Set `random_state` to 1 again when creating the model."
   ]
  },
  {
   "cell_type": "code",
   "execution_count": 4,
   "id": "ba72b7de",
   "metadata": {
    "execution": {
     "iopub.execute_input": "2024-02-22T21:25:34.045553Z",
     "iopub.status.busy": "2024-02-22T21:25:34.045135Z",
     "iopub.status.idle": "2024-02-22T21:25:34.162557Z",
     "shell.execute_reply": "2024-02-22T21:25:34.161364Z"
    },
    "papermill": {
     "duration": 0.129301,
     "end_time": "2024-02-22T21:25:34.166064",
     "exception": false,
     "start_time": "2024-02-22T21:25:34.036763",
     "status": "completed"
    },
    "tags": []
   },
   "outputs": [
    {
     "name": "stdout",
     "output_type": "stream",
     "text": [
      "[186500. 184000. 130000.  92000. 164500. 220000. 335000. 144152. 215000.\n",
      " 262000.]\n",
      "[186500. 184000. 130000.  92000. 164500. 220000. 335000. 144152. 215000.\n",
      " 262000.]\n"
     ]
    },
    {
     "data": {
      "application/javascript": [
       "parent.postMessage({\"jupyterEvent\": \"custom.exercise_interaction\", \"data\": {\"outcomeType\": 1, \"valueTowardsCompletion\": 0.25, \"interactionType\": 1, \"questionType\": 2, \"questionId\": \"2_FitModelWithTrain\", \"learnToolsVersion\": \"0.3.4\", \"failureMessage\": \"\", \"exceptionClass\": \"\", \"trace\": \"\"}}, \"*\")"
      ],
      "text/plain": [
       "<IPython.core.display.Javascript object>"
      ]
     },
     "metadata": {},
     "output_type": "display_data"
    },
    {
     "data": {
      "text/markdown": [
       "<span style=\"color:#33cc33\">Correct</span>"
      ],
      "text/plain": [
       "Correct"
      ]
     },
     "metadata": {},
     "output_type": "display_data"
    }
   ],
   "source": [
    "# You imported DecisionTreeRegressor in your last exercise\n",
    "# and that code has been copied to the setup code above. So, no need to\n",
    "# import it again\n",
    "from sklearn.tree import DecisionTreeRegressor\n",
    "\n",
    "# Specify the model\n",
    "iowa_model = DecisionTreeRegressor(random_state = 1)\n",
    "\n",
    "# Fit iowa_model with the training data.\n",
    "iowa_model.fit(train_X,train_y)\n",
    "\n",
    "# Check your answer\n",
    "step_2.check()"
   ]
  },
  {
   "cell_type": "code",
   "execution_count": 5,
   "id": "5f696cda",
   "metadata": {
    "execution": {
     "iopub.execute_input": "2024-02-22T21:25:34.182155Z",
     "iopub.status.busy": "2024-02-22T21:25:34.181688Z",
     "iopub.status.idle": "2024-02-22T21:25:34.186973Z",
     "shell.execute_reply": "2024-02-22T21:25:34.185719Z"
    },
    "papermill": {
     "duration": 0.016542,
     "end_time": "2024-02-22T21:25:34.189678",
     "exception": false,
     "start_time": "2024-02-22T21:25:34.173136",
     "status": "completed"
    },
    "tags": []
   },
   "outputs": [],
   "source": [
    "# step_2.hint()\n",
    "# step_2.solution()"
   ]
  },
  {
   "cell_type": "markdown",
   "id": "e299a70c",
   "metadata": {
    "papermill": {
     "duration": 0.006898,
     "end_time": "2024-02-22T21:25:34.204030",
     "exception": false,
     "start_time": "2024-02-22T21:25:34.197132",
     "status": "completed"
    },
    "tags": []
   },
   "source": [
    "## Step 3: Make Predictions with Validation data\n"
   ]
  },
  {
   "cell_type": "code",
   "execution_count": 6,
   "id": "28585ba9",
   "metadata": {
    "execution": {
     "iopub.execute_input": "2024-02-22T21:25:34.220422Z",
     "iopub.status.busy": "2024-02-22T21:25:34.219970Z",
     "iopub.status.idle": "2024-02-22T21:25:34.234187Z",
     "shell.execute_reply": "2024-02-22T21:25:34.232919Z"
    },
    "papermill": {
     "duration": 0.026016,
     "end_time": "2024-02-22T21:25:34.237232",
     "exception": false,
     "start_time": "2024-02-22T21:25:34.211216",
     "status": "completed"
    },
    "tags": []
   },
   "outputs": [
    {
     "data": {
      "application/javascript": [
       "parent.postMessage({\"jupyterEvent\": \"custom.exercise_interaction\", \"data\": {\"outcomeType\": 1, \"valueTowardsCompletion\": 0.25, \"interactionType\": 1, \"questionType\": 2, \"questionId\": \"3_ValPreds\", \"learnToolsVersion\": \"0.3.4\", \"failureMessage\": \"\", \"exceptionClass\": \"\", \"trace\": \"\"}}, \"*\")"
      ],
      "text/plain": [
       "<IPython.core.display.Javascript object>"
      ]
     },
     "metadata": {},
     "output_type": "display_data"
    },
    {
     "data": {
      "text/markdown": [
       "<span style=\"color:#33cc33\">Correct</span>"
      ],
      "text/plain": [
       "Correct"
      ]
     },
     "metadata": {},
     "output_type": "display_data"
    }
   ],
   "source": [
    "# Predict with all validation observations\n",
    "val_predictions = iowa_model.predict(val_X)\n",
    "\n",
    "# Check your answer\n",
    "step_3.check()"
   ]
  },
  {
   "cell_type": "code",
   "execution_count": 7,
   "id": "2b7dc063",
   "metadata": {
    "execution": {
     "iopub.execute_input": "2024-02-22T21:25:34.255044Z",
     "iopub.status.busy": "2024-02-22T21:25:34.254562Z",
     "iopub.status.idle": "2024-02-22T21:25:34.259299Z",
     "shell.execute_reply": "2024-02-22T21:25:34.258093Z"
    },
    "papermill": {
     "duration": 0.016624,
     "end_time": "2024-02-22T21:25:34.261812",
     "exception": false,
     "start_time": "2024-02-22T21:25:34.245188",
     "status": "completed"
    },
    "tags": []
   },
   "outputs": [],
   "source": [
    "# step_3.hint()\n",
    "# step_3.solution()"
   ]
  },
  {
   "cell_type": "markdown",
   "id": "4103f6ae",
   "metadata": {
    "papermill": {
     "duration": 0.009856,
     "end_time": "2024-02-22T21:25:34.279492",
     "exception": false,
     "start_time": "2024-02-22T21:25:34.269636",
     "status": "completed"
    },
    "tags": []
   },
   "source": [
    "Inspect your predictions and actual values from validation data."
   ]
  },
  {
   "cell_type": "code",
   "execution_count": 8,
   "id": "5c698930",
   "metadata": {
    "execution": {
     "iopub.execute_input": "2024-02-22T21:25:34.298232Z",
     "iopub.status.busy": "2024-02-22T21:25:34.297304Z",
     "iopub.status.idle": "2024-02-22T21:25:34.307280Z",
     "shell.execute_reply": "2024-02-22T21:25:34.305882Z"
    },
    "papermill": {
     "duration": 0.022518,
     "end_time": "2024-02-22T21:25:34.310135",
     "exception": false,
     "start_time": "2024-02-22T21:25:34.287617",
     "status": "completed"
    },
    "tags": []
   },
   "outputs": [
    {
     "name": "stdout",
     "output_type": "stream",
     "text": [
      "[186500. 184000. 130000.  92000. 164500.]\n",
      "258     231500\n",
      "267     179500\n",
      "288     122000\n",
      "649      84500\n",
      "1233    142000\n",
      "Name: SalePrice, dtype: int64\n"
     ]
    }
   ],
   "source": [
    "# print the top few validation predictions\n",
    "print(iowa_model.predict(val_X.head()))\n",
    "# print the top few actual prices from validation data\n",
    "print(val_y.head())"
   ]
  },
  {
   "cell_type": "markdown",
   "id": "4a0c6a14",
   "metadata": {
    "papermill": {
     "duration": 0.007582,
     "end_time": "2024-02-22T21:25:34.325851",
     "exception": false,
     "start_time": "2024-02-22T21:25:34.318269",
     "status": "completed"
    },
    "tags": []
   },
   "source": [
    "What do you notice that is different from what you saw with in-sample predictions (which are printed after the top code cell in this page).\n",
    "\n",
    "Do you remember why validation predictions differ from in-sample (or training) predictions? This is an important idea from the last lesson.\n",
    "\n",
    "## Step 4: Calculate the Mean Absolute Error in Validation Data\n"
   ]
  },
  {
   "cell_type": "code",
   "execution_count": 9,
   "id": "8c19af0a",
   "metadata": {
    "execution": {
     "iopub.execute_input": "2024-02-22T21:25:34.343979Z",
     "iopub.status.busy": "2024-02-22T21:25:34.343482Z",
     "iopub.status.idle": "2024-02-22T21:25:34.355351Z",
     "shell.execute_reply": "2024-02-22T21:25:34.354050Z"
    },
    "papermill": {
     "duration": 0.024189,
     "end_time": "2024-02-22T21:25:34.357959",
     "exception": false,
     "start_time": "2024-02-22T21:25:34.333770",
     "status": "completed"
    },
    "tags": []
   },
   "outputs": [
    {
     "name": "stdout",
     "output_type": "stream",
     "text": [
      "29652.931506849316\n"
     ]
    },
    {
     "data": {
      "application/javascript": [
       "parent.postMessage({\"jupyterEvent\": \"custom.exercise_interaction\", \"data\": {\"outcomeType\": 1, \"valueTowardsCompletion\": 0.25, \"interactionType\": 1, \"questionType\": 1, \"questionId\": \"4_MAE\", \"learnToolsVersion\": \"0.3.4\", \"failureMessage\": \"\", \"exceptionClass\": \"\", \"trace\": \"\"}}, \"*\")"
      ],
      "text/plain": [
       "<IPython.core.display.Javascript object>"
      ]
     },
     "metadata": {},
     "output_type": "display_data"
    },
    {
     "data": {
      "text/markdown": [
       "<span style=\"color:#33cc33\">Correct</span>"
      ],
      "text/plain": [
       "Correct"
      ]
     },
     "metadata": {},
     "output_type": "display_data"
    }
   ],
   "source": [
    "from sklearn.metrics import mean_absolute_error\n",
    "val_mae = mean_absolute_error(val_y, val_predictions)\n",
    "\n",
    "# uncomment following line to see the validation_mae\n",
    "print(val_mae)\n",
    "\n",
    "# Check your answer\n",
    "step_4.check()"
   ]
  },
  {
   "cell_type": "code",
   "execution_count": 10,
   "id": "f1588e9a",
   "metadata": {
    "execution": {
     "iopub.execute_input": "2024-02-22T21:25:34.377747Z",
     "iopub.status.busy": "2024-02-22T21:25:34.376939Z",
     "iopub.status.idle": "2024-02-22T21:25:34.381727Z",
     "shell.execute_reply": "2024-02-22T21:25:34.380547Z"
    },
    "papermill": {
     "duration": 0.01683,
     "end_time": "2024-02-22T21:25:34.384173",
     "exception": false,
     "start_time": "2024-02-22T21:25:34.367343",
     "status": "completed"
    },
    "tags": []
   },
   "outputs": [],
   "source": [
    "# step_4.hint()\n",
    "# step_4.solution()"
   ]
  },
  {
   "cell_type": "markdown",
   "id": "79fa0cb6",
   "metadata": {
    "papermill": {
     "duration": 0.007896,
     "end_time": "2024-02-22T21:25:34.400375",
     "exception": false,
     "start_time": "2024-02-22T21:25:34.392479",
     "status": "completed"
    },
    "tags": []
   },
   "source": [
    "Is that MAE good?  There isn't a general rule for what values are good that applies across applications. But you'll see how to use (and improve) this number in the next step.\n",
    "\n",
    "# Keep Going\n",
    "\n",
    "You are ready for **[Underfitting and Overfitting](https://www.kaggle.com/dansbecker/underfitting-and-overfitting).**\n"
   ]
  },
  {
   "cell_type": "markdown",
   "id": "35c158a2",
   "metadata": {
    "papermill": {
     "duration": 0.008052,
     "end_time": "2024-02-22T21:25:34.416807",
     "exception": false,
     "start_time": "2024-02-22T21:25:34.408755",
     "status": "completed"
    },
    "tags": []
   },
   "source": [
    "---\n",
    "\n",
    "\n",
    "\n",
    "\n",
    "*Have questions or comments? Visit the [course discussion forum](https://www.kaggle.com/learn/intro-to-machine-learning/discussion) to chat with other learners.*"
   ]
  }
 ],
 "metadata": {
  "kaggle": {
   "accelerator": "none",
   "dataSources": [
    {
     "databundleVersionId": 111096,
     "sourceId": 10211,
     "sourceType": "competition"
    },
    {
     "datasetId": 11167,
     "sourceId": 15520,
     "sourceType": "datasetVersion"
    },
    {
     "datasetId": 2709,
     "sourceId": 38454,
     "sourceType": "datasetVersion"
    }
   ],
   "isGpuEnabled": false,
   "isInternetEnabled": false,
   "language": "python",
   "sourceType": "notebook"
  },
  "kernelspec": {
   "display_name": "Python 3",
   "language": "python",
   "name": "python3"
  },
  "language_info": {
   "codemirror_mode": {
    "name": "ipython",
    "version": 3
   },
   "file_extension": ".py",
   "mimetype": "text/x-python",
   "name": "python",
   "nbconvert_exporter": "python",
   "pygments_lexer": "ipython3",
   "version": "3.10.13"
  },
  "papermill": {
   "default_parameters": {},
   "duration": 7.361772,
   "end_time": "2024-02-22T21:25:35.048243",
   "environment_variables": {},
   "exception": null,
   "input_path": "__notebook__.ipynb",
   "output_path": "__notebook__.ipynb",
   "parameters": {},
   "start_time": "2024-02-22T21:25:27.686471",
   "version": "2.5.0"
  }
 },
 "nbformat": 4,
 "nbformat_minor": 5
}
