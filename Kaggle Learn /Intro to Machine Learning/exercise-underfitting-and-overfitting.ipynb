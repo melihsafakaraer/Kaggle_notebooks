{
 "cells": [
  {
   "cell_type": "markdown",
   "id": "fa956191",
   "metadata": {
    "papermill": {
     "duration": 0.003833,
     "end_time": "2024-02-22T21:25:41.356806",
     "exception": false,
     "start_time": "2024-02-22T21:25:41.352973",
     "status": "completed"
    },
    "tags": []
   },
   "source": [
    "**This notebook is an exercise in the [Introduction to Machine Learning](https://www.kaggle.com/learn/intro-to-machine-learning) course.  You can reference the tutorial at [this link](https://www.kaggle.com/dansbecker/underfitting-and-overfitting).**\n",
    "\n",
    "---\n"
   ]
  },
  {
   "cell_type": "markdown",
   "id": "11815bf8",
   "metadata": {
    "papermill": {
     "duration": 0.002856,
     "end_time": "2024-02-22T21:25:41.363305",
     "exception": false,
     "start_time": "2024-02-22T21:25:41.360449",
     "status": "completed"
    },
    "tags": []
   },
   "source": [
    "## Recap\n",
    "You've built your first model, and now it's time to optimize the size of the tree to make better predictions. Run this cell to set up your coding environment where the previous step left off."
   ]
  },
  {
   "cell_type": "code",
   "execution_count": 1,
   "id": "806630b4",
   "metadata": {
    "execution": {
     "iopub.execute_input": "2024-02-22T21:25:41.371666Z",
     "iopub.status.busy": "2024-02-22T21:25:41.370663Z",
     "iopub.status.idle": "2024-02-22T21:25:44.258201Z",
     "shell.execute_reply": "2024-02-22T21:25:44.256610Z"
    },
    "papermill": {
     "duration": 2.894847,
     "end_time": "2024-02-22T21:25:44.261230",
     "exception": false,
     "start_time": "2024-02-22T21:25:41.366383",
     "status": "completed"
    },
    "tags": []
   },
   "outputs": [
    {
     "name": "stdout",
     "output_type": "stream",
     "text": [
      "Validation MAE: 29,653\n",
      "\n",
      "Setup complete\n"
     ]
    }
   ],
   "source": [
    "# Code you have previously used to load data\n",
    "import pandas as pd\n",
    "from sklearn.metrics import mean_absolute_error\n",
    "from sklearn.model_selection import train_test_split\n",
    "from sklearn.tree import DecisionTreeRegressor\n",
    "\n",
    "\n",
    "# Path of the file to read\n",
    "iowa_file_path = '../input/home-data-for-ml-course/train.csv'\n",
    "\n",
    "home_data = pd.read_csv(iowa_file_path)\n",
    "# Create target object and call it y\n",
    "y = home_data.SalePrice\n",
    "# Create X\n",
    "features = ['LotArea', 'YearBuilt', '1stFlrSF', '2ndFlrSF', 'FullBath', 'BedroomAbvGr', 'TotRmsAbvGrd']\n",
    "X = home_data[features]\n",
    "\n",
    "# Split into validation and training data\n",
    "train_X, val_X, train_y, val_y = train_test_split(X, y, random_state=1)\n",
    "\n",
    "# Specify Model\n",
    "iowa_model = DecisionTreeRegressor(random_state=1)\n",
    "# Fit Model\n",
    "iowa_model.fit(train_X, train_y)\n",
    "\n",
    "# Make validation predictions and calculate mean absolute error\n",
    "val_predictions = iowa_model.predict(val_X)\n",
    "val_mae = mean_absolute_error(val_predictions, val_y)\n",
    "print(\"Validation MAE: {:,.0f}\".format(val_mae))\n",
    "\n",
    "# Set up code checking\n",
    "from learntools.core import binder\n",
    "binder.bind(globals())\n",
    "from learntools.machine_learning.ex5 import *\n",
    "print(\"\\nSetup complete\")"
   ]
  },
  {
   "cell_type": "markdown",
   "id": "8e1b2659",
   "metadata": {
    "papermill": {
     "duration": 0.002991,
     "end_time": "2024-02-22T21:25:44.267783",
     "exception": false,
     "start_time": "2024-02-22T21:25:44.264792",
     "status": "completed"
    },
    "tags": []
   },
   "source": [
    "# Exercises\n",
    "You could write the function `get_mae` yourself. For now, we'll supply it. This is the same function you read about in the previous lesson. Just run the cell below."
   ]
  },
  {
   "cell_type": "code",
   "execution_count": 2,
   "id": "eb6f8238",
   "metadata": {
    "execution": {
     "iopub.execute_input": "2024-02-22T21:25:44.275305Z",
     "iopub.status.busy": "2024-02-22T21:25:44.274920Z",
     "iopub.status.idle": "2024-02-22T21:25:44.280809Z",
     "shell.execute_reply": "2024-02-22T21:25:44.279973Z"
    },
    "papermill": {
     "duration": 0.011614,
     "end_time": "2024-02-22T21:25:44.282455",
     "exception": false,
     "start_time": "2024-02-22T21:25:44.270841",
     "status": "completed"
    },
    "tags": []
   },
   "outputs": [],
   "source": [
    "def get_mae(max_leaf_nodes, train_X, val_X, train_y, val_y):\n",
    "    model = DecisionTreeRegressor(max_leaf_nodes=max_leaf_nodes, random_state=0)\n",
    "    model.fit(train_X, train_y)\n",
    "    preds_val = model.predict(val_X)\n",
    "    mae = mean_absolute_error(val_y, preds_val)\n",
    "    return(mae)"
   ]
  },
  {
   "cell_type": "markdown",
   "id": "36e8f227",
   "metadata": {
    "papermill": {
     "duration": 0.002694,
     "end_time": "2024-02-22T21:25:44.288383",
     "exception": false,
     "start_time": "2024-02-22T21:25:44.285689",
     "status": "completed"
    },
    "tags": []
   },
   "source": [
    "## Step 1: Compare Different Tree Sizes\n",
    "Write a loop that tries the following values for *max_leaf_nodes* from a set of possible values.\n",
    "\n",
    "Call the *get_mae* function on each value of max_leaf_nodes. Store the output in some way that allows you to select the value of `max_leaf_nodes` that gives the most accurate model on your data."
   ]
  },
  {
   "cell_type": "code",
   "execution_count": 3,
   "id": "2ff1e8df",
   "metadata": {
    "execution": {
     "iopub.execute_input": "2024-02-22T21:25:44.297491Z",
     "iopub.status.busy": "2024-02-22T21:25:44.295695Z",
     "iopub.status.idle": "2024-02-22T21:25:44.348012Z",
     "shell.execute_reply": "2024-02-22T21:25:44.346863Z"
    },
    "papermill": {
     "duration": 0.05926,
     "end_time": "2024-02-22T21:25:44.350641",
     "exception": false,
     "start_time": "2024-02-22T21:25:44.291381",
     "status": "completed"
    },
    "tags": []
   },
   "outputs": [
    {
     "name": "stdout",
     "output_type": "stream",
     "text": [
      "5         35044.51299744237\n",
      "25         29016.41319191076\n",
      "50         27405.930473214907\n",
      "100         27282.50803885739\n",
      "250         27893.822225701646\n",
      "500         29454.18598068598\n"
     ]
    },
    {
     "data": {
      "application/javascript": [
       "parent.postMessage({\"jupyterEvent\": \"custom.exercise_interaction\", \"data\": {\"outcomeType\": 1, \"valueTowardsCompletion\": 0.5, \"interactionType\": 1, \"questionType\": 1, \"questionId\": \"1_BestTreeSize\", \"learnToolsVersion\": \"0.3.4\", \"failureMessage\": \"\", \"exceptionClass\": \"\", \"trace\": \"\"}}, \"*\")"
      ],
      "text/plain": [
       "<IPython.core.display.Javascript object>"
      ]
     },
     "metadata": {},
     "output_type": "display_data"
    },
    {
     "data": {
      "text/markdown": [
       "<span style=\"color:#33cc33\">Correct</span>"
      ],
      "text/plain": [
       "Correct"
      ]
     },
     "metadata": {},
     "output_type": "display_data"
    }
   ],
   "source": [
    "candidate_max_leaf_nodes = [5, 25, 50, 100, 250, 500]\n",
    "# Write loop to find the ideal tree size from candidate_max_leaf_nodes\n",
    "for leaf_nodes in candidate_max_leaf_nodes:\n",
    "    print(leaf_nodes, \"       \", get_mae(leaf_nodes, train_X, val_X, train_y, val_y))\n",
    "\n",
    "# Store the best value of max_leaf_nodes (it will be either 5, 25, 50, 100, 250 or 500)\n",
    "best_tree_size = 100\n",
    "\n",
    "# Check your answer\n",
    "step_1.check()"
   ]
  },
  {
   "cell_type": "code",
   "execution_count": 4,
   "id": "b6d6962a",
   "metadata": {
    "execution": {
     "iopub.execute_input": "2024-02-22T21:25:44.359737Z",
     "iopub.status.busy": "2024-02-22T21:25:44.359383Z",
     "iopub.status.idle": "2024-02-22T21:25:44.363843Z",
     "shell.execute_reply": "2024-02-22T21:25:44.362455Z"
    },
    "papermill": {
     "duration": 0.012478,
     "end_time": "2024-02-22T21:25:44.366827",
     "exception": false,
     "start_time": "2024-02-22T21:25:44.354349",
     "status": "completed"
    },
    "tags": []
   },
   "outputs": [],
   "source": [
    "# The lines below will show you a hint or the solution.\n",
    "# step_1.hint() \n",
    "# step_1.solution()"
   ]
  },
  {
   "cell_type": "markdown",
   "id": "2e592d72",
   "metadata": {
    "papermill": {
     "duration": 0.003386,
     "end_time": "2024-02-22T21:25:44.374097",
     "exception": false,
     "start_time": "2024-02-22T21:25:44.370711",
     "status": "completed"
    },
    "tags": []
   },
   "source": [
    "## Step 2: Fit Model Using All Data\n",
    "You know the best tree size. If you were going to deploy this model in practice, you would make it even more accurate by using all of the data and keeping that tree size.  That is, you don't need to hold out the validation data now that you've made all your modeling decisions."
   ]
  },
  {
   "cell_type": "code",
   "execution_count": 5,
   "id": "4438f94a",
   "metadata": {
    "execution": {
     "iopub.execute_input": "2024-02-22T21:25:44.382871Z",
     "iopub.status.busy": "2024-02-22T21:25:44.382555Z",
     "iopub.status.idle": "2024-02-22T21:25:44.400396Z",
     "shell.execute_reply": "2024-02-22T21:25:44.398948Z"
    },
    "papermill": {
     "duration": 0.025011,
     "end_time": "2024-02-22T21:25:44.402671",
     "exception": false,
     "start_time": "2024-02-22T21:25:44.377660",
     "status": "completed"
    },
    "tags": []
   },
   "outputs": [
    {
     "data": {
      "application/javascript": [
       "parent.postMessage({\"jupyterEvent\": \"custom.exercise_interaction\", \"data\": {\"outcomeType\": 1, \"valueTowardsCompletion\": 0.5, \"interactionType\": 1, \"questionType\": 2, \"questionId\": \"2_FitModelWithAllData\", \"learnToolsVersion\": \"0.3.4\", \"failureMessage\": \"\", \"exceptionClass\": \"\", \"trace\": \"\"}}, \"*\")"
      ],
      "text/plain": [
       "<IPython.core.display.Javascript object>"
      ]
     },
     "metadata": {},
     "output_type": "display_data"
    },
    {
     "data": {
      "text/markdown": [
       "<span style=\"color:#33cc33\">Correct</span>"
      ],
      "text/plain": [
       "Correct"
      ]
     },
     "metadata": {},
     "output_type": "display_data"
    }
   ],
   "source": [
    "# Fill in argument to make optimal size and uncomment\n",
    "final_model = DecisionTreeRegressor(max_leaf_nodes =100, random_state=1)\n",
    "\n",
    "# fit the final model and uncomment the next two lines\n",
    "final_model.fit(X, y) \n",
    "\n",
    "# Check your answer\n",
    "step_2.check()"
   ]
  },
  {
   "cell_type": "code",
   "execution_count": 6,
   "id": "5ca0ef04",
   "metadata": {
    "execution": {
     "iopub.execute_input": "2024-02-22T21:25:44.412086Z",
     "iopub.status.busy": "2024-02-22T21:25:44.411717Z",
     "iopub.status.idle": "2024-02-22T21:25:44.416293Z",
     "shell.execute_reply": "2024-02-22T21:25:44.415150Z"
    },
    "papermill": {
     "duration": 0.012029,
     "end_time": "2024-02-22T21:25:44.418606",
     "exception": false,
     "start_time": "2024-02-22T21:25:44.406577",
     "status": "completed"
    },
    "tags": []
   },
   "outputs": [],
   "source": [
    "# step_2.hint()\n",
    "# step_2.solution()"
   ]
  },
  {
   "cell_type": "markdown",
   "id": "9d7231de",
   "metadata": {
    "papermill": {
     "duration": 0.003624,
     "end_time": "2024-02-22T21:25:44.426382",
     "exception": false,
     "start_time": "2024-02-22T21:25:44.422758",
     "status": "completed"
    },
    "tags": []
   },
   "source": [
    "You've tuned this model and improved your results. But we are still using Decision Tree models, which are not very sophisticated by modern machine learning standards. In the next step you will learn to use Random Forests to improve your models even more.\n",
    "\n",
    "# Keep Going\n",
    "\n",
    "You are ready for **[Random Forests](https://www.kaggle.com/dansbecker/random-forests).**\n"
   ]
  },
  {
   "cell_type": "markdown",
   "id": "e921139c",
   "metadata": {
    "papermill": {
     "duration": 0.003426,
     "end_time": "2024-02-22T21:25:44.433549",
     "exception": false,
     "start_time": "2024-02-22T21:25:44.430123",
     "status": "completed"
    },
    "tags": []
   },
   "source": [
    "---\n",
    "\n",
    "\n",
    "\n",
    "\n",
    "*Have questions or comments? Visit the [course discussion forum](https://www.kaggle.com/learn/intro-to-machine-learning/discussion) to chat with other learners.*"
   ]
  }
 ],
 "metadata": {
  "kaggle": {
   "accelerator": "none",
   "dataSources": [
    {
     "databundleVersionId": 111096,
     "sourceId": 10211,
     "sourceType": "competition"
    },
    {
     "datasetId": 11167,
     "sourceId": 15520,
     "sourceType": "datasetVersion"
    },
    {
     "datasetId": 2709,
     "sourceId": 38454,
     "sourceType": "datasetVersion"
    }
   ],
   "isGpuEnabled": false,
   "isInternetEnabled": false,
   "language": "python",
   "sourceType": "notebook"
  },
  "kernelspec": {
   "display_name": "Python 3",
   "language": "python",
   "name": "python3"
  },
  "language_info": {
   "codemirror_mode": {
    "name": "ipython",
    "version": 3
   },
   "file_extension": ".py",
   "mimetype": "text/x-python",
   "name": "python",
   "nbconvert_exporter": "python",
   "pygments_lexer": "ipython3",
   "version": "3.10.13"
  },
  "papermill": {
   "default_parameters": {},
   "duration": 6.246719,
   "end_time": "2024-02-22T21:25:44.958619",
   "environment_variables": {},
   "exception": null,
   "input_path": "__notebook__.ipynb",
   "output_path": "__notebook__.ipynb",
   "parameters": {},
   "start_time": "2024-02-22T21:25:38.711900",
   "version": "2.5.0"
  }
 },
 "nbformat": 4,
 "nbformat_minor": 5
}
