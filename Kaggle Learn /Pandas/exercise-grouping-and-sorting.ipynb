{
 "cells": [
  {
   "cell_type": "markdown",
   "id": "33ed89cd",
   "metadata": {
    "papermill": {
     "duration": 0.008498,
     "end_time": "2024-02-22T12:52:58.928380",
     "exception": false,
     "start_time": "2024-02-22T12:52:58.919882",
     "status": "completed"
    },
    "tags": []
   },
   "source": [
    "**This notebook is an exercise in the [Pandas](https://www.kaggle.com/learn/pandas) course.  You can reference the tutorial at [this link](https://www.kaggle.com/residentmario/grouping-and-sorting).**\n",
    "\n",
    "---\n"
   ]
  },
  {
   "cell_type": "markdown",
   "id": "3905d086",
   "metadata": {
    "papermill": {
     "duration": 0.007628,
     "end_time": "2024-02-22T12:52:58.944471",
     "exception": false,
     "start_time": "2024-02-22T12:52:58.936843",
     "status": "completed"
    },
    "tags": []
   },
   "source": [
    "# Introduction\n",
    "\n",
    "In these exercises we'll apply groupwise analysis to our dataset.\n",
    "\n",
    "Run the code cell below to load the data before running the exercises."
   ]
  },
  {
   "cell_type": "code",
   "execution_count": 1,
   "id": "40613474",
   "metadata": {
    "execution": {
     "iopub.execute_input": "2024-02-22T12:52:58.962082Z",
     "iopub.status.busy": "2024-02-22T12:52:58.961466Z",
     "iopub.status.idle": "2024-02-22T12:53:04.774912Z",
     "shell.execute_reply": "2024-02-22T12:53:04.773347Z"
    },
    "papermill": {
     "duration": 5.825839,
     "end_time": "2024-02-22T12:53:04.778101",
     "exception": false,
     "start_time": "2024-02-22T12:52:58.952262",
     "status": "completed"
    },
    "tags": []
   },
   "outputs": [
    {
     "name": "stdout",
     "output_type": "stream",
     "text": [
      "Setup complete.\n"
     ]
    },
    {
     "name": "stderr",
     "output_type": "stream",
     "text": [
      "/opt/conda/lib/python3.10/site-packages/learntools/pandas/grouping_and_sorting.py:29: FutureWarning: The provided callable <built-in function min> is currently using SeriesGroupBy.min. In a future version of pandas, the provided callable will be used directly. To keep current behavior pass the string \"min\" instead.\n",
      "  _expected = reviews.groupby('variety').price.agg([min, max])\n",
      "/opt/conda/lib/python3.10/site-packages/learntools/pandas/grouping_and_sorting.py:29: FutureWarning: The provided callable <built-in function max> is currently using SeriesGroupBy.max. In a future version of pandas, the provided callable will be used directly. To keep current behavior pass the string \"max\" instead.\n",
      "  _expected = reviews.groupby('variety').price.agg([min, max])\n",
      "/opt/conda/lib/python3.10/site-packages/learntools/pandas/grouping_and_sorting.py:35: FutureWarning: The provided callable <built-in function min> is currently using SeriesGroupBy.min. In a future version of pandas, the provided callable will be used directly. To keep current behavior pass the string \"min\" instead.\n",
      "  _expected = reviews.groupby('variety').price.agg([min, max]).sort_values(by=['min', 'max'], ascending=False)\n",
      "/opt/conda/lib/python3.10/site-packages/learntools/pandas/grouping_and_sorting.py:35: FutureWarning: The provided callable <built-in function max> is currently using SeriesGroupBy.max. In a future version of pandas, the provided callable will be used directly. To keep current behavior pass the string \"max\" instead.\n",
      "  _expected = reviews.groupby('variety').price.agg([min, max]).sort_values(by=['min', 'max'], ascending=False)\n"
     ]
    }
   ],
   "source": [
    "import pandas as pd\n",
    "\n",
    "reviews = pd.read_csv(\"../input/wine-reviews/winemag-data-130k-v2.csv\", index_col=0)\n",
    "#pd.set_option(\"display.max_rows\", 5)\n",
    "\n",
    "from learntools.core import binder; binder.bind(globals())\n",
    "from learntools.pandas.grouping_and_sorting import *\n",
    "print(\"Setup complete.\")"
   ]
  },
  {
   "cell_type": "markdown",
   "id": "04946107",
   "metadata": {
    "papermill": {
     "duration": 0.007797,
     "end_time": "2024-02-22T12:53:04.794082",
     "exception": false,
     "start_time": "2024-02-22T12:53:04.786285",
     "status": "completed"
    },
    "tags": []
   },
   "source": [
    "# Exercises"
   ]
  },
  {
   "cell_type": "markdown",
   "id": "3e163cf4",
   "metadata": {
    "papermill": {
     "duration": 0.007857,
     "end_time": "2024-02-22T12:53:04.809881",
     "exception": false,
     "start_time": "2024-02-22T12:53:04.802024",
     "status": "completed"
    },
    "tags": []
   },
   "source": [
    "## 1.\n",
    "Who are the most common wine reviewers in the dataset? Create a `Series` whose index is the `taster_twitter_handle` category from the dataset, and whose values count how many reviews each person wrote."
   ]
  },
  {
   "cell_type": "code",
   "execution_count": 2,
   "id": "4eda6ff4",
   "metadata": {
    "execution": {
     "iopub.execute_input": "2024-02-22T12:53:04.827813Z",
     "iopub.status.busy": "2024-02-22T12:53:04.827367Z",
     "iopub.status.idle": "2024-02-22T12:53:04.874492Z",
     "shell.execute_reply": "2024-02-22T12:53:04.873325Z"
    },
    "papermill": {
     "duration": 0.059436,
     "end_time": "2024-02-22T12:53:04.877295",
     "exception": false,
     "start_time": "2024-02-22T12:53:04.817859",
     "status": "completed"
    },
    "tags": []
   },
   "outputs": [
    {
     "data": {
      "application/javascript": [
       "parent.postMessage({\"jupyterEvent\": \"custom.exercise_interaction\", \"data\": {\"outcomeType\": 1, \"valueTowardsCompletion\": 0.16666666666666666, \"interactionType\": 1, \"questionType\": 1, \"questionId\": \"1_ReviewsWritten\", \"learnToolsVersion\": \"0.3.4\", \"failureMessage\": \"\", \"exceptionClass\": \"\", \"trace\": \"\"}}, \"*\")"
      ],
      "text/plain": [
       "<IPython.core.display.Javascript object>"
      ]
     },
     "metadata": {},
     "output_type": "display_data"
    },
    {
     "data": {
      "text/markdown": [
       "<span style=\"color:#33cc33\">Correct:</span> \n",
       "\n",
       "\n",
       "```python\n",
       "reviews_written = reviews.groupby('taster_twitter_handle').size()\n",
       "```\n",
       "or\n",
       "```python\n",
       "reviews_written = reviews.groupby('taster_twitter_handle').taster_twitter_handle.count()\n",
       "```\n"
      ],
      "text/plain": [
       "Correct: \n",
       "\n",
       "\n",
       "```python\n",
       "reviews_written = reviews.groupby('taster_twitter_handle').size()\n",
       "```\n",
       "or\n",
       "```python\n",
       "reviews_written = reviews.groupby('taster_twitter_handle').taster_twitter_handle.count()\n",
       "```"
      ]
     },
     "metadata": {},
     "output_type": "display_data"
    }
   ],
   "source": [
    "# Your code here\n",
    "reviews_written = reviews.groupby(\"taster_twitter_handle\").taster_twitter_handle.count()\n",
    "\n",
    "# Check your answer\n",
    "q1.check()"
   ]
  },
  {
   "cell_type": "code",
   "execution_count": 3,
   "id": "84f6599a",
   "metadata": {
    "execution": {
     "iopub.execute_input": "2024-02-22T12:53:04.896414Z",
     "iopub.status.busy": "2024-02-22T12:53:04.896021Z",
     "iopub.status.idle": "2024-02-22T12:53:04.900828Z",
     "shell.execute_reply": "2024-02-22T12:53:04.899706Z"
    },
    "papermill": {
     "duration": 0.017255,
     "end_time": "2024-02-22T12:53:04.903144",
     "exception": false,
     "start_time": "2024-02-22T12:53:04.885889",
     "status": "completed"
    },
    "tags": []
   },
   "outputs": [],
   "source": [
    "#q1.hint()\n",
    "#q1.solution()"
   ]
  },
  {
   "cell_type": "markdown",
   "id": "e2f710c1",
   "metadata": {
    "papermill": {
     "duration": 0.00829,
     "end_time": "2024-02-22T12:53:04.919964",
     "exception": false,
     "start_time": "2024-02-22T12:53:04.911674",
     "status": "completed"
    },
    "tags": []
   },
   "source": [
    "## 2.\n",
    "What is the best wine I can buy for a given amount of money? Create a `Series` whose index is wine prices and whose values is the maximum number of points a wine costing that much was given in a review. Sort the values by price, ascending (so that `4.0` dollars is at the top and `3300.0` dollars is at the bottom)."
   ]
  },
  {
   "cell_type": "code",
   "execution_count": 4,
   "id": "ab9f59ef",
   "metadata": {
    "execution": {
     "iopub.execute_input": "2024-02-22T12:53:04.938990Z",
     "iopub.status.busy": "2024-02-22T12:53:04.938571Z",
     "iopub.status.idle": "2024-02-22T12:53:04.954304Z",
     "shell.execute_reply": "2024-02-22T12:53:04.953462Z"
    },
    "papermill": {
     "duration": 0.028187,
     "end_time": "2024-02-22T12:53:04.956762",
     "exception": false,
     "start_time": "2024-02-22T12:53:04.928575",
     "status": "completed"
    },
    "tags": []
   },
   "outputs": [
    {
     "data": {
      "application/javascript": [
       "parent.postMessage({\"jupyterEvent\": \"custom.exercise_interaction\", \"data\": {\"outcomeType\": 1, \"valueTowardsCompletion\": 0.16666666666666666, \"interactionType\": 1, \"questionType\": 1, \"questionId\": \"2_BestRatingPerPrice\", \"learnToolsVersion\": \"0.3.4\", \"failureMessage\": \"\", \"exceptionClass\": \"\", \"trace\": \"\"}}, \"*\")"
      ],
      "text/plain": [
       "<IPython.core.display.Javascript object>"
      ]
     },
     "metadata": {},
     "output_type": "display_data"
    },
    {
     "data": {
      "text/markdown": [
       "<span style=\"color:#33cc33\">Correct</span>"
      ],
      "text/plain": [
       "Correct"
      ]
     },
     "metadata": {},
     "output_type": "display_data"
    }
   ],
   "source": [
    "\n",
    "best_rating_per_price = reviews.groupby('price')['points'].max().sort_index()\n",
    "# Check your answer\n",
    "q2.check()"
   ]
  },
  {
   "cell_type": "code",
   "execution_count": 5,
   "id": "a808070e",
   "metadata": {
    "execution": {
     "iopub.execute_input": "2024-02-22T12:53:04.977535Z",
     "iopub.status.busy": "2024-02-22T12:53:04.976366Z",
     "iopub.status.idle": "2024-02-22T12:53:04.981511Z",
     "shell.execute_reply": "2024-02-22T12:53:04.980488Z"
    },
    "papermill": {
     "duration": 0.018273,
     "end_time": "2024-02-22T12:53:04.984073",
     "exception": false,
     "start_time": "2024-02-22T12:53:04.965800",
     "status": "completed"
    },
    "tags": []
   },
   "outputs": [],
   "source": [
    "#q2.hint()\n",
    "#q2.solution()"
   ]
  },
  {
   "cell_type": "markdown",
   "id": "19c0c9c3",
   "metadata": {
    "papermill": {
     "duration": 0.008678,
     "end_time": "2024-02-22T12:53:05.001835",
     "exception": false,
     "start_time": "2024-02-22T12:53:04.993157",
     "status": "completed"
    },
    "tags": []
   },
   "source": [
    "## 3.\n",
    "What are the minimum and maximum prices for each `variety` of wine? Create a `DataFrame` whose index is the `variety` category from the dataset and whose values are the `min` and `max` values thereof."
   ]
  },
  {
   "cell_type": "code",
   "execution_count": 6,
   "id": "443d8f41",
   "metadata": {
    "execution": {
     "iopub.execute_input": "2024-02-22T12:53:05.022827Z",
     "iopub.status.busy": "2024-02-22T12:53:05.022434Z",
     "iopub.status.idle": "2024-02-22T12:53:05.064543Z",
     "shell.execute_reply": "2024-02-22T12:53:05.063197Z"
    },
    "papermill": {
     "duration": 0.055187,
     "end_time": "2024-02-22T12:53:05.067064",
     "exception": false,
     "start_time": "2024-02-22T12:53:05.011877",
     "status": "completed"
    },
    "tags": []
   },
   "outputs": [
    {
     "name": "stderr",
     "output_type": "stream",
     "text": [
      "/tmp/ipykernel_18/2892768197.py:1: FutureWarning: The provided callable <built-in function min> is currently using SeriesGroupBy.min. In a future version of pandas, the provided callable will be used directly. To keep current behavior pass the string \"min\" instead.\n",
      "  price_extremes = reviews.groupby(\"variety\").price.agg([min, max])\n",
      "/tmp/ipykernel_18/2892768197.py:1: FutureWarning: The provided callable <built-in function max> is currently using SeriesGroupBy.max. In a future version of pandas, the provided callable will be used directly. To keep current behavior pass the string \"max\" instead.\n",
      "  price_extremes = reviews.groupby(\"variety\").price.agg([min, max])\n"
     ]
    },
    {
     "data": {
      "application/javascript": [
       "parent.postMessage({\"jupyterEvent\": \"custom.exercise_interaction\", \"data\": {\"outcomeType\": 1, \"valueTowardsCompletion\": 0.16666666666666666, \"interactionType\": 1, \"questionType\": 1, \"questionId\": \"3_PriceExtremes\", \"learnToolsVersion\": \"0.3.4\", \"failureMessage\": \"\", \"exceptionClass\": \"\", \"trace\": \"\"}}, \"*\")"
      ],
      "text/plain": [
       "<IPython.core.display.Javascript object>"
      ]
     },
     "metadata": {},
     "output_type": "display_data"
    },
    {
     "data": {
      "text/markdown": [
       "<span style=\"color:#33cc33\">Correct</span>"
      ],
      "text/plain": [
       "Correct"
      ]
     },
     "metadata": {},
     "output_type": "display_data"
    }
   ],
   "source": [
    "price_extremes = reviews.groupby(\"variety\").price.agg([min, max])\n",
    "\n",
    "# Check your answer\n",
    "q3.check()"
   ]
  },
  {
   "cell_type": "code",
   "execution_count": 7,
   "id": "84a8d1fd",
   "metadata": {
    "execution": {
     "iopub.execute_input": "2024-02-22T12:53:05.088755Z",
     "iopub.status.busy": "2024-02-22T12:53:05.088030Z",
     "iopub.status.idle": "2024-02-22T12:53:05.092353Z",
     "shell.execute_reply": "2024-02-22T12:53:05.091475Z"
    },
    "papermill": {
     "duration": 0.017499,
     "end_time": "2024-02-22T12:53:05.094601",
     "exception": false,
     "start_time": "2024-02-22T12:53:05.077102",
     "status": "completed"
    },
    "tags": []
   },
   "outputs": [],
   "source": [
    "#q3.hint()\n",
    "#q3.solution()"
   ]
  },
  {
   "cell_type": "markdown",
   "id": "eeff3bfe",
   "metadata": {
    "papermill": {
     "duration": 0.009254,
     "end_time": "2024-02-22T12:53:05.113592",
     "exception": false,
     "start_time": "2024-02-22T12:53:05.104338",
     "status": "completed"
    },
    "tags": []
   },
   "source": [
    "## 4.\n",
    "What are the most expensive wine varieties? Create a variable `sorted_varieties` containing a copy of the dataframe from the previous question where varieties are sorted in descending order based on minimum price, then on maximum price (to break ties)."
   ]
  },
  {
   "cell_type": "code",
   "execution_count": 8,
   "id": "bf29ed45",
   "metadata": {
    "execution": {
     "iopub.execute_input": "2024-02-22T12:53:05.134394Z",
     "iopub.status.busy": "2024-02-22T12:53:05.133914Z",
     "iopub.status.idle": "2024-02-22T12:53:05.177284Z",
     "shell.execute_reply": "2024-02-22T12:53:05.176129Z"
    },
    "papermill": {
     "duration": 0.057025,
     "end_time": "2024-02-22T12:53:05.180057",
     "exception": false,
     "start_time": "2024-02-22T12:53:05.123032",
     "status": "completed"
    },
    "tags": []
   },
   "outputs": [
    {
     "name": "stderr",
     "output_type": "stream",
     "text": [
      "/tmp/ipykernel_18/197735895.py:1: FutureWarning: The provided callable <built-in function min> is currently using SeriesGroupBy.min. In a future version of pandas, the provided callable will be used directly. To keep current behavior pass the string \"min\" instead.\n",
      "  sorted_varieties = reviews.groupby(\"variety\").price.agg([min, max]).sort_values(by = [\"min\",\"max\"], ascending=False)\n",
      "/tmp/ipykernel_18/197735895.py:1: FutureWarning: The provided callable <built-in function max> is currently using SeriesGroupBy.max. In a future version of pandas, the provided callable will be used directly. To keep current behavior pass the string \"max\" instead.\n",
      "  sorted_varieties = reviews.groupby(\"variety\").price.agg([min, max]).sort_values(by = [\"min\",\"max\"], ascending=False)\n"
     ]
    },
    {
     "data": {
      "application/javascript": [
       "parent.postMessage({\"jupyterEvent\": \"custom.exercise_interaction\", \"data\": {\"outcomeType\": 1, \"valueTowardsCompletion\": 0.16666666666666666, \"interactionType\": 1, \"questionType\": 1, \"questionId\": \"4_SortedVarieties\", \"learnToolsVersion\": \"0.3.4\", \"failureMessage\": \"\", \"exceptionClass\": \"\", \"trace\": \"\"}}, \"*\")"
      ],
      "text/plain": [
       "<IPython.core.display.Javascript object>"
      ]
     },
     "metadata": {},
     "output_type": "display_data"
    },
    {
     "data": {
      "text/markdown": [
       "<span style=\"color:#33cc33\">Correct</span>"
      ],
      "text/plain": [
       "Correct"
      ]
     },
     "metadata": {},
     "output_type": "display_data"
    }
   ],
   "source": [
    "sorted_varieties = reviews.groupby(\"variety\").price.agg([min, max]).sort_values(by = [\"min\",\"max\"], ascending=False)\n",
    "\n",
    "# Check your answer\n",
    "q4.check()"
   ]
  },
  {
   "cell_type": "code",
   "execution_count": 9,
   "id": "8ba55b94",
   "metadata": {
    "execution": {
     "iopub.execute_input": "2024-02-22T12:53:05.203089Z",
     "iopub.status.busy": "2024-02-22T12:53:05.201902Z",
     "iopub.status.idle": "2024-02-22T12:53:05.206295Z",
     "shell.execute_reply": "2024-02-22T12:53:05.205471Z"
    },
    "papermill": {
     "duration": 0.018536,
     "end_time": "2024-02-22T12:53:05.209062",
     "exception": false,
     "start_time": "2024-02-22T12:53:05.190526",
     "status": "completed"
    },
    "tags": []
   },
   "outputs": [],
   "source": [
    "#q4.hint()\n",
    "#q4.solution()"
   ]
  },
  {
   "cell_type": "markdown",
   "id": "133d5beb",
   "metadata": {
    "papermill": {
     "duration": 0.009871,
     "end_time": "2024-02-22T12:53:05.229339",
     "exception": false,
     "start_time": "2024-02-22T12:53:05.219468",
     "status": "completed"
    },
    "tags": []
   },
   "source": [
    "## 5.\n",
    "Create a `Series` whose index is reviewers and whose values is the average review score given out by that reviewer. Hint: you will need the `taster_name` and `points` columns."
   ]
  },
  {
   "cell_type": "code",
   "execution_count": 10,
   "id": "8f7a8008",
   "metadata": {
    "execution": {
     "iopub.execute_input": "2024-02-22T12:53:05.251681Z",
     "iopub.status.busy": "2024-02-22T12:53:05.251272Z",
     "iopub.status.idle": "2024-02-22T12:53:05.285920Z",
     "shell.execute_reply": "2024-02-22T12:53:05.284611Z"
    },
    "papermill": {
     "duration": 0.048943,
     "end_time": "2024-02-22T12:53:05.288530",
     "exception": false,
     "start_time": "2024-02-22T12:53:05.239587",
     "status": "completed"
    },
    "tags": []
   },
   "outputs": [
    {
     "data": {
      "application/javascript": [
       "parent.postMessage({\"jupyterEvent\": \"custom.exercise_interaction\", \"data\": {\"outcomeType\": 1, \"valueTowardsCompletion\": 0.16666666666666666, \"interactionType\": 1, \"questionType\": 1, \"questionId\": \"5_ReviewerMeanRatings\", \"learnToolsVersion\": \"0.3.4\", \"failureMessage\": \"\", \"exceptionClass\": \"\", \"trace\": \"\"}}, \"*\")"
      ],
      "text/plain": [
       "<IPython.core.display.Javascript object>"
      ]
     },
     "metadata": {},
     "output_type": "display_data"
    },
    {
     "data": {
      "text/markdown": [
       "<span style=\"color:#33cc33\">Correct</span>"
      ],
      "text/plain": [
       "Correct"
      ]
     },
     "metadata": {},
     "output_type": "display_data"
    }
   ],
   "source": [
    "reviewer_mean_ratings = reviews.groupby(\"taster_name\").points.mean()\n",
    "\n",
    "# Check your answer\n",
    "q5.check()"
   ]
  },
  {
   "cell_type": "code",
   "execution_count": 11,
   "id": "e2a40a6e",
   "metadata": {
    "execution": {
     "iopub.execute_input": "2024-02-22T12:53:05.311473Z",
     "iopub.status.busy": "2024-02-22T12:53:05.310616Z",
     "iopub.status.idle": "2024-02-22T12:53:05.315238Z",
     "shell.execute_reply": "2024-02-22T12:53:05.314107Z"
    },
    "papermill": {
     "duration": 0.018747,
     "end_time": "2024-02-22T12:53:05.317594",
     "exception": false,
     "start_time": "2024-02-22T12:53:05.298847",
     "status": "completed"
    },
    "tags": []
   },
   "outputs": [],
   "source": [
    "#q5.hint()\n",
    "#q5.solution()"
   ]
  },
  {
   "cell_type": "markdown",
   "id": "745522f2",
   "metadata": {
    "papermill": {
     "duration": 0.011896,
     "end_time": "2024-02-22T12:53:05.339792",
     "exception": false,
     "start_time": "2024-02-22T12:53:05.327896",
     "status": "completed"
    },
    "tags": []
   },
   "source": [
    "Are there significant differences in the average scores assigned by the various reviewers? Run the cell below to use the `describe()` method to see a summary of the range of values."
   ]
  },
  {
   "cell_type": "code",
   "execution_count": 12,
   "id": "8e4b268d",
   "metadata": {
    "execution": {
     "iopub.execute_input": "2024-02-22T12:53:05.362752Z",
     "iopub.status.busy": "2024-02-22T12:53:05.362344Z",
     "iopub.status.idle": "2024-02-22T12:53:05.374264Z",
     "shell.execute_reply": "2024-02-22T12:53:05.373197Z"
    },
    "papermill": {
     "duration": 0.025914,
     "end_time": "2024-02-22T12:53:05.376538",
     "exception": false,
     "start_time": "2024-02-22T12:53:05.350624",
     "status": "completed"
    },
    "tags": []
   },
   "outputs": [
    {
     "data": {
      "text/plain": [
       "count    19.000000\n",
       "mean     88.233026\n",
       "std       1.243610\n",
       "min      85.855422\n",
       "25%      87.323501\n",
       "50%      88.536235\n",
       "75%      88.975256\n",
       "max      90.562551\n",
       "Name: points, dtype: float64"
      ]
     },
     "execution_count": 12,
     "metadata": {},
     "output_type": "execute_result"
    }
   ],
   "source": [
    "reviewer_mean_ratings.describe()"
   ]
  },
  {
   "cell_type": "markdown",
   "id": "f2709a78",
   "metadata": {
    "papermill": {
     "duration": 0.010076,
     "end_time": "2024-02-22T12:53:05.396867",
     "exception": false,
     "start_time": "2024-02-22T12:53:05.386791",
     "status": "completed"
    },
    "tags": []
   },
   "source": [
    "## 6.\n",
    "What combination of countries and varieties are most common? Create a `Series` whose index is a `MultiIndex`of `{country, variety}` pairs. For example, a pinot noir produced in the US should map to `{\"US\", \"Pinot Noir\"}`. Sort the values in the `Series` in descending order based on wine count."
   ]
  },
  {
   "cell_type": "code",
   "execution_count": 13,
   "id": "6d2e2722",
   "metadata": {
    "execution": {
     "iopub.execute_input": "2024-02-22T12:53:05.420472Z",
     "iopub.status.busy": "2024-02-22T12:53:05.419518Z",
     "iopub.status.idle": "2024-02-22T12:53:05.532868Z",
     "shell.execute_reply": "2024-02-22T12:53:05.531703Z"
    },
    "papermill": {
     "duration": 0.128069,
     "end_time": "2024-02-22T12:53:05.535448",
     "exception": false,
     "start_time": "2024-02-22T12:53:05.407379",
     "status": "completed"
    },
    "tags": []
   },
   "outputs": [
    {
     "data": {
      "application/javascript": [
       "parent.postMessage({\"jupyterEvent\": \"custom.exercise_interaction\", \"data\": {\"outcomeType\": 2, \"failureMessage\": \"Incorrect value for `country_variety_counts`\", \"interactionType\": 1, \"questionType\": 1, \"questionId\": \"6_GroupbyCountryVariety\", \"learnToolsVersion\": \"0.3.4\", \"valueTowardsCompletion\": 0.0, \"exceptionClass\": \"\", \"trace\": \"\"}}, \"*\")"
      ],
      "text/plain": [
       "<IPython.core.display.Javascript object>"
      ]
     },
     "metadata": {},
     "output_type": "display_data"
    },
    {
     "data": {
      "text/markdown": [
       "<span style=\"color:#cc3333\">Incorrect:</span> Incorrect value for `country_variety_counts`"
      ],
      "text/plain": [
       "Incorrect: Incorrect value for `country_variety_counts`"
      ]
     },
     "metadata": {},
     "output_type": "display_data"
    }
   ],
   "source": [
    "country_variety_counts = reviews.groupby([\"country\", \"variety\"]).points.agg([len]).sort_values(by = \"len\").len\n",
    "\n",
    "# Check your answer\n",
    "q6.check()"
   ]
  },
  {
   "cell_type": "code",
   "execution_count": 14,
   "id": "fb9372fb",
   "metadata": {
    "execution": {
     "iopub.execute_input": "2024-02-22T12:53:05.559614Z",
     "iopub.status.busy": "2024-02-22T12:53:05.559165Z",
     "iopub.status.idle": "2024-02-22T12:53:05.563549Z",
     "shell.execute_reply": "2024-02-22T12:53:05.562357Z"
    },
    "papermill": {
     "duration": 0.019589,
     "end_time": "2024-02-22T12:53:05.565758",
     "exception": false,
     "start_time": "2024-02-22T12:53:05.546169",
     "status": "completed"
    },
    "tags": []
   },
   "outputs": [],
   "source": [
    "#q6.hint()\n",
    "#q6.solution()"
   ]
  },
  {
   "cell_type": "markdown",
   "id": "d089fcaa",
   "metadata": {
    "papermill": {
     "duration": 0.010394,
     "end_time": "2024-02-22T12:53:05.586845",
     "exception": false,
     "start_time": "2024-02-22T12:53:05.576451",
     "status": "completed"
    },
    "tags": []
   },
   "source": [
    "# Keep going\n",
    "\n",
    "Move on to the [**data types and missing data**](https://www.kaggle.com/residentmario/data-types-and-missing-values)."
   ]
  },
  {
   "cell_type": "markdown",
   "id": "a2ed0da2",
   "metadata": {
    "papermill": {
     "duration": 0.010323,
     "end_time": "2024-02-22T12:53:05.608008",
     "exception": false,
     "start_time": "2024-02-22T12:53:05.597685",
     "status": "completed"
    },
    "tags": []
   },
   "source": [
    "---\n",
    "\n",
    "\n",
    "\n",
    "\n",
    "*Have questions or comments? Visit the [course discussion forum](https://www.kaggle.com/learn/pandas/discussion) to chat with other learners.*"
   ]
  }
 ],
 "metadata": {
  "kaggle": {
   "accelerator": "none",
   "dataSources": [
    {
     "datasetId": 655,
     "sourceId": 1252,
     "sourceType": "datasetVersion"
    },
    {
     "datasetId": 2321,
     "sourceId": 3919,
     "sourceType": "datasetVersion"
    },
    {
     "datasetId": 2894,
     "sourceId": 4877,
     "sourceType": "datasetVersion"
    },
    {
     "datasetId": 3491,
     "sourceId": 5624,
     "sourceType": "datasetVersion"
    },
    {
     "datasetId": 1442,
     "sourceId": 8172,
     "sourceType": "datasetVersion"
    },
    {
     "datasetId": 9366,
     "sourceId": 13206,
     "sourceType": "datasetVersion"
    },
    {
     "datasetId": 179555,
     "sourceId": 403916,
     "sourceType": "datasetVersion"
    },
    {
     "datasetId": 4549,
     "sourceId": 466349,
     "sourceType": "datasetVersion"
    },
    {
     "datasetId": 2478,
     "sourceId": 1151655,
     "sourceType": "datasetVersion"
    },
    {
     "datasetId": 10128,
     "sourceId": 5438389,
     "sourceType": "datasetVersion"
    }
   ],
   "isGpuEnabled": false,
   "isInternetEnabled": false,
   "language": "python",
   "sourceType": "notebook"
  },
  "kernelspec": {
   "display_name": "Python 3",
   "language": "python",
   "name": "python3"
  },
  "language_info": {
   "codemirror_mode": {
    "name": "ipython",
    "version": 3
   },
   "file_extension": ".py",
   "mimetype": "text/x-python",
   "name": "python",
   "nbconvert_exporter": "python",
   "pygments_lexer": "ipython3",
   "version": "3.10.13"
  },
  "papermill": {
   "default_parameters": {},
   "duration": 10.691486,
   "end_time": "2024-02-22T12:53:06.139061",
   "environment_variables": {},
   "exception": null,
   "input_path": "__notebook__.ipynb",
   "output_path": "__notebook__.ipynb",
   "parameters": {},
   "start_time": "2024-02-22T12:52:55.447575",
   "version": "2.5.0"
  }
 },
 "nbformat": 4,
 "nbformat_minor": 5
}
