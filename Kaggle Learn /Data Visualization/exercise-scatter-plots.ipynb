{
 "cells": [
  {
   "cell_type": "markdown",
   "id": "82b40097",
   "metadata": {
    "papermill": {
     "duration": 0.011636,
     "end_time": "2024-02-22T21:15:21.547670",
     "exception": false,
     "start_time": "2024-02-22T21:15:21.536034",
     "status": "completed"
    },
    "tags": []
   },
   "source": [
    "**This notebook is an exercise in the [Data Visualization](https://www.kaggle.com/learn/data-visualization) course.  You can reference the tutorial at [this link](https://www.kaggle.com/alexisbcook/scatter-plots).**\n",
    "\n",
    "---\n"
   ]
  },
  {
   "cell_type": "markdown",
   "id": "b47a515f",
   "metadata": {
    "papermill": {
     "duration": 0.010737,
     "end_time": "2024-02-22T21:15:21.569663",
     "exception": false,
     "start_time": "2024-02-22T21:15:21.558926",
     "status": "completed"
    },
    "tags": []
   },
   "source": [
    "In this exercise, you will use your new knowledge to propose a solution to a real-world scenario.  To succeed, you will need to import data into Python, answer questions using the data, and generate **scatter plots** to understand patterns in the data.\n",
    "\n",
    "## Scenario\n",
    "\n",
    "You work for a major candy producer, and your goal is to write a report that your company can use to guide the design of its next product.  Soon after starting your research, you stumble across this [very interesting dataset](https://fivethirtyeight.com/features/the-ultimate-halloween-candy-power-ranking/) containing results from a fun survey to crowdsource favorite candies.\n",
    "\n",
    "## Setup\n",
    "\n",
    "Run the next cell to import and configure the Python libraries that you need to complete the exercise."
   ]
  },
  {
   "cell_type": "code",
   "execution_count": 1,
   "id": "fdd48c0f",
   "metadata": {
    "execution": {
     "iopub.execute_input": "2024-02-22T21:15:21.594223Z",
     "iopub.status.busy": "2024-02-22T21:15:21.593365Z",
     "iopub.status.idle": "2024-02-22T21:15:23.714572Z",
     "shell.execute_reply": "2024-02-22T21:15:23.713421Z"
    },
    "papermill": {
     "duration": 2.13668,
     "end_time": "2024-02-22T21:15:23.717352",
     "exception": false,
     "start_time": "2024-02-22T21:15:21.580672",
     "status": "completed"
    },
    "tags": []
   },
   "outputs": [
    {
     "name": "stdout",
     "output_type": "stream",
     "text": [
      "Setup Complete\n"
     ]
    }
   ],
   "source": [
    "import pandas as pd\n",
    "pd.plotting.register_matplotlib_converters()\n",
    "import matplotlib.pyplot as plt\n",
    "%matplotlib inline\n",
    "import seaborn as sns\n",
    "print(\"Setup Complete\")"
   ]
  },
  {
   "cell_type": "markdown",
   "id": "cc9ba08b",
   "metadata": {
    "papermill": {
     "duration": 0.010769,
     "end_time": "2024-02-22T21:15:23.739638",
     "exception": false,
     "start_time": "2024-02-22T21:15:23.728869",
     "status": "completed"
    },
    "tags": []
   },
   "source": [
    "The questions below will give you feedback on your work. Run the following cell to set up our feedback system."
   ]
  },
  {
   "cell_type": "code",
   "execution_count": 2,
   "id": "198c3a9b",
   "metadata": {
    "execution": {
     "iopub.execute_input": "2024-02-22T21:15:23.764437Z",
     "iopub.status.busy": "2024-02-22T21:15:23.763481Z",
     "iopub.status.idle": "2024-02-22T21:15:23.829901Z",
     "shell.execute_reply": "2024-02-22T21:15:23.828891Z"
    },
    "papermill": {
     "duration": 0.0816,
     "end_time": "2024-02-22T21:15:23.832413",
     "exception": false,
     "start_time": "2024-02-22T21:15:23.750813",
     "status": "completed"
    },
    "tags": []
   },
   "outputs": [
    {
     "name": "stdout",
     "output_type": "stream",
     "text": [
      "Setup Complete\n"
     ]
    }
   ],
   "source": [
    "# Set up code checking\n",
    "import os\n",
    "if not os.path.exists(\"../input/candy.csv\"):\n",
    "    os.symlink(\"../input/data-for-datavis/candy.csv\", \"../input/candy.csv\") \n",
    "from learntools.core import binder\n",
    "binder.bind(globals())\n",
    "from learntools.data_viz_to_coder.ex4 import *\n",
    "print(\"Setup Complete\")"
   ]
  },
  {
   "cell_type": "markdown",
   "id": "c4d6cdae",
   "metadata": {
    "papermill": {
     "duration": 0.010971,
     "end_time": "2024-02-22T21:15:23.854821",
     "exception": false,
     "start_time": "2024-02-22T21:15:23.843850",
     "status": "completed"
    },
    "tags": []
   },
   "source": [
    "## Step 1: Load the Data\n",
    "\n",
    "Read the candy data file into `candy_data`.  Use the `\"id\"` column to label the rows."
   ]
  },
  {
   "cell_type": "code",
   "execution_count": 3,
   "id": "e8e758a1",
   "metadata": {
    "execution": {
     "iopub.execute_input": "2024-02-22T21:15:23.878801Z",
     "iopub.status.busy": "2024-02-22T21:15:23.878327Z",
     "iopub.status.idle": "2024-02-22T21:15:23.900601Z",
     "shell.execute_reply": "2024-02-22T21:15:23.899443Z"
    },
    "papermill": {
     "duration": 0.036853,
     "end_time": "2024-02-22T21:15:23.902829",
     "exception": false,
     "start_time": "2024-02-22T21:15:23.865976",
     "status": "completed"
    },
    "tags": []
   },
   "outputs": [
    {
     "data": {
      "application/javascript": [
       "parent.postMessage({\"jupyterEvent\": \"custom.exercise_interaction\", \"data\": {\"outcomeType\": 1, \"valueTowardsCompletion\": 0.3333333333333333, \"interactionType\": 1, \"questionType\": 1, \"questionId\": \"1_LoadData\", \"learnToolsVersion\": \"0.3.4\", \"failureMessage\": \"\", \"exceptionClass\": \"\", \"trace\": \"\"}}, \"*\")"
      ],
      "text/plain": [
       "<IPython.core.display.Javascript object>"
      ]
     },
     "metadata": {},
     "output_type": "display_data"
    },
    {
     "data": {
      "text/markdown": [
       "<span style=\"color:#33cc33\">Correct</span>"
      ],
      "text/plain": [
       "Correct"
      ]
     },
     "metadata": {},
     "output_type": "display_data"
    }
   ],
   "source": [
    "# Path of the file to read\n",
    "candy_filepath = \"../input/candy.csv\"\n",
    "\n",
    "# Fill in the line below to read the file into a variable candy_data\n",
    "candy_data = pd.read_csv(candy_filepath, index_col=\"id\" )\n",
    "\n",
    "# Run the line below with no changes to check that you've loaded the data correctly\n",
    "step_1.check()"
   ]
  },
  {
   "cell_type": "code",
   "execution_count": 4,
   "id": "8618f20f",
   "metadata": {
    "execution": {
     "iopub.execute_input": "2024-02-22T21:15:23.929207Z",
     "iopub.status.busy": "2024-02-22T21:15:23.928791Z",
     "iopub.status.idle": "2024-02-22T21:15:23.933464Z",
     "shell.execute_reply": "2024-02-22T21:15:23.932414Z"
    },
    "papermill": {
     "duration": 0.019916,
     "end_time": "2024-02-22T21:15:23.935583",
     "exception": false,
     "start_time": "2024-02-22T21:15:23.915667",
     "status": "completed"
    },
    "tags": []
   },
   "outputs": [],
   "source": [
    "# Lines below will give you a hint or solution code\n",
    "#step_1.hint()\n",
    "#step_1.solution()"
   ]
  },
  {
   "cell_type": "markdown",
   "id": "bcf3fafa",
   "metadata": {
    "papermill": {
     "duration": 0.011264,
     "end_time": "2024-02-22T21:15:23.958811",
     "exception": false,
     "start_time": "2024-02-22T21:15:23.947547",
     "status": "completed"
    },
    "tags": []
   },
   "source": [
    "## Step 2: Review the data\n",
    "\n",
    "Use a Python command to print the first five rows of the data."
   ]
  },
  {
   "cell_type": "code",
   "execution_count": 5,
   "id": "f3c17dcc",
   "metadata": {
    "execution": {
     "iopub.execute_input": "2024-02-22T21:15:23.984279Z",
     "iopub.status.busy": "2024-02-22T21:15:23.983558Z",
     "iopub.status.idle": "2024-02-22T21:15:24.004997Z",
     "shell.execute_reply": "2024-02-22T21:15:24.004228Z"
    },
    "papermill": {
     "duration": 0.03657,
     "end_time": "2024-02-22T21:15:24.007113",
     "exception": false,
     "start_time": "2024-02-22T21:15:23.970543",
     "status": "completed"
    },
    "tags": []
   },
   "outputs": [
    {
     "data": {
      "text/html": [
       "<div>\n",
       "<style scoped>\n",
       "    .dataframe tbody tr th:only-of-type {\n",
       "        vertical-align: middle;\n",
       "    }\n",
       "\n",
       "    .dataframe tbody tr th {\n",
       "        vertical-align: top;\n",
       "    }\n",
       "\n",
       "    .dataframe thead th {\n",
       "        text-align: right;\n",
       "    }\n",
       "</style>\n",
       "<table border=\"1\" class=\"dataframe\">\n",
       "  <thead>\n",
       "    <tr style=\"text-align: right;\">\n",
       "      <th></th>\n",
       "      <th>competitorname</th>\n",
       "      <th>chocolate</th>\n",
       "      <th>fruity</th>\n",
       "      <th>caramel</th>\n",
       "      <th>peanutyalmondy</th>\n",
       "      <th>nougat</th>\n",
       "      <th>crispedricewafer</th>\n",
       "      <th>hard</th>\n",
       "      <th>bar</th>\n",
       "      <th>pluribus</th>\n",
       "      <th>sugarpercent</th>\n",
       "      <th>pricepercent</th>\n",
       "      <th>winpercent</th>\n",
       "    </tr>\n",
       "    <tr>\n",
       "      <th>id</th>\n",
       "      <th></th>\n",
       "      <th></th>\n",
       "      <th></th>\n",
       "      <th></th>\n",
       "      <th></th>\n",
       "      <th></th>\n",
       "      <th></th>\n",
       "      <th></th>\n",
       "      <th></th>\n",
       "      <th></th>\n",
       "      <th></th>\n",
       "      <th></th>\n",
       "      <th></th>\n",
       "    </tr>\n",
       "  </thead>\n",
       "  <tbody>\n",
       "    <tr>\n",
       "      <th>0</th>\n",
       "      <td>100 Grand</td>\n",
       "      <td>Yes</td>\n",
       "      <td>No</td>\n",
       "      <td>Yes</td>\n",
       "      <td>No</td>\n",
       "      <td>No</td>\n",
       "      <td>Yes</td>\n",
       "      <td>No</td>\n",
       "      <td>Yes</td>\n",
       "      <td>No</td>\n",
       "      <td>0.732</td>\n",
       "      <td>0.860</td>\n",
       "      <td>66.971725</td>\n",
       "    </tr>\n",
       "    <tr>\n",
       "      <th>1</th>\n",
       "      <td>3 Musketeers</td>\n",
       "      <td>Yes</td>\n",
       "      <td>No</td>\n",
       "      <td>No</td>\n",
       "      <td>No</td>\n",
       "      <td>Yes</td>\n",
       "      <td>No</td>\n",
       "      <td>No</td>\n",
       "      <td>Yes</td>\n",
       "      <td>No</td>\n",
       "      <td>0.604</td>\n",
       "      <td>0.511</td>\n",
       "      <td>67.602936</td>\n",
       "    </tr>\n",
       "    <tr>\n",
       "      <th>2</th>\n",
       "      <td>Air Heads</td>\n",
       "      <td>No</td>\n",
       "      <td>Yes</td>\n",
       "      <td>No</td>\n",
       "      <td>No</td>\n",
       "      <td>No</td>\n",
       "      <td>No</td>\n",
       "      <td>No</td>\n",
       "      <td>No</td>\n",
       "      <td>No</td>\n",
       "      <td>0.906</td>\n",
       "      <td>0.511</td>\n",
       "      <td>52.341465</td>\n",
       "    </tr>\n",
       "    <tr>\n",
       "      <th>3</th>\n",
       "      <td>Almond Joy</td>\n",
       "      <td>Yes</td>\n",
       "      <td>No</td>\n",
       "      <td>No</td>\n",
       "      <td>Yes</td>\n",
       "      <td>No</td>\n",
       "      <td>No</td>\n",
       "      <td>No</td>\n",
       "      <td>Yes</td>\n",
       "      <td>No</td>\n",
       "      <td>0.465</td>\n",
       "      <td>0.767</td>\n",
       "      <td>50.347546</td>\n",
       "    </tr>\n",
       "    <tr>\n",
       "      <th>4</th>\n",
       "      <td>Baby Ruth</td>\n",
       "      <td>Yes</td>\n",
       "      <td>No</td>\n",
       "      <td>Yes</td>\n",
       "      <td>Yes</td>\n",
       "      <td>Yes</td>\n",
       "      <td>No</td>\n",
       "      <td>No</td>\n",
       "      <td>Yes</td>\n",
       "      <td>No</td>\n",
       "      <td>0.604</td>\n",
       "      <td>0.767</td>\n",
       "      <td>56.914547</td>\n",
       "    </tr>\n",
       "  </tbody>\n",
       "</table>\n",
       "</div>"
      ],
      "text/plain": [
       "   competitorname chocolate fruity caramel peanutyalmondy nougat  \\\n",
       "id                                                                 \n",
       "0       100 Grand       Yes     No     Yes             No     No   \n",
       "1    3 Musketeers       Yes     No      No             No    Yes   \n",
       "2       Air Heads        No    Yes      No             No     No   \n",
       "3      Almond Joy       Yes     No      No            Yes     No   \n",
       "4       Baby Ruth       Yes     No     Yes            Yes    Yes   \n",
       "\n",
       "   crispedricewafer hard  bar pluribus  sugarpercent  pricepercent  winpercent  \n",
       "id                                                                              \n",
       "0               Yes   No  Yes       No         0.732         0.860   66.971725  \n",
       "1                No   No  Yes       No         0.604         0.511   67.602936  \n",
       "2                No   No   No       No         0.906         0.511   52.341465  \n",
       "3                No   No  Yes       No         0.465         0.767   50.347546  \n",
       "4                No   No  Yes       No         0.604         0.767   56.914547  "
      ]
     },
     "execution_count": 5,
     "metadata": {},
     "output_type": "execute_result"
    }
   ],
   "source": [
    "# Print the first five rows of the data\n",
    "candy_data.head()\n",
    "\n",
    "# Your code here"
   ]
  },
  {
   "cell_type": "markdown",
   "id": "a124c2ba",
   "metadata": {
    "papermill": {
     "duration": 0.012151,
     "end_time": "2024-02-22T21:15:24.031334",
     "exception": false,
     "start_time": "2024-02-22T21:15:24.019183",
     "status": "completed"
    },
    "tags": []
   },
   "source": [
    "The dataset contains 83 rows, where each corresponds to a different candy bar.  There are 13 columns:\n",
    "- `'competitorname'` contains the name of the candy bar. \n",
    "- the next **9** columns (from `'chocolate'` to `'pluribus'`) describe the candy.  For instance, rows with chocolate candies have `\"Yes\"` in the `'chocolate'` column (and candies without chocolate have `\"No\"` in the same column).\n",
    "- `'sugarpercent'` provides some indication of the amount of sugar, where higher values signify higher sugar content.\n",
    "- `'pricepercent'` shows the price per unit, relative to the other candies in the dataset.\n",
    "- `'winpercent'` is calculated from the survey results; higher values indicate that the candy was more popular with survey respondents.\n",
    "\n",
    "Use the first five rows of the data to answer the questions below."
   ]
  },
  {
   "cell_type": "code",
   "execution_count": 6,
   "id": "e1d5c9c7",
   "metadata": {
    "execution": {
     "iopub.execute_input": "2024-02-22T21:15:24.057462Z",
     "iopub.status.busy": "2024-02-22T21:15:24.057065Z",
     "iopub.status.idle": "2024-02-22T21:15:24.066215Z",
     "shell.execute_reply": "2024-02-22T21:15:24.065163Z"
    },
    "papermill": {
     "duration": 0.025173,
     "end_time": "2024-02-22T21:15:24.068652",
     "exception": false,
     "start_time": "2024-02-22T21:15:24.043479",
     "status": "completed"
    },
    "tags": []
   },
   "outputs": [
    {
     "data": {
      "application/javascript": [
       "parent.postMessage({\"jupyterEvent\": \"custom.exercise_interaction\", \"data\": {\"outcomeType\": 1, \"valueTowardsCompletion\": 0.3333333333333333, \"interactionType\": 1, \"questionType\": 1, \"questionId\": \"2_ReviewData\", \"learnToolsVersion\": \"0.3.4\", \"failureMessage\": \"\", \"exceptionClass\": \"\", \"trace\": \"\"}}, \"*\")"
      ],
      "text/plain": [
       "<IPython.core.display.Javascript object>"
      ]
     },
     "metadata": {},
     "output_type": "display_data"
    },
    {
     "data": {
      "text/markdown": [
       "<span style=\"color:#33cc33\">Correct</span>"
      ],
      "text/plain": [
       "Correct"
      ]
     },
     "metadata": {},
     "output_type": "display_data"
    }
   ],
   "source": [
    "# Fill in the line below: Which candy was more popular with survey respondents:\n",
    "# '3 Musketeers' or 'Almond Joy'?  (Please enclose your answer in single quotes.)\n",
    "more_popular = '3 Musketeers'\n",
    "\n",
    "# Fill in the line below: Which candy has higher sugar content: 'Air Heads'\n",
    "# or 'Baby Ruth'? (Please enclose your answer in single quotes.)\n",
    "more_sugar = 'Air Heads'\n",
    "# Check your answers\n",
    "step_2.check()"
   ]
  },
  {
   "cell_type": "code",
   "execution_count": 7,
   "id": "477ae54d",
   "metadata": {
    "execution": {
     "iopub.execute_input": "2024-02-22T21:15:24.095809Z",
     "iopub.status.busy": "2024-02-22T21:15:24.094684Z",
     "iopub.status.idle": "2024-02-22T21:15:24.099512Z",
     "shell.execute_reply": "2024-02-22T21:15:24.098743Z"
    },
    "papermill": {
     "duration": 0.020551,
     "end_time": "2024-02-22T21:15:24.101656",
     "exception": false,
     "start_time": "2024-02-22T21:15:24.081105",
     "status": "completed"
    },
    "tags": []
   },
   "outputs": [],
   "source": [
    "# Lines below will give you a hint or solution code\n",
    "#step_2.hint()\n",
    "#step_2.solution()"
   ]
  },
  {
   "cell_type": "markdown",
   "id": "e701cbc0",
   "metadata": {
    "papermill": {
     "duration": 0.011913,
     "end_time": "2024-02-22T21:15:24.125738",
     "exception": false,
     "start_time": "2024-02-22T21:15:24.113825",
     "status": "completed"
    },
    "tags": []
   },
   "source": [
    "## Step 3: The role of sugar\n",
    "\n",
    "Do people tend to prefer candies with higher sugar content?  \n",
    "\n",
    "#### Part A\n",
    "\n",
    "Create a scatter plot that shows the relationship between `'sugarpercent'` (on the horizontal x-axis) and `'winpercent'` (on the vertical y-axis).  _Don't add a regression line just yet -- you'll do that in the next step!_"
   ]
  },
  {
   "cell_type": "code",
   "execution_count": 8,
   "id": "e3c187eb",
   "metadata": {
    "execution": {
     "iopub.execute_input": "2024-02-22T21:15:24.152657Z",
     "iopub.status.busy": "2024-02-22T21:15:24.151976Z",
     "iopub.status.idle": "2024-02-22T21:15:24.510446Z",
     "shell.execute_reply": "2024-02-22T21:15:24.509354Z"
    },
    "papermill": {
     "duration": 0.37485,
     "end_time": "2024-02-22T21:15:24.513072",
     "exception": false,
     "start_time": "2024-02-22T21:15:24.138222",
     "status": "completed"
    },
    "tags": []
   },
   "outputs": [
    {
     "data": {
      "application/javascript": [
       "parent.postMessage({\"jupyterEvent\": \"custom.exercise_interaction\", \"data\": {\"outcomeType\": 1, \"valueTowardsCompletion\": 0.3333333333333333, \"interactionType\": 1, \"questionType\": 2, \"questionId\": \"3.1_PlotBlueScatter\", \"learnToolsVersion\": \"0.3.4\", \"failureMessage\": \"\", \"exceptionClass\": \"\", \"trace\": \"\"}}, \"*\")"
      ],
      "text/plain": [
       "<IPython.core.display.Javascript object>"
      ]
     },
     "metadata": {},
     "output_type": "display_data"
    },
    {
     "data": {
      "text/markdown": [
       "<span style=\"color:#33cc33\">Correct</span>"
      ],
      "text/plain": [
       "Correct"
      ]
     },
     "metadata": {},
     "output_type": "display_data"
    },
    {
     "data": {
      "image/png": "[encoded data removed]",
      "text/plain": [
       "<Figure size 640x480 with 1 Axes>"
      ]
     },
     "metadata": {},
     "output_type": "display_data"
    }
   ],
   "source": [
    "# Scatter plot showing the relationship between 'sugarpercent' and 'winpercent'\n",
    "sns.scatterplot(x = candy_data[\"sugarpercent\"],y = candy_data[\"winpercent\"]) # Your code here\n",
    "\n",
    "# Check your answer\n",
    "step_3.a.check()"
   ]
  },
  {
   "cell_type": "code",
   "execution_count": 9,
   "id": "3080c660",
   "metadata": {
    "execution": {
     "iopub.execute_input": "2024-02-22T21:15:24.541161Z",
     "iopub.status.busy": "2024-02-22T21:15:24.540786Z",
     "iopub.status.idle": "2024-02-22T21:15:24.545102Z",
     "shell.execute_reply": "2024-02-22T21:15:24.544005Z"
    },
    "papermill": {
     "duration": 0.021155,
     "end_time": "2024-02-22T21:15:24.547396",
     "exception": false,
     "start_time": "2024-02-22T21:15:24.526241",
     "status": "completed"
    },
    "tags": []
   },
   "outputs": [],
   "source": [
    "# Lines below will give you a hint or solution code\n",
    "#step_3.a.hint()\n",
    "#step_3.a.solution_plot()"
   ]
  },
  {
   "cell_type": "markdown",
   "id": "37411a27",
   "metadata": {
    "papermill": {
     "duration": 0.012948,
     "end_time": "2024-02-22T21:15:24.573750",
     "exception": false,
     "start_time": "2024-02-22T21:15:24.560802",
     "status": "completed"
    },
    "tags": []
   },
   "source": [
    "#### Part B\n",
    "\n",
    "Does the scatter plot show a **strong** correlation between the two variables?  If so, are candies with more sugar relatively more or less popular with the survey respondents?"
   ]
  },
  {
   "cell_type": "code",
   "execution_count": 10,
   "id": "b632f054",
   "metadata": {
    "execution": {
     "iopub.execute_input": "2024-02-22T21:15:24.601529Z",
     "iopub.status.busy": "2024-02-22T21:15:24.601119Z",
     "iopub.status.idle": "2024-02-22T21:15:24.605643Z",
     "shell.execute_reply": "2024-02-22T21:15:24.604604Z"
    },
    "papermill": {
     "duration": 0.02099,
     "end_time": "2024-02-22T21:15:24.607856",
     "exception": false,
     "start_time": "2024-02-22T21:15:24.586866",
     "status": "completed"
    },
    "tags": []
   },
   "outputs": [],
   "source": [
    "#step_3.b.hint()"
   ]
  },
  {
   "cell_type": "code",
   "execution_count": 11,
   "id": "576f49c5",
   "metadata": {
    "execution": {
     "iopub.execute_input": "2024-02-22T21:15:24.635926Z",
     "iopub.status.busy": "2024-02-22T21:15:24.635549Z",
     "iopub.status.idle": "2024-02-22T21:15:24.644350Z",
     "shell.execute_reply": "2024-02-22T21:15:24.643264Z"
    },
    "papermill": {
     "duration": 0.025812,
     "end_time": "2024-02-22T21:15:24.646879",
     "exception": false,
     "start_time": "2024-02-22T21:15:24.621067",
     "status": "completed"
    },
    "tags": []
   },
   "outputs": [
    {
     "data": {
      "application/javascript": [
       "parent.postMessage({\"jupyterEvent\": \"custom.exercise_interaction\", \"data\": {\"interactionType\": 3, \"questionType\": 4, \"questionId\": \"3.2_ThinkBlueScatter\", \"learnToolsVersion\": \"0.3.4\", \"valueTowardsCompletion\": 0.0, \"failureMessage\": \"\", \"exceptionClass\": \"\", \"trace\": \"\", \"outcomeType\": 4}}, \"*\")"
      ],
      "text/plain": [
       "<IPython.core.display.Javascript object>"
      ]
     },
     "metadata": {},
     "output_type": "display_data"
    },
    {
     "data": {
      "text/markdown": [
       "<span style=\"color:#33cc99\">Solution:</span> The scatter plot does not show a strong correlation between the two variables. Since there is no clear relationship between the two variables, this tells us that sugar content does not play a strong role in candy popularity."
      ],
      "text/plain": [
       "Solution: The scatter plot does not show a strong correlation between the two variables. Since there is no clear relationship between the two variables, this tells us that sugar content does not play a strong role in candy popularity."
      ]
     },
     "metadata": {},
     "output_type": "display_data"
    }
   ],
   "source": [
    "# Check your answer (Run this code cell to receive credit!)\n",
    "step_3.b.solution()"
   ]
  },
  {
   "cell_type": "markdown",
   "id": "b8628957",
   "metadata": {
    "papermill": {
     "duration": 0.013344,
     "end_time": "2024-02-22T21:15:24.673912",
     "exception": false,
     "start_time": "2024-02-22T21:15:24.660568",
     "status": "completed"
    },
    "tags": []
   },
   "source": [
    "## Step 4: Take a closer look\n",
    "\n",
    "#### Part A\n",
    "\n",
    "Create the same scatter plot you created in **Step 3**, but now with a regression line!"
   ]
  },
  {
   "cell_type": "code",
   "execution_count": 12,
   "id": "c9bdc059",
   "metadata": {
    "execution": {
     "iopub.execute_input": "2024-02-22T21:15:24.705592Z",
     "iopub.status.busy": "2024-02-22T21:15:24.703326Z",
     "iopub.status.idle": "2024-02-22T21:15:25.057904Z",
     "shell.execute_reply": "2024-02-22T21:15:25.056780Z"
    },
    "papermill": {
     "duration": 0.372911,
     "end_time": "2024-02-22T21:15:25.060778",
     "exception": false,
     "start_time": "2024-02-22T21:15:24.687867",
     "status": "completed"
    },
    "tags": []
   },
   "outputs": [
    {
     "data": {
      "application/javascript": [
       "parent.postMessage({\"jupyterEvent\": \"custom.exercise_interaction\", \"data\": {\"outcomeType\": 1, \"valueTowardsCompletion\": 0.3333333333333333, \"interactionType\": 1, \"questionType\": 2, \"questionId\": \"4.1_PlotBlueReg\", \"learnToolsVersion\": \"0.3.4\", \"failureMessage\": \"\", \"exceptionClass\": \"\", \"trace\": \"\"}}, \"*\")"
      ],
      "text/plain": [
       "<IPython.core.display.Javascript object>"
      ]
     },
     "metadata": {},
     "output_type": "display_data"
    },
    {
     "data": {
      "text/markdown": [
       "<span style=\"color:#33cc33\">Correct</span>"
      ],
      "text/plain": [
       "Correct"
      ]
     },
     "metadata": {},
     "output_type": "display_data"
    },
    {
     "data": {
      "image/png": "[encoded data removed]",
      "text/plain": [
       "<Figure size 640x480 with 1 Axes>"
      ]
     },
     "metadata": {},
     "output_type": "display_data"
    }
   ],
   "source": [
    "# Scatter plot w/ regression line showing the relationship between 'sugarpercent' and 'winpercent'\n",
    "sns.regplot(x= candy_data[\"sugarpercent\"], y= candy_data[\"winpercent\"])\n",
    "\n",
    "\n",
    "# Your code here\n",
    "\n",
    "# Check your answer\n",
    "step_4.a.check()"
   ]
  },
  {
   "cell_type": "code",
   "execution_count": 13,
   "id": "df5c3af5",
   "metadata": {
    "execution": {
     "iopub.execute_input": "2024-02-22T21:15:25.091963Z",
     "iopub.status.busy": "2024-02-22T21:15:25.091596Z",
     "iopub.status.idle": "2024-02-22T21:15:25.096083Z",
     "shell.execute_reply": "2024-02-22T21:15:25.095007Z"
    },
    "papermill": {
     "duration": 0.022945,
     "end_time": "2024-02-22T21:15:25.098447",
     "exception": false,
     "start_time": "2024-02-22T21:15:25.075502",
     "status": "completed"
    },
    "tags": []
   },
   "outputs": [],
   "source": [
    "# Lines below will give you a hint or solution code\n",
    "#step_4.a.hint()\n",
    "#step_4.a.solution_plot()"
   ]
  },
  {
   "cell_type": "markdown",
   "id": "2908bfb1",
   "metadata": {
    "papermill": {
     "duration": 0.014517,
     "end_time": "2024-02-22T21:15:25.127701",
     "exception": false,
     "start_time": "2024-02-22T21:15:25.113184",
     "status": "completed"
    },
    "tags": []
   },
   "source": [
    "#### Part B\n",
    "\n",
    "According to the plot above, is there a **slight** correlation between `'winpercent'` and `'sugarpercent'`?  What does this tell you about the candy that people tend to prefer?"
   ]
  },
  {
   "cell_type": "code",
   "execution_count": 14,
   "id": "5fccc9c6",
   "metadata": {
    "execution": {
     "iopub.execute_input": "2024-02-22T21:15:25.158590Z",
     "iopub.status.busy": "2024-02-22T21:15:25.158176Z",
     "iopub.status.idle": "2024-02-22T21:15:25.162709Z",
     "shell.execute_reply": "2024-02-22T21:15:25.161630Z"
    },
    "papermill": {
     "duration": 0.022682,
     "end_time": "2024-02-22T21:15:25.165027",
     "exception": false,
     "start_time": "2024-02-22T21:15:25.142345",
     "status": "completed"
    },
    "tags": []
   },
   "outputs": [],
   "source": [
    "#step_4.b.hint()"
   ]
  },
  {
   "cell_type": "code",
   "execution_count": 15,
   "id": "12863c17",
   "metadata": {
    "execution": {
     "iopub.execute_input": "2024-02-22T21:15:25.199006Z",
     "iopub.status.busy": "2024-02-22T21:15:25.198648Z",
     "iopub.status.idle": "2024-02-22T21:15:25.207043Z",
     "shell.execute_reply": "2024-02-22T21:15:25.205917Z"
    },
    "papermill": {
     "duration": 0.028312,
     "end_time": "2024-02-22T21:15:25.209093",
     "exception": false,
     "start_time": "2024-02-22T21:15:25.180781",
     "status": "completed"
    },
    "tags": []
   },
   "outputs": [
    {
     "data": {
      "application/javascript": [
       "parent.postMessage({\"jupyterEvent\": \"custom.exercise_interaction\", \"data\": {\"interactionType\": 3, \"questionType\": 4, \"questionId\": \"4.2_ThinkBlueReg\", \"learnToolsVersion\": \"0.3.4\", \"valueTowardsCompletion\": 0.0, \"failureMessage\": \"\", \"exceptionClass\": \"\", \"trace\": \"\", \"outcomeType\": 4}}, \"*\")"
      ],
      "text/plain": [
       "<IPython.core.display.Javascript object>"
      ]
     },
     "metadata": {},
     "output_type": "display_data"
    },
    {
     "data": {
      "text/markdown": [
       "<span style=\"color:#33cc99\">Solution:</span> Since the regression line has a slightly positive slope, this tells us that there is a slightly positive correlation between `'winpercent'` and `'sugarpercent'`. Thus, people have a slight preference for candies containing relatively more sugar."
      ],
      "text/plain": [
       "Solution: Since the regression line has a slightly positive slope, this tells us that there is a slightly positive correlation between `'winpercent'` and `'sugarpercent'`. Thus, people have a slight preference for candies containing relatively more sugar."
      ]
     },
     "metadata": {},
     "output_type": "display_data"
    }
   ],
   "source": [
    "# Check your answer (Run this code cell to receive credit!)\n",
    "step_4.b.solution()"
   ]
  },
  {
   "cell_type": "markdown",
   "id": "00a96e25",
   "metadata": {
    "papermill": {
     "duration": 0.014717,
     "end_time": "2024-02-22T21:15:25.238855",
     "exception": false,
     "start_time": "2024-02-22T21:15:25.224138",
     "status": "completed"
    },
    "tags": []
   },
   "source": [
    "## Step 5: Chocolate!\n",
    "\n",
    "In the code cell below, create a scatter plot to show the relationship between `'pricepercent'` (on the horizontal x-axis) and `'winpercent'` (on the vertical y-axis). Use the `'chocolate'` column to color-code the points.  _Don't add any regression lines just yet -- you'll do that in the next step!_"
   ]
  },
  {
   "cell_type": "code",
   "execution_count": 16,
   "id": "4f752e2a",
   "metadata": {
    "execution": {
     "iopub.execute_input": "2024-02-22T21:15:25.270838Z",
     "iopub.status.busy": "2024-02-22T21:15:25.270463Z",
     "iopub.status.idle": "2024-02-22T21:15:25.594778Z",
     "shell.execute_reply": "2024-02-22T21:15:25.593567Z"
    },
    "papermill": {
     "duration": 0.343681,
     "end_time": "2024-02-22T21:15:25.597511",
     "exception": false,
     "start_time": "2024-02-22T21:15:25.253830",
     "status": "completed"
    },
    "tags": []
   },
   "outputs": [
    {
     "data": {
      "application/javascript": [
       "parent.postMessage({\"jupyterEvent\": \"custom.exercise_interaction\", \"data\": {\"outcomeType\": 1, \"valueTowardsCompletion\": 0.3333333333333333, \"interactionType\": 1, \"questionType\": 2, \"questionId\": \"5_ColorScatter\", \"learnToolsVersion\": \"0.3.4\", \"failureMessage\": \"\", \"exceptionClass\": \"\", \"trace\": \"\"}}, \"*\")"
      ],
      "text/plain": [
       "<IPython.core.display.Javascript object>"
      ]
     },
     "metadata": {},
     "output_type": "display_data"
    },
    {
     "data": {
      "text/markdown": [
       "<span style=\"color:#33cc33\">Correct</span>"
      ],
      "text/plain": [
       "Correct"
      ]
     },
     "metadata": {},
     "output_type": "display_data"
    },
    {
     "data": {
      "image/png": "[encoded data removed]",
      "text/plain": [
       "<Figure size 640x480 with 1 Axes>"
      ]
     },
     "metadata": {},
     "output_type": "display_data"
    }
   ],
   "source": [
    "# Scatter plot showing the relationship between 'pricepercent', 'winpercent', and 'chocolate'\n",
    "sns.scatterplot(x= candy_data[\"pricepercent\"],y = candy_data[\"winpercent\"], hue=candy_data['chocolate']) # Your code here\n",
    "\n",
    "# Check your answer\n",
    "step_5.check()"
   ]
  },
  {
   "cell_type": "code",
   "execution_count": 17,
   "id": "883e09e1",
   "metadata": {
    "execution": {
     "iopub.execute_input": "2024-02-22T21:15:25.633301Z",
     "iopub.status.busy": "2024-02-22T21:15:25.632015Z",
     "iopub.status.idle": "2024-02-22T21:15:25.961135Z",
     "shell.execute_reply": "2024-02-22T21:15:25.959986Z"
    },
    "papermill": {
     "duration": 0.349296,
     "end_time": "2024-02-22T21:15:25.963602",
     "exception": false,
     "start_time": "2024-02-22T21:15:25.614306",
     "status": "completed"
    },
    "tags": []
   },
   "outputs": [
    {
     "data": {
      "application/javascript": [
       "parent.postMessage({\"jupyterEvent\": \"custom.exercise_interaction\", \"data\": {\"interactionType\": 3, \"questionType\": 2, \"questionId\": \"5_ColorScatter\", \"learnToolsVersion\": \"0.3.4\", \"valueTowardsCompletion\": 0.0, \"failureMessage\": \"\", \"exceptionClass\": \"\", \"trace\": \"\", \"outcomeType\": 4}}, \"*\")"
      ],
      "text/plain": [
       "<IPython.core.display.Javascript object>"
      ]
     },
     "metadata": {},
     "output_type": "display_data"
    },
    {
     "data": {
      "text/markdown": [
       "<span style=\"color:#33cc99\">Solution:</span> \n",
       "```python\n",
       "# Scatter plot showing the relationship between 'pricepercent', 'winpercent', and 'chocolate'\n",
       "sns.scatterplot(x=candy_data['pricepercent'], y=candy_data['winpercent'], hue=candy_data['chocolate'])\n",
       "\n",
       "```"
      ],
      "text/plain": [
       "Solution: \n",
       "```python\n",
       "# Scatter plot showing the relationship between 'pricepercent', 'winpercent', and 'chocolate'\n",
       "sns.scatterplot(x=candy_data['pricepercent'], y=candy_data['winpercent'], hue=candy_data['chocolate'])\n",
       "\n",
       "```"
      ]
     },
     "metadata": {},
     "output_type": "display_data"
    },
    {
     "data": {
      "image/png": "[encoded data removed]",
      "text/plain": [
       "<Figure size 640x480 with 1 Axes>"
      ]
     },
     "metadata": {},
     "output_type": "display_data"
    }
   ],
   "source": [
    "# Lines below will give you a hint or solution code\n",
    "#step_5.hint()\n",
    "step_5.solution_plot()"
   ]
  },
  {
   "cell_type": "markdown",
   "id": "ac668e6c",
   "metadata": {
    "papermill": {
     "duration": 0.016861,
     "end_time": "2024-02-22T21:15:25.997402",
     "exception": false,
     "start_time": "2024-02-22T21:15:25.980541",
     "status": "completed"
    },
    "tags": []
   },
   "source": [
    "Can you see any interesting patterns in the scatter plot?  We'll investigate this plot further  by adding regression lines in the next step!\n",
    "\n",
    "## Step 6: Investigate chocolate\n",
    "\n",
    "#### Part A\n",
    "\n",
    "Create the same scatter plot you created in **Step 5**, but now with two regression lines, corresponding to (1) chocolate candies and (2) candies without chocolate."
   ]
  },
  {
   "cell_type": "code",
   "execution_count": 18,
   "id": "592f076b",
   "metadata": {
    "execution": {
     "iopub.execute_input": "2024-02-22T21:15:26.033965Z",
     "iopub.status.busy": "2024-02-22T21:15:26.033593Z",
     "iopub.status.idle": "2024-02-22T21:15:26.767953Z",
     "shell.execute_reply": "2024-02-22T21:15:26.766707Z"
    },
    "papermill": {
     "duration": 0.756239,
     "end_time": "2024-02-22T21:15:26.771165",
     "exception": false,
     "start_time": "2024-02-22T21:15:26.014926",
     "status": "completed"
    },
    "tags": []
   },
   "outputs": [
    {
     "data": {
      "application/javascript": [
       "parent.postMessage({\"jupyterEvent\": \"custom.exercise_interaction\", \"data\": {\"outcomeType\": 1, \"valueTowardsCompletion\": 0.3333333333333333, \"interactionType\": 1, \"questionType\": 2, \"questionId\": \"6.1_PlotColorReg\", \"learnToolsVersion\": \"0.3.4\", \"failureMessage\": \"\", \"exceptionClass\": \"\", \"trace\": \"\"}}, \"*\")"
      ],
      "text/plain": [
       "<IPython.core.display.Javascript object>"
      ]
     },
     "metadata": {},
     "output_type": "display_data"
    },
    {
     "data": {
      "text/markdown": [
       "<span style=\"color:#33cc33\">Correct</span>"
      ],
      "text/plain": [
       "Correct"
      ]
     },
     "metadata": {},
     "output_type": "display_data"
    },
    {
     "data": {
      "image/png": "[encoded data removed]",
      "text/plain": [
       "<Figure size 578.611x500 with 1 Axes>"
      ]
     },
     "metadata": {},
     "output_type": "display_data"
    }
   ],
   "source": [
    "# Color-coded scatter plot w/ regression lines\n",
    "\n",
    "sns.lmplot(x= \"pricepercent\",y = \"winpercent\", hue='chocolate', data = candy_data)\n",
    "# Your code here\n",
    "\n",
    "# Check your answer\n",
    "step_6.a.check()"
   ]
  },
  {
   "cell_type": "code",
   "execution_count": 19,
   "id": "6e9bf2bc",
   "metadata": {
    "execution": {
     "iopub.execute_input": "2024-02-22T21:15:26.809422Z",
     "iopub.status.busy": "2024-02-22T21:15:26.808754Z",
     "iopub.status.idle": "2024-02-22T21:15:26.813648Z",
     "shell.execute_reply": "2024-02-22T21:15:26.812462Z"
    },
    "papermill": {
     "duration": 0.026393,
     "end_time": "2024-02-22T21:15:26.815953",
     "exception": false,
     "start_time": "2024-02-22T21:15:26.789560",
     "status": "completed"
    },
    "tags": []
   },
   "outputs": [],
   "source": [
    "# Lines below will give you a hint or solution code\n",
    "#step_6.a.hint()\n",
    "#step_6.a.solution_plot()"
   ]
  },
  {
   "cell_type": "markdown",
   "id": "2fb784c1",
   "metadata": {
    "papermill": {
     "duration": 0.01779,
     "end_time": "2024-02-22T21:15:26.851644",
     "exception": false,
     "start_time": "2024-02-22T21:15:26.833854",
     "status": "completed"
    },
    "tags": []
   },
   "source": [
    "#### Part B\n",
    "\n",
    "Using the regression lines, what conclusions can you draw about the effects of chocolate and price on candy popularity?"
   ]
  },
  {
   "cell_type": "code",
   "execution_count": 20,
   "id": "c3ffcff9",
   "metadata": {
    "execution": {
     "iopub.execute_input": "2024-02-22T21:15:26.889818Z",
     "iopub.status.busy": "2024-02-22T21:15:26.888961Z",
     "iopub.status.idle": "2024-02-22T21:15:26.893586Z",
     "shell.execute_reply": "2024-02-22T21:15:26.892807Z"
    },
    "papermill": {
     "duration": 0.026169,
     "end_time": "2024-02-22T21:15:26.895737",
     "exception": false,
     "start_time": "2024-02-22T21:15:26.869568",
     "status": "completed"
    },
    "tags": []
   },
   "outputs": [],
   "source": [
    "#step_6.b.hint()"
   ]
  },
  {
   "cell_type": "code",
   "execution_count": 21,
   "id": "0fc71be0",
   "metadata": {
    "execution": {
     "iopub.execute_input": "2024-02-22T21:15:26.933608Z",
     "iopub.status.busy": "2024-02-22T21:15:26.932944Z",
     "iopub.status.idle": "2024-02-22T21:15:26.941462Z",
     "shell.execute_reply": "2024-02-22T21:15:26.940430Z"
    },
    "papermill": {
     "duration": 0.02995,
     "end_time": "2024-02-22T21:15:26.943493",
     "exception": false,
     "start_time": "2024-02-22T21:15:26.913543",
     "status": "completed"
    },
    "tags": []
   },
   "outputs": [
    {
     "data": {
      "application/javascript": [
       "parent.postMessage({\"jupyterEvent\": \"custom.exercise_interaction\", \"data\": {\"interactionType\": 3, \"questionType\": 4, \"questionId\": \"6.2_ThinkColorReg\", \"learnToolsVersion\": \"0.3.4\", \"valueTowardsCompletion\": 0.0, \"failureMessage\": \"\", \"exceptionClass\": \"\", \"trace\": \"\", \"outcomeType\": 4}}, \"*\")"
      ],
      "text/plain": [
       "<IPython.core.display.Javascript object>"
      ]
     },
     "metadata": {},
     "output_type": "display_data"
    },
    {
     "data": {
      "text/markdown": [
       "<span style=\"color:#33cc99\">Solution:</span> We'll begin with the regression line for chocolate candies. Since this line has a slightly positive slope, we can say that more expensive chocolate candies tend to be more popular (than relatively cheaper chocolate candies).  Likewise, since the regression line for candies without chocolate has a negative slope, we can say that if candies don't contain chocolate, they tend to be more popular when they are cheaper.  One important note, however, is that the dataset is quite small -- so we shouldn't invest too much trust in these patterns!  To inspire more confidence in the results, we should add more candies to the dataset."
      ],
      "text/plain": [
       "Solution: We'll begin with the regression line for chocolate candies. Since this line has a slightly positive slope, we can say that more expensive chocolate candies tend to be more popular (than relatively cheaper chocolate candies).  Likewise, since the regression line for candies without chocolate has a negative slope, we can say that if candies don't contain chocolate, they tend to be more popular when they are cheaper.  One important note, however, is that the dataset is quite small -- so we shouldn't invest too much trust in these patterns!  To inspire more confidence in the results, we should add more candies to the dataset."
      ]
     },
     "metadata": {},
     "output_type": "display_data"
    }
   ],
   "source": [
    "# Check your answer (Run this code cell to receive credit!)\n",
    "step_6.b.solution()"
   ]
  },
  {
   "cell_type": "markdown",
   "id": "9f7c8250",
   "metadata": {
    "papermill": {
     "duration": 0.070599,
     "end_time": "2024-02-22T21:15:27.032176",
     "exception": false,
     "start_time": "2024-02-22T21:15:26.961577",
     "status": "completed"
    },
    "tags": []
   },
   "source": [
    "## Step 7: Everybody loves chocolate.\n",
    "\n",
    "#### Part A\n",
    "\n",
    "Create a categorical scatter plot to highlight the relationship between `'chocolate'` and `'winpercent'`.  Put `'chocolate'` on the (horizontal) x-axis, and `'winpercent'` on the (vertical) y-axis."
   ]
  },
  {
   "cell_type": "code",
   "execution_count": 22,
   "id": "a738979f",
   "metadata": {
    "execution": {
     "iopub.execute_input": "2024-02-22T21:15:27.071052Z",
     "iopub.status.busy": "2024-02-22T21:15:27.070423Z",
     "iopub.status.idle": "2024-02-22T21:15:27.387265Z",
     "shell.execute_reply": "2024-02-22T21:15:27.386455Z"
    },
    "papermill": {
     "duration": 0.338922,
     "end_time": "2024-02-22T21:15:27.389472",
     "exception": false,
     "start_time": "2024-02-22T21:15:27.050550",
     "status": "completed"
    },
    "tags": []
   },
   "outputs": [
    {
     "data": {
      "application/javascript": [
       "parent.postMessage({\"jupyterEvent\": \"custom.exercise_interaction\", \"data\": {\"outcomeType\": 1, \"valueTowardsCompletion\": 0.3333333333333333, \"interactionType\": 1, \"questionType\": 2, \"questionId\": \"7.1_PlotSwarm\", \"learnToolsVersion\": \"0.3.4\", \"failureMessage\": \"\", \"exceptionClass\": \"\", \"trace\": \"\"}}, \"*\")"
      ],
      "text/plain": [
       "<IPython.core.display.Javascript object>"
      ]
     },
     "metadata": {},
     "output_type": "display_data"
    },
    {
     "data": {
      "text/markdown": [
       "<span style=\"color:#33cc33\">Correct</span>"
      ],
      "text/plain": [
       "Correct"
      ]
     },
     "metadata": {},
     "output_type": "display_data"
    },
    {
     "data": {
      "image/png": "[encoded data removed]",
      "text/plain": [
       "<Figure size 640x480 with 1 Axes>"
      ]
     },
     "metadata": {},
     "output_type": "display_data"
    }
   ],
   "source": [
    "# Scatter plot showing the relationship between 'chocolate' and 'winpercent'\n",
    "sns.swarmplot(x= candy_data[\"chocolate\"], y = candy_data[\"winpercent\"]) # Your code here\n",
    "\n",
    "# Check your answer\n",
    "step_7.a.check()"
   ]
  },
  {
   "cell_type": "code",
   "execution_count": 23,
   "id": "3fbaa5e8",
   "metadata": {
    "execution": {
     "iopub.execute_input": "2024-02-22T21:15:27.430720Z",
     "iopub.status.busy": "2024-02-22T21:15:27.430061Z",
     "iopub.status.idle": "2024-02-22T21:15:27.433731Z",
     "shell.execute_reply": "2024-02-22T21:15:27.433006Z"
    },
    "papermill": {
     "duration": 0.026679,
     "end_time": "2024-02-22T21:15:27.435799",
     "exception": false,
     "start_time": "2024-02-22T21:15:27.409120",
     "status": "completed"
    },
    "tags": []
   },
   "outputs": [],
   "source": [
    "# Lines below will give you a hint or solution code\n",
    "#step_7.a.hint()\n",
    "#step_7.a.solution_plot()"
   ]
  },
  {
   "cell_type": "markdown",
   "id": "a205183d",
   "metadata": {
    "papermill": {
     "duration": 0.019064,
     "end_time": "2024-02-22T21:15:27.474282",
     "exception": false,
     "start_time": "2024-02-22T21:15:27.455218",
     "status": "completed"
    },
    "tags": []
   },
   "source": [
    "#### Part B\n",
    "\n",
    "You decide to dedicate a section of your report to the fact that chocolate candies tend to be more popular than candies without chocolate.  Which plot is more appropriate to tell this story: the plot from **Step 6**, or the plot from **Step 7**?"
   ]
  },
  {
   "cell_type": "code",
   "execution_count": 24,
   "id": "91306abc",
   "metadata": {
    "execution": {
     "iopub.execute_input": "2024-02-22T21:15:27.515596Z",
     "iopub.status.busy": "2024-02-22T21:15:27.514760Z",
     "iopub.status.idle": "2024-02-22T21:15:27.518572Z",
     "shell.execute_reply": "2024-02-22T21:15:27.517866Z"
    },
    "papermill": {
     "duration": 0.026923,
     "end_time": "2024-02-22T21:15:27.520595",
     "exception": false,
     "start_time": "2024-02-22T21:15:27.493672",
     "status": "completed"
    },
    "tags": []
   },
   "outputs": [],
   "source": [
    "#step_7.b.hint()"
   ]
  },
  {
   "cell_type": "code",
   "execution_count": 25,
   "id": "1467bfac",
   "metadata": {
    "execution": {
     "iopub.execute_input": "2024-02-22T21:15:27.561112Z",
     "iopub.status.busy": "2024-02-22T21:15:27.560491Z",
     "iopub.status.idle": "2024-02-22T21:15:27.567905Z",
     "shell.execute_reply": "2024-02-22T21:15:27.566917Z"
    },
    "papermill": {
     "duration": 0.030414,
     "end_time": "2024-02-22T21:15:27.570123",
     "exception": false,
     "start_time": "2024-02-22T21:15:27.539709",
     "status": "completed"
    },
    "tags": []
   },
   "outputs": [
    {
     "data": {
      "application/javascript": [
       "parent.postMessage({\"jupyterEvent\": \"custom.exercise_interaction\", \"data\": {\"interactionType\": 3, \"questionType\": 4, \"questionId\": \"7.2_ThinkSwarm\", \"learnToolsVersion\": \"0.3.4\", \"valueTowardsCompletion\": 0.0, \"failureMessage\": \"\", \"exceptionClass\": \"\", \"trace\": \"\", \"outcomeType\": 4}}, \"*\")"
      ],
      "text/plain": [
       "<IPython.core.display.Javascript object>"
      ]
     },
     "metadata": {},
     "output_type": "display_data"
    },
    {
     "data": {
      "text/markdown": [
       "<span style=\"color:#33cc99\">Solution:</span> In this case, the categorical scatter plot from **Step 7** is the more appropriate plot. While both plots tell the desired story, the plot from **Step 6** conveys far more information that could distract from the main point."
      ],
      "text/plain": [
       "Solution: In this case, the categorical scatter plot from **Step 7** is the more appropriate plot. While both plots tell the desired story, the plot from **Step 6** conveys far more information that could distract from the main point."
      ]
     },
     "metadata": {},
     "output_type": "display_data"
    }
   ],
   "source": [
    "# Check your answer (Run this code cell to receive credit!)\n",
    "step_7.b.solution()"
   ]
  },
  {
   "cell_type": "markdown",
   "id": "dfc6b656",
   "metadata": {
    "papermill": {
     "duration": 0.019291,
     "end_time": "2024-02-22T21:15:27.608921",
     "exception": false,
     "start_time": "2024-02-22T21:15:27.589630",
     "status": "completed"
    },
    "tags": []
   },
   "source": [
    "## Keep going\n",
    "\n",
    "Explore **[histograms and density plots](https://www.kaggle.com/alexisbcook/distributions)**."
   ]
  },
  {
   "cell_type": "markdown",
   "id": "482ea3ff",
   "metadata": {
    "papermill": {
     "duration": 0.019131,
     "end_time": "2024-02-22T21:15:27.647704",
     "exception": false,
     "start_time": "2024-02-22T21:15:27.628573",
     "status": "completed"
    },
    "tags": []
   },
   "source": [
    "---\n",
    "\n",
    "\n",
    "\n",
    "\n",
    "*Have questions or comments? Visit the [course discussion forum](https://www.kaggle.com/learn/data-visualization/discussion) to chat with other learners.*"
   ]
  }
 ],
 "metadata": {
  "kaggle": {
   "accelerator": "none",
   "dataSources": [
    {
     "datasetId": 116573,
     "sourceId": 3551030,
     "sourceType": "datasetVersion"
    }
   ],
   "isGpuEnabled": false,
   "isInternetEnabled": false,
   "language": "python",
   "sourceType": "notebook"
  },
  "kernelspec": {
   "display_name": "Python 3",
   "language": "python",
   "name": "python3"
  },
  "language_info": {
   "codemirror_mode": {
    "name": "ipython",
    "version": 3
   },
   "file_extension": ".py",
   "mimetype": "text/x-python",
   "name": "python",
   "nbconvert_exporter": "python",
   "pygments_lexer": "ipython3",
   "version": "3.10.13"
  },
  "papermill": {
   "default_parameters": {},
   "duration": 9.654471,
   "end_time": "2024-02-22T21:15:28.288614",
   "environment_variables": {},
   "exception": null,
   "input_path": "__notebook__.ipynb",
   "output_path": "__notebook__.ipynb",
   "parameters": {},
   "start_time": "2024-02-22T21:15:18.634143",
   "version": "2.5.0"
  }
 },
 "nbformat": 4,
 "nbformat_minor": 5
}
