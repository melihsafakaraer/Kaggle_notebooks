{
 "cells": [
  {
   "cell_type": "markdown",
   "id": "451c746e",
   "metadata": {
    "papermill": {
     "duration": 0.00707,
     "end_time": "2024-02-22T21:16:16.515979",
     "exception": false,
     "start_time": "2024-02-22T21:16:16.508909",
     "status": "completed"
    },
    "tags": []
   },
   "source": [
    "**This notebook is an exercise in the [Data Visualization](https://www.kaggle.com/learn/data-visualization) course.  You can reference the tutorial at [this link](https://www.kaggle.com/alexisbcook/final-project).**\n",
    "\n",
    "---\n"
   ]
  },
  {
   "cell_type": "markdown",
   "id": "6095ed84",
   "metadata": {
    "papermill": {
     "duration": 0.005239,
     "end_time": "2024-02-22T21:16:16.528176",
     "exception": false,
     "start_time": "2024-02-22T21:16:16.522937",
     "status": "completed"
    },
    "tags": []
   },
   "source": [
    "Now it's time for you to demonstrate your new skills with a project of your own!\n",
    "\n",
    "In this exercise, you will work with a dataset of your choosing.  Once you've selected a dataset, you'll design and create your own plot to tell interesting stories behind the data!\n",
    "\n",
    "## Setup\n",
    "\n",
    "Run the next cell to import and configure the Python libraries that you need to complete the exercise."
   ]
  },
  {
   "cell_type": "code",
   "execution_count": 1,
   "id": "e50a6446",
   "metadata": {
    "execution": {
     "iopub.execute_input": "2024-02-22T21:16:16.541037Z",
     "iopub.status.busy": "2024-02-22T21:16:16.540527Z",
     "iopub.status.idle": "2024-02-22T21:16:18.971729Z",
     "shell.execute_reply": "2024-02-22T21:16:18.970462Z"
    },
    "papermill": {
     "duration": 2.440832,
     "end_time": "2024-02-22T21:16:18.974458",
     "exception": false,
     "start_time": "2024-02-22T21:16:16.533626",
     "status": "completed"
    },
    "tags": []
   },
   "outputs": [
    {
     "name": "stdout",
     "output_type": "stream",
     "text": [
      "Setup Complete\n"
     ]
    }
   ],
   "source": [
    "import pandas as pd\n",
    "pd.plotting.register_matplotlib_converters()\n",
    "import matplotlib.pyplot as plt\n",
    "%matplotlib inline\n",
    "import seaborn as sns\n",
    "print(\"Setup Complete\")"
   ]
  },
  {
   "cell_type": "markdown",
   "id": "1c32fa38",
   "metadata": {
    "papermill": {
     "duration": 0.005346,
     "end_time": "2024-02-22T21:16:18.985775",
     "exception": false,
     "start_time": "2024-02-22T21:16:18.980429",
     "status": "completed"
    },
    "tags": []
   },
   "source": [
    "The questions below will give you feedback on your work. Run the following cell to set up the feedback system."
   ]
  },
  {
   "cell_type": "code",
   "execution_count": 2,
   "id": "d1457c6a",
   "metadata": {
    "execution": {
     "iopub.execute_input": "2024-02-22T21:16:18.998851Z",
     "iopub.status.busy": "2024-02-22T21:16:18.998270Z",
     "iopub.status.idle": "2024-02-22T21:16:19.040368Z",
     "shell.execute_reply": "2024-02-22T21:16:19.039259Z"
    },
    "papermill": {
     "duration": 0.051438,
     "end_time": "2024-02-22T21:16:19.042811",
     "exception": false,
     "start_time": "2024-02-22T21:16:18.991373",
     "status": "completed"
    },
    "tags": []
   },
   "outputs": [
    {
     "name": "stdout",
     "output_type": "stream",
     "text": [
      "Setup Complete\n"
     ]
    }
   ],
   "source": [
    "# Set up code checking\n",
    "from learntools.core import binder\n",
    "binder.bind(globals())\n",
    "from learntools.data_viz_to_coder.ex7 import *\n",
    "print(\"Setup Complete\")"
   ]
  },
  {
   "cell_type": "markdown",
   "id": "6896420a",
   "metadata": {
    "papermill": {
     "duration": 0.005663,
     "end_time": "2024-02-22T21:16:19.054538",
     "exception": false,
     "start_time": "2024-02-22T21:16:19.048875",
     "status": "completed"
    },
    "tags": []
   },
   "source": [
    "## Step 1: Attach a dataset to the notebook\n",
    "\n",
    "Begin by selecting a CSV dataset from [Kaggle Datasets](https://www.kaggle.com/datasets).  If you're unsure how to do this, please revisit the instructions in the previous tutorial.\n",
    "\n",
    "Once you have selected a dataset, click on the **[+ Add data]** option in the top right corner.  This will generate a pop-up window that you can use to search for your chosen dataset.  \n",
    "\n",
    "![ex6_search_dataset](https://storage.googleapis.com/kaggle-media/learn/images/cIIWPUS.png)\n",
    "\n",
    "Once you have found the dataset, click on the **[Add]** button to attach it to the notebook.  You can check that it was successful by looking at the **Data** dropdown menu to the right of the notebook -- look for an **input** folder containing a subfolder that matches the name of the dataset.\n",
    "\n",
    "<center>\n",
    "<img src=\"https://storage.googleapis.com/kaggle-media/learn/images/nMYc1Nu.png\" width=30%><br/>\n",
    "</center>\n",
    "\n",
    "You can click on the carat to the left of the name of the dataset to double-check that it contains a CSV file.  For instance, the image below shows that the example dataset contains two CSV files: (1) **dc-wikia-data.csv**, and (2) **marvel-wikia-data.csv**.\n",
    "\n",
    "<center>\n",
    "<img src=\"https://storage.googleapis.com/kaggle-media/learn/images/B4sJkVA.png\" width=30%><br/>\n",
    "</center>\n",
    "\n",
    "Once you've uploaded a dataset with a CSV file, run the code cell below **without changes** to receive credit for your work!"
   ]
  },
  {
   "cell_type": "code",
   "execution_count": 3,
   "id": "c5a9bfc5",
   "metadata": {
    "execution": {
     "iopub.execute_input": "2024-02-22T21:16:19.068685Z",
     "iopub.status.busy": "2024-02-22T21:16:19.067532Z",
     "iopub.status.idle": "2024-02-22T21:16:19.082865Z",
     "shell.execute_reply": "2024-02-22T21:16:19.081750Z"
    },
    "papermill": {
     "duration": 0.024999,
     "end_time": "2024-02-22T21:16:19.085376",
     "exception": false,
     "start_time": "2024-02-22T21:16:19.060377",
     "status": "completed"
    },
    "tags": []
   },
   "outputs": [
    {
     "data": {
      "application/javascript": [
       "parent.postMessage({\"jupyterEvent\": \"custom.exercise_interaction\", \"data\": {\"outcomeType\": 1, \"valueTowardsCompletion\": 0.25, \"interactionType\": 1, \"questionType\": 2, \"questionId\": \"1_AttachData\", \"learnToolsVersion\": \"0.3.4\", \"failureMessage\": \"\", \"exceptionClass\": \"\", \"trace\": \"\"}}, \"*\")"
      ],
      "text/plain": [
       "<IPython.core.display.Javascript object>"
      ]
     },
     "metadata": {},
     "output_type": "display_data"
    },
    {
     "data": {
      "text/markdown": [
       "<span style=\"color:#33cc33\">Correct:</span> \n",
       "\n"
      ],
      "text/plain": [
       "Correct: \n"
      ]
     },
     "metadata": {},
     "output_type": "display_data"
    }
   ],
   "source": [
    "# Check for a dataset with a CSV file\n",
    "step_1.check()"
   ]
  },
  {
   "cell_type": "markdown",
   "id": "01fa16ea",
   "metadata": {
    "papermill": {
     "duration": 0.005842,
     "end_time": "2024-02-22T21:16:19.097278",
     "exception": false,
     "start_time": "2024-02-22T21:16:19.091436",
     "status": "completed"
    },
    "tags": []
   },
   "source": [
    "## Step 2: Specify the filepath\n",
    "\n",
    "Now that the dataset is attached to the notebook, you can find its filepath.  To do this, begin by clicking on the CSV file you'd like to use.  This will open the CSV file in a tab below the notebook.  You can find the filepath towards the top of this new tab.  \n",
    "\n",
    "![ex6_filepath](https://storage.googleapis.com/kaggle-media/learn/images/fgXQV47.png)\n",
    "\n",
    "After you find the filepath corresponding to your dataset, fill it in as the value for `my_filepath` in the code cell below, and run the code cell to check that you've provided a valid filepath.  For instance, in the case of this example dataset, we would set\n",
    "```\n",
    "my_filepath = \"../input/fivethirtyeight-comic-characters-dataset/dc-wikia-data.csv\"\n",
    "```  \n",
    "Note that **you must enclose the filepath in quotation marks**; otherwise, the code will return an error.\n",
    "\n",
    "Once you've entered the filepath, you can close the tab below the notebook by clicking on the **[X]** at the top of the tab."
   ]
  },
  {
   "cell_type": "code",
   "execution_count": 4,
   "id": "3df6d1eb",
   "metadata": {
    "execution": {
     "iopub.execute_input": "2024-02-22T21:16:19.111731Z",
     "iopub.status.busy": "2024-02-22T21:16:19.110673Z",
     "iopub.status.idle": "2024-02-22T21:16:19.120764Z",
     "shell.execute_reply": "2024-02-22T21:16:19.119651Z"
    },
    "papermill": {
     "duration": 0.019945,
     "end_time": "2024-02-22T21:16:19.123231",
     "exception": false,
     "start_time": "2024-02-22T21:16:19.103286",
     "status": "completed"
    },
    "tags": []
   },
   "outputs": [
    {
     "data": {
      "application/javascript": [
       "parent.postMessage({\"jupyterEvent\": \"custom.exercise_interaction\", \"data\": {\"outcomeType\": 1, \"valueTowardsCompletion\": 0.25, \"interactionType\": 1, \"questionType\": 2, \"questionId\": \"2_Filepath\", \"learnToolsVersion\": \"0.3.4\", \"failureMessage\": \"\", \"exceptionClass\": \"\", \"trace\": \"\"}}, \"*\")"
      ],
      "text/plain": [
       "<IPython.core.display.Javascript object>"
      ]
     },
     "metadata": {},
     "output_type": "display_data"
    },
    {
     "data": {
      "text/markdown": [
       "<span style=\"color:#33cc33\">Correct:</span> \n",
       "\n"
      ],
      "text/plain": [
       "Correct: \n"
      ]
     },
     "metadata": {},
     "output_type": "display_data"
    }
   ],
   "source": [
    "# Fill in the line below: Specify the path of the CSV file to read\n",
    "my_filepath = \"../input/gold-coin-prices/1.csv\"\n",
    "\n",
    "# Check for a valid filepath to a CSV file in a dataset\n",
    "step_2.check()"
   ]
  },
  {
   "cell_type": "markdown",
   "id": "f53a00c5",
   "metadata": {
    "papermill": {
     "duration": 0.006291,
     "end_time": "2024-02-22T21:16:19.136184",
     "exception": false,
     "start_time": "2024-02-22T21:16:19.129893",
     "status": "completed"
    },
    "tags": []
   },
   "source": [
    "## Step 3: Load the data\n",
    "\n",
    "Use the next code cell to load your data file into `my_data`.  Use the filepath that you specified in the previous step."
   ]
  },
  {
   "cell_type": "code",
   "execution_count": 5,
   "id": "97992658",
   "metadata": {
    "execution": {
     "iopub.execute_input": "2024-02-22T21:16:19.150854Z",
     "iopub.status.busy": "2024-02-22T21:16:19.150418Z",
     "iopub.status.idle": "2024-02-22T21:16:19.189887Z",
     "shell.execute_reply": "2024-02-22T21:16:19.189133Z"
    },
    "papermill": {
     "duration": 0.049348,
     "end_time": "2024-02-22T21:16:19.192023",
     "exception": false,
     "start_time": "2024-02-22T21:16:19.142675",
     "status": "completed"
    },
    "tags": []
   },
   "outputs": [
    {
     "data": {
      "application/javascript": [
       "parent.postMessage({\"jupyterEvent\": \"custom.exercise_interaction\", \"data\": {\"outcomeType\": 1, \"valueTowardsCompletion\": 0.25, \"interactionType\": 1, \"questionType\": 2, \"questionId\": \"3_LoadData\", \"learnToolsVersion\": \"0.3.4\", \"failureMessage\": \"\", \"exceptionClass\": \"\", \"trace\": \"\"}}, \"*\")"
      ],
      "text/plain": [
       "<IPython.core.display.Javascript object>"
      ]
     },
     "metadata": {},
     "output_type": "display_data"
    },
    {
     "data": {
      "text/markdown": [
       "<span style=\"color:#33cc33\">Correct:</span> \n",
       "\n"
      ],
      "text/plain": [
       "Correct: \n"
      ]
     },
     "metadata": {},
     "output_type": "display_data"
    },
    {
     "data": {
      "text/plain": [
       "(4263, 8)"
      ]
     },
     "execution_count": 5,
     "metadata": {},
     "output_type": "execute_result"
    }
   ],
   "source": [
    "# Fill in the line below: Read the file into a variable my_data\n",
    "my_data = pd.read_csv(my_filepath)\n",
    "\n",
    "# Check that a dataset has been uploaded into my_data\n",
    "step_3.check()\n",
    "my_data.shape"
   ]
  },
  {
   "cell_type": "markdown",
   "id": "c9ecbfce",
   "metadata": {
    "papermill": {
     "duration": 0.006777,
     "end_time": "2024-02-22T21:16:19.205628",
     "exception": false,
     "start_time": "2024-02-22T21:16:19.198851",
     "status": "completed"
    },
    "tags": []
   },
   "source": [
    "**_After the code cell above is marked correct_**, run the code cell below without changes to view the first five rows of the data."
   ]
  },
  {
   "cell_type": "code",
   "execution_count": 6,
   "id": "c6f94c1b",
   "metadata": {
    "execution": {
     "iopub.execute_input": "2024-02-22T21:16:19.221280Z",
     "iopub.status.busy": "2024-02-22T21:16:19.220867Z",
     "iopub.status.idle": "2024-02-22T21:16:19.239177Z",
     "shell.execute_reply": "2024-02-22T21:16:19.237950Z"
    },
    "papermill": {
     "duration": 0.029429,
     "end_time": "2024-02-22T21:16:19.241901",
     "exception": false,
     "start_time": "2024-02-22T21:16:19.212472",
     "status": "completed"
    },
    "tags": []
   },
   "outputs": [
    {
     "data": {
      "text/html": [
       "<div>\n",
       "<style scoped>\n",
       "    .dataframe tbody tr th:only-of-type {\n",
       "        vertical-align: middle;\n",
       "    }\n",
       "\n",
       "    .dataframe tbody tr th {\n",
       "        vertical-align: top;\n",
       "    }\n",
       "\n",
       "    .dataframe thead th {\n",
       "        text-align: right;\n",
       "    }\n",
       "</style>\n",
       "<table border=\"1\" class=\"dataframe\">\n",
       "  <thead>\n",
       "    <tr style=\"text-align: right;\">\n",
       "      <th></th>\n",
       "      <th>J-Date</th>\n",
       "      <th>Date</th>\n",
       "      <th>Weekday</th>\n",
       "      <th>Open</th>\n",
       "      <th>High</th>\n",
       "      <th>Low</th>\n",
       "      <th>Close</th>\n",
       "      <th>Symbol</th>\n",
       "    </tr>\n",
       "  </thead>\n",
       "  <tbody>\n",
       "    <tr>\n",
       "      <th>0</th>\n",
       "      <td>1389-01-15</td>\n",
       "      <td>4/4/2010</td>\n",
       "      <td>Sunday</td>\n",
       "      <td>2680000</td>\n",
       "      <td>2680000</td>\n",
       "      <td>2680000</td>\n",
       "      <td>2680000</td>\n",
       "      <td>سکه امامی</td>\n",
       "    </tr>\n",
       "    <tr>\n",
       "      <th>1</th>\n",
       "      <td>1389-01-16</td>\n",
       "      <td>4/5/2010</td>\n",
       "      <td>Monday</td>\n",
       "      <td>2680000</td>\n",
       "      <td>2680000</td>\n",
       "      <td>2680000</td>\n",
       "      <td>2680000</td>\n",
       "      <td>سکه امامی</td>\n",
       "    </tr>\n",
       "    <tr>\n",
       "      <th>2</th>\n",
       "      <td>1389-01-17</td>\n",
       "      <td>4/6/2010</td>\n",
       "      <td>Tuesday</td>\n",
       "      <td>2680000</td>\n",
       "      <td>2680000</td>\n",
       "      <td>2680000</td>\n",
       "      <td>2680000</td>\n",
       "      <td>سکه امامی</td>\n",
       "    </tr>\n",
       "    <tr>\n",
       "      <th>3</th>\n",
       "      <td>1389-01-18</td>\n",
       "      <td>4/7/2010</td>\n",
       "      <td>Wednesday</td>\n",
       "      <td>2710000</td>\n",
       "      <td>2710000</td>\n",
       "      <td>2710000</td>\n",
       "      <td>2710000</td>\n",
       "      <td>سکه امامی</td>\n",
       "    </tr>\n",
       "    <tr>\n",
       "      <th>4</th>\n",
       "      <td>1389-01-20</td>\n",
       "      <td>4/9/2010</td>\n",
       "      <td>Friday</td>\n",
       "      <td>2720000</td>\n",
       "      <td>2720000</td>\n",
       "      <td>2720000</td>\n",
       "      <td>2720000</td>\n",
       "      <td>سکه امامی</td>\n",
       "    </tr>\n",
       "  </tbody>\n",
       "</table>\n",
       "</div>"
      ],
      "text/plain": [
       "       J-Date      Date    Weekday     Open     High      Low    Close  \\\n",
       "0  1389-01-15  4/4/2010     Sunday  2680000  2680000  2680000  2680000   \n",
       "1  1389-01-16  4/5/2010     Monday  2680000  2680000  2680000  2680000   \n",
       "2  1389-01-17  4/6/2010    Tuesday  2680000  2680000  2680000  2680000   \n",
       "3  1389-01-18  4/7/2010  Wednesday  2710000  2710000  2710000  2710000   \n",
       "4  1389-01-20  4/9/2010     Friday  2720000  2720000  2720000  2720000   \n",
       "\n",
       "      Symbol  \n",
       "0  سکه امامی  \n",
       "1  سکه امامی  \n",
       "2  سکه امامی  \n",
       "3  سکه امامی  \n",
       "4  سکه امامی  "
      ]
     },
     "execution_count": 6,
     "metadata": {},
     "output_type": "execute_result"
    }
   ],
   "source": [
    "# Print the first five rows of the data\n",
    "my_data.head()"
   ]
  },
  {
   "cell_type": "markdown",
   "id": "5ad7f29b",
   "metadata": {
    "papermill": {
     "duration": 0.007322,
     "end_time": "2024-02-22T21:16:19.256694",
     "exception": false,
     "start_time": "2024-02-22T21:16:19.249372",
     "status": "completed"
    },
    "tags": []
   },
   "source": [
    "## Step 4: Visualize the data\n",
    "\n",
    "Use the next code cell to create a figure that tells a story behind your dataset.  You can use any chart type (_line chart, bar chart, heatmap, etc_) of your choosing!"
   ]
  },
  {
   "cell_type": "code",
   "execution_count": 7,
   "id": "eef8786f",
   "metadata": {
    "execution": {
     "iopub.execute_input": "2024-02-22T21:16:19.273558Z",
     "iopub.status.busy": "2024-02-22T21:16:19.273029Z",
     "iopub.status.idle": "2024-02-22T21:17:10.886932Z",
     "shell.execute_reply": "2024-02-22T21:17:10.885642Z"
    },
    "papermill": {
     "duration": 51.634429,
     "end_time": "2024-02-22T21:17:10.898772",
     "exception": false,
     "start_time": "2024-02-22T21:16:19.264343",
     "status": "completed"
    },
    "tags": []
   },
   "outputs": [
    {
     "name": "stderr",
     "output_type": "stream",
     "text": [
      "/opt/conda/lib/python3.10/site-packages/seaborn/_oldcore.py:1119: FutureWarning: use_inf_as_na option is deprecated and will be removed in a future version. Convert inf values to NaN before operating instead.\n",
      "  with pd.option_context('mode.use_inf_as_na', True):\n",
      "/opt/conda/lib/python3.10/site-packages/seaborn/_oldcore.py:1119: FutureWarning: use_inf_as_na option is deprecated and will be removed in a future version. Convert inf values to NaN before operating instead.\n",
      "  with pd.option_context('mode.use_inf_as_na', True):\n"
     ]
    },
    {
     "data": {
      "application/javascript": [
       "parent.postMessage({\"jupyterEvent\": \"custom.exercise_interaction\", \"data\": {\"outcomeType\": 1, \"valueTowardsCompletion\": 0.25, \"interactionType\": 1, \"questionType\": 2, \"questionId\": \"4_CreatePlot\", \"learnToolsVersion\": \"0.3.4\", \"failureMessage\": \"\", \"exceptionClass\": \"\", \"trace\": \"\"}}, \"*\")"
      ],
      "text/plain": [
       "<IPython.core.display.Javascript object>"
      ]
     },
     "metadata": {},
     "output_type": "display_data"
    },
    {
     "data": {
      "text/markdown": [
       "<span style=\"color:#33cc33\">Correct:</span> \n",
       "\n"
      ],
      "text/plain": [
       "Correct: \n"
      ]
     },
     "metadata": {},
     "output_type": "display_data"
    },
    {
     "data": {
      "image/png": "[encoded data removed]",
      "text/plain": [
       "<Figure size 640x480 with 1 Axes>"
      ]
     },
     "metadata": {},
     "output_type": "display_data"
    }
   ],
   "source": [
    "# Create a plot\n",
    "sns.lineplot(data = my_data, x= \"Date\", y = \"Close\" ) # Your code here\n",
    "\n",
    "# Check that a figure appears below\n",
    "step_4.check()"
   ]
  },
  {
   "cell_type": "markdown",
   "id": "80799183",
   "metadata": {
    "papermill": {
     "duration": 0.007844,
     "end_time": "2024-02-22T21:17:10.914647",
     "exception": false,
     "start_time": "2024-02-22T21:17:10.906803",
     "status": "completed"
    },
    "tags": []
   },
   "source": [
    "## Keep going\n",
    "\n",
    "Learn how to use your skills after completing the micro-course to create data visualizations in a **[final tutorial](https://www.kaggle.com/alexisbcook/creating-your-own-notebooks)**."
   ]
  },
  {
   "cell_type": "markdown",
   "id": "952db2d9",
   "metadata": {
    "papermill": {
     "duration": 0.007893,
     "end_time": "2024-02-22T21:17:10.930675",
     "exception": false,
     "start_time": "2024-02-22T21:17:10.922782",
     "status": "completed"
    },
    "tags": []
   },
   "source": [
    "---\n",
    "\n",
    "\n",
    "\n",
    "\n",
    "*Have questions or comments? Visit the [course discussion forum](https://www.kaggle.com/learn/data-visualization/discussion) to chat with other learners.*"
   ]
  }
 ],
 "metadata": {
  "kaggle": {
   "accelerator": "none",
   "dataSources": [
    {
     "datasetId": 4332636,
     "sourceId": 7443598,
     "sourceType": "datasetVersion"
    }
   ],
   "isGpuEnabled": false,
   "isInternetEnabled": false,
   "language": "python",
   "sourceType": "notebook"
  },
  "kernelspec": {
   "display_name": "Python 3",
   "language": "python",
   "name": "python3"
  },
  "language_info": {
   "codemirror_mode": {
    "name": "ipython",
    "version": 3
   },
   "file_extension": ".py",
   "mimetype": "text/x-python",
   "name": "python",
   "nbconvert_exporter": "python",
   "pygments_lexer": "ipython3",
   "version": "3.10.13"
  },
  "papermill": {
   "default_parameters": {},
   "duration": 58.490039,
   "end_time": "2024-02-22T21:17:11.961206",
   "environment_variables": {},
   "exception": null,
   "input_path": "__notebook__.ipynb",
   "output_path": "__notebook__.ipynb",
   "parameters": {},
   "start_time": "2024-02-22T21:16:13.471167",
   "version": "2.5.0"
  }
 },
 "nbformat": 4,
 "nbformat_minor": 5
}
