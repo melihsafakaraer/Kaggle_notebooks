{
 "cells": [
  {
   "cell_type": "markdown",
   "id": "69ec6812",
   "metadata": {
    "papermill": {
     "duration": 0.011099,
     "end_time": "2024-02-22T21:28:27.028216",
     "exception": false,
     "start_time": "2024-02-22T21:28:27.017117",
     "status": "completed"
    },
    "tags": []
   },
   "source": [
    "**This notebook is an exercise in the [Python](https://www.kaggle.com/learn/python) course.  You can reference the tutorial at [this link](https://www.kaggle.com/colinmorris/booleans-and-conditionals).**\n",
    "\n",
    "---\n"
   ]
  },
  {
   "cell_type": "markdown",
   "id": "9d3cadf8",
   "metadata": {
    "papermill": {
     "duration": 0.008272,
     "end_time": "2024-02-22T21:28:27.046015",
     "exception": false,
     "start_time": "2024-02-22T21:28:27.037743",
     "status": "completed"
    },
    "tags": []
   },
   "source": [
    "In this exercise, you'll put to work what you have learned about booleans and conditionals.\n",
    "\n",
    "To get started, **run the setup code below** before writing your own code (and if you leave this notebook and come back later, don't forget to run the setup code again)."
   ]
  },
  {
   "cell_type": "code",
   "execution_count": 1,
   "id": "cfde3382",
   "metadata": {
    "execution": {
     "iopub.execute_input": "2024-02-22T21:28:27.065599Z",
     "iopub.status.busy": "2024-02-22T21:28:27.065038Z",
     "iopub.status.idle": "2024-02-22T21:28:28.080292Z",
     "shell.execute_reply": "2024-02-22T21:28:28.077713Z"
    },
    "papermill": {
     "duration": 1.028254,
     "end_time": "2024-02-22T21:28:28.082956",
     "exception": false,
     "start_time": "2024-02-22T21:28:27.054702",
     "status": "completed"
    },
    "tags": []
   },
   "outputs": [
    {
     "name": "stdout",
     "output_type": "stream",
     "text": [
      "Setup complete.\n"
     ]
    }
   ],
   "source": [
    "from learntools.core import binder; binder.bind(globals())\n",
    "from learntools.python.ex3 import *\n",
    "print('Setup complete.')"
   ]
  },
  {
   "cell_type": "markdown",
   "id": "c25e89b0",
   "metadata": {
    "papermill": {
     "duration": 0.008438,
     "end_time": "2024-02-22T21:28:28.100653",
     "exception": false,
     "start_time": "2024-02-22T21:28:28.092215",
     "status": "completed"
    },
    "tags": []
   },
   "source": [
    "# 1.\n",
    "\n",
    "Many programming languages have [`sign`](https://en.wikipedia.org/wiki/Sign_function) available as a built-in function. Python doesn't, but we can define our own!\n",
    "\n",
    "In the cell below, define a function called `sign` which takes a numerical argument and returns -1 if it's negative, 1 if it's positive, and 0 if it's 0."
   ]
  },
  {
   "cell_type": "code",
   "execution_count": 2,
   "id": "3918a9d2",
   "metadata": {
    "execution": {
     "iopub.execute_input": "2024-02-22T21:28:28.121235Z",
     "iopub.status.busy": "2024-02-22T21:28:28.119966Z",
     "iopub.status.idle": "2024-02-22T21:28:28.131466Z",
     "shell.execute_reply": "2024-02-22T21:28:28.130380Z"
    },
    "papermill": {
     "duration": 0.023769,
     "end_time": "2024-02-22T21:28:28.133567",
     "exception": false,
     "start_time": "2024-02-22T21:28:28.109798",
     "status": "completed"
    },
    "tags": []
   },
   "outputs": [
    {
     "data": {
      "application/javascript": [
       "parent.postMessage({\"jupyterEvent\": \"custom.exercise_interaction\", \"data\": {\"outcomeType\": 1, \"valueTowardsCompletion\": 0.2, \"interactionType\": 1, \"questionType\": 2, \"questionId\": \"1_SignFunctionProblem\", \"learnToolsVersion\": \"0.3.4\", \"failureMessage\": \"\", \"exceptionClass\": \"\", \"trace\": \"\"}}, \"*\")"
      ],
      "text/plain": [
       "<IPython.core.display.Javascript object>"
      ]
     },
     "metadata": {},
     "output_type": "display_data"
    },
    {
     "data": {
      "text/markdown": [
       "<span style=\"color:#33cc33\">Correct</span>"
      ],
      "text/plain": [
       "Correct"
      ]
     },
     "metadata": {},
     "output_type": "display_data"
    }
   ],
   "source": [
    "# Your code goes here. Define a function called 'sign'\n",
    "def sign(a):\n",
    "    if a<0:\n",
    "        return -1\n",
    "    elif a>0:\n",
    "        return 1\n",
    "    else:\n",
    "        return 0\n",
    "# Check your answer\n",
    "q1.check()"
   ]
  },
  {
   "cell_type": "code",
   "execution_count": 3,
   "id": "3e0ac353",
   "metadata": {
    "execution": {
     "iopub.execute_input": "2024-02-22T21:28:28.155746Z",
     "iopub.status.busy": "2024-02-22T21:28:28.155284Z",
     "iopub.status.idle": "2024-02-22T21:28:28.160191Z",
     "shell.execute_reply": "2024-02-22T21:28:28.158945Z"
    },
    "papermill": {
     "duration": 0.019341,
     "end_time": "2024-02-22T21:28:28.162528",
     "exception": false,
     "start_time": "2024-02-22T21:28:28.143187",
     "status": "completed"
    },
    "tags": []
   },
   "outputs": [],
   "source": [
    "#q1.solution()"
   ]
  },
  {
   "cell_type": "markdown",
   "id": "f7d2dc04",
   "metadata": {
    "papermill": {
     "duration": 0.0087,
     "end_time": "2024-02-22T21:28:28.180474",
     "exception": false,
     "start_time": "2024-02-22T21:28:28.171774",
     "status": "completed"
    },
    "tags": []
   },
   "source": [
    "# 2.\n",
    "\n",
    "We've decided to add \"logging\" to our `to_smash` function from the previous exercise."
   ]
  },
  {
   "cell_type": "code",
   "execution_count": 4,
   "id": "00f1f475",
   "metadata": {
    "execution": {
     "iopub.execute_input": "2024-02-22T21:28:28.200821Z",
     "iopub.status.busy": "2024-02-22T21:28:28.200342Z",
     "iopub.status.idle": "2024-02-22T21:28:28.208764Z",
     "shell.execute_reply": "2024-02-22T21:28:28.207553Z"
    },
    "papermill": {
     "duration": 0.02117,
     "end_time": "2024-02-22T21:28:28.210886",
     "exception": false,
     "start_time": "2024-02-22T21:28:28.189716",
     "status": "completed"
    },
    "tags": []
   },
   "outputs": [
    {
     "name": "stdout",
     "output_type": "stream",
     "text": [
      "Splitting 91 candies\n"
     ]
    },
    {
     "data": {
      "text/plain": [
       "1"
      ]
     },
     "execution_count": 4,
     "metadata": {},
     "output_type": "execute_result"
    }
   ],
   "source": [
    "def to_smash(total_candies):\n",
    "    \"\"\"Return the number of leftover candies that must be smashed after distributing\n",
    "    the given number of candies evenly between 3 friends.\n",
    "    \n",
    "    >>> to_smash(91)\n",
    "    1\n",
    "    \"\"\"\n",
    "    print(\"Splitting\", total_candies, \"candies\")\n",
    "    return total_candies % 3\n",
    "\n",
    "to_smash(91)"
   ]
  },
  {
   "cell_type": "markdown",
   "id": "6c82c93d",
   "metadata": {
    "papermill": {
     "duration": 0.008835,
     "end_time": "2024-02-22T21:28:28.229036",
     "exception": false,
     "start_time": "2024-02-22T21:28:28.220201",
     "status": "completed"
    },
    "tags": []
   },
   "source": [
    "What happens if we call it with `total_candies = 1`?"
   ]
  },
  {
   "cell_type": "code",
   "execution_count": 5,
   "id": "fbf0797a",
   "metadata": {
    "execution": {
     "iopub.execute_input": "2024-02-22T21:28:28.250487Z",
     "iopub.status.busy": "2024-02-22T21:28:28.249951Z",
     "iopub.status.idle": "2024-02-22T21:28:28.257210Z",
     "shell.execute_reply": "2024-02-22T21:28:28.256161Z"
    },
    "papermill": {
     "duration": 0.021804,
     "end_time": "2024-02-22T21:28:28.260629",
     "exception": false,
     "start_time": "2024-02-22T21:28:28.238825",
     "status": "completed"
    },
    "tags": []
   },
   "outputs": [
    {
     "name": "stdout",
     "output_type": "stream",
     "text": [
      "Splitting 1 candies\n"
     ]
    },
    {
     "data": {
      "text/plain": [
       "1"
      ]
     },
     "execution_count": 5,
     "metadata": {},
     "output_type": "execute_result"
    }
   ],
   "source": [
    "to_smash(1)"
   ]
  },
  {
   "cell_type": "markdown",
   "id": "87dc489d",
   "metadata": {
    "papermill": {
     "duration": 0.009198,
     "end_time": "2024-02-22T21:28:28.279645",
     "exception": false,
     "start_time": "2024-02-22T21:28:28.270447",
     "status": "completed"
    },
    "tags": []
   },
   "source": [
    "That isn't great grammar!\n",
    "\n",
    "Modify the definition in the cell below to correct the grammar of our print statement. (If there's only one candy, we should use the singular \"candy\" instead of the plural \"candies\")"
   ]
  },
  {
   "cell_type": "code",
   "execution_count": 6,
   "id": "e5e8df3a",
   "metadata": {
    "execution": {
     "iopub.execute_input": "2024-02-22T21:28:28.301119Z",
     "iopub.status.busy": "2024-02-22T21:28:28.300690Z",
     "iopub.status.idle": "2024-02-22T21:28:28.308657Z",
     "shell.execute_reply": "2024-02-22T21:28:28.307633Z"
    },
    "papermill": {
     "duration": 0.022488,
     "end_time": "2024-02-22T21:28:28.311705",
     "exception": false,
     "start_time": "2024-02-22T21:28:28.289217",
     "status": "completed"
    },
    "tags": []
   },
   "outputs": [
    {
     "name": "stdout",
     "output_type": "stream",
     "text": [
      "Splitting 91 candies\n",
      "Splitting 1 candies\n"
     ]
    },
    {
     "data": {
      "text/plain": [
       "1"
      ]
     },
     "execution_count": 6,
     "metadata": {},
     "output_type": "execute_result"
    }
   ],
   "source": [
    "def to_smash(total_candies):\n",
    "    \"\"\"Return the number of leftover candies that must be smashed after distributing\n",
    "    the given number of candies evenly between 3 friends.\n",
    "    .\n",
    "    >>> to_smash(91)\n",
    "    1\n",
    "    \"\"\"\n",
    "    print(\"Splitting\", total_candies, \"candies\")\n",
    "    return total_candies % 3\n",
    "\n",
    "to_smash(91)\n",
    "to_smash(1)"
   ]
  },
  {
   "cell_type": "markdown",
   "id": "b392e433",
   "metadata": {
    "papermill": {
     "duration": 0.009551,
     "end_time": "2024-02-22T21:28:28.330942",
     "exception": false,
     "start_time": "2024-02-22T21:28:28.321391",
     "status": "completed"
    },
    "tags": []
   },
   "source": [
    "To get credit for completing this problem, and to see the official answer, run the code cell below."
   ]
  },
  {
   "cell_type": "code",
   "execution_count": 7,
   "id": "fcf12a5f",
   "metadata": {
    "execution": {
     "iopub.execute_input": "2024-02-22T21:28:28.354083Z",
     "iopub.status.busy": "2024-02-22T21:28:28.352761Z",
     "iopub.status.idle": "2024-02-22T21:28:28.361385Z",
     "shell.execute_reply": "2024-02-22T21:28:28.360488Z"
    },
    "papermill": {
     "duration": 0.022292,
     "end_time": "2024-02-22T21:28:28.363410",
     "exception": false,
     "start_time": "2024-02-22T21:28:28.341118",
     "status": "completed"
    },
    "tags": []
   },
   "outputs": [
    {
     "data": {
      "application/javascript": [
       "parent.postMessage({\"jupyterEvent\": \"custom.exercise_interaction\", \"data\": {\"interactionType\": 3, \"questionType\": 4, \"questionId\": \"2_PluralizationProblem\", \"learnToolsVersion\": \"0.3.4\", \"valueTowardsCompletion\": 0.0, \"failureMessage\": \"\", \"exceptionClass\": \"\", \"trace\": \"\", \"outcomeType\": 4}}, \"*\")"
      ],
      "text/plain": [
       "<IPython.core.display.Javascript object>"
      ]
     },
     "metadata": {},
     "output_type": "display_data"
    },
    {
     "data": {
      "text/markdown": [
       "<span style=\"color:#33cc99\">Solution:</span> A straightforward (and totally fine) solution is to replace the original `print` call with:\n",
       "\n",
       "```python\n",
       "if total_candies == 1:\n",
       "    print(\"Splitting 1 candy\")\n",
       "else:\n",
       "    print(\"Splitting\", total_candies, \"candies\")\n",
       "```\n",
       "\n",
       "Here's a slightly more succinct solution using a conditional expression:\n",
       "\n",
       "```python\n",
       "print(\"Splitting\", total_candies, \"candy\" if total_candies == 1 else \"candies\")\n",
       "```"
      ],
      "text/plain": [
       "Solution: A straightforward (and totally fine) solution is to replace the original `print` call with:\n",
       "\n",
       "```python\n",
       "if total_candies == 1:\n",
       "    print(\"Splitting 1 candy\")\n",
       "else:\n",
       "    print(\"Splitting\", total_candies, \"candies\")\n",
       "```\n",
       "\n",
       "Here's a slightly more succinct solution using a conditional expression:\n",
       "\n",
       "```python\n",
       "print(\"Splitting\", total_candies, \"candy\" if total_candies == 1 else \"candies\")\n",
       "```"
      ]
     },
     "metadata": {},
     "output_type": "display_data"
    }
   ],
   "source": [
    "# Check your answer (Run this code cell to receive credit!)\n",
    "q2.solution()"
   ]
  },
  {
   "cell_type": "markdown",
   "id": "34ee9f91",
   "metadata": {
    "papermill": {
     "duration": 0.009727,
     "end_time": "2024-02-22T21:28:28.383328",
     "exception": false,
     "start_time": "2024-02-22T21:28:28.373601",
     "status": "completed"
    },
    "tags": []
   },
   "source": [
    "# 3. <span title=\"A bit spicy\" style=\"color: darkgreen \">🌶️</span>\n",
    "\n",
    "In the tutorial, we talked about deciding whether we're prepared for the weather. I said that I'm safe from today's weather if...\n",
    "- I have an umbrella...\n",
    "- or if the rain isn't too heavy and I have a hood...\n",
    "- otherwise, I'm still fine unless it's raining *and* it's a workday\n",
    "\n",
    "The function below uses our first attempt at turning this logic into a Python expression. I claimed that there was a bug in that code. Can you find it?\n",
    "\n",
    "To prove that `prepared_for_weather` is buggy, come up with a set of inputs where either:\n",
    "- the function returns `False` (but should have returned `True`), or\n",
    "- the function returned `True` (but should have returned `False`).\n",
    "\n",
    "To get credit for completing this question, your code should return a <font color='#33cc33'>Correct</font> result."
   ]
  },
  {
   "cell_type": "code",
   "execution_count": 8,
   "id": "5d057954",
   "metadata": {
    "execution": {
     "iopub.execute_input": "2024-02-22T21:28:28.405872Z",
     "iopub.status.busy": "2024-02-22T21:28:28.405416Z",
     "iopub.status.idle": "2024-02-22T21:28:28.417651Z",
     "shell.execute_reply": "2024-02-22T21:28:28.416607Z"
    },
    "papermill": {
     "duration": 0.026313,
     "end_time": "2024-02-22T21:28:28.419908",
     "exception": false,
     "start_time": "2024-02-22T21:28:28.393595",
     "status": "completed"
    },
    "tags": []
   },
   "outputs": [
    {
     "name": "stdout",
     "output_type": "stream",
     "text": [
      "False\n"
     ]
    },
    {
     "data": {
      "application/javascript": [
       "parent.postMessage({\"jupyterEvent\": \"custom.exercise_interaction\", \"data\": {\"outcomeType\": 1, \"valueTowardsCompletion\": 0.2, \"interactionType\": 1, \"questionType\": 1, \"questionId\": \"3_WeatherDebug\", \"learnToolsVersion\": \"0.3.4\", \"failureMessage\": \"\", \"exceptionClass\": \"\", \"trace\": \"\"}}, \"*\")"
      ],
      "text/plain": [
       "<IPython.core.display.Javascript object>"
      ]
     },
     "metadata": {},
     "output_type": "display_data"
    },
    {
     "data": {
      "text/markdown": [
       "<span style=\"color:#33cc33\">Correct:</span> \n",
       "\n",
       "One example of a failing test case is:\n",
       "\n",
       "```python\n",
       "have_umbrella = False\n",
       "rain_level = 0.0\n",
       "have_hood = False\n",
       "is_workday = False\n",
       "```\n",
       "\n",
       "Clearly we're prepared for the weather in this case. It's not raining. Not only that, it's not a workday, so we don't even need to leave the house! But our function will return False on these inputs.\n",
       "\n",
       "The key problem is that Python implictly parenthesizes the last part as:\n",
       "\n",
       "```python\n",
       "(not (rain_level > 0)) and is_workday\n",
       "```\n",
       "\n",
       "Whereas what we were trying to express would look more like:\n",
       "\n",
       "```python\n",
       "not (rain_level > 0 and is_workday)\n",
       "```\n"
      ],
      "text/plain": [
       "Correct: \n",
       "\n",
       "One example of a failing test case is:\n",
       "\n",
       "```python\n",
       "have_umbrella = False\n",
       "rain_level = 0.0\n",
       "have_hood = False\n",
       "is_workday = False\n",
       "```\n",
       "\n",
       "Clearly we're prepared for the weather in this case. It's not raining. Not only that, it's not a workday, so we don't even need to leave the house! But our function will return False on these inputs.\n",
       "\n",
       "The key problem is that Python implictly parenthesizes the last part as:\n",
       "\n",
       "```python\n",
       "(not (rain_level > 0)) and is_workday\n",
       "```\n",
       "\n",
       "Whereas what we were trying to express would look more like:\n",
       "\n",
       "```python\n",
       "not (rain_level > 0 and is_workday)\n",
       "```"
      ]
     },
     "metadata": {},
     "output_type": "display_data"
    }
   ],
   "source": [
    "def prepared_for_weather(have_umbrella, rain_level, have_hood, is_workday):\n",
    "    # Don't change this code. Our goal is just to find the bug, not fix it!\n",
    "    return ((have_umbrella) or ((rain_level < 5) and have_hood) or ((not rain_level > 0) and is_workday))\n",
    "\n",
    "# Change the values of these inputs so they represent a case where prepared_for_weather\n",
    "# returns the wrong answer.\n",
    "have_umbrella = False\n",
    "rain_level = 0.0\n",
    "have_hood = False\n",
    "is_workday = False\n",
    "\n",
    "# Check what the function returns given the current values of the variables above\n",
    "actual = prepared_for_weather(have_umbrella, rain_level, have_hood, is_workday)\n",
    "print(actual)\n",
    "\n",
    "# Check your answer\n",
    "q3.check()"
   ]
  },
  {
   "cell_type": "code",
   "execution_count": 9,
   "id": "fcddf762",
   "metadata": {
    "execution": {
     "iopub.execute_input": "2024-02-22T21:28:28.443023Z",
     "iopub.status.busy": "2024-02-22T21:28:28.442583Z",
     "iopub.status.idle": "2024-02-22T21:28:28.446808Z",
     "shell.execute_reply": "2024-02-22T21:28:28.445728Z"
    },
    "papermill": {
     "duration": 0.018443,
     "end_time": "2024-02-22T21:28:28.448893",
     "exception": false,
     "start_time": "2024-02-22T21:28:28.430450",
     "status": "completed"
    },
    "tags": []
   },
   "outputs": [],
   "source": [
    "#q3.hint()\n",
    "#q3.solution()"
   ]
  },
  {
   "cell_type": "markdown",
   "id": "115b2e91",
   "metadata": {
    "papermill": {
     "duration": 0.01006,
     "end_time": "2024-02-22T21:28:28.469654",
     "exception": false,
     "start_time": "2024-02-22T21:28:28.459594",
     "status": "completed"
    },
    "tags": []
   },
   "source": [
    "# 4.\n",
    "\n",
    "The function `is_negative` below is implemented correctly - it returns True if the given number is negative and False otherwise.\n",
    "\n",
    "However, it's more verbose than it needs to be. We can actually reduce the number of lines of code in this function by *75%* while keeping the same behaviour. \n",
    "\n",
    "See if you can come up with an equivalent body that uses just **one line** of code, and put it in the function `concise_is_negative`. (HINT: you don't even need Python's ternary syntax)"
   ]
  },
  {
   "cell_type": "code",
   "execution_count": 10,
   "id": "739750c2",
   "metadata": {
    "execution": {
     "iopub.execute_input": "2024-02-22T21:28:28.492933Z",
     "iopub.status.busy": "2024-02-22T21:28:28.491966Z",
     "iopub.status.idle": "2024-02-22T21:28:28.504494Z",
     "shell.execute_reply": "2024-02-22T21:28:28.503254Z"
    },
    "papermill": {
     "duration": 0.026764,
     "end_time": "2024-02-22T21:28:28.506940",
     "exception": false,
     "start_time": "2024-02-22T21:28:28.480176",
     "status": "completed"
    },
    "tags": []
   },
   "outputs": [
    {
     "data": {
      "application/javascript": [
       "parent.postMessage({\"jupyterEvent\": \"custom.exercise_interaction\", \"data\": {\"outcomeType\": 1, \"valueTowardsCompletion\": 0.2, \"interactionType\": 1, \"questionType\": 2, \"questionId\": \"4_ConciseIsNegative\", \"learnToolsVersion\": \"0.3.4\", \"failureMessage\": \"\", \"exceptionClass\": \"\", \"trace\": \"\"}}, \"*\")"
      ],
      "text/plain": [
       "<IPython.core.display.Javascript object>"
      ]
     },
     "metadata": {},
     "output_type": "display_data"
    },
    {
     "data": {
      "text/markdown": [
       "<span style=\"color:#33cc33\">Correct</span>"
      ],
      "text/plain": [
       "Correct"
      ]
     },
     "metadata": {},
     "output_type": "display_data"
    }
   ],
   "source": [
    "def is_negative(number):\n",
    "    if number < 0:\n",
    "        return True\n",
    "    else:\n",
    "        return False\n",
    "\n",
    "def concise_is_negative(number):\n",
    "    return True if number<0 else False\n",
    "# Check your answer\n",
    "q4.check()"
   ]
  },
  {
   "cell_type": "code",
   "execution_count": 11,
   "id": "79174ee9",
   "metadata": {
    "execution": {
     "iopub.execute_input": "2024-02-22T21:28:28.531245Z",
     "iopub.status.busy": "2024-02-22T21:28:28.530790Z",
     "iopub.status.idle": "2024-02-22T21:28:28.539863Z",
     "shell.execute_reply": "2024-02-22T21:28:28.538762Z"
    },
    "papermill": {
     "duration": 0.024438,
     "end_time": "2024-02-22T21:28:28.542187",
     "exception": false,
     "start_time": "2024-02-22T21:28:28.517749",
     "status": "completed"
    },
    "tags": []
   },
   "outputs": [
    {
     "data": {
      "application/javascript": [
       "parent.postMessage({\"jupyterEvent\": \"custom.exercise_interaction\", \"data\": {\"interactionType\": 2, \"questionType\": 2, \"questionId\": \"4_ConciseIsNegative\", \"learnToolsVersion\": \"0.3.4\", \"valueTowardsCompletion\": 0.0, \"failureMessage\": \"\", \"exceptionClass\": \"\", \"trace\": \"\", \"outcomeType\": 4}}, \"*\")"
      ],
      "text/plain": [
       "<IPython.core.display.Javascript object>"
      ]
     },
     "metadata": {},
     "output_type": "display_data"
    },
    {
     "data": {
      "text/markdown": [
       "<span style=\"color:#3366cc\">Hint:</span> If the value of the expression `number < 0` is `True`, then we return `True`. If it's `False`, then we return `False`..."
      ],
      "text/plain": [
       "Hint: If the value of the expression `number < 0` is `True`, then we return `True`. If it's `False`, then we return `False`..."
      ]
     },
     "metadata": {},
     "output_type": "display_data"
    }
   ],
   "source": [
    "q4.hint()\n",
    "#q4.solution()"
   ]
  },
  {
   "cell_type": "markdown",
   "id": "3dd0f819",
   "metadata": {
    "papermill": {
     "duration": 0.010655,
     "end_time": "2024-02-22T21:28:28.564298",
     "exception": false,
     "start_time": "2024-02-22T21:28:28.553643",
     "status": "completed"
    },
    "tags": []
   },
   "source": [
    "# 5a.\n",
    "\n",
    "The boolean variables `ketchup`, `mustard` and `onion` represent whether a customer wants a particular topping on their hot dog. We want to implement a number of boolean functions that correspond to some yes-or-no questions about the customer's order. For example:"
   ]
  },
  {
   "cell_type": "code",
   "execution_count": 12,
   "id": "e57fd794",
   "metadata": {
    "execution": {
     "iopub.execute_input": "2024-02-22T21:28:28.588138Z",
     "iopub.status.busy": "2024-02-22T21:28:28.587673Z",
     "iopub.status.idle": "2024-02-22T21:28:28.592942Z",
     "shell.execute_reply": "2024-02-22T21:28:28.591728Z"
    },
    "papermill": {
     "duration": 0.02029,
     "end_time": "2024-02-22T21:28:28.595448",
     "exception": false,
     "start_time": "2024-02-22T21:28:28.575158",
     "status": "completed"
    },
    "tags": []
   },
   "outputs": [],
   "source": [
    "def onionless(ketchup, mustard, onion):\n",
    "    \"\"\"Return whether the customer doesn't want onions.\n",
    "    \"\"\"\n",
    "    return not onion"
   ]
  },
  {
   "cell_type": "code",
   "execution_count": 13,
   "id": "70dcf463",
   "metadata": {
    "execution": {
     "iopub.execute_input": "2024-02-22T21:28:28.620606Z",
     "iopub.status.busy": "2024-02-22T21:28:28.619710Z",
     "iopub.status.idle": "2024-02-22T21:28:28.629248Z",
     "shell.execute_reply": "2024-02-22T21:28:28.628191Z"
    },
    "papermill": {
     "duration": 0.024746,
     "end_time": "2024-02-22T21:28:28.631450",
     "exception": false,
     "start_time": "2024-02-22T21:28:28.606704",
     "status": "completed"
    },
    "tags": []
   },
   "outputs": [
    {
     "data": {
      "application/javascript": [
       "parent.postMessage({\"jupyterEvent\": \"custom.exercise_interaction\", \"data\": {\"outcomeType\": 1, \"valueTowardsCompletion\": 0.2, \"interactionType\": 1, \"questionType\": 2, \"questionId\": \"5.1_AllToppings\", \"learnToolsVersion\": \"0.3.4\", \"failureMessage\": \"\", \"exceptionClass\": \"\", \"trace\": \"\"}}, \"*\")"
      ],
      "text/plain": [
       "<IPython.core.display.Javascript object>"
      ]
     },
     "metadata": {},
     "output_type": "display_data"
    },
    {
     "data": {
      "text/markdown": [
       "<span style=\"color:#33cc33\">Correct</span>"
      ],
      "text/plain": [
       "Correct"
      ]
     },
     "metadata": {},
     "output_type": "display_data"
    }
   ],
   "source": [
    "def wants_all_toppings(ketchup, mustard, onion):\n",
    "    \"\"\"Return whether the customer wants \"the works\" (all 3 toppings)\n",
    "    \"\"\"\n",
    "    return ketchup and mustard and onion\n",
    "\n",
    "# Check your answer\n",
    "q5.a.check()"
   ]
  },
  {
   "cell_type": "code",
   "execution_count": 14,
   "id": "3b995240",
   "metadata": {
    "execution": {
     "iopub.execute_input": "2024-02-22T21:28:28.655873Z",
     "iopub.status.busy": "2024-02-22T21:28:28.655428Z",
     "iopub.status.idle": "2024-02-22T21:28:28.660314Z",
     "shell.execute_reply": "2024-02-22T21:28:28.659041Z"
    },
    "papermill": {
     "duration": 0.019959,
     "end_time": "2024-02-22T21:28:28.662619",
     "exception": false,
     "start_time": "2024-02-22T21:28:28.642660",
     "status": "completed"
    },
    "tags": []
   },
   "outputs": [],
   "source": [
    "#q5.a.hint()\n",
    "#q5.a.solution()"
   ]
  },
  {
   "cell_type": "markdown",
   "id": "48b9a4a3",
   "metadata": {
    "papermill": {
     "duration": 0.010906,
     "end_time": "2024-02-22T21:28:28.684878",
     "exception": false,
     "start_time": "2024-02-22T21:28:28.673972",
     "status": "completed"
    },
    "tags": []
   },
   "source": [
    "# 5b.\n",
    "\n",
    "For the next function, fill in the body to match the English description in the docstring. "
   ]
  },
  {
   "cell_type": "code",
   "execution_count": 15,
   "id": "aee606db",
   "metadata": {
    "execution": {
     "iopub.execute_input": "2024-02-22T21:28:28.709536Z",
     "iopub.status.busy": "2024-02-22T21:28:28.709111Z",
     "iopub.status.idle": "2024-02-22T21:28:28.719350Z",
     "shell.execute_reply": "2024-02-22T21:28:28.718275Z"
    },
    "papermill": {
     "duration": 0.025908,
     "end_time": "2024-02-22T21:28:28.722024",
     "exception": false,
     "start_time": "2024-02-22T21:28:28.696116",
     "status": "completed"
    },
    "tags": []
   },
   "outputs": [
    {
     "data": {
      "application/javascript": [
       "parent.postMessage({\"jupyterEvent\": \"custom.exercise_interaction\", \"data\": {\"outcomeType\": 1, \"valueTowardsCompletion\": 0.2, \"interactionType\": 1, \"questionType\": 2, \"questionId\": \"5.2_PlainDog\", \"learnToolsVersion\": \"0.3.4\", \"failureMessage\": \"\", \"exceptionClass\": \"\", \"trace\": \"\"}}, \"*\")"
      ],
      "text/plain": [
       "<IPython.core.display.Javascript object>"
      ]
     },
     "metadata": {},
     "output_type": "display_data"
    },
    {
     "data": {
      "text/markdown": [
       "<span style=\"color:#33cc33\">Correct:</span> \n",
       "\n",
       "One solution looks like:\n",
       "```python\n",
       "return not ketchup and not mustard and not onion\n",
       "```\n",
       "\n",
       "We can also [\"factor out\" the nots](https://en.wikipedia.org/wiki/De_Morgan%27s_laws) to get:\n",
       "\n",
       "```python\n",
       "return not (ketchup or mustard or onion)\n",
       "```"
      ],
      "text/plain": [
       "Correct: \n",
       "\n",
       "One solution looks like:\n",
       "```python\n",
       "return not ketchup and not mustard and not onion\n",
       "```\n",
       "\n",
       "We can also [\"factor out\" the nots](https://en.wikipedia.org/wiki/De_Morgan%27s_laws) to get:\n",
       "\n",
       "```python\n",
       "return not (ketchup or mustard or onion)\n",
       "```"
      ]
     },
     "metadata": {},
     "output_type": "display_data"
    }
   ],
   "source": [
    "def wants_plain_hotdog(ketchup, mustard, onion):\n",
    "    \"\"\"Return whether the customer wants a plain hot dog with no toppings.\n",
    "    \"\"\"\n",
    "    return not (ketchup or mustard or onion)\n",
    "\n",
    "# Check your answer\n",
    "q5.b.check()"
   ]
  },
  {
   "cell_type": "code",
   "execution_count": 16,
   "id": "3d0253b5",
   "metadata": {
    "execution": {
     "iopub.execute_input": "2024-02-22T21:28:28.747732Z",
     "iopub.status.busy": "2024-02-22T21:28:28.747262Z",
     "iopub.status.idle": "2024-02-22T21:28:28.752586Z",
     "shell.execute_reply": "2024-02-22T21:28:28.751387Z"
    },
    "papermill": {
     "duration": 0.020781,
     "end_time": "2024-02-22T21:28:28.754795",
     "exception": false,
     "start_time": "2024-02-22T21:28:28.734014",
     "status": "completed"
    },
    "tags": []
   },
   "outputs": [],
   "source": [
    "#q5.b.hint()\n",
    "#q5.b.solution()"
   ]
  },
  {
   "cell_type": "markdown",
   "id": "63f75ed5",
   "metadata": {
    "papermill": {
     "duration": 0.011153,
     "end_time": "2024-02-22T21:28:28.778138",
     "exception": false,
     "start_time": "2024-02-22T21:28:28.766985",
     "status": "completed"
    },
    "tags": []
   },
   "source": [
    "# 5c.\n",
    "\n",
    "You know what to do: for the next function, fill in the body to match the English description in the docstring."
   ]
  },
  {
   "cell_type": "code",
   "execution_count": 17,
   "id": "c65e6ff7",
   "metadata": {
    "execution": {
     "iopub.execute_input": "2024-02-22T21:28:28.804001Z",
     "iopub.status.busy": "2024-02-22T21:28:28.802683Z",
     "iopub.status.idle": "2024-02-22T21:28:28.812505Z",
     "shell.execute_reply": "2024-02-22T21:28:28.811331Z"
    },
    "papermill": {
     "duration": 0.02497,
     "end_time": "2024-02-22T21:28:28.814704",
     "exception": false,
     "start_time": "2024-02-22T21:28:28.789734",
     "status": "completed"
    },
    "tags": []
   },
   "outputs": [
    {
     "data": {
      "application/javascript": [
       "parent.postMessage({\"jupyterEvent\": \"custom.exercise_interaction\", \"data\": {\"outcomeType\": 1, \"valueTowardsCompletion\": 0.2, \"interactionType\": 1, \"questionType\": 2, \"questionId\": \"5.3_OneSauce\", \"learnToolsVersion\": \"0.3.4\", \"failureMessage\": \"\", \"exceptionClass\": \"\", \"trace\": \"\"}}, \"*\")"
      ],
      "text/plain": [
       "<IPython.core.display.Javascript object>"
      ]
     },
     "metadata": {},
     "output_type": "display_data"
    },
    {
     "data": {
      "text/markdown": [
       "<span style=\"color:#33cc33\">Correct</span>"
      ],
      "text/plain": [
       "Correct"
      ]
     },
     "metadata": {},
     "output_type": "display_data"
    }
   ],
   "source": [
    "def exactly_one_sauce(ketchup, mustard, onion):\n",
    "    \"\"\"Return whether the customer wants either ketchup or mustard, but not both.\n",
    "    (You may be familiar with this operation under the name \"exclusive or\")\n",
    "    \"\"\"\n",
    "    return (ketchup or mustard) and (not(ketchup and mustard ))\n",
    "\n",
    "# Check your answer\n",
    "q5.c.check()"
   ]
  },
  {
   "cell_type": "code",
   "execution_count": 18,
   "id": "b72d1f56",
   "metadata": {
    "execution": {
     "iopub.execute_input": "2024-02-22T21:28:28.841133Z",
     "iopub.status.busy": "2024-02-22T21:28:28.840248Z",
     "iopub.status.idle": "2024-02-22T21:28:28.853854Z",
     "shell.execute_reply": "2024-02-22T21:28:28.852880Z"
    },
    "papermill": {
     "duration": 0.029773,
     "end_time": "2024-02-22T21:28:28.856222",
     "exception": false,
     "start_time": "2024-02-22T21:28:28.826449",
     "status": "completed"
    },
    "tags": []
   },
   "outputs": [
    {
     "data": {
      "application/javascript": [
       "parent.postMessage({\"jupyterEvent\": \"custom.exercise_interaction\", \"data\": {\"interactionType\": 2, \"questionType\": 2, \"questionId\": \"5.3_OneSauce\", \"learnToolsVersion\": \"0.3.4\", \"valueTowardsCompletion\": 0.0, \"failureMessage\": \"\", \"exceptionClass\": \"\", \"trace\": \"\", \"outcomeType\": 4}}, \"*\")"
      ],
      "text/plain": [
       "<IPython.core.display.Javascript object>"
      ]
     },
     "metadata": {},
     "output_type": "display_data"
    },
    {
     "data": {
      "text/markdown": [
       "<span style=\"color:#3366cc\">Hint:</span> There are exactly two ways to set ketchup and mustard to make this true. What are they?"
      ],
      "text/plain": [
       "Hint: There are exactly two ways to set ketchup and mustard to make this true. What are they?"
      ]
     },
     "metadata": {},
     "output_type": "display_data"
    },
    {
     "data": {
      "application/javascript": [
       "parent.postMessage({\"jupyterEvent\": \"custom.exercise_interaction\", \"data\": {\"interactionType\": 3, \"questionType\": 2, \"questionId\": \"5.3_OneSauce\", \"learnToolsVersion\": \"0.3.4\", \"valueTowardsCompletion\": 0.0, \"failureMessage\": \"\", \"exceptionClass\": \"\", \"trace\": \"\", \"outcomeType\": 4}}, \"*\")"
      ],
      "text/plain": [
       "<IPython.core.display.Javascript object>"
      ]
     },
     "metadata": {},
     "output_type": "display_data"
    },
    {
     "data": {
      "text/markdown": [
       "<span style=\"color:#33cc99\">Solution:</span> \n",
       "```python\n",
       "return (ketchup and not mustard) or (mustard and not ketchup)\n",
       "```"
      ],
      "text/plain": [
       "Solution: \n",
       "```python\n",
       "return (ketchup and not mustard) or (mustard and not ketchup)\n",
       "```"
      ]
     },
     "metadata": {},
     "output_type": "display_data"
    }
   ],
   "source": [
    "q5.c.hint()\n",
    "q5.c.solution()"
   ]
  },
  {
   "cell_type": "markdown",
   "id": "58e1b87f",
   "metadata": {
    "papermill": {
     "duration": 0.011977,
     "end_time": "2024-02-22T21:28:28.880363",
     "exception": false,
     "start_time": "2024-02-22T21:28:28.868386",
     "status": "completed"
    },
    "tags": []
   },
   "source": [
    "# 6. <span title=\"A bit spicy\" style=\"color: darkgreen \">🌶️</span>\n",
    "\n",
    "We’ve seen that calling `bool()` on an integer returns `False` if it’s equal to 0 and `True` otherwise. What happens if we call `int()` on a bool? Try it out in the notebook cell below.\n",
    "\n",
    "Can you take advantage of this to write a succinct function that corresponds to the English sentence \"does the customer want exactly one topping?\"?"
   ]
  },
  {
   "cell_type": "code",
   "execution_count": 19,
   "id": "88ed47cc",
   "metadata": {
    "execution": {
     "iopub.execute_input": "2024-02-22T21:28:28.991558Z",
     "iopub.status.busy": "2024-02-22T21:28:28.990529Z",
     "iopub.status.idle": "2024-02-22T21:28:29.001602Z",
     "shell.execute_reply": "2024-02-22T21:28:29.000551Z"
    },
    "papermill": {
     "duration": 0.027349,
     "end_time": "2024-02-22T21:28:29.003945",
     "exception": false,
     "start_time": "2024-02-22T21:28:28.976596",
     "status": "completed"
    },
    "tags": []
   },
   "outputs": [
    {
     "data": {
      "application/javascript": [
       "parent.postMessage({\"jupyterEvent\": \"custom.exercise_interaction\", \"data\": {\"outcomeType\": 1, \"valueTowardsCompletion\": 0.2, \"interactionType\": 1, \"questionType\": 2, \"questionId\": \"6_OneTopping\", \"learnToolsVersion\": \"0.3.4\", \"failureMessage\": \"\", \"exceptionClass\": \"\", \"trace\": \"\"}}, \"*\")"
      ],
      "text/plain": [
       "<IPython.core.display.Javascript object>"
      ]
     },
     "metadata": {},
     "output_type": "display_data"
    },
    {
     "data": {
      "text/markdown": [
       "<span style=\"color:#33cc33\">Correct:</span> \n",
       "\n",
       "This condition would be pretty complicated to express using just `and`, `or` and `not`, but using boolean-to-integer conversion gives us this short solution:\n",
       "```python\n",
       "return (int(ketchup) + int(mustard) + int(onion)) == 1\n",
       "```\n",
       "\n",
       "Fun fact: we don't technically need to call `int` on the arguments. Just by doing addition with booleans, Python implicitly does the integer conversion. So we could also write...\n",
       "\n",
       "```python\n",
       "return (ketchup + mustard + onion) == 1\n",
       "```"
      ],
      "text/plain": [
       "Correct: \n",
       "\n",
       "This condition would be pretty complicated to express using just `and`, `or` and `not`, but using boolean-to-integer conversion gives us this short solution:\n",
       "```python\n",
       "return (int(ketchup) + int(mustard) + int(onion)) == 1\n",
       "```\n",
       "\n",
       "Fun fact: we don't technically need to call `int` on the arguments. Just by doing addition with booleans, Python implicitly does the integer conversion. So we could also write...\n",
       "\n",
       "```python\n",
       "return (ketchup + mustard + onion) == 1\n",
       "```"
      ]
     },
     "metadata": {},
     "output_type": "display_data"
    }
   ],
   "source": [
    "def exactly_one_topping(ketchup, mustard, onion):\n",
    "    \"\"\"Return whether the customer wants exactly one of the three available toppings\n",
    "    on their hot dog.\n",
    "    \"\"\"\n",
    "    return (int(ketchup)+int(mustard)+int(onion)) == 1\n",
    "\n",
    "# Check your answer\n",
    "q6.check()"
   ]
  },
  {
   "cell_type": "code",
   "execution_count": 20,
   "id": "2bdd6d08",
   "metadata": {
    "execution": {
     "iopub.execute_input": "2024-02-22T21:28:29.032096Z",
     "iopub.status.busy": "2024-02-22T21:28:29.030971Z",
     "iopub.status.idle": "2024-02-22T21:28:29.035510Z",
     "shell.execute_reply": "2024-02-22T21:28:29.034659Z"
    },
    "papermill": {
     "duration": 0.020935,
     "end_time": "2024-02-22T21:28:29.037526",
     "exception": false,
     "start_time": "2024-02-22T21:28:29.016591",
     "status": "completed"
    },
    "tags": []
   },
   "outputs": [],
   "source": [
    "#q6.hint()\n",
    "#q6.solution()"
   ]
  },
  {
   "cell_type": "markdown",
   "id": "8fb9078e",
   "metadata": {
    "papermill": {
     "duration": 0.012871,
     "end_time": "2024-02-22T21:28:29.063292",
     "exception": false,
     "start_time": "2024-02-22T21:28:29.050421",
     "status": "completed"
    },
    "tags": []
   },
   "source": [
    "# 7. <span title=\"A bit spicy\" style=\"color: darkgreen \">🌶️</span> (Optional)\n",
    "\n",
    "In this problem we'll be working with a simplified version of [blackjack](https://en.wikipedia.org/wiki/Blackjack) (aka twenty-one). In this version there is one player (who you'll control) and a dealer. Play proceeds as follows:\n",
    "\n",
    "- The player is dealt two face-up cards. The dealer is dealt one face-up card.\n",
    "- The player may ask to be dealt another card ('hit') as many times as they wish. If the sum of their cards exceeds 21, they lose the round immediately.\n",
    "- The dealer then deals additional cards to himself until either:\n",
    "    - the sum of the dealer's cards exceeds 21, in which case the player wins the round\n",
    "    - the sum of the dealer's cards is greater than or equal to 17. If the player's total is greater than the dealer's, the player wins. Otherwise, the dealer wins (even in case of a tie).\n",
    "    \n",
    "When calculating the sum of cards, Jack, Queen, and King count for 10. Aces can count as 1 or 11 (when referring to a player's \"total\" above, we mean the largest total that can be made without exceeding 21. So e.g. A+8 = 19, A+8+8 = 17)\n",
    "\n",
    "For this problem, you'll write a function representing the player's decision-making strategy in this game. We've provided a very unintelligent implementation below:"
   ]
  },
  {
   "cell_type": "code",
   "execution_count": 21,
   "id": "b9432ac0",
   "metadata": {
    "execution": {
     "iopub.execute_input": "2024-02-22T21:28:29.091295Z",
     "iopub.status.busy": "2024-02-22T21:28:29.090824Z",
     "iopub.status.idle": "2024-02-22T21:28:29.097812Z",
     "shell.execute_reply": "2024-02-22T21:28:29.096646Z"
    },
    "papermill": {
     "duration": 0.024105,
     "end_time": "2024-02-22T21:28:29.100463",
     "exception": false,
     "start_time": "2024-02-22T21:28:29.076358",
     "status": "completed"
    },
    "tags": []
   },
   "outputs": [],
   "source": [
    "def should_hit(dealer_total, player_total, player_low_aces, player_high_aces):\n",
    "    \"\"\"Return True if the player should hit (request another card) given the current game\n",
    "    state, or False if the player should stay.\n",
    "    When calculating a hand's total value, we count aces as \"high\" (with value 11) if doing so\n",
    "    doesn't bring the total above 21, otherwise we count them as low (with value 1). \n",
    "    For example, if the player's hand is {A, A, A, 7}, we will count it as 11 + 1 + 1 + 7,\n",
    "    and therefore set player_total=20, player_low_aces=2, player_high_aces=1.\n",
    "    \"\"\"\n",
    "    if (player_total > dealer_total >17) or (player_total == 21):\n",
    "        return False\n",
    "    if (dealer_total> player_total) or ((player_total< dealer_total) and (player_low_aces == 0) and (player_high_aces >0)) or (player_total<=11) or ((dealer_total> 19) and (dealer_total > player_total)) or ((dealer_total<=15) and ((player_total<17) or player_high_aces>0)) :\n",
    "                return True\n",
    "    "
   ]
  },
  {
   "cell_type": "markdown",
   "id": "e0caf1cd",
   "metadata": {
    "papermill": {
     "duration": 0.012663,
     "end_time": "2024-02-22T21:28:29.126540",
     "exception": false,
     "start_time": "2024-02-22T21:28:29.113877",
     "status": "completed"
    },
    "tags": []
   },
   "source": [
    "This very conservative agent *always* sticks with the hand of two cards that they're dealt.\n",
    "\n",
    "We'll be simulating games between your player agent and our own dealer agent by calling your function.\n",
    "\n",
    "Try running the function below to see an example of a simulated game:"
   ]
  },
  {
   "cell_type": "code",
   "execution_count": 22,
   "id": "b8db30e2",
   "metadata": {
    "execution": {
     "iopub.execute_input": "2024-02-22T21:28:29.155557Z",
     "iopub.status.busy": "2024-02-22T21:28:29.154310Z",
     "iopub.status.idle": "2024-02-22T21:28:29.160733Z",
     "shell.execute_reply": "2024-02-22T21:28:29.159509Z"
    },
    "papermill": {
     "duration": 0.023697,
     "end_time": "2024-02-22T21:28:29.162997",
     "exception": false,
     "start_time": "2024-02-22T21:28:29.139300",
     "status": "completed"
    },
    "tags": []
   },
   "outputs": [
    {
     "name": "stdout",
     "output_type": "stream",
     "text": [
      "Player starts with 10 and 5 (total = 15)\n",
      "Dealer starts with 9\n",
      "\n",
      "__Player's turn__\n",
      "Player hits and receives 2. (total = 17)\n",
      "Player stays\n",
      "\n",
      "__Dealer's turn__\n",
      "Dealer hits and receives 7. (total = 16)\n",
      "Dealer hits and receives 4. (total = 20)\n",
      "Dealer stands.\n",
      "Dealer wins. 20 >= 17\n"
     ]
    }
   ],
   "source": [
    "q7.simulate_one_game()"
   ]
  },
  {
   "cell_type": "markdown",
   "id": "ef285f0b",
   "metadata": {
    "papermill": {
     "duration": 0.012633,
     "end_time": "2024-02-22T21:28:29.189336",
     "exception": false,
     "start_time": "2024-02-22T21:28:29.176703",
     "status": "completed"
    },
    "tags": []
   },
   "source": [
    "The real test of your agent's mettle is their average win rate over many games. Try calling the function below to simulate 50000 games of blackjack (it may take a couple seconds):"
   ]
  },
  {
   "cell_type": "code",
   "execution_count": 23,
   "id": "efaf93ee",
   "metadata": {
    "execution": {
     "iopub.execute_input": "2024-02-22T21:28:29.217133Z",
     "iopub.status.busy": "2024-02-22T21:28:29.216352Z",
     "iopub.status.idle": "2024-02-22T21:28:30.748414Z",
     "shell.execute_reply": "2024-02-22T21:28:30.747258Z"
    },
    "papermill": {
     "duration": 1.548957,
     "end_time": "2024-02-22T21:28:30.750971",
     "exception": false,
     "start_time": "2024-02-22T21:28:29.202014",
     "status": "completed"
    },
    "tags": []
   },
   "outputs": [
    {
     "name": "stdout",
     "output_type": "stream",
     "text": [
      "Player won 19990 out of 50000 games (win rate = 40.0%)\n"
     ]
    }
   ],
   "source": [
    "q7.simulate(n_games=50000)"
   ]
  },
  {
   "cell_type": "markdown",
   "id": "3e1352d8",
   "metadata": {
    "papermill": {
     "duration": 0.012218,
     "end_time": "2024-02-22T21:28:30.776015",
     "exception": false,
     "start_time": "2024-02-22T21:28:30.763797",
     "status": "completed"
    },
    "tags": []
   },
   "source": [
    "Our dumb agent that completely ignores the game state still manages to win shockingly often!\n",
    "\n",
    "Try adding some more smarts to the `should_hit` function and see how it affects the results."
   ]
  },
  {
   "cell_type": "code",
   "execution_count": 24,
   "id": "e49a4f2c",
   "metadata": {
    "execution": {
     "iopub.execute_input": "2024-02-22T21:28:30.803996Z",
     "iopub.status.busy": "2024-02-22T21:28:30.803501Z",
     "iopub.status.idle": "2024-02-22T21:28:32.182113Z",
     "shell.execute_reply": "2024-02-22T21:28:32.180904Z"
    },
    "papermill": {
     "duration": 1.396359,
     "end_time": "2024-02-22T21:28:32.185506",
     "exception": false,
     "start_time": "2024-02-22T21:28:30.789147",
     "status": "completed"
    },
    "tags": []
   },
   "outputs": [
    {
     "name": "stdout",
     "output_type": "stream",
     "text": [
      "Player won 19163 out of 50000 games (win rate = 38.3%)\n"
     ]
    }
   ],
   "source": [
    "def should_hit(dealer_total, player_total, player_low_aces, player_high_aces):\n",
    "    \"\"\"Return True if the player should hit (request another card) given the current game\n",
    "    state, or False if the player should stay.\n",
    "    When calculating a hand's total value, we count aces as \"high\" (with value 11) if doing so\n",
    "    doesn't bring the total above 21, otherwise we count them as low (with value 1). \n",
    "    For example, if the player's hand is {A, A, A, 7}, we will count it as 11 + 1 + 1 + 7,\n",
    "    and therefore set player_total=20, player_low_aces=2, player_high_aces=1.\n",
    "    \"\"\"\n",
    "    return False\n",
    "\n",
    "q7.simulate(n_games=50000)"
   ]
  },
  {
   "cell_type": "markdown",
   "id": "a9af6c8e",
   "metadata": {
    "papermill": {
     "duration": 0.013827,
     "end_time": "2024-02-22T21:28:32.213299",
     "exception": false,
     "start_time": "2024-02-22T21:28:32.199472",
     "status": "completed"
    },
    "tags": []
   },
   "source": [
    "# Keep Going\n",
    "\n",
    "Learn about **[lists and tuples](https://www.kaggle.com/colinmorris/lists)** to handle multiple items of data in a systematic way."
   ]
  },
  {
   "cell_type": "markdown",
   "id": "981d0af1",
   "metadata": {
    "papermill": {
     "duration": 0.012534,
     "end_time": "2024-02-22T21:28:32.239074",
     "exception": false,
     "start_time": "2024-02-22T21:28:32.226540",
     "status": "completed"
    },
    "tags": []
   },
   "source": [
    "---\n",
    "\n",
    "\n",
    "\n",
    "\n",
    "*Have questions or comments? Visit the [course discussion forum](https://www.kaggle.com/learn/python/discussion) to chat with other learners.*"
   ]
  }
 ],
 "metadata": {
  "kaggle": {
   "accelerator": "none",
   "dataSources": [],
   "isGpuEnabled": false,
   "isInternetEnabled": false,
   "language": "python",
   "sourceType": "notebook"
  },
  "kernelspec": {
   "display_name": "Python 3",
   "language": "python",
   "name": "python3"
  },
  "language_info": {
   "codemirror_mode": {
    "name": "ipython",
    "version": 3
   },
   "file_extension": ".py",
   "mimetype": "text/x-python",
   "name": "python",
   "nbconvert_exporter": "python",
   "pygments_lexer": "ipython3",
   "version": "3.10.13"
  },
  "learntools_metadata": {
   "lesson_index": 2,
   "type": "exercise"
  },
  "papermill": {
   "default_parameters": {},
   "duration": 8.878516,
   "end_time": "2024-02-22T21:28:32.874683",
   "environment_variables": {},
   "exception": null,
   "input_path": "__notebook__.ipynb",
   "output_path": "__notebook__.ipynb",
   "parameters": {},
   "start_time": "2024-02-22T21:28:23.996167",
   "version": "2.5.0"
  }
 },
 "nbformat": 4,
 "nbformat_minor": 5
}
