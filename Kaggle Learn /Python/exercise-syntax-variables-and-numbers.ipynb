{
 "cells": [
  {
   "cell_type": "markdown",
   "id": "80b89f5c",
   "metadata": {
    "papermill": {
     "duration": 0.009615,
     "end_time": "2024-02-22T21:27:55.241376",
     "exception": false,
     "start_time": "2024-02-22T21:27:55.231761",
     "status": "completed"
    },
    "tags": []
   },
   "source": [
    "**This notebook is an exercise in the [Python](https://www.kaggle.com/learn/python) course.  You can reference the tutorial at [this link](https://www.kaggle.com/colinmorris/hello-python).**\n",
    "\n",
    "---\n"
   ]
  },
  {
   "cell_type": "markdown",
   "id": "e92d7b50",
   "metadata": {
    "papermill": {
     "duration": 0.00816,
     "end_time": "2024-02-22T21:27:55.258153",
     "exception": false,
     "start_time": "2024-02-22T21:27:55.249993",
     "status": "completed"
    },
    "tags": []
   },
   "source": [
    "Welcome to your first set of Python coding problems.  If this is your first time using Kaggle Notebooks, welcome! \n",
    "\n",
    "Notebooks are composed of blocks (called \"cells\") of text and code. Each of these is editable, though you'll mainly be editing the code cells to answer some questions.\n",
    "\n",
    "To get started, try running the code cell below (by pressing the ► button, or clicking on the cell and pressing ctrl+enter on your keyboard)."
   ]
  },
  {
   "cell_type": "code",
   "execution_count": 1,
   "id": "ce5e55c0",
   "metadata": {
    "execution": {
     "iopub.execute_input": "2024-02-22T21:27:55.277921Z",
     "iopub.status.busy": "2024-02-22T21:27:55.277385Z",
     "iopub.status.idle": "2024-02-22T21:27:55.293772Z",
     "shell.execute_reply": "2024-02-22T21:27:55.292051Z"
    },
    "papermill": {
     "duration": 0.03011,
     "end_time": "2024-02-22T21:27:55.296755",
     "exception": false,
     "start_time": "2024-02-22T21:27:55.266645",
     "status": "completed"
    },
    "tags": []
   },
   "outputs": [
    {
     "name": "stdout",
     "output_type": "stream",
     "text": [
      "You've successfully run some Python code\n",
      "Congratulations!\n"
     ]
    }
   ],
   "source": [
    "print(\"You've successfully run some Python code\")\n",
    "print(\"Congratulations!\")"
   ]
  },
  {
   "cell_type": "markdown",
   "id": "52b02962",
   "metadata": {
    "papermill": {
     "duration": 0.008272,
     "end_time": "2024-02-22T21:27:55.313651",
     "exception": false,
     "start_time": "2024-02-22T21:27:55.305379",
     "status": "completed"
    },
    "tags": []
   },
   "source": [
    "Try adding another line of code in the cell above and re-running it. \n",
    "\n",
    "Now let's get a little fancier:  Add a new code cell by clicking on an existing code cell, hitting the escape key, and then hitting the `a` or `b` key.  The `a` key will add a cell above the current cell, and `b` adds a cell below.\n",
    "\n",
    "Great! Now you know how to use Notebooks.\n",
    "\n",
    "Each hands-on exercise starts by setting up our feedback and code checking mechanism. Run the code cell below to do that. Then you'll be ready to move on to question 0."
   ]
  },
  {
   "cell_type": "code",
   "execution_count": 2,
   "id": "a009498c",
   "metadata": {
    "_kg_hide-input": true,
    "_kg_hide-output": true,
    "execution": {
     "iopub.execute_input": "2024-02-22T21:27:55.333376Z",
     "iopub.status.busy": "2024-02-22T21:27:55.332379Z",
     "iopub.status.idle": "2024-02-22T21:27:56.504274Z",
     "shell.execute_reply": "2024-02-22T21:27:56.503061Z"
    },
    "papermill": {
     "duration": 1.184509,
     "end_time": "2024-02-22T21:27:56.506794",
     "exception": false,
     "start_time": "2024-02-22T21:27:55.322285",
     "status": "completed"
    },
    "tags": []
   },
   "outputs": [
    {
     "name": "stdout",
     "output_type": "stream",
     "text": [
      "Setup complete! You're ready to start question 0.\n"
     ]
    }
   ],
   "source": [
    "from learntools.core import binder; binder.bind(globals())\n",
    "from learntools.python.ex1 import *\n",
    "print(\"Setup complete! You're ready to start question 0.\")"
   ]
  },
  {
   "cell_type": "markdown",
   "id": "5f437c5c",
   "metadata": {
    "papermill": {
     "duration": 0.008361,
     "end_time": "2024-02-22T21:27:56.524502",
     "exception": false,
     "start_time": "2024-02-22T21:27:56.516141",
     "status": "completed"
    },
    "tags": []
   },
   "source": [
    "# 0.\n",
    "\n",
    "*This is a silly question intended as an introduction to the format we use for hands-on exercises throughout all Kaggle courses.*\n",
    "\n",
    "**What is your favorite color? **\n",
    "\n",
    "To complete this question, create a variable called `color` in the cell below with an appropriate value. The function call `q0.check()` (which we've already provided in the cell below) will check your answer."
   ]
  },
  {
   "cell_type": "code",
   "execution_count": 3,
   "id": "ba62b6d3",
   "metadata": {
    "execution": {
     "iopub.execute_input": "2024-02-22T21:27:56.544891Z",
     "iopub.status.busy": "2024-02-22T21:27:56.543922Z",
     "iopub.status.idle": "2024-02-22T21:27:56.553770Z",
     "shell.execute_reply": "2024-02-22T21:27:56.552775Z"
    },
    "papermill": {
     "duration": 0.022737,
     "end_time": "2024-02-22T21:27:56.556028",
     "exception": false,
     "start_time": "2024-02-22T21:27:56.533291",
     "status": "completed"
    },
    "tags": []
   },
   "outputs": [
    {
     "data": {
      "application/javascript": [
       "parent.postMessage({\"jupyterEvent\": \"custom.exercise_interaction\", \"data\": {\"outcomeType\": 1, \"valueTowardsCompletion\": 0.25, \"interactionType\": 1, \"questionType\": 2, \"questionId\": \"0_ExerciseFormatTutorial\", \"learnToolsVersion\": \"0.3.4\", \"failureMessage\": \"\", \"exceptionClass\": \"\", \"trace\": \"\"}}, \"*\")"
      ],
      "text/plain": [
       "<IPython.core.display.Javascript object>"
      ]
     },
     "metadata": {},
     "output_type": "display_data"
    },
    {
     "data": {
      "text/markdown": [
       "<span style=\"color:#33cc33\">Correct:</span> What?! You got it right without needing a hint or anything? Drats. Well hey, you should still continue to the next step to get some practice asking for a hint and checking solutions. (Even though you obviously don't need any help here.)"
      ],
      "text/plain": [
       "Correct: What?! You got it right without needing a hint or anything? Drats. Well hey, you should still continue to the next step to get some practice asking for a hint and checking solutions. (Even though you obviously don't need any help here.)"
      ]
     },
     "metadata": {},
     "output_type": "display_data"
    }
   ],
   "source": [
    "# create a variable called color with an appropriate value on the line below\n",
    "# (Remember, strings in Python must be enclosed in 'single' or \"double\" quotes)\n",
    "color = \"blue\"\n",
    "\n",
    "# Check your answer\n",
    "q0.check()"
   ]
  },
  {
   "cell_type": "markdown",
   "id": "3659134c",
   "metadata": {
    "papermill": {
     "duration": 0.00959,
     "end_time": "2024-02-22T21:27:56.575432",
     "exception": false,
     "start_time": "2024-02-22T21:27:56.565842",
     "status": "completed"
    },
    "tags": []
   },
   "source": [
    "Didn't get the right answer? How do you not even know your own favorite color?!\n",
    "\n",
    "Delete the `#` in the line below to make one of the lines run. You can choose between getting a hint or the full answer by choosing which line to remove the `#` from. \n",
    "\n",
    "Removing the `#` is called uncommenting, because it changes that line from a \"comment\" which Python doesn't run to code, which Python does run."
   ]
  },
  {
   "cell_type": "code",
   "execution_count": 4,
   "id": "38086bab",
   "metadata": {
    "execution": {
     "iopub.execute_input": "2024-02-22T21:27:56.596229Z",
     "iopub.status.busy": "2024-02-22T21:27:56.595460Z",
     "iopub.status.idle": "2024-02-22T21:27:56.603045Z",
     "shell.execute_reply": "2024-02-22T21:27:56.602147Z"
    },
    "papermill": {
     "duration": 0.020898,
     "end_time": "2024-02-22T21:27:56.605391",
     "exception": false,
     "start_time": "2024-02-22T21:27:56.584493",
     "status": "completed"
    },
    "tags": []
   },
   "outputs": [
    {
     "data": {
      "application/javascript": [
       "parent.postMessage({\"jupyterEvent\": \"custom.exercise_interaction\", \"data\": {\"interactionType\": 3, \"questionType\": 2, \"questionId\": \"0_ExerciseFormatTutorial\", \"learnToolsVersion\": \"0.3.4\", \"valueTowardsCompletion\": 0.0, \"failureMessage\": \"\", \"exceptionClass\": \"\", \"trace\": \"\", \"outcomeType\": 4}}, \"*\")"
      ],
      "text/plain": [
       "<IPython.core.display.Javascript object>"
      ]
     },
     "metadata": {},
     "output_type": "display_data"
    },
    {
     "data": {
      "text/markdown": [
       "<span style=\"color:#33cc99\">Solution:</span> \n",
       "```python\n",
       "color = \"blue\"\n",
       "```"
      ],
      "text/plain": [
       "Solution: \n",
       "```python\n",
       "color = \"blue\"\n",
       "```"
      ]
     },
     "metadata": {},
     "output_type": "display_data"
    }
   ],
   "source": [
    "#q0.hint()\n",
    "q0.solution()"
   ]
  },
  {
   "cell_type": "markdown",
   "id": "5b9ab393",
   "metadata": {
    "papermill": {
     "duration": 0.01132,
     "end_time": "2024-02-22T21:27:56.626118",
     "exception": false,
     "start_time": "2024-02-22T21:27:56.614798",
     "status": "completed"
    },
    "tags": []
   },
   "source": [
    "The upcoming questions work the same way. The only thing that will change are the question numbers. For the next question, you'll call `q1.check()`, `q1.hint()`, `q1.solution()`, for question 2, you'll call `q2.check()`, and so on."
   ]
  },
  {
   "cell_type": "markdown",
   "id": "9cb54985",
   "metadata": {
    "papermill": {
     "duration": 0.009071,
     "end_time": "2024-02-22T21:27:56.646281",
     "exception": false,
     "start_time": "2024-02-22T21:27:56.637210",
     "status": "completed"
    },
    "tags": []
   },
   "source": [
    "<hr/>\n",
    "\n",
    "# 1.\n",
    "\n",
    "Complete the code below. In case it's helpful, here is the table of available arithmetic operations:\n",
    "\n",
    "\n",
    "\n",
    "| Operator     | Name           | Description                                            |\n",
    "|--------------|----------------|--------------------------------------------------------|\n",
    "| ``a + b``    | Addition       | Sum of ``a`` and ``b``                                 |\n",
    "| ``a - b``    | Subtraction    | Difference of ``a`` and ``b``                          |\n",
    "| ``a * b``    | Multiplication | Product of ``a`` and ``b``                             |\n",
    "| ``a / b``    | True division  | Quotient of ``a`` and ``b``                            |\n",
    "| ``a // b``   | Floor division | Quotient of ``a`` and ``b``, removing fractional parts |\n",
    "| ``a % b``    | Modulus        | Integer remainder after division of ``a`` by ``b``     |\n",
    "| ``a ** b``   | Exponentiation | ``a`` raised to the power of ``b``                     |\n",
    "| ``-a``       | Negation       | The negative of ``a``                                  |\n",
    "\n",
    "<span style=\"display:none\"></span>\n"
   ]
  },
  {
   "cell_type": "code",
   "execution_count": 5,
   "id": "436f1930",
   "metadata": {
    "execution": {
     "iopub.execute_input": "2024-02-22T21:27:56.667794Z",
     "iopub.status.busy": "2024-02-22T21:27:56.667100Z",
     "iopub.status.idle": "2024-02-22T21:27:56.675844Z",
     "shell.execute_reply": "2024-02-22T21:27:56.674897Z"
    },
    "papermill": {
     "duration": 0.022314,
     "end_time": "2024-02-22T21:27:56.678089",
     "exception": false,
     "start_time": "2024-02-22T21:27:56.655775",
     "status": "completed"
    },
    "tags": []
   },
   "outputs": [
    {
     "data": {
      "application/javascript": [
       "parent.postMessage({\"jupyterEvent\": \"custom.exercise_interaction\", \"data\": {\"outcomeType\": 1, \"valueTowardsCompletion\": 0.25, \"interactionType\": 1, \"questionType\": 1, \"questionId\": \"1_CircleArea\", \"learnToolsVersion\": \"0.3.4\", \"failureMessage\": \"\", \"exceptionClass\": \"\", \"trace\": \"\"}}, \"*\")"
      ],
      "text/plain": [
       "<IPython.core.display.Javascript object>"
      ]
     },
     "metadata": {},
     "output_type": "display_data"
    },
    {
     "data": {
      "text/markdown": [
       "<span style=\"color:#33cc33\">Correct</span>"
      ],
      "text/plain": [
       "Correct"
      ]
     },
     "metadata": {},
     "output_type": "display_data"
    }
   ],
   "source": [
    "pi = 3.14159 # approximate\n",
    "diameter = 3\n",
    "\n",
    "# Create a variable called 'radius' equal to half the diameter\n",
    "radius = diameter/2\n",
    "\n",
    "# Create a variable called 'area', using the formula for the area of a circle: pi times the radius squared\n",
    "area = pi*(radius**2)\n",
    "# Check your answer\n",
    "q1.check()"
   ]
  },
  {
   "cell_type": "code",
   "execution_count": 6,
   "id": "40dc3b85",
   "metadata": {
    "execution": {
     "iopub.execute_input": "2024-02-22T21:27:56.700115Z",
     "iopub.status.busy": "2024-02-22T21:27:56.699403Z",
     "iopub.status.idle": "2024-02-22T21:27:56.704019Z",
     "shell.execute_reply": "2024-02-22T21:27:56.702798Z"
    },
    "papermill": {
     "duration": 0.018833,
     "end_time": "2024-02-22T21:27:56.706634",
     "exception": false,
     "start_time": "2024-02-22T21:27:56.687801",
     "status": "completed"
    },
    "tags": []
   },
   "outputs": [],
   "source": [
    "# Uncomment and run the lines below if you need help.\n",
    "#q1.hint()\n",
    "#q1.solution()"
   ]
  },
  {
   "cell_type": "markdown",
   "id": "1444c9fc",
   "metadata": {
    "papermill": {
     "duration": 0.009465,
     "end_time": "2024-02-22T21:27:56.725864",
     "exception": false,
     "start_time": "2024-02-22T21:27:56.716399",
     "status": "completed"
    },
    "tags": []
   },
   "source": [
    "<hr/>\n",
    "\n",
    "# 2.\n",
    "\n",
    "Add code to the following cell to swap variables `a` and `b` (so that `a` refers to the object previously referred to by `b` and vice versa)."
   ]
  },
  {
   "cell_type": "code",
   "execution_count": 7,
   "id": "483b4cfe",
   "metadata": {
    "execution": {
     "iopub.execute_input": "2024-02-22T21:27:56.747503Z",
     "iopub.status.busy": "2024-02-22T21:27:56.747088Z",
     "iopub.status.idle": "2024-02-22T21:27:56.759499Z",
     "shell.execute_reply": "2024-02-22T21:27:56.758161Z"
    },
    "papermill": {
     "duration": 0.026621,
     "end_time": "2024-02-22T21:27:56.762336",
     "exception": false,
     "start_time": "2024-02-22T21:27:56.735715",
     "status": "completed"
    },
    "tags": []
   },
   "outputs": [
    {
     "data": {
      "application/javascript": [
       "parent.postMessage({\"jupyterEvent\": \"custom.exercise_interaction\", \"data\": {\"outcomeType\": 1, \"valueTowardsCompletion\": 0.25, \"interactionType\": 1, \"questionType\": 2, \"questionId\": \"2_VariableSwap\", \"learnToolsVersion\": \"0.3.4\", \"failureMessage\": \"\", \"exceptionClass\": \"\", \"trace\": \"\"}}, \"*\")"
      ],
      "text/plain": [
       "<IPython.core.display.Javascript object>"
      ]
     },
     "metadata": {},
     "output_type": "display_data"
    },
    {
     "data": {
      "text/markdown": [
       "<span style=\"color:#33cc33\">Correct:</span> \n",
       "\n",
       "The most straightforward solution is to use a third variable to temporarily store one of the old values. e.g.:\n",
       "\n",
       "    tmp = a\n",
       "    a = b\n",
       "    b = tmp\n",
       "\n",
       "If you've read lots of Python code, you might have seen the following trick to swap two variables in one line:\n",
       "\n",
       "    a, b = b, a\n",
       "\n",
       "We'll demystify this bit of Python magic later when we talk about *tuples*."
      ],
      "text/plain": [
       "Correct: \n",
       "\n",
       "The most straightforward solution is to use a third variable to temporarily store one of the old values. e.g.:\n",
       "\n",
       "    tmp = a\n",
       "    a = b\n",
       "    b = tmp\n",
       "\n",
       "If you've read lots of Python code, you might have seen the following trick to swap two variables in one line:\n",
       "\n",
       "    a, b = b, a\n",
       "\n",
       "We'll demystify this bit of Python magic later when we talk about *tuples*."
      ]
     },
     "metadata": {},
     "output_type": "display_data"
    }
   ],
   "source": [
    "########### Setup code - don't touch this part ######################\n",
    "# If you're curious, these are examples of lists. We'll talk about \n",
    "# them in depth a few lessons from now. For now, just know that they're\n",
    "# yet another type of Python object, like int or float.\n",
    "a = [1, 2, 3]\n",
    "b = [3, 2, 1]\n",
    "q2.store_original_ids()\n",
    "######################################################################\n",
    "\n",
    "# Your code goes here. Swap the values to which a and b refer.\n",
    "# If you get stuck, you can always uncomment one or both of the lines in\n",
    "# the next cell for a hint, or to peek at the solution.\n",
    "c= a\n",
    "a=b\n",
    "b=c\n",
    "######################################################################\n",
    "\n",
    "# Check your answer\n",
    "q2.check()"
   ]
  },
  {
   "cell_type": "code",
   "execution_count": 8,
   "id": "32fa1eb0",
   "metadata": {
    "execution": {
     "iopub.execute_input": "2024-02-22T21:27:56.785852Z",
     "iopub.status.busy": "2024-02-22T21:27:56.785313Z",
     "iopub.status.idle": "2024-02-22T21:27:56.790846Z",
     "shell.execute_reply": "2024-02-22T21:27:56.789514Z"
    },
    "papermill": {
     "duration": 0.020484,
     "end_time": "2024-02-22T21:27:56.793462",
     "exception": false,
     "start_time": "2024-02-22T21:27:56.772978",
     "status": "completed"
    },
    "tags": []
   },
   "outputs": [],
   "source": [
    "#q2.hint()"
   ]
  },
  {
   "cell_type": "code",
   "execution_count": 9,
   "id": "385e4407",
   "metadata": {
    "execution": {
     "iopub.execute_input": "2024-02-22T21:27:56.816613Z",
     "iopub.status.busy": "2024-02-22T21:27:56.816145Z",
     "iopub.status.idle": "2024-02-22T21:27:56.822043Z",
     "shell.execute_reply": "2024-02-22T21:27:56.820777Z"
    },
    "papermill": {
     "duration": 0.021541,
     "end_time": "2024-02-22T21:27:56.825242",
     "exception": false,
     "start_time": "2024-02-22T21:27:56.803701",
     "status": "completed"
    },
    "tags": []
   },
   "outputs": [],
   "source": [
    "#q2.solution()"
   ]
  },
  {
   "cell_type": "markdown",
   "id": "6c1a063f",
   "metadata": {
    "papermill": {
     "duration": 0.010193,
     "end_time": "2024-02-22T21:27:56.846366",
     "exception": false,
     "start_time": "2024-02-22T21:27:56.836173",
     "status": "completed"
    },
    "tags": []
   },
   "source": [
    "<hr/>\n",
    "\n",
    "# 3a.\n",
    "\n",
    "Add parentheses to the following expression so that it evaluates to 1."
   ]
  },
  {
   "cell_type": "code",
   "execution_count": 10,
   "id": "472147b2",
   "metadata": {
    "execution": {
     "iopub.execute_input": "2024-02-22T21:27:56.869953Z",
     "iopub.status.busy": "2024-02-22T21:27:56.869441Z",
     "iopub.status.idle": "2024-02-22T21:27:56.877618Z",
     "shell.execute_reply": "2024-02-22T21:27:56.876218Z"
    },
    "papermill": {
     "duration": 0.023207,
     "end_time": "2024-02-22T21:27:56.880240",
     "exception": false,
     "start_time": "2024-02-22T21:27:56.857033",
     "status": "completed"
    },
    "tags": []
   },
   "outputs": [
    {
     "data": {
      "text/plain": [
       "1"
      ]
     },
     "execution_count": 10,
     "metadata": {},
     "output_type": "execute_result"
    }
   ],
   "source": [
    "(5 - 3) // 2"
   ]
  },
  {
   "cell_type": "code",
   "execution_count": 11,
   "id": "cd2d104e",
   "metadata": {
    "execution": {
     "iopub.execute_input": "2024-02-22T21:27:56.903545Z",
     "iopub.status.busy": "2024-02-22T21:27:56.903134Z",
     "iopub.status.idle": "2024-02-22T21:27:56.910535Z",
     "shell.execute_reply": "2024-02-22T21:27:56.907668Z"
    },
    "papermill": {
     "duration": 0.022438,
     "end_time": "2024-02-22T21:27:56.913432",
     "exception": false,
     "start_time": "2024-02-22T21:27:56.890994",
     "status": "completed"
    },
    "tags": []
   },
   "outputs": [],
   "source": [
    "#q3.a.hint()"
   ]
  },
  {
   "cell_type": "code",
   "execution_count": 12,
   "id": "4471e005",
   "metadata": {
    "execution": {
     "iopub.execute_input": "2024-02-22T21:27:56.937628Z",
     "iopub.status.busy": "2024-02-22T21:27:56.937249Z",
     "iopub.status.idle": "2024-02-22T21:27:56.947498Z",
     "shell.execute_reply": "2024-02-22T21:27:56.946172Z"
    },
    "papermill": {
     "duration": 0.025285,
     "end_time": "2024-02-22T21:27:56.949995",
     "exception": false,
     "start_time": "2024-02-22T21:27:56.924710",
     "status": "completed"
    },
    "tags": []
   },
   "outputs": [
    {
     "data": {
      "application/javascript": [
       "parent.postMessage({\"jupyterEvent\": \"custom.exercise_interaction\", \"data\": {\"interactionType\": 3, \"questionType\": 4, \"questionId\": \"3.1_ArithmeticParensEasy\", \"learnToolsVersion\": \"0.3.4\", \"valueTowardsCompletion\": 0.0, \"failureMessage\": \"\", \"exceptionClass\": \"\", \"trace\": \"\", \"outcomeType\": 4}}, \"*\")"
      ],
      "text/plain": [
       "<IPython.core.display.Javascript object>"
      ]
     },
     "metadata": {},
     "output_type": "display_data"
    },
    {
     "data": {
      "text/markdown": [
       "<span style=\"color:#33cc99\">Solution:</span> \n",
       "```python\n",
       "(5 - 3) // 2\n",
       "```"
      ],
      "text/plain": [
       "Solution: \n",
       "```python\n",
       "(5 - 3) // 2\n",
       "```"
      ]
     },
     "metadata": {},
     "output_type": "display_data"
    }
   ],
   "source": [
    "# Check your answer (Run this code cell to receive credit!)\n",
    "q3.a.solution()"
   ]
  },
  {
   "cell_type": "markdown",
   "id": "bd91a7d4",
   "metadata": {
    "papermill": {
     "duration": 0.011033,
     "end_time": "2024-02-22T21:27:56.972374",
     "exception": false,
     "start_time": "2024-02-22T21:27:56.961341",
     "status": "completed"
    },
    "tags": []
   },
   "source": [
    "# 3b.  <span title=\"A bit spicy\" style=\"color: darkgreen \">🌶️</span>\n",
    "\n",
    "<small>Questions, like this one, marked a spicy pepper are a bit harder.</small>\n",
    "\n",
    "Add parentheses to the following expression so that it evaluates to 0."
   ]
  },
  {
   "cell_type": "code",
   "execution_count": 13,
   "id": "62551065",
   "metadata": {
    "execution": {
     "iopub.execute_input": "2024-02-22T21:27:56.996974Z",
     "iopub.status.busy": "2024-02-22T21:27:56.996550Z",
     "iopub.status.idle": "2024-02-22T21:27:57.006550Z",
     "shell.execute_reply": "2024-02-22T21:27:57.004592Z"
    },
    "papermill": {
     "duration": 0.026056,
     "end_time": "2024-02-22T21:27:57.009698",
     "exception": false,
     "start_time": "2024-02-22T21:27:56.983642",
     "status": "completed"
    },
    "tags": []
   },
   "outputs": [
    {
     "data": {
      "text/plain": [
       "0"
      ]
     },
     "execution_count": 13,
     "metadata": {},
     "output_type": "execute_result"
    }
   ],
   "source": [
    "8 - (3 * 2) - (1 + 1)"
   ]
  },
  {
   "cell_type": "code",
   "execution_count": 14,
   "id": "685ce0da",
   "metadata": {
    "execution": {
     "iopub.execute_input": "2024-02-22T21:27:57.035659Z",
     "iopub.status.busy": "2024-02-22T21:27:57.034785Z",
     "iopub.status.idle": "2024-02-22T21:27:57.040591Z",
     "shell.execute_reply": "2024-02-22T21:27:57.039079Z"
    },
    "papermill": {
     "duration": 0.021764,
     "end_time": "2024-02-22T21:27:57.043349",
     "exception": false,
     "start_time": "2024-02-22T21:27:57.021585",
     "status": "completed"
    },
    "tags": []
   },
   "outputs": [],
   "source": [
    "#q3.b.hint()"
   ]
  },
  {
   "cell_type": "code",
   "execution_count": 15,
   "id": "caf3cb5a",
   "metadata": {
    "execution": {
     "iopub.execute_input": "2024-02-22T21:27:57.072300Z",
     "iopub.status.busy": "2024-02-22T21:27:57.070791Z",
     "iopub.status.idle": "2024-02-22T21:27:57.082601Z",
     "shell.execute_reply": "2024-02-22T21:27:57.081245Z"
    },
    "papermill": {
     "duration": 0.028532,
     "end_time": "2024-02-22T21:27:57.085271",
     "exception": false,
     "start_time": "2024-02-22T21:27:57.056739",
     "status": "completed"
    },
    "tags": []
   },
   "outputs": [
    {
     "data": {
      "application/javascript": [
       "parent.postMessage({\"jupyterEvent\": \"custom.exercise_interaction\", \"data\": {\"interactionType\": 3, \"questionType\": 4, \"questionId\": \"3.2_ArithmeticParensHard\", \"learnToolsVersion\": \"0.3.4\", \"valueTowardsCompletion\": 0.0, \"failureMessage\": \"\", \"exceptionClass\": \"\", \"trace\": \"\", \"outcomeType\": 4}}, \"*\")"
      ],
      "text/plain": [
       "<IPython.core.display.Javascript object>"
      ]
     },
     "metadata": {},
     "output_type": "display_data"
    },
    {
     "data": {
      "text/markdown": [
       "<span style=\"color:#33cc99\">Solution:</span> `(8 - 3) * (2 - (1 + 1))` is one solution. There may be others."
      ],
      "text/plain": [
       "Solution: `(8 - 3) * (2 - (1 + 1))` is one solution. There may be others."
      ]
     },
     "metadata": {},
     "output_type": "display_data"
    }
   ],
   "source": [
    "# Check your answer (Run this code cell to receive credit!)\n",
    "q3.b.solution()"
   ]
  },
  {
   "cell_type": "markdown",
   "id": "7fed5654",
   "metadata": {
    "papermill": {
     "duration": 0.011477,
     "end_time": "2024-02-22T21:27:57.108761",
     "exception": false,
     "start_time": "2024-02-22T21:27:57.097284",
     "status": "completed"
    },
    "tags": []
   },
   "source": [
    "<hr/>\n",
    "\n",
    "# 4. \n",
    "Alice, Bob and Carol have agreed to pool their Halloween candy and split it evenly among themselves.\n",
    "For the sake of their friendship, any candies left over will be smashed. For example, if they collectively\n",
    "bring home 91 candies, they'll take 30 each and smash 1.\n",
    "\n",
    "Write an arithmetic expression below to calculate how many candies they must smash for a given haul."
   ]
  },
  {
   "cell_type": "code",
   "execution_count": 16,
   "id": "4e1d5063",
   "metadata": {
    "execution": {
     "iopub.execute_input": "2024-02-22T21:27:57.134327Z",
     "iopub.status.busy": "2024-02-22T21:27:57.133890Z",
     "iopub.status.idle": "2024-02-22T21:27:57.144339Z",
     "shell.execute_reply": "2024-02-22T21:27:57.143410Z"
    },
    "papermill": {
     "duration": 0.025978,
     "end_time": "2024-02-22T21:27:57.146687",
     "exception": false,
     "start_time": "2024-02-22T21:27:57.120709",
     "status": "completed"
    },
    "tags": []
   },
   "outputs": [
    {
     "data": {
      "application/javascript": [
       "parent.postMessage({\"jupyterEvent\": \"custom.exercise_interaction\", \"data\": {\"outcomeType\": 4, \"interactionType\": 1, \"questionType\": 1, \"questionId\": \"4_CandySplitting\", \"learnToolsVersion\": \"0.3.4\", \"valueTowardsCompletion\": 0.0, \"failureMessage\": \"\", \"exceptionClass\": \"\", \"trace\": \"\"}}, \"*\")"
      ],
      "text/plain": [
       "<IPython.core.display.Javascript object>"
      ]
     },
     "metadata": {},
     "output_type": "display_data"
    },
    {
     "data": {
      "text/markdown": [
       "<span style=\"color:#ccaa33\">Check:</span> When you've updated the starter code, `check()` will tell you whether your code is correct. You need to update the code that creates variable `to_smash`"
      ],
      "text/plain": [
       "Check: When you've updated the starter code, `check()` will tell you whether your code is correct. You need to update the code that creates variable `to_smash`"
      ]
     },
     "metadata": {},
     "output_type": "display_data"
    }
   ],
   "source": [
    "# Variables representing the number of candies collected by alice, bob, and carol\n",
    "alice_candies = 121\n",
    "bob_candies = 77\n",
    "carol_candies = 109\n",
    "\n",
    "# Your code goes here! Replace the right-hand side of this assignment with an expression\n",
    "# involving alice_candies, bob_candies, and carol_candies\n",
    "total_candies =alice_candies+bob_candies+carol_candies\n",
    "to_smash = -1\n",
    "\n",
    "# Check your answer\n",
    "q4.check()"
   ]
  },
  {
   "cell_type": "code",
   "execution_count": 17,
   "id": "ae0adeaa",
   "metadata": {
    "execution": {
     "iopub.execute_input": "2024-02-22T21:27:57.173896Z",
     "iopub.status.busy": "2024-02-22T21:27:57.173391Z",
     "iopub.status.idle": "2024-02-22T21:27:57.178484Z",
     "shell.execute_reply": "2024-02-22T21:27:57.177359Z"
    },
    "papermill": {
     "duration": 0.021865,
     "end_time": "2024-02-22T21:27:57.181068",
     "exception": false,
     "start_time": "2024-02-22T21:27:57.159203",
     "status": "completed"
    },
    "tags": []
   },
   "outputs": [],
   "source": [
    "#q4.hint()\n",
    "#q4.solution()"
   ]
  },
  {
   "cell_type": "markdown",
   "id": "da29ff74",
   "metadata": {
    "papermill": {
     "duration": 0.011923,
     "end_time": "2024-02-22T21:27:57.205344",
     "exception": false,
     "start_time": "2024-02-22T21:27:57.193421",
     "status": "completed"
    },
    "tags": []
   },
   "source": [
    "# Keep Going\n",
    "\n",
    "Next up, you'll **[learn to write new functions and understand functions others write](https://www.kaggle.com/colinmorris/functions-and-getting-help)**. This will make you at least 10 times more productive as a Python programmer. "
   ]
  },
  {
   "cell_type": "markdown",
   "id": "e939ef5d",
   "metadata": {
    "papermill": {
     "duration": 0.011894,
     "end_time": "2024-02-22T21:27:57.229654",
     "exception": false,
     "start_time": "2024-02-22T21:27:57.217760",
     "status": "completed"
    },
    "tags": []
   },
   "source": [
    "---\n",
    "\n",
    "\n",
    "\n",
    "\n",
    "*Have questions or comments? Visit the [course discussion forum](https://www.kaggle.com/learn/python/discussion) to chat with other learners.*"
   ]
  }
 ],
 "metadata": {
  "kaggle": {
   "accelerator": "none",
   "dataSources": [],
   "isGpuEnabled": false,
   "isInternetEnabled": false,
   "language": "python",
   "sourceType": "notebook"
  },
  "kernelspec": {
   "display_name": "Python 3",
   "language": "python",
   "name": "python3"
  },
  "language_info": {
   "codemirror_mode": {
    "name": "ipython",
    "version": 3
   },
   "file_extension": ".py",
   "mimetype": "text/x-python",
   "name": "python",
   "nbconvert_exporter": "python",
   "pygments_lexer": "ipython3",
   "version": "3.10.13"
  },
  "learntools_metadata": {
   "lesson_index": 0,
   "type": "exercise"
  },
  "papermill": {
   "default_parameters": {},
   "duration": 6.032643,
   "end_time": "2024-02-22T21:27:57.766319",
   "environment_variables": {},
   "exception": null,
   "input_path": "__notebook__.ipynb",
   "output_path": "__notebook__.ipynb",
   "parameters": {},
   "start_time": "2024-02-22T21:27:51.733676",
   "version": "2.5.0"
  }
 },
 "nbformat": 4,
 "nbformat_minor": 5
}
