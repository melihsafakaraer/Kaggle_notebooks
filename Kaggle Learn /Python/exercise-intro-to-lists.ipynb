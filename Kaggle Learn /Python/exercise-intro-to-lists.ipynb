{
 "cells": [
  {
   "cell_type": "markdown",
   "id": "1f68d926",
   "metadata": {
    "papermill": {
     "duration": 0.006393,
     "end_time": "2024-02-22T21:30:35.979061",
     "exception": false,
     "start_time": "2024-02-22T21:30:35.972668",
     "status": "completed"
    },
    "tags": []
   },
   "source": [
    "**This notebook is an exercise in the [Intro to Programming](https://www.kaggle.com/learn/intro-to-programming) course.  You can reference the tutorial at [this link](https://www.kaggle.com/alexisbcook/intro-to-lists).**\n",
    "\n",
    "---\n"
   ]
  },
  {
   "cell_type": "markdown",
   "id": "989c7135",
   "metadata": {
    "papermill": {
     "duration": 0.005491,
     "end_time": "2024-02-22T21:30:35.990410",
     "exception": false,
     "start_time": "2024-02-22T21:30:35.984919",
     "status": "completed"
    },
    "tags": []
   },
   "source": [
    "In the tutorial, you learned how to define and modify Python lists.  In this exercise, you will use your new knowledge to solve several problems.\n",
    "\n",
    "# Set up the notebook\n",
    "\n",
    "Run the next code cell without changes to set up the notebook."
   ]
  },
  {
   "cell_type": "code",
   "execution_count": 1,
   "id": "39bf01a7",
   "metadata": {
    "execution": {
     "iopub.execute_input": "2024-02-22T21:30:36.004126Z",
     "iopub.status.busy": "2024-02-22T21:30:36.003267Z",
     "iopub.status.idle": "2024-02-22T21:30:36.865001Z",
     "shell.execute_reply": "2024-02-22T21:30:36.863893Z"
    },
    "papermill": {
     "duration": 0.871252,
     "end_time": "2024-02-22T21:30:36.867303",
     "exception": false,
     "start_time": "2024-02-22T21:30:35.996051",
     "status": "completed"
    },
    "tags": []
   },
   "outputs": [
    {
     "name": "stdout",
     "output_type": "stream",
     "text": [
      "Setup complete.\n"
     ]
    }
   ],
   "source": [
    "from learntools.core import binder\n",
    "binder.bind(globals())\n",
    "from learntools.intro_to_programming.ex5 import *\n",
    "print('Setup complete.')"
   ]
  },
  {
   "cell_type": "markdown",
   "id": "947cbfbd",
   "metadata": {
    "papermill": {
     "duration": 0.005403,
     "end_time": "2024-02-22T21:30:36.878604",
     "exception": false,
     "start_time": "2024-02-22T21:30:36.873201",
     "status": "completed"
    },
    "tags": []
   },
   "source": [
    "# Question 1\n",
    "\n",
    "You own a restaurant with five food dishes, organized in the Python list `menu` below.  One day, you decide to:\n",
    "- remove bean soup (`'bean soup'`) from the menu, and\n",
    "- add roasted beet salad (`'roasted beet salad'`) to the menu.\n",
    "\n",
    "Implement this change to the list below.  While completing this task, \n",
    "- do not change the line that creates the `menu` list.  \n",
    "- your answer should use `.remove()` and `.append()`.  "
   ]
  },
  {
   "cell_type": "code",
   "execution_count": 2,
   "id": "8c5f3784",
   "metadata": {
    "execution": {
     "iopub.execute_input": "2024-02-22T21:30:36.892880Z",
     "iopub.status.busy": "2024-02-22T21:30:36.892408Z",
     "iopub.status.idle": "2024-02-22T21:30:36.900622Z",
     "shell.execute_reply": "2024-02-22T21:30:36.899970Z"
    },
    "papermill": {
     "duration": 0.017197,
     "end_time": "2024-02-22T21:30:36.902370",
     "exception": false,
     "start_time": "2024-02-22T21:30:36.885173",
     "status": "completed"
    },
    "tags": []
   },
   "outputs": [
    {
     "data": {
      "application/javascript": [
       "parent.postMessage({\"jupyterEvent\": \"custom.exercise_interaction\", \"data\": {\"outcomeType\": 1, \"valueTowardsCompletion\": 0.2, \"interactionType\": 1, \"questionType\": 2, \"questionId\": \"1_FoodMenu\", \"learnToolsVersion\": \"0.3.4\", \"failureMessage\": \"\", \"exceptionClass\": \"\", \"trace\": \"\"}}, \"*\")"
      ],
      "text/plain": [
       "<IPython.core.display.Javascript object>"
      ]
     },
     "metadata": {},
     "output_type": "display_data"
    },
    {
     "data": {
      "text/markdown": [
       "<span style=\"color:#33cc33\">Correct</span>"
      ],
      "text/plain": [
       "Correct"
      ]
     },
     "metadata": {},
     "output_type": "display_data"
    }
   ],
   "source": [
    "# Do not change: Initial menu for your restaurant\n",
    "menu = ['stewed meat with onions', 'bean soup', 'risotto with trout and shrimp',\n",
    "       'fish soup with cream and onion', 'gyro']\n",
    "\n",
    "# TODO: remove 'bean soup', and add 'roasted beet salad' to the end of the menu\n",
    "menu.remove('bean soup')\n",
    "menu.append('roasted beet salad')\n",
    "\n",
    "# Do not change: Check your answer\n",
    "q1.check()"
   ]
  },
  {
   "cell_type": "code",
   "execution_count": 3,
   "id": "64e6e7b9",
   "metadata": {
    "execution": {
     "iopub.execute_input": "2024-02-22T21:30:36.916035Z",
     "iopub.status.busy": "2024-02-22T21:30:36.915202Z",
     "iopub.status.idle": "2024-02-22T21:30:36.919250Z",
     "shell.execute_reply": "2024-02-22T21:30:36.918243Z"
    },
    "papermill": {
     "duration": 0.012875,
     "end_time": "2024-02-22T21:30:36.921229",
     "exception": false,
     "start_time": "2024-02-22T21:30:36.908354",
     "status": "completed"
    },
    "tags": []
   },
   "outputs": [],
   "source": [
    "# Uncomment to see a hint\n",
    "#q1.hint()\n",
    "\n",
    "# Uncomment to see the solution\n",
    "#q1.solution()"
   ]
  },
  {
   "cell_type": "markdown",
   "id": "c3864e09",
   "metadata": {
    "papermill": {
     "duration": 0.005824,
     "end_time": "2024-02-22T21:30:36.933122",
     "exception": false,
     "start_time": "2024-02-22T21:30:36.927298",
     "status": "completed"
    },
    "tags": []
   },
   "source": [
    "# Question 2\n",
    "\n",
    "The list `num_customers` contains the number of customers who came into your restaurant every day over the last month (which lasted thirty days).  Fill in values for each of the following:\n",
    "- `avg_first_seven` - average number of customers who visited in the first seven days\n",
    "- `avg_last_seven` - average number of customers who visited in the last seven days\n",
    "- `max_month` - number of customers on the day that got the most customers in the last month\n",
    "- `min_month` - number of customers on the day that got the least customers in the last month\n",
    "\n",
    "Answer this question by writing code.  For instance, if you have to find the minimum value in a list, use `min()` instead of scanning for the smallest value and directly filling in a number."
   ]
  },
  {
   "cell_type": "code",
   "execution_count": 4,
   "id": "151b3d66",
   "metadata": {
    "execution": {
     "iopub.execute_input": "2024-02-22T21:30:36.947138Z",
     "iopub.status.busy": "2024-02-22T21:30:36.946730Z",
     "iopub.status.idle": "2024-02-22T21:30:36.956243Z",
     "shell.execute_reply": "2024-02-22T21:30:36.955143Z"
    },
    "papermill": {
     "duration": 0.019074,
     "end_time": "2024-02-22T21:30:36.958169",
     "exception": false,
     "start_time": "2024-02-22T21:30:36.939095",
     "status": "completed"
    },
    "tags": []
   },
   "outputs": [
    {
     "data": {
      "application/javascript": [
       "parent.postMessage({\"jupyterEvent\": \"custom.exercise_interaction\", \"data\": {\"outcomeType\": 1, \"valueTowardsCompletion\": 0.2, \"interactionType\": 1, \"questionType\": 1, \"questionId\": \"2_NumCustomers\", \"learnToolsVersion\": \"0.3.4\", \"failureMessage\": \"\", \"exceptionClass\": \"\", \"trace\": \"\"}}, \"*\")"
      ],
      "text/plain": [
       "<IPython.core.display.Javascript object>"
      ]
     },
     "metadata": {},
     "output_type": "display_data"
    },
    {
     "data": {
      "text/markdown": [
       "<span style=\"color:#33cc33\">Correct</span>"
      ],
      "text/plain": [
       "Correct"
      ]
     },
     "metadata": {},
     "output_type": "display_data"
    }
   ],
   "source": [
    "# Do not change: Number of customers each day for the last month\n",
    "num_customers = [137, 147, 135, 128, 170, 174, 165, 146, 126, 159,\n",
    "                 141, 148, 132, 147, 168, 153, 170, 161, 148, 152,\n",
    "                 141, 151, 131, 149, 164, 163, 143, 143, 166, 171]\n",
    "\n",
    "# TODO: Fill in values for the variables below\n",
    "avg_first_seven = sum(num_customers[:7])/7\n",
    "avg_last_seven = sum(num_customers[-7:])/7 \n",
    "max_month = max(num_customers)\n",
    "min_month = min(num_customers)\n",
    "\n",
    "# Do not change: Check your answer\n",
    "q2.check()"
   ]
  },
  {
   "cell_type": "code",
   "execution_count": 5,
   "id": "10bbb8e0",
   "metadata": {
    "execution": {
     "iopub.execute_input": "2024-02-22T21:30:36.971755Z",
     "iopub.status.busy": "2024-02-22T21:30:36.971418Z",
     "iopub.status.idle": "2024-02-22T21:30:36.975462Z",
     "shell.execute_reply": "2024-02-22T21:30:36.974580Z"
    },
    "papermill": {
     "duration": 0.013173,
     "end_time": "2024-02-22T21:30:36.977494",
     "exception": false,
     "start_time": "2024-02-22T21:30:36.964321",
     "status": "completed"
    },
    "tags": []
   },
   "outputs": [],
   "source": [
    "# Uncomment to see a hint\n",
    "#q2.hint()\n",
    "\n",
    "# Uncomment to see the solution\n",
    "#q2.solution()"
   ]
  },
  {
   "cell_type": "markdown",
   "id": "cf990aab",
   "metadata": {
    "papermill": {
     "duration": 0.005965,
     "end_time": "2024-02-22T21:30:36.989675",
     "exception": false,
     "start_time": "2024-02-22T21:30:36.983710",
     "status": "completed"
    },
    "tags": []
   },
   "source": [
    "# Question 3\n",
    "\n",
    "In the tutorial, we gave an example of a Python string with information that was better as a list."
   ]
  },
  {
   "cell_type": "code",
   "execution_count": 6,
   "id": "78cd9ac0",
   "metadata": {
    "execution": {
     "iopub.execute_input": "2024-02-22T21:30:37.005133Z",
     "iopub.status.busy": "2024-02-22T21:30:37.004728Z",
     "iopub.status.idle": "2024-02-22T21:30:37.009234Z",
     "shell.execute_reply": "2024-02-22T21:30:37.008227Z"
    },
    "papermill": {
     "duration": 0.014187,
     "end_time": "2024-02-22T21:30:37.011234",
     "exception": false,
     "start_time": "2024-02-22T21:30:36.997047",
     "status": "completed"
    },
    "tags": []
   },
   "outputs": [],
   "source": [
    "flowers = \"pink primrose,hard-leaved pocket orchid,canterbury bells,sweet pea,english marigold,tiger lily,moon orchid,bird of paradise,monkshood,globe thistle\""
   ]
  },
  {
   "cell_type": "markdown",
   "id": "94d6122a",
   "metadata": {
    "papermill": {
     "duration": 0.006121,
     "end_time": "2024-02-22T21:30:37.024137",
     "exception": false,
     "start_time": "2024-02-22T21:30:37.018016",
     "status": "completed"
    },
    "tags": []
   },
   "source": [
    "You can actually use Python to quickly turn this string into a list with `.split()`.  In the parentheses, we need to provide the character should be used to mark the end of one list item and the beginning of another, and enclose it in quotation marks.  In this case, that character is a comma."
   ]
  },
  {
   "cell_type": "code",
   "execution_count": 7,
   "id": "14f1b0e8",
   "metadata": {
    "execution": {
     "iopub.execute_input": "2024-02-22T21:30:37.038712Z",
     "iopub.status.busy": "2024-02-22T21:30:37.038352Z",
     "iopub.status.idle": "2024-02-22T21:30:37.043790Z",
     "shell.execute_reply": "2024-02-22T21:30:37.042860Z"
    },
    "papermill": {
     "duration": 0.015323,
     "end_time": "2024-02-22T21:30:37.046162",
     "exception": false,
     "start_time": "2024-02-22T21:30:37.030839",
     "status": "completed"
    },
    "tags": []
   },
   "outputs": [
    {
     "name": "stdout",
     "output_type": "stream",
     "text": [
      "['pink primrose', 'hard-leaved pocket orchid', 'canterbury bells', 'sweet pea', 'english marigold', 'tiger lily', 'moon orchid', 'bird of paradise', 'monkshood', 'globe thistle']\n"
     ]
    }
   ],
   "source": [
    " print(flowers.split(\",\"))"
   ]
  },
  {
   "cell_type": "markdown",
   "id": "97ff8505",
   "metadata": {
    "papermill": {
     "duration": 0.006095,
     "end_time": "2024-02-22T21:30:37.058784",
     "exception": false,
     "start_time": "2024-02-22T21:30:37.052689",
     "status": "completed"
    },
    "tags": []
   },
   "source": [
    "Now it is your turn to try this out!  Create two Python lists:\n",
    "- `letters` should be a Python list where each entry is an uppercase letter of the English alphabet.  For instance, the first two entries should be `\"A\"` and `\"B\"`, and the final two entries should be `\"Y\"` and `\"Z\"`.  Use the string `alphabet` to create this list.\n",
    "- `address` should be a Python list where each row in `address` is a different item in the list.  Currently, each row in `address` is separated by a comma. "
   ]
  },
  {
   "cell_type": "code",
   "execution_count": 8,
   "id": "676eff7a",
   "metadata": {
    "execution": {
     "iopub.execute_input": "2024-02-22T21:30:37.072986Z",
     "iopub.status.busy": "2024-02-22T21:30:37.072625Z",
     "iopub.status.idle": "2024-02-22T21:30:37.079750Z",
     "shell.execute_reply": "2024-02-22T21:30:37.079088Z"
    },
    "papermill": {
     "duration": 0.016517,
     "end_time": "2024-02-22T21:30:37.081771",
     "exception": false,
     "start_time": "2024-02-22T21:30:37.065254",
     "status": "completed"
    },
    "tags": []
   },
   "outputs": [
    {
     "data": {
      "application/javascript": [
       "parent.postMessage({\"jupyterEvent\": \"custom.exercise_interaction\", \"data\": {\"outcomeType\": 1, \"valueTowardsCompletion\": 0.2, \"interactionType\": 1, \"questionType\": 1, \"questionId\": \"3_SplitString\", \"learnToolsVersion\": \"0.3.4\", \"failureMessage\": \"\", \"exceptionClass\": \"\", \"trace\": \"\"}}, \"*\")"
      ],
      "text/plain": [
       "<IPython.core.display.Javascript object>"
      ]
     },
     "metadata": {},
     "output_type": "display_data"
    },
    {
     "data": {
      "text/markdown": [
       "<span style=\"color:#33cc33\">Correct</span>"
      ],
      "text/plain": [
       "Correct"
      ]
     },
     "metadata": {},
     "output_type": "display_data"
    }
   ],
   "source": [
    "# DO not change: Define two Python strings\n",
    "alphabet = \"A.B.C.D.E.F.G.H.I.J.K.L.M.N.O.P.Q.R.S.T.U.V.W.X.Y.Z\"\n",
    "address = \"Mr. H. Potter,The cupboard under the Stairs,4 Privet Drive,Little Whinging,Surrey\"\n",
    "\n",
    "# TODO: Convert strings into Python lists\n",
    "letters = alphabet.split(\".\")\n",
    "formatted_address = address.split(\",\")\n",
    "\n",
    "# Do not change: Check your answer\n",
    "q3.check()"
   ]
  },
  {
   "cell_type": "code",
   "execution_count": 9,
   "id": "221043e3",
   "metadata": {
    "execution": {
     "iopub.execute_input": "2024-02-22T21:30:37.096778Z",
     "iopub.status.busy": "2024-02-22T21:30:37.096439Z",
     "iopub.status.idle": "2024-02-22T21:30:37.100638Z",
     "shell.execute_reply": "2024-02-22T21:30:37.099674Z"
    },
    "papermill": {
     "duration": 0.014002,
     "end_time": "2024-02-22T21:30:37.102648",
     "exception": false,
     "start_time": "2024-02-22T21:30:37.088646",
     "status": "completed"
    },
    "tags": []
   },
   "outputs": [],
   "source": [
    "# Uncomment to see a hint\n",
    "#q3.hint()\n",
    "\n",
    "# Uncomment to see the solution\n",
    "#q3.solution()"
   ]
  },
  {
   "cell_type": "markdown",
   "id": "253b8f6c",
   "metadata": {
    "papermill": {
     "duration": 0.006357,
     "end_time": "2024-02-22T21:30:37.115742",
     "exception": false,
     "start_time": "2024-02-22T21:30:37.109385",
     "status": "completed"
    },
    "tags": []
   },
   "source": [
    "# Question 4\n",
    "\n",
    "In the Python course, you'll learn all about **list comprehensions**, which allow you to create a list based on the values in another list.  In this question, you'll get a brief preview of how they work.\n",
    "\n",
    "Say we're working with the list below."
   ]
  },
  {
   "cell_type": "code",
   "execution_count": 10,
   "id": "0a1075a3",
   "metadata": {
    "execution": {
     "iopub.execute_input": "2024-02-22T21:30:37.130250Z",
     "iopub.status.busy": "2024-02-22T21:30:37.129904Z",
     "iopub.status.idle": "2024-02-22T21:30:37.134368Z",
     "shell.execute_reply": "2024-02-22T21:30:37.133441Z"
    },
    "papermill": {
     "duration": 0.014062,
     "end_time": "2024-02-22T21:30:37.136309",
     "exception": false,
     "start_time": "2024-02-22T21:30:37.122247",
     "status": "completed"
    },
    "tags": []
   },
   "outputs": [],
   "source": [
    "test_ratings = [1, 2, 3, 4, 5]"
   ]
  },
  {
   "cell_type": "markdown",
   "id": "5923f2d1",
   "metadata": {
    "papermill": {
     "duration": 0.006387,
     "end_time": "2024-02-22T21:30:37.149424",
     "exception": false,
     "start_time": "2024-02-22T21:30:37.143037",
     "status": "completed"
    },
    "tags": []
   },
   "source": [
    "Then we can use this list (`test_ratings`) to create a new list (`test_liked`) where each item has been turned into a boolean, depending on whether or not the item is greater than or equal to four."
   ]
  },
  {
   "cell_type": "code",
   "execution_count": 11,
   "id": "b6d546e7",
   "metadata": {
    "execution": {
     "iopub.execute_input": "2024-02-22T21:30:37.164330Z",
     "iopub.status.busy": "2024-02-22T21:30:37.163994Z",
     "iopub.status.idle": "2024-02-22T21:30:37.168651Z",
     "shell.execute_reply": "2024-02-22T21:30:37.167702Z"
    },
    "papermill": {
     "duration": 0.014475,
     "end_time": "2024-02-22T21:30:37.170580",
     "exception": false,
     "start_time": "2024-02-22T21:30:37.156105",
     "status": "completed"
    },
    "tags": []
   },
   "outputs": [
    {
     "name": "stdout",
     "output_type": "stream",
     "text": [
      "[False, False, False, True, True]\n"
     ]
    }
   ],
   "source": [
    "test_liked = [i>=4 for i in test_ratings]\n",
    "print(test_liked)"
   ]
  },
  {
   "cell_type": "markdown",
   "id": "f0bc8a0b",
   "metadata": {
    "papermill": {
     "duration": 0.006397,
     "end_time": "2024-02-22T21:30:37.183771",
     "exception": false,
     "start_time": "2024-02-22T21:30:37.177374",
     "status": "completed"
    },
    "tags": []
   },
   "source": [
    "In this question, you'll use this list comprehension to define a function `percentage_liked()` that takes one argument as input:\n",
    "- `ratings`: list of ratings that people gave to a movie, where each rating is a number between 1-5, inclusive\n",
    "\n",
    "We say someone liked the movie, if they gave a rating of either 4 or 5.  Your function should return the percentage of people who liked the movie.\n",
    "\n",
    "For instance, if we supply a value of `[1, 2, 3, 4, 5, 4, 5, 1]`, then 50% (4/8) of the people liked the movie, and the function should return `0.5`.\n",
    "\n",
    "Part of the function has already been completed for you.  You need only use `list_liked` to calculate `percentage_liked`."
   ]
  },
  {
   "cell_type": "code",
   "execution_count": 12,
   "id": "d7dbc4d1",
   "metadata": {
    "execution": {
     "iopub.execute_input": "2024-02-22T21:30:37.198846Z",
     "iopub.status.busy": "2024-02-22T21:30:37.198469Z",
     "iopub.status.idle": "2024-02-22T21:30:37.206976Z",
     "shell.execute_reply": "2024-02-22T21:30:37.206261Z"
    },
    "papermill": {
     "duration": 0.01835,
     "end_time": "2024-02-22T21:30:37.208754",
     "exception": false,
     "start_time": "2024-02-22T21:30:37.190404",
     "status": "completed"
    },
    "tags": []
   },
   "outputs": [
    {
     "data": {
      "application/javascript": [
       "parent.postMessage({\"jupyterEvent\": \"custom.exercise_interaction\", \"data\": {\"outcomeType\": 1, \"valueTowardsCompletion\": 0.2, \"interactionType\": 1, \"questionType\": 2, \"questionId\": \"4_PercentageLiked\", \"learnToolsVersion\": \"0.3.4\", \"failureMessage\": \"\", \"exceptionClass\": \"\", \"trace\": \"\"}}, \"*\")"
      ],
      "text/plain": [
       "<IPython.core.display.Javascript object>"
      ]
     },
     "metadata": {},
     "output_type": "display_data"
    },
    {
     "data": {
      "text/markdown": [
       "<span style=\"color:#33cc33\">Correct</span>"
      ],
      "text/plain": [
       "Correct"
      ]
     },
     "metadata": {},
     "output_type": "display_data"
    }
   ],
   "source": [
    "\n",
    "def percentage_liked(ratings):\n",
    "    list_liked = [i>=4 for i in ratings]\n",
    "    # TODO: Complete the function\n",
    "    percentage_liked = sum(list_liked)/len(ratings)\n",
    "    return percentage_liked\n",
    "\n",
    "# Do not change: should return 0.5\n",
    "percentage_liked([1, 2, 3, 4, 5, 4, 5, 1])\n",
    "\n",
    "# Do not change: Check your answer\n",
    "q4.check()"
   ]
  },
  {
   "cell_type": "code",
   "execution_count": 13,
   "id": "bcf262ba",
   "metadata": {
    "execution": {
     "iopub.execute_input": "2024-02-22T21:30:37.224439Z",
     "iopub.status.busy": "2024-02-22T21:30:37.224118Z",
     "iopub.status.idle": "2024-02-22T21:30:37.231308Z",
     "shell.execute_reply": "2024-02-22T21:30:37.230614Z"
    },
    "papermill": {
     "duration": 0.017256,
     "end_time": "2024-02-22T21:30:37.233171",
     "exception": false,
     "start_time": "2024-02-22T21:30:37.215915",
     "status": "completed"
    },
    "tags": []
   },
   "outputs": [
    {
     "data": {
      "application/javascript": [
       "parent.postMessage({\"jupyterEvent\": \"custom.exercise_interaction\", \"data\": {\"interactionType\": 2, \"questionType\": 2, \"questionId\": \"4_PercentageLiked\", \"learnToolsVersion\": \"0.3.4\", \"valueTowardsCompletion\": 0.0, \"failureMessage\": \"\", \"exceptionClass\": \"\", \"trace\": \"\", \"outcomeType\": 4}}, \"*\")"
      ],
      "text/plain": [
       "<IPython.core.display.Javascript object>"
      ]
     },
     "metadata": {},
     "output_type": "display_data"
    },
    {
     "data": {
      "text/markdown": [
       "<span style=\"color:#3366cc\">Hint:</span> Remember that when we add booleans, it returns the total number of entries in the sum that are `True`."
      ],
      "text/plain": [
       "Hint: Remember that when we add booleans, it returns the total number of entries in the sum that are `True`."
      ]
     },
     "metadata": {},
     "output_type": "display_data"
    }
   ],
   "source": [
    "# Uncomment to see a hint\n",
    "q4.hint()\n",
    "\n",
    "# Uncomment to see the solution\n",
    "#q4.solution()"
   ]
  },
  {
   "cell_type": "markdown",
   "id": "23a8b733",
   "metadata": {
    "papermill": {
     "duration": 0.007135,
     "end_time": "2024-02-22T21:30:37.247894",
     "exception": false,
     "start_time": "2024-02-22T21:30:37.240759",
     "status": "completed"
    },
    "tags": []
   },
   "source": [
    "# 🌶️ Question 5\n",
    " \n",
    "Say you're doing analytics for a website.  You need to write a function that returns the percentage growth in the total number of users relative to a specified number of years ago.\n",
    "\n",
    "Your function `percentage_growth()` should take two arguments as input:\n",
    "- `num_users` = Python list with the total number of users each year.  So `num_users[0]` is the total number of users in the first year, `num_users[1]` is the total number of users in the second year, and so on.  The final entry in the list gives the total number of users in the most recently completed year.\n",
    "- `yrs_ago` = number of years to go back in time when calculating the growth percentage\n",
    "\n",
    "For instance, say `num_users = [920344, 1043553, 1204334, 1458996, 1503323, 1593432, 1623463, 1843064, 1930992, 2001078]`.\n",
    "- if `yrs_ago = 1`, we want the function to return a value of about `0.036`. This corresponds to a percentage growth of approximately 3.6%, calculated as (2001078 - 1930992)/1930992.\n",
    "- if `years_ago = 7`, we would want to return approximately `0.66`.  This corresponds to a percentage growth of approximately 66%, calculated as (2001078 - 1204334)/1204334.\n",
    "\n",
    "Your coworker sent you a draft of a function, but it doesn't seem to be doing the correct calculation.  Can you figure out what has gone wrong and make the needed changes?"
   ]
  },
  {
   "cell_type": "code",
   "execution_count": 14,
   "id": "959c4b7d",
   "metadata": {
    "execution": {
     "iopub.execute_input": "2024-02-22T21:30:37.264104Z",
     "iopub.status.busy": "2024-02-22T21:30:37.263186Z",
     "iopub.status.idle": "2024-02-22T21:30:37.275240Z",
     "shell.execute_reply": "2024-02-22T21:30:37.274069Z"
    },
    "papermill": {
     "duration": 0.022416,
     "end_time": "2024-02-22T21:30:37.277348",
     "exception": false,
     "start_time": "2024-02-22T21:30:37.254932",
     "status": "completed"
    },
    "tags": []
   },
   "outputs": [
    {
     "name": "stdout",
     "output_type": "stream",
     "text": [
      "0.03629533421163837\n",
      "0.6615639847417742\n"
     ]
    },
    {
     "data": {
      "application/javascript": [
       "parent.postMessage({\"jupyterEvent\": \"custom.exercise_interaction\", \"data\": {\"outcomeType\": 1, \"valueTowardsCompletion\": 0.2, \"interactionType\": 1, \"questionType\": 2, \"questionId\": \"5_WebsiteAnalytics\", \"learnToolsVersion\": \"0.3.4\", \"failureMessage\": \"\", \"exceptionClass\": \"\", \"trace\": \"\"}}, \"*\")"
      ],
      "text/plain": [
       "<IPython.core.display.Javascript object>"
      ]
     },
     "metadata": {},
     "output_type": "display_data"
    },
    {
     "data": {
      "text/markdown": [
       "<span style=\"color:#33cc33\">Correct</span>"
      ],
      "text/plain": [
       "Correct"
      ]
     },
     "metadata": {},
     "output_type": "display_data"
    }
   ],
   "source": [
    "# TODO: Edit the function\n",
    "def percentage_growth(num_users, yrs_ago):\n",
    "    growth = (num_users[len(num_users)-1] - num_users[len(num_users)-yrs_ago-1])/num_users[len(num_users)-yrs_ago-1]\n",
    "    return growth\n",
    "\n",
    "# Do not change: Variable for calculating some test examples\n",
    "num_users_test = [920344, 1043553, 1204334, 1458996, 1503323, 1593432, 1623463, 1843064, 1930992, 2001078]\n",
    "\n",
    "# Do not change: Should return .036\n",
    "print(percentage_growth(num_users_test, 1))\n",
    "\n",
    "# Do not change: Should return 0.66\n",
    "print(percentage_growth(num_users_test, 7))\n",
    "\n",
    "# Do not change: Check your answer\n",
    "q5.check()"
   ]
  },
  {
   "cell_type": "code",
   "execution_count": 15,
   "id": "b8fc073e",
   "metadata": {
    "execution": {
     "iopub.execute_input": "2024-02-22T21:30:37.294534Z",
     "iopub.status.busy": "2024-02-22T21:30:37.294162Z",
     "iopub.status.idle": "2024-02-22T21:30:37.297979Z",
     "shell.execute_reply": "2024-02-22T21:30:37.297004Z"
    },
    "papermill": {
     "duration": 0.014805,
     "end_time": "2024-02-22T21:30:37.300006",
     "exception": false,
     "start_time": "2024-02-22T21:30:37.285201",
     "status": "completed"
    },
    "tags": []
   },
   "outputs": [],
   "source": [
    "# Uncomment to see a hint\n",
    "#q5.hint()\n",
    "\n",
    "# Uncomment to see the solution\n",
    "#q5.solution()"
   ]
  },
  {
   "cell_type": "markdown",
   "id": "6ed9ebb7",
   "metadata": {
    "papermill": {
     "duration": 0.007498,
     "end_time": "2024-02-22T21:30:37.315174",
     "exception": false,
     "start_time": "2024-02-22T21:30:37.307676",
     "status": "completed"
    },
    "tags": []
   },
   "source": [
    "# Congratulations!\n",
    "\n",
    "Congratulations for finishing the Intro to Programming course!  You should be proud of your very first steps with learning programming.  As next steps, we recommend taking:\n",
    "- the **[Python course](http://www.kaggle.com/learn/python)**, and \n",
    "- the **[Intro to Machine Learning course](https://www.kaggle.com/learn/intro-to-machine-learning)**."
   ]
  },
  {
   "cell_type": "markdown",
   "id": "bd9de0f7",
   "metadata": {
    "papermill": {
     "duration": 0.007184,
     "end_time": "2024-02-22T21:30:37.329704",
     "exception": false,
     "start_time": "2024-02-22T21:30:37.322520",
     "status": "completed"
    },
    "tags": []
   },
   "source": [
    "---\n",
    "\n",
    "\n",
    "\n",
    "\n",
    "*Have questions or comments? Visit the [course discussion forum](https://www.kaggle.com/learn/intro-to-programming/discussion) to chat with other learners.*"
   ]
  }
 ],
 "metadata": {
  "kaggle": {
   "accelerator": "none",
   "dataSources": [],
   "isGpuEnabled": false,
   "isInternetEnabled": false,
   "language": "python",
   "sourceType": "notebook"
  },
  "kernelspec": {
   "display_name": "Python 3",
   "language": "python",
   "name": "python3"
  },
  "language_info": {
   "codemirror_mode": {
    "name": "ipython",
    "version": 3
   },
   "file_extension": ".py",
   "mimetype": "text/x-python",
   "name": "python",
   "nbconvert_exporter": "python",
   "pygments_lexer": "ipython3",
   "version": "3.10.13"
  },
  "papermill": {
   "default_parameters": {},
   "duration": 4.503935,
   "end_time": "2024-02-22T21:30:37.756373",
   "environment_variables": {},
   "exception": null,
   "input_path": "__notebook__.ipynb",
   "output_path": "__notebook__.ipynb",
   "parameters": {},
   "start_time": "2024-02-22T21:30:33.252438",
   "version": "2.5.0"
  }
 },
 "nbformat": 4,
 "nbformat_minor": 5
}
