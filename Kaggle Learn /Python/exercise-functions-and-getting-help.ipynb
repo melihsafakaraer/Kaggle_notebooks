{
 "cells": [
  {
   "cell_type": "markdown",
   "id": "32915110",
   "metadata": {
    "papermill": {
     "duration": 0.004267,
     "end_time": "2024-02-22T21:28:08.253112",
     "exception": false,
     "start_time": "2024-02-22T21:28:08.248845",
     "status": "completed"
    },
    "tags": []
   },
   "source": [
    "**This notebook is an exercise in the [Python](https://www.kaggle.com/learn/python) course.  You can reference the tutorial at [this link](https://www.kaggle.com/colinmorris/functions-and-getting-help).**\n",
    "\n",
    "---\n"
   ]
  },
  {
   "cell_type": "markdown",
   "id": "6014d2a0",
   "metadata": {
    "papermill": {
     "duration": 0.003793,
     "end_time": "2024-02-22T21:28:08.260771",
     "exception": false,
     "start_time": "2024-02-22T21:28:08.256978",
     "status": "completed"
    },
    "tags": []
   },
   "source": [
    "Functions are powerful. Try writing some yourself.\n",
    "\n",
    "As before, don't forget to run the setup code below before jumping into question 1."
   ]
  },
  {
   "cell_type": "code",
   "execution_count": 1,
   "id": "dbc767ed",
   "metadata": {
    "_kg_hide-input": true,
    "_kg_hide-output": true,
    "execution": {
     "iopub.execute_input": "2024-02-22T21:28:08.270858Z",
     "iopub.status.busy": "2024-02-22T21:28:08.270506Z",
     "iopub.status.idle": "2024-02-22T21:28:08.999344Z",
     "shell.execute_reply": "2024-02-22T21:28:08.997943Z"
    },
    "papermill": {
     "duration": 0.7366,
     "end_time": "2024-02-22T21:28:09.001602",
     "exception": false,
     "start_time": "2024-02-22T21:28:08.265002",
     "status": "completed"
    },
    "tags": []
   },
   "outputs": [
    {
     "name": "stdout",
     "output_type": "stream",
     "text": [
      "Setup complete.\n"
     ]
    }
   ],
   "source": [
    "# SETUP. You don't need to worry for now about what this code does or how it works.\n",
    "from learntools.core import binder; binder.bind(globals())\n",
    "from learntools.python.ex2 import *\n",
    "print('Setup complete.')"
   ]
  },
  {
   "cell_type": "markdown",
   "id": "31e96d15",
   "metadata": {
    "papermill": {
     "duration": 0.003676,
     "end_time": "2024-02-22T21:28:09.009585",
     "exception": false,
     "start_time": "2024-02-22T21:28:09.005909",
     "status": "completed"
    },
    "tags": []
   },
   "source": [
    "# 1.\n",
    "\n",
    "Complete the body of the following function according to its docstring.\n",
    "\n",
    "HINT: Python has a built-in function `round`."
   ]
  },
  {
   "cell_type": "code",
   "execution_count": 2,
   "id": "98a47f1d",
   "metadata": {
    "execution": {
     "iopub.execute_input": "2024-02-22T21:28:09.019360Z",
     "iopub.status.busy": "2024-02-22T21:28:09.018806Z",
     "iopub.status.idle": "2024-02-22T21:28:09.030393Z",
     "shell.execute_reply": "2024-02-22T21:28:09.029605Z"
    },
    "papermill": {
     "duration": 0.018426,
     "end_time": "2024-02-22T21:28:09.031952",
     "exception": false,
     "start_time": "2024-02-22T21:28:09.013526",
     "status": "completed"
    },
    "tags": []
   },
   "outputs": [
    {
     "name": "stdout",
     "output_type": "stream",
     "text": [
      "Help on built-in function round in module builtins:\n",
      "\n",
      "round(number, ndigits=None)\n",
      "    Round a number to a given precision in decimal digits.\n",
      "    \n",
      "    The return value is an integer if ndigits is omitted or None.  Otherwise\n",
      "    the return value has the same type as the number.  ndigits may be negative.\n",
      "\n"
     ]
    },
    {
     "data": {
      "application/javascript": [
       "parent.postMessage({\"jupyterEvent\": \"custom.exercise_interaction\", \"data\": {\"outcomeType\": 1, \"valueTowardsCompletion\": 0.16666666666666666, \"interactionType\": 1, \"questionType\": 2, \"questionId\": \"1_RoundFunctionProblem\", \"learnToolsVersion\": \"0.3.4\", \"failureMessage\": \"\", \"exceptionClass\": \"\", \"trace\": \"\"}}, \"*\")"
      ],
      "text/plain": [
       "<IPython.core.display.Javascript object>"
      ]
     },
     "metadata": {},
     "output_type": "display_data"
    },
    {
     "data": {
      "text/markdown": [
       "<span style=\"color:#33cc33\">Correct</span>"
      ],
      "text/plain": [
       "Correct"
      ]
     },
     "metadata": {},
     "output_type": "display_data"
    }
   ],
   "source": [
    "def round_to_two_places(num):\n",
    "    \"\"\"Return the given number rounded to two decimal places. \n",
    "    \n",
    "    >>> round_to_two_places(3.14159)\n",
    "    3.14\n",
    "    \"\"\"\n",
    "    rounded_num = round(num,ndigits =2)\n",
    "    # Replace this body with your own code.\n",
    "    # (\"pass\" is a keyword that does literally nothing. We used it as a placeholder\n",
    "    # because after we begin a code block, Python requires at least one line of code)\n",
    "    return rounded_num\n",
    "    pass\n",
    "help(round)\n",
    "# Check your answer\n",
    "q1.check()"
   ]
  },
  {
   "cell_type": "code",
   "execution_count": 3,
   "id": "9318c134",
   "metadata": {
    "execution": {
     "iopub.execute_input": "2024-02-22T21:28:09.041705Z",
     "iopub.status.busy": "2024-02-22T21:28:09.041381Z",
     "iopub.status.idle": "2024-02-22T21:28:09.044898Z",
     "shell.execute_reply": "2024-02-22T21:28:09.044047Z"
    },
    "papermill": {
     "duration": 0.010474,
     "end_time": "2024-02-22T21:28:09.046616",
     "exception": false,
     "start_time": "2024-02-22T21:28:09.036142",
     "status": "completed"
    },
    "tags": []
   },
   "outputs": [],
   "source": [
    "# Uncomment the following for a hint\n",
    "#q1.hint()\n",
    "# Or uncomment the following to peek at the solution\n",
    "#q1.solution()"
   ]
  },
  {
   "cell_type": "markdown",
   "id": "5ad94fcd",
   "metadata": {
    "papermill": {
     "duration": 0.004166,
     "end_time": "2024-02-22T21:28:09.055349",
     "exception": false,
     "start_time": "2024-02-22T21:28:09.051183",
     "status": "completed"
    },
    "tags": []
   },
   "source": [
    "# 2.\n",
    "The help for `round` says that `ndigits` (the second argument) may be negative.\n",
    "What do you think will happen when it is? Try some examples in the following cell."
   ]
  },
  {
   "cell_type": "code",
   "execution_count": 4,
   "id": "22c31d54",
   "metadata": {
    "execution": {
     "iopub.execute_input": "2024-02-22T21:28:09.065647Z",
     "iopub.status.busy": "2024-02-22T21:28:09.065354Z",
     "iopub.status.idle": "2024-02-22T21:28:09.070551Z",
     "shell.execute_reply": "2024-02-22T21:28:09.069688Z"
    },
    "papermill": {
     "duration": 0.012672,
     "end_time": "2024-02-22T21:28:09.072278",
     "exception": false,
     "start_time": "2024-02-22T21:28:09.059606",
     "status": "completed"
    },
    "tags": []
   },
   "outputs": [],
   "source": [
    "# Put your test code here"
   ]
  },
  {
   "cell_type": "markdown",
   "id": "516be74f",
   "metadata": {
    "papermill": {
     "duration": 0.004101,
     "end_time": "2024-02-22T21:28:09.080842",
     "exception": false,
     "start_time": "2024-02-22T21:28:09.076741",
     "status": "completed"
    },
    "tags": []
   },
   "source": [
    "Can you think of a case where this would be useful?  Once you're ready, run the code cell below to see the answer and to receive credit for completing the problem."
   ]
  },
  {
   "cell_type": "code",
   "execution_count": 5,
   "id": "9d99affd",
   "metadata": {
    "execution": {
     "iopub.execute_input": "2024-02-22T21:28:09.090572Z",
     "iopub.status.busy": "2024-02-22T21:28:09.090246Z",
     "iopub.status.idle": "2024-02-22T21:28:09.099403Z",
     "shell.execute_reply": "2024-02-22T21:28:09.098416Z"
    },
    "papermill": {
     "duration": 0.016038,
     "end_time": "2024-02-22T21:28:09.101072",
     "exception": false,
     "start_time": "2024-02-22T21:28:09.085034",
     "status": "completed"
    },
    "tags": []
   },
   "outputs": [
    {
     "data": {
      "application/javascript": [
       "parent.postMessage({\"jupyterEvent\": \"custom.exercise_interaction\", \"data\": {\"interactionType\": 3, \"questionType\": 4, \"questionId\": \"2_RoundNdigitsProblem\", \"learnToolsVersion\": \"0.3.4\", \"valueTowardsCompletion\": 0.0, \"failureMessage\": \"\", \"exceptionClass\": \"\", \"trace\": \"\", \"outcomeType\": 4}}, \"*\")"
      ],
      "text/plain": [
       "<IPython.core.display.Javascript object>"
      ]
     },
     "metadata": {},
     "output_type": "display_data"
    },
    {
     "data": {
      "text/markdown": [
       "<span style=\"color:#33cc99\">Solution:</span> As you've seen, `ndigits=-1` rounds to the nearest 10, `ndigits=-2` rounds to the nearest 100 and so on. Where might this be useful? Suppose we're dealing with large numbers:\n",
       "\n",
       "> The area of Finland is 338,424 km²  \n",
       "> The area of Greenland is 2,166,086 km²\n",
       "\n",
       "We probably don't care whether it's really 338,424, or 338,425, or 338,177. All those digits of accuracy are just distracting. We can chop them off by calling `round()` with `ndigits=-3`:\n",
       "\n",
       "> The area of Finland is 338,000 km²  \n",
       "> The area of Greenland is 2,166,000 km²\n",
       "\n",
       "(We'll talk about how we would get the commas later when we talk about string formatting :))\n"
      ],
      "text/plain": [
       "Solution: As you've seen, `ndigits=-1` rounds to the nearest 10, `ndigits=-2` rounds to the nearest 100 and so on. Where might this be useful? Suppose we're dealing with large numbers:\n",
       "\n",
       "> The area of Finland is 338,424 km²  \n",
       "> The area of Greenland is 2,166,086 km²\n",
       "\n",
       "We probably don't care whether it's really 338,424, or 338,425, or 338,177. All those digits of accuracy are just distracting. We can chop them off by calling `round()` with `ndigits=-3`:\n",
       "\n",
       "> The area of Finland is 338,000 km²  \n",
       "> The area of Greenland is 2,166,000 km²\n",
       "\n",
       "(We'll talk about how we would get the commas later when we talk about string formatting :))"
      ]
     },
     "metadata": {},
     "output_type": "display_data"
    }
   ],
   "source": [
    "# Check your answer (Run this code cell to receive credit!)\n",
    "q2.solution()"
   ]
  },
  {
   "cell_type": "markdown",
   "id": "30a83a0c",
   "metadata": {
    "papermill": {
     "duration": 0.004815,
     "end_time": "2024-02-22T21:28:09.110678",
     "exception": false,
     "start_time": "2024-02-22T21:28:09.105863",
     "status": "completed"
    },
    "tags": []
   },
   "source": [
    "# 3.\n",
    "\n",
    "In the previous exercise, the candy-sharing friends Alice, Bob and Carol tried to split candies evenly. For the sake of their friendship, any candies left over would be smashed. For example, if they collectively bring home 91 candies, they'll take 30 each and smash 1.\n",
    "\n",
    "Below is a simple function that will calculate the number of candies to smash for *any* number of total candies.\n",
    "\n",
    "Modify it so that it optionally takes a second argument representing the number of friends the candies are being split between. If no second argument is provided, it should assume 3 friends, as before.\n",
    "\n",
    "Update the docstring to reflect this new behaviour."
   ]
  },
  {
   "cell_type": "code",
   "execution_count": 6,
   "id": "8c31a625",
   "metadata": {
    "execution": {
     "iopub.execute_input": "2024-02-22T21:28:09.120904Z",
     "iopub.status.busy": "2024-02-22T21:28:09.120605Z",
     "iopub.status.idle": "2024-02-22T21:28:09.127307Z",
     "shell.execute_reply": "2024-02-22T21:28:09.126538Z"
    },
    "papermill": {
     "duration": 0.0142,
     "end_time": "2024-02-22T21:28:09.129172",
     "exception": false,
     "start_time": "2024-02-22T21:28:09.114972",
     "status": "completed"
    },
    "tags": []
   },
   "outputs": [
    {
     "data": {
      "application/javascript": [
       "parent.postMessage({\"jupyterEvent\": \"custom.exercise_interaction\", \"data\": {\"outcomeType\": 1, \"valueTowardsCompletion\": 0.16666666666666666, \"interactionType\": 1, \"questionType\": 2, \"questionId\": \"3_CandySmashingFunctionProblem\", \"learnToolsVersion\": \"0.3.4\", \"failureMessage\": \"\", \"exceptionClass\": \"\", \"trace\": \"\"}}, \"*\")"
      ],
      "text/plain": [
       "<IPython.core.display.Javascript object>"
      ]
     },
     "metadata": {},
     "output_type": "display_data"
    },
    {
     "data": {
      "text/markdown": [
       "<span style=\"color:#33cc33\">Correct</span>"
      ],
      "text/plain": [
       "Correct"
      ]
     },
     "metadata": {},
     "output_type": "display_data"
    }
   ],
   "source": [
    "def to_smash(total_candies,total_friends=3):\n",
    "    \"\"\"Return the number of leftover candies that must be smashed after distributing\n",
    "    the given number of candies evenly between 3 friends.\n",
    "    \n",
    "    >>> to_smash(91)\n",
    "    1\n",
    "    \"\"\"\n",
    "    \n",
    "    return total_candies % total_friends\n",
    "\n",
    "# Check your answer\n",
    "q3.check()"
   ]
  },
  {
   "cell_type": "code",
   "execution_count": 7,
   "id": "a3c9f886",
   "metadata": {
    "execution": {
     "iopub.execute_input": "2024-02-22T21:28:09.139615Z",
     "iopub.status.busy": "2024-02-22T21:28:09.139392Z",
     "iopub.status.idle": "2024-02-22T21:28:09.142184Z",
     "shell.execute_reply": "2024-02-22T21:28:09.141529Z"
    },
    "papermill": {
     "duration": 0.009782,
     "end_time": "2024-02-22T21:28:09.143693",
     "exception": false,
     "start_time": "2024-02-22T21:28:09.133911",
     "status": "completed"
    },
    "tags": []
   },
   "outputs": [],
   "source": [
    "#q3.hint()"
   ]
  },
  {
   "cell_type": "code",
   "execution_count": 8,
   "id": "502b8a04",
   "metadata": {
    "execution": {
     "iopub.execute_input": "2024-02-22T21:28:09.153678Z",
     "iopub.status.busy": "2024-02-22T21:28:09.153456Z",
     "iopub.status.idle": "2024-02-22T21:28:09.156191Z",
     "shell.execute_reply": "2024-02-22T21:28:09.155547Z"
    },
    "papermill": {
     "duration": 0.009511,
     "end_time": "2024-02-22T21:28:09.157703",
     "exception": false,
     "start_time": "2024-02-22T21:28:09.148192",
     "status": "completed"
    },
    "tags": []
   },
   "outputs": [],
   "source": [
    "#q3.solution()"
   ]
  },
  {
   "cell_type": "markdown",
   "id": "86e59646",
   "metadata": {
    "papermill": {
     "duration": 0.004361,
     "end_time": "2024-02-22T21:28:09.167269",
     "exception": false,
     "start_time": "2024-02-22T21:28:09.162908",
     "status": "completed"
    },
    "tags": []
   },
   "source": [
    "# 4. (Optional)\n",
    "\n",
    "It may not be fun, but reading and understanding error messages will be an important part of your Python career.\n",
    "\n",
    "Each code cell below contains some commented buggy code. For each cell...\n",
    "\n",
    "1. Read the code and predict what you think will happen when it's run.\n",
    "2. Then uncomment the code and run it to see what happens. (**Tip**: In the kernel editor, you can highlight several lines and press `ctrl`+`/` to toggle commenting.)\n",
    "3. Fix the code (so that it accomplishes its intended purpose without throwing an exception)\n",
    "\n",
    "<!-- TODO: should this be autochecked? Delta is probably pretty small. -->"
   ]
  },
  {
   "cell_type": "code",
   "execution_count": 9,
   "id": "a86b7c0e",
   "metadata": {
    "execution": {
     "iopub.execute_input": "2024-02-22T21:28:09.177398Z",
     "iopub.status.busy": "2024-02-22T21:28:09.177050Z",
     "iopub.status.idle": "2024-02-22T21:28:09.181719Z",
     "shell.execute_reply": "2024-02-22T21:28:09.180938Z"
    },
    "papermill": {
     "duration": 0.011657,
     "end_time": "2024-02-22T21:28:09.183325",
     "exception": false,
     "start_time": "2024-02-22T21:28:09.171668",
     "status": "completed"
    },
    "tags": []
   },
   "outputs": [
    {
     "data": {
      "text/plain": [
       "10.0"
      ]
     },
     "execution_count": 9,
     "metadata": {},
     "output_type": "execute_result"
    }
   ],
   "source": [
    "round_to_two_places(9.9999)"
   ]
  },
  {
   "cell_type": "code",
   "execution_count": 10,
   "id": "e0292fc9",
   "metadata": {
    "execution": {
     "iopub.execute_input": "2024-02-22T21:28:09.194600Z",
     "iopub.status.busy": "2024-02-22T21:28:09.194379Z",
     "iopub.status.idle": "2024-02-22T21:28:09.197628Z",
     "shell.execute_reply": "2024-02-22T21:28:09.197099Z"
    },
    "papermill": {
     "duration": 0.010605,
     "end_time": "2024-02-22T21:28:09.199086",
     "exception": false,
     "start_time": "2024-02-22T21:28:09.188481",
     "status": "completed"
    },
    "tags": []
   },
   "outputs": [],
   "source": [
    "x = -10\n",
    "y = 5\n",
    "# # Which of the two variables above has the smallest absolute value?\n",
    "smallest_abs = min(abs(x),abs(y))"
   ]
  },
  {
   "cell_type": "code",
   "execution_count": 11,
   "id": "8e8e1865",
   "metadata": {
    "execution": {
     "iopub.execute_input": "2024-02-22T21:28:09.209409Z",
     "iopub.status.busy": "2024-02-22T21:28:09.209174Z",
     "iopub.status.idle": "2024-02-22T21:28:09.213152Z",
     "shell.execute_reply": "2024-02-22T21:28:09.212490Z"
    },
    "papermill": {
     "duration": 0.011208,
     "end_time": "2024-02-22T21:28:09.215128",
     "exception": false,
     "start_time": "2024-02-22T21:28:09.203920",
     "status": "completed"
    },
    "tags": []
   },
   "outputs": [
    {
     "name": "stdout",
     "output_type": "stream",
     "text": [
      "5\n"
     ]
    }
   ],
   "source": [
    "def f(x):\n",
    "    y = abs(x)\n",
    "    return y\n",
    "\n",
    "print(str(f(5)))"
   ]
  },
  {
   "cell_type": "markdown",
   "id": "c55c1773",
   "metadata": {
    "papermill": {
     "duration": 0.004595,
     "end_time": "2024-02-22T21:28:09.224915",
     "exception": false,
     "start_time": "2024-02-22T21:28:09.220320",
     "status": "completed"
    },
    "tags": []
   },
   "source": [
    "# Keep Going\n",
    "\n",
    "Nice job with the code. Next up, you'll learn about *conditionals*, which you'll need to **[write interesting programs](https://www.kaggle.com/colinmorris/booleans-and-conditionals)**. "
   ]
  },
  {
   "cell_type": "markdown",
   "id": "1b8c3e8d",
   "metadata": {
    "papermill": {
     "duration": 0.0045,
     "end_time": "2024-02-22T21:28:09.234204",
     "exception": false,
     "start_time": "2024-02-22T21:28:09.229704",
     "status": "completed"
    },
    "tags": []
   },
   "source": [
    "---\n",
    "\n",
    "\n",
    "\n",
    "\n",
    "*Have questions or comments? Visit the [course discussion forum](https://www.kaggle.com/learn/python/discussion) to chat with other learners.*"
   ]
  }
 ],
 "metadata": {
  "kaggle": {
   "accelerator": "none",
   "dataSources": [],
   "isGpuEnabled": false,
   "isInternetEnabled": false,
   "language": "python",
   "sourceType": "notebook"
  },
  "kernelspec": {
   "display_name": "Python 3",
   "language": "python",
   "name": "python3"
  },
  "language_info": {
   "codemirror_mode": {
    "name": "ipython",
    "version": 3
   },
   "file_extension": ".py",
   "mimetype": "text/x-python",
   "name": "python",
   "nbconvert_exporter": "python",
   "pygments_lexer": "ipython3",
   "version": "3.10.13"
  },
  "learntools_metadata": {
   "lesson_index": 1,
   "type": "exercise"
  },
  "papermill": {
   "default_parameters": {},
   "duration": 3.57141,
   "end_time": "2024-02-22T21:28:09.657723",
   "environment_variables": {},
   "exception": null,
   "input_path": "__notebook__.ipynb",
   "output_path": "__notebook__.ipynb",
   "parameters": {},
   "start_time": "2024-02-22T21:28:06.086313",
   "version": "2.5.0"
  }
 },
 "nbformat": 4,
 "nbformat_minor": 5
}
