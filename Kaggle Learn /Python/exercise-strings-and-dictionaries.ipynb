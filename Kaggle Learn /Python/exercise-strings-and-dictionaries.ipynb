{
 "cells": [
  {
   "cell_type": "markdown",
   "id": "ba6e89da",
   "metadata": {
    "papermill": {
     "duration": 0.007723,
     "end_time": "2024-02-22T21:29:11.785108",
     "exception": false,
     "start_time": "2024-02-22T21:29:11.777385",
     "status": "completed"
    },
    "tags": []
   },
   "source": [
    "**This notebook is an exercise in the [Python](https://www.kaggle.com/learn/python) course.  You can reference the tutorial at [this link](https://www.kaggle.com/colinmorris/strings-and-dictionaries).**\n",
    "\n",
    "---\n"
   ]
  },
  {
   "cell_type": "markdown",
   "id": "9627fdf2",
   "metadata": {
    "papermill": {
     "duration": 0.007535,
     "end_time": "2024-02-22T21:29:11.800050",
     "exception": false,
     "start_time": "2024-02-22T21:29:11.792515",
     "status": "completed"
    },
    "tags": []
   },
   "source": [
    "You are almost done with the course. Nice job!\n",
    "\n",
    "We have a couple more interesting problems for you before you go. \n",
    "\n",
    "As always, run the setup code below before working on the questions."
   ]
  },
  {
   "cell_type": "code",
   "execution_count": 1,
   "id": "190408b3",
   "metadata": {
    "execution": {
     "iopub.execute_input": "2024-02-22T21:29:11.817501Z",
     "iopub.status.busy": "2024-02-22T21:29:11.816952Z",
     "iopub.status.idle": "2024-02-22T21:29:12.812933Z",
     "shell.execute_reply": "2024-02-22T21:29:12.811572Z"
    },
    "papermill": {
     "duration": 1.008028,
     "end_time": "2024-02-22T21:29:12.815969",
     "exception": false,
     "start_time": "2024-02-22T21:29:11.807941",
     "status": "completed"
    },
    "tags": []
   },
   "outputs": [
    {
     "name": "stdout",
     "output_type": "stream",
     "text": [
      "Setup complete.\n"
     ]
    }
   ],
   "source": [
    "from learntools.core import binder; binder.bind(globals())\n",
    "from learntools.python.ex6 import *\n",
    "print('Setup complete.')"
   ]
  },
  {
   "cell_type": "markdown",
   "id": "c75e2e07",
   "metadata": {
    "papermill": {
     "duration": 0.007305,
     "end_time": "2024-02-22T21:29:12.831600",
     "exception": false,
     "start_time": "2024-02-22T21:29:12.824295",
     "status": "completed"
    },
    "tags": []
   },
   "source": [
    "Let's start with a string lightning round to warm up. What are the lengths of the strings below?\n",
    "\n",
    "For each of the five strings below, predict what `len()` would return when passed that string. Use the variable `length` to record your answer, then run the cell to check whether you were right.  \n",
    "\n",
    "# 0a."
   ]
  },
  {
   "cell_type": "code",
   "execution_count": 2,
   "id": "da1bba75",
   "metadata": {
    "execution": {
     "iopub.execute_input": "2024-02-22T21:29:12.849775Z",
     "iopub.status.busy": "2024-02-22T21:29:12.849241Z",
     "iopub.status.idle": "2024-02-22T21:29:12.859779Z",
     "shell.execute_reply": "2024-02-22T21:29:12.858901Z"
    },
    "papermill": {
     "duration": 0.022908,
     "end_time": "2024-02-22T21:29:12.862194",
     "exception": false,
     "start_time": "2024-02-22T21:29:12.839286",
     "status": "completed"
    },
    "tags": []
   },
   "outputs": [
    {
     "data": {
      "application/javascript": [
       "parent.postMessage({\"jupyterEvent\": \"custom.exercise_interaction\", \"data\": {\"outcomeType\": 1, \"valueTowardsCompletion\": 0.3333333333333333, \"interactionType\": 1, \"questionType\": 1, \"questionId\": \"0.1_ZA\", \"learnToolsVersion\": \"0.3.4\", \"failureMessage\": \"\", \"exceptionClass\": \"\", \"trace\": \"\"}}, \"*\")"
      ],
      "text/plain": [
       "<IPython.core.display.Javascript object>"
      ]
     },
     "metadata": {},
     "output_type": "display_data"
    },
    {
     "data": {
      "text/markdown": [
       "<span style=\"color:#33cc33\">Correct:</span> \n",
       "\n",
       "The empty string has length zero. Note that the empty string is also the only string that Python considers as False when converting to boolean."
      ],
      "text/plain": [
       "Correct: \n",
       "\n",
       "The empty string has length zero. Note that the empty string is also the only string that Python considers as False when converting to boolean."
      ]
     },
     "metadata": {},
     "output_type": "display_data"
    }
   ],
   "source": [
    "a = \"\"\n",
    "length = len(a)\n",
    "q0.a.check()"
   ]
  },
  {
   "cell_type": "markdown",
   "id": "3d6932f3",
   "metadata": {
    "papermill": {
     "duration": 0.007732,
     "end_time": "2024-02-22T21:29:12.878288",
     "exception": false,
     "start_time": "2024-02-22T21:29:12.870556",
     "status": "completed"
    },
    "tags": []
   },
   "source": [
    "# 0b."
   ]
  },
  {
   "cell_type": "code",
   "execution_count": 3,
   "id": "1323bafd",
   "metadata": {
    "execution": {
     "iopub.execute_input": "2024-02-22T21:29:12.898665Z",
     "iopub.status.busy": "2024-02-22T21:29:12.897769Z",
     "iopub.status.idle": "2024-02-22T21:29:12.909070Z",
     "shell.execute_reply": "2024-02-22T21:29:12.907679Z"
    },
    "papermill": {
     "duration": 0.024943,
     "end_time": "2024-02-22T21:29:12.911907",
     "exception": false,
     "start_time": "2024-02-22T21:29:12.886964",
     "status": "completed"
    },
    "tags": []
   },
   "outputs": [
    {
     "data": {
      "application/javascript": [
       "parent.postMessage({\"jupyterEvent\": \"custom.exercise_interaction\", \"data\": {\"outcomeType\": 1, \"valueTowardsCompletion\": 0.3333333333333333, \"interactionType\": 1, \"questionType\": 1, \"questionId\": \"0.2_ZB\", \"learnToolsVersion\": \"0.3.4\", \"failureMessage\": \"\", \"exceptionClass\": \"\", \"trace\": \"\"}}, \"*\")"
      ],
      "text/plain": [
       "<IPython.core.display.Javascript object>"
      ]
     },
     "metadata": {},
     "output_type": "display_data"
    },
    {
     "data": {
      "text/markdown": [
       "<span style=\"color:#33cc33\">Correct:</span> \n",
       "\n",
       "Keep in mind Python includes spaces (and punctuation) when counting string length."
      ],
      "text/plain": [
       "Correct: \n",
       "\n",
       "Keep in mind Python includes spaces (and punctuation) when counting string length."
      ]
     },
     "metadata": {},
     "output_type": "display_data"
    }
   ],
   "source": [
    "b = \"it's ok\"\n",
    "length = len(b)\n",
    "q0.b.check()"
   ]
  },
  {
   "cell_type": "markdown",
   "id": "ba8bdefd",
   "metadata": {
    "papermill": {
     "duration": 0.007794,
     "end_time": "2024-02-22T21:29:12.927995",
     "exception": false,
     "start_time": "2024-02-22T21:29:12.920201",
     "status": "completed"
    },
    "tags": []
   },
   "source": [
    "# 0c."
   ]
  },
  {
   "cell_type": "code",
   "execution_count": 4,
   "id": "af774b02",
   "metadata": {
    "execution": {
     "iopub.execute_input": "2024-02-22T21:29:12.947662Z",
     "iopub.status.busy": "2024-02-22T21:29:12.947267Z",
     "iopub.status.idle": "2024-02-22T21:29:12.957208Z",
     "shell.execute_reply": "2024-02-22T21:29:12.955666Z"
    },
    "papermill": {
     "duration": 0.023846,
     "end_time": "2024-02-22T21:29:12.960509",
     "exception": false,
     "start_time": "2024-02-22T21:29:12.936663",
     "status": "completed"
    },
    "tags": []
   },
   "outputs": [
    {
     "data": {
      "application/javascript": [
       "parent.postMessage({\"jupyterEvent\": \"custom.exercise_interaction\", \"data\": {\"outcomeType\": 1, \"valueTowardsCompletion\": 0.3333333333333333, \"interactionType\": 1, \"questionType\": 1, \"questionId\": \"0.3_ZC\", \"learnToolsVersion\": \"0.3.4\", \"failureMessage\": \"\", \"exceptionClass\": \"\", \"trace\": \"\"}}, \"*\")"
      ],
      "text/plain": [
       "<IPython.core.display.Javascript object>"
      ]
     },
     "metadata": {},
     "output_type": "display_data"
    },
    {
     "data": {
      "text/markdown": [
       "<span style=\"color:#33cc33\">Correct:</span> \n",
       "\n",
       "Even though we use different syntax to create it, the string `c` is identical to `b`. In particular, note that the backslash is not part of the string, so it doesn't contribute to its length."
      ],
      "text/plain": [
       "Correct: \n",
       "\n",
       "Even though we use different syntax to create it, the string `c` is identical to `b`. In particular, note that the backslash is not part of the string, so it doesn't contribute to its length."
      ]
     },
     "metadata": {},
     "output_type": "display_data"
    }
   ],
   "source": [
    "c = 'it\\'s ok'\n",
    "length = len(c)\n",
    "q0.c.check()"
   ]
  },
  {
   "cell_type": "markdown",
   "id": "c8c74ad6",
   "metadata": {
    "papermill": {
     "duration": 0.008289,
     "end_time": "2024-02-22T21:29:12.977468",
     "exception": false,
     "start_time": "2024-02-22T21:29:12.969179",
     "status": "completed"
    },
    "tags": []
   },
   "source": [
    "# 0d."
   ]
  },
  {
   "cell_type": "code",
   "execution_count": 5,
   "id": "1b28742a",
   "metadata": {
    "execution": {
     "iopub.execute_input": "2024-02-22T21:29:12.996401Z",
     "iopub.status.busy": "2024-02-22T21:29:12.996031Z",
     "iopub.status.idle": "2024-02-22T21:29:13.007163Z",
     "shell.execute_reply": "2024-02-22T21:29:13.005872Z"
    },
    "papermill": {
     "duration": 0.023669,
     "end_time": "2024-02-22T21:29:13.009616",
     "exception": false,
     "start_time": "2024-02-22T21:29:12.985947",
     "status": "completed"
    },
    "tags": []
   },
   "outputs": [
    {
     "data": {
      "application/javascript": [
       "parent.postMessage({\"jupyterEvent\": \"custom.exercise_interaction\", \"data\": {\"outcomeType\": 1, \"valueTowardsCompletion\": 0.3333333333333333, \"interactionType\": 1, \"questionType\": 1, \"questionId\": \"0.4_ZD\", \"learnToolsVersion\": \"0.3.4\", \"failureMessage\": \"\", \"exceptionClass\": \"\", \"trace\": \"\"}}, \"*\")"
      ],
      "text/plain": [
       "<IPython.core.display.Javascript object>"
      ]
     },
     "metadata": {},
     "output_type": "display_data"
    },
    {
     "data": {
      "text/markdown": [
       "<span style=\"color:#33cc33\">Correct:</span> \n",
       "\n",
       "The fact that this string was created using triple-quote syntax doesn't make any difference in terms of its content or length. This string is exactly the same as `'hey'`."
      ],
      "text/plain": [
       "Correct: \n",
       "\n",
       "The fact that this string was created using triple-quote syntax doesn't make any difference in terms of its content or length. This string is exactly the same as `'hey'`."
      ]
     },
     "metadata": {},
     "output_type": "display_data"
    }
   ],
   "source": [
    "d = \"\"\"hey\"\"\"\n",
    "length = len(d)\n",
    "q0.d.check()"
   ]
  },
  {
   "cell_type": "markdown",
   "id": "96a005e4",
   "metadata": {
    "papermill": {
     "duration": 0.01033,
     "end_time": "2024-02-22T21:29:13.029615",
     "exception": false,
     "start_time": "2024-02-22T21:29:13.019285",
     "status": "completed"
    },
    "tags": []
   },
   "source": [
    "# 0e."
   ]
  },
  {
   "cell_type": "code",
   "execution_count": 6,
   "id": "1f95393f",
   "metadata": {
    "execution": {
     "iopub.execute_input": "2024-02-22T21:29:13.050374Z",
     "iopub.status.busy": "2024-02-22T21:29:13.049945Z",
     "iopub.status.idle": "2024-02-22T21:29:13.059927Z",
     "shell.execute_reply": "2024-02-22T21:29:13.058727Z"
    },
    "papermill": {
     "duration": 0.023319,
     "end_time": "2024-02-22T21:29:13.062378",
     "exception": false,
     "start_time": "2024-02-22T21:29:13.039059",
     "status": "completed"
    },
    "tags": []
   },
   "outputs": [
    {
     "data": {
      "application/javascript": [
       "parent.postMessage({\"jupyterEvent\": \"custom.exercise_interaction\", \"data\": {\"outcomeType\": 1, \"valueTowardsCompletion\": 0.3333333333333333, \"interactionType\": 1, \"questionType\": 1, \"questionId\": \"0.5_ZE\", \"learnToolsVersion\": \"0.3.4\", \"failureMessage\": \"\", \"exceptionClass\": \"\", \"trace\": \"\"}}, \"*\")"
      ],
      "text/plain": [
       "<IPython.core.display.Javascript object>"
      ]
     },
     "metadata": {},
     "output_type": "display_data"
    },
    {
     "data": {
      "text/markdown": [
       "<span style=\"color:#33cc33\">Correct:</span> \n",
       "\n",
       "The newline character is just a single character! (Even though we represent it to Python using a combination of two characters.)"
      ],
      "text/plain": [
       "Correct: \n",
       "\n",
       "The newline character is just a single character! (Even though we represent it to Python using a combination of two characters.)"
      ]
     },
     "metadata": {},
     "output_type": "display_data"
    }
   ],
   "source": [
    "e = '\\n'\n",
    "length = len(e)\n",
    "q0.e.check()"
   ]
  },
  {
   "cell_type": "markdown",
   "id": "83887ffa",
   "metadata": {
    "papermill": {
     "duration": 0.009135,
     "end_time": "2024-02-22T21:29:13.081200",
     "exception": false,
     "start_time": "2024-02-22T21:29:13.072065",
     "status": "completed"
    },
    "tags": []
   },
   "source": [
    "# 1.\n",
    "\n",
    "There is a saying that \"Data scientists spend 80% of their time cleaning data, and 20% of their time complaining about cleaning data.\" Let's see if you can write a function to help clean US zip code data. Given a string, it should return whether or not that string represents a valid zip code. For our purposes, a valid zip code is any string consisting of exactly 5 digits.\n",
    "\n",
    "HINT: `str` has a method that will be useful here. Use `help(str)` to review a list of string methods."
   ]
  },
  {
   "cell_type": "code",
   "execution_count": 7,
   "id": "4858d5bb",
   "metadata": {
    "execution": {
     "iopub.execute_input": "2024-02-22T21:29:13.101462Z",
     "iopub.status.busy": "2024-02-22T21:29:13.101075Z",
     "iopub.status.idle": "2024-02-22T21:29:13.111888Z",
     "shell.execute_reply": "2024-02-22T21:29:13.110653Z"
    },
    "papermill": {
     "duration": 0.023998,
     "end_time": "2024-02-22T21:29:13.114414",
     "exception": false,
     "start_time": "2024-02-22T21:29:13.090416",
     "status": "completed"
    },
    "tags": []
   },
   "outputs": [
    {
     "data": {
      "application/javascript": [
       "parent.postMessage({\"jupyterEvent\": \"custom.exercise_interaction\", \"data\": {\"outcomeType\": 1, \"valueTowardsCompletion\": 0.3333333333333333, \"interactionType\": 1, \"questionType\": 2, \"questionId\": \"1_ZipValidator\", \"learnToolsVersion\": \"0.3.4\", \"failureMessage\": \"\", \"exceptionClass\": \"\", \"trace\": \"\"}}, \"*\")"
      ],
      "text/plain": [
       "<IPython.core.display.Javascript object>"
      ]
     },
     "metadata": {},
     "output_type": "display_data"
    },
    {
     "data": {
      "text/markdown": [
       "<span style=\"color:#33cc33\">Correct</span>"
      ],
      "text/plain": [
       "Correct"
      ]
     },
     "metadata": {},
     "output_type": "display_data"
    }
   ],
   "source": [
    "def is_valid_zip(zip_code):\n",
    "    \"\"\"Returns whether the input string is a valid (5 digit) zip code\n",
    "    \"\"\"\n",
    "    return len(str(zip_code)) == 5 and str(zip_code).isdigit()\n",
    "    pass\n",
    "#help(str)\n",
    "# Check your answer\n",
    "q1.check()"
   ]
  },
  {
   "cell_type": "code",
   "execution_count": 8,
   "id": "956af4cb",
   "metadata": {
    "execution": {
     "iopub.execute_input": "2024-02-22T21:29:13.136559Z",
     "iopub.status.busy": "2024-02-22T21:29:13.136181Z",
     "iopub.status.idle": "2024-02-22T21:29:13.145037Z",
     "shell.execute_reply": "2024-02-22T21:29:13.143910Z"
    },
    "papermill": {
     "duration": 0.02328,
     "end_time": "2024-02-22T21:29:13.147848",
     "exception": false,
     "start_time": "2024-02-22T21:29:13.124568",
     "status": "completed"
    },
    "tags": []
   },
   "outputs": [
    {
     "data": {
      "application/javascript": [
       "parent.postMessage({\"jupyterEvent\": \"custom.exercise_interaction\", \"data\": {\"interactionType\": 2, \"questionType\": 2, \"questionId\": \"1_ZipValidator\", \"learnToolsVersion\": \"0.3.4\", \"valueTowardsCompletion\": 0.0, \"failureMessage\": \"\", \"exceptionClass\": \"\", \"trace\": \"\", \"outcomeType\": 4}}, \"*\")"
      ],
      "text/plain": [
       "<IPython.core.display.Javascript object>"
      ]
     },
     "metadata": {},
     "output_type": "display_data"
    },
    {
     "data": {
      "text/markdown": [
       "<span style=\"color:#3366cc\">Hint:</span> Try looking up `help(str.isdigit)`"
      ],
      "text/plain": [
       "Hint: Try looking up `help(str.isdigit)`"
      ]
     },
     "metadata": {},
     "output_type": "display_data"
    }
   ],
   "source": [
    "q1.hint()\n",
    "#q1.solution()"
   ]
  },
  {
   "cell_type": "markdown",
   "id": "0b89b98b",
   "metadata": {
    "papermill": {
     "duration": 0.009694,
     "end_time": "2024-02-22T21:29:13.170696",
     "exception": false,
     "start_time": "2024-02-22T21:29:13.161002",
     "status": "completed"
    },
    "tags": []
   },
   "source": [
    "# 2.\n",
    "\n",
    "A researcher has gathered thousands of news articles. But she wants to focus her attention on articles including a specific word. Complete the function below to help her filter her list of articles.\n",
    "\n",
    "Your function should meet the following criteria:\n",
    "\n",
    "- Do not include documents where the keyword string shows up only as a part of a larger word. For example, if she were looking for the keyword “closed”, you would not include the string “enclosed.” \n",
    "- She does not want you to distinguish upper case from lower case letters. So the phrase “Closed the case.” would be included when the keyword is “closed”\n",
    "- Do not let periods or commas affect what is matched. “It is closed.” would be included when the keyword is “closed”. But you can assume there are no other types of punctuation."
   ]
  },
  {
   "cell_type": "code",
   "execution_count": 9,
   "id": "f0aacb89",
   "metadata": {
    "execution": {
     "iopub.execute_input": "2024-02-22T21:29:13.192562Z",
     "iopub.status.busy": "2024-02-22T21:29:13.192182Z",
     "iopub.status.idle": "2024-02-22T21:29:13.205379Z",
     "shell.execute_reply": "2024-02-22T21:29:13.204464Z"
    },
    "papermill": {
     "duration": 0.028702,
     "end_time": "2024-02-22T21:29:13.209162",
     "exception": false,
     "start_time": "2024-02-22T21:29:13.180460",
     "status": "completed"
    },
    "tags": []
   },
   "outputs": [
    {
     "name": "stdout",
     "output_type": "stream",
     "text": [
      "['The', 'Learn', 'Python', 'Challenge', 'Casino']\n",
      "['They', 'bought', 'a', 'car,', 'and', 'a', 'horse']\n",
      "['Casinoville?']\n",
      "['The', 'Learn', 'Python', 'Challenge', 'Casino']\n",
      "['They', 'bought', 'a', 'car,', 'and', 'a', 'horse']\n",
      "['Casinoville?']\n",
      "['The', 'Learn', 'Python', 'Challenge', 'Casino']\n",
      "['They', 'bought', 'a', 'car,', 'and', 'a', 'horse']\n",
      "['Casinoville?']\n",
      "['The', 'Learn', 'Python', 'Challenge', 'Casino']\n",
      "['They', 'bought', 'a', 'car,', 'and', 'a', 'horse']\n",
      "['Casinoville?']\n",
      "['He', 'bought', 'a', 'casino.', \"That's\", 'crazy.']\n",
      "['The', 'Learn', 'Python', 'Challenge', 'Casino']\n",
      "['They', 'bought', 'a', 'car,', 'and', 'a', 'horse']\n",
      "['Casinoville?']\n",
      "['He', 'bought', 'a', 'casino.', \"That's\", 'crazy.']\n",
      "['The', 'Learn', 'Python', 'Challenge', 'Casino', 'has', 'a', 'big', 'casino', 'full', 'of', 'casino', 'games']\n",
      "['They', 'bought', 'a', 'car']\n",
      "['Casinoville']\n"
     ]
    },
    {
     "data": {
      "application/javascript": [
       "parent.postMessage({\"jupyterEvent\": \"custom.exercise_interaction\", \"data\": {\"outcomeType\": 1, \"valueTowardsCompletion\": 0.3333333333333333, \"interactionType\": 1, \"questionType\": 2, \"questionId\": \"2_WordSearch\", \"learnToolsVersion\": \"0.3.4\", \"failureMessage\": \"\", \"exceptionClass\": \"\", \"trace\": \"\"}}, \"*\")"
      ],
      "text/plain": [
       "<IPython.core.display.Javascript object>"
      ]
     },
     "metadata": {},
     "output_type": "display_data"
    },
    {
     "data": {
      "text/markdown": [
       "<span style=\"color:#33cc33\">Correct</span>"
      ],
      "text/plain": [
       "Correct"
      ]
     },
     "metadata": {},
     "output_type": "display_data"
    }
   ],
   "source": [
    "def word_search(doc_list, keyword):\n",
    "    \"\"\"\n",
    "    Takes a list of documents (each document is a string) and a keyword. \n",
    "    Returns list of the index values into the original list for all documents \n",
    "    containing the keyword.\n",
    "\n",
    "    Example:\n",
    "    doc_list = [\"The Learn Python Challenge Casino.\", \"They bought a car\", \"Casinoville\"]\n",
    "    >>> word_search(doc_list, 'casino')\n",
    "    >>> [0]\n",
    "    \"\"\"\n",
    "    index_s=[]\n",
    "    for document in doc_list:\n",
    "        \n",
    "        document_list = document.split()\n",
    "        print(document_list)\n",
    "        for word in document_list:\n",
    "            if word.lower() == keyword.lower() or word.lower() == keyword.lower() + \",\" or word.lower() == keyword.lower() +\".\":\n",
    "                index_s.append(doc_list.index(document))\n",
    "                break\n",
    "    return index_s\n",
    "# Check your answer\n",
    "q2.check()"
   ]
  },
  {
   "cell_type": "code",
   "execution_count": 10,
   "id": "b959dba9",
   "metadata": {
    "execution": {
     "iopub.execute_input": "2024-02-22T21:29:13.232555Z",
     "iopub.status.busy": "2024-02-22T21:29:13.231668Z",
     "iopub.status.idle": "2024-02-22T21:29:13.236801Z",
     "shell.execute_reply": "2024-02-22T21:29:13.235595Z"
    },
    "papermill": {
     "duration": 0.019546,
     "end_time": "2024-02-22T21:29:13.239620",
     "exception": false,
     "start_time": "2024-02-22T21:29:13.220074",
     "status": "completed"
    },
    "tags": []
   },
   "outputs": [],
   "source": [
    "#q2.hint()\n",
    "#q2.solution()"
   ]
  },
  {
   "cell_type": "markdown",
   "id": "d1d15e5c",
   "metadata": {
    "papermill": {
     "duration": 0.010301,
     "end_time": "2024-02-22T21:29:13.260868",
     "exception": false,
     "start_time": "2024-02-22T21:29:13.250567",
     "status": "completed"
    },
    "tags": []
   },
   "source": [
    "# 3.\n",
    "\n",
    "Now the researcher wants to supply multiple keywords to search for. Complete the function below to help her.\n",
    "\n",
    "(You're encouraged to use the `word_search` function you just wrote when implementing this function. Reusing code in this way makes your programs more robust and readable - and it saves typing!)"
   ]
  },
  {
   "cell_type": "code",
   "execution_count": 11,
   "id": "c4d1a3ef",
   "metadata": {
    "execution": {
     "iopub.execute_input": "2024-02-22T21:29:13.285349Z",
     "iopub.status.busy": "2024-02-22T21:29:13.284967Z",
     "iopub.status.idle": "2024-02-22T21:29:13.300421Z",
     "shell.execute_reply": "2024-02-22T21:29:13.299275Z"
    },
    "papermill": {
     "duration": 0.031356,
     "end_time": "2024-02-22T21:29:13.303203",
     "exception": false,
     "start_time": "2024-02-22T21:29:13.271847",
     "status": "completed"
    },
    "tags": []
   },
   "outputs": [
    {
     "name": "stdout",
     "output_type": "stream",
     "text": [
      "['The', 'Learn', 'Python', 'Challenge', 'Casino']\n",
      "['They', 'bought', 'a', 'car']\n",
      "['Casinoville?']\n",
      "['The', 'Learn', 'Python', 'Challenge', 'Casino']\n",
      "['They', 'bought', 'a', 'car']\n",
      "['Casinoville?']\n",
      "['The', 'Learn', 'Python', 'Challenge', 'Casino']\n",
      "['They', 'bought', 'a', 'car']\n",
      "['Casinoville?']\n",
      "['The', 'Learn', 'Python', 'Challenge', 'Casino']\n",
      "['They', 'bought', 'a', 'car']\n",
      "['Casinoville?']\n",
      "['The', 'Learn', 'Python', 'Challenge', 'Casino']\n",
      "['They', 'bought', 'a', 'car']\n",
      "['Casinoville?']\n",
      "['The', 'Learn', 'Python', 'Challenge', 'Casino']\n",
      "['They', 'bought', 'a', 'car']\n",
      "['Casinoville?']\n",
      "['The', 'Learn', 'Python', 'Challenge', 'Casino']\n",
      "['They', 'bought', 'a', 'car']\n",
      "['Casinoville?']\n",
      "['He', 'bought', 'a', 'casino.', 'A', 'casino!', \"That's\", 'crazy.']\n",
      "['The', 'Learn', 'Python', 'Challenge', 'Casino']\n",
      "['They', 'bought', 'a', 'car']\n",
      "['Casinoville?']\n",
      "['He', 'bought', 'a', 'casino.', 'A', 'casino!', \"That's\", 'crazy.']\n",
      "['The', 'Learn', 'Python', 'Challenge', 'Casino']\n",
      "['They', 'bought', 'a', 'car']\n",
      "['Casinoville?']\n",
      "['He', 'bought', 'a', 'casino.', 'A', 'casino!', \"That's\", 'crazy.']\n",
      "['The', 'Learn', 'Python', 'Challenge', 'Casino']\n",
      "['They', 'bought', 'a', 'car']\n",
      "['Casinoville?']\n",
      "['He', 'bought', 'a', 'casino.', 'A', 'casino!', \"That's\", 'crazy.']\n",
      "['The', 'Learn', 'Python', 'Challenge', 'Casino']\n",
      "['They', 'bought', 'a', 'car']\n",
      "['Casinoville?']\n",
      "['He', 'bought', 'a', 'casino.', 'A', 'casino!', \"That's\", 'crazy.']\n",
      "['The', 'Learn', 'Python', 'Challenge', 'Casino']\n",
      "['They', 'bought', 'a', 'car']\n",
      "['Casinoville?']\n",
      "['He', 'bought', 'a', 'casino.', 'A', 'casino!', \"That's\", 'crazy.']\n"
     ]
    },
    {
     "data": {
      "application/javascript": [
       "parent.postMessage({\"jupyterEvent\": \"custom.exercise_interaction\", \"data\": {\"outcomeType\": 1, \"valueTowardsCompletion\": 0.3333333333333333, \"interactionType\": 1, \"questionType\": 2, \"questionId\": \"3_MultiWordSearch\", \"learnToolsVersion\": \"0.3.4\", \"failureMessage\": \"\", \"exceptionClass\": \"\", \"trace\": \"\"}}, \"*\")"
      ],
      "text/plain": [
       "<IPython.core.display.Javascript object>"
      ]
     },
     "metadata": {},
     "output_type": "display_data"
    },
    {
     "data": {
      "text/markdown": [
       "<span style=\"color:#33cc33\">Correct</span>"
      ],
      "text/plain": [
       "Correct"
      ]
     },
     "metadata": {},
     "output_type": "display_data"
    }
   ],
   "source": [
    "def multi_word_search(doc_list, keywords):\n",
    "    \"\"\"\n",
    "    Takes list of documents (each document is a string) and a list of keywords.  \n",
    "    Returns a dictionary where each key is a keyword, and the value is a list of indices\n",
    "    (from doc_list) of the documents containing that keyword\n",
    "\n",
    "    >>> doc_list = [\"The Learn Python Challenge Casino.\", \"They bought a car and a casino\", \"Casinoville\"]\n",
    "    >>> keywords = ['casino', 'they']\n",
    "    >>> multi_word_search(doc_list, keywords)\n",
    "    {'casino': [0, 1], 'they': [1]}\n",
    "    \"\"\"\n",
    "    all_index=[]\n",
    "    new_dict = {}\n",
    "    for keyword in keywords:\n",
    "        index_s=[]\n",
    "        for document in doc_list:\n",
    "\n",
    "            document_list = document.split()\n",
    "            print(document_list)\n",
    "            for word in document_list:\n",
    "                if word.lower() == keyword.lower() or word.lower() == keyword.lower() + \",\" or word.lower() == keyword.lower() +\".\":\n",
    "                    index_s.append(doc_list.index(document))\n",
    "                    break\n",
    "        all_index.append(index_s)\n",
    "    for key in keywords:\n",
    "        new_dict[key] =all_index[keywords.index(key)]\n",
    "    \n",
    "    \n",
    "    return new_dict\n",
    "\n",
    "# Check your answer\n",
    "q3.check()"
   ]
  },
  {
   "cell_type": "code",
   "execution_count": 12,
   "id": "9ad64677",
   "metadata": {
    "execution": {
     "iopub.execute_input": "2024-02-22T21:29:13.327265Z",
     "iopub.status.busy": "2024-02-22T21:29:13.326844Z",
     "iopub.status.idle": "2024-02-22T21:29:13.331203Z",
     "shell.execute_reply": "2024-02-22T21:29:13.330286Z"
    },
    "papermill": {
     "duration": 0.019398,
     "end_time": "2024-02-22T21:29:13.333691",
     "exception": false,
     "start_time": "2024-02-22T21:29:13.314293",
     "status": "completed"
    },
    "tags": []
   },
   "outputs": [],
   "source": [
    "#q3.solution()"
   ]
  },
  {
   "cell_type": "markdown",
   "id": "94595ac1",
   "metadata": {
    "papermill": {
     "duration": 0.010615,
     "end_time": "2024-02-22T21:29:13.355402",
     "exception": false,
     "start_time": "2024-02-22T21:29:13.344787",
     "status": "completed"
    },
    "tags": []
   },
   "source": [
    "# Keep Going\n",
    "\n",
    "You've learned a lot. But even the best programmers rely heavily on \"libraries\" of code from other programmers. You'll learn about that in **[the last lesson](https://www.kaggle.com/colinmorris/working-with-external-libraries)**.\n"
   ]
  },
  {
   "cell_type": "markdown",
   "id": "c369688f",
   "metadata": {
    "papermill": {
     "duration": 0.011596,
     "end_time": "2024-02-22T21:29:13.378332",
     "exception": false,
     "start_time": "2024-02-22T21:29:13.366736",
     "status": "completed"
    },
    "tags": []
   },
   "source": [
    "---\n",
    "\n",
    "\n",
    "\n",
    "\n",
    "*Have questions or comments? Visit the [course discussion forum](https://www.kaggle.com/learn/python/discussion) to chat with other learners.*"
   ]
  }
 ],
 "metadata": {
  "kaggle": {
   "accelerator": "none",
   "dataSources": [],
   "isGpuEnabled": false,
   "isInternetEnabled": false,
   "language": "python",
   "sourceType": "notebook"
  },
  "kernelspec": {
   "display_name": "Python 3",
   "language": "python",
   "name": "python3"
  },
  "language_info": {
   "codemirror_mode": {
    "name": "ipython",
    "version": 3
   },
   "file_extension": ".py",
   "mimetype": "text/x-python",
   "name": "python",
   "nbconvert_exporter": "python",
   "pygments_lexer": "ipython3",
   "version": "3.10.13"
  },
  "learntools_metadata": {
   "lesson_index": 5,
   "type": "exercise"
  },
  "papermill": {
   "default_parameters": {},
   "duration": 5.285652,
   "end_time": "2024-02-22T21:29:13.910550",
   "environment_variables": {},
   "exception": null,
   "input_path": "__notebook__.ipynb",
   "output_path": "__notebook__.ipynb",
   "parameters": {},
   "start_time": "2024-02-22T21:29:08.624898",
   "version": "2.5.0"
  }
 },
 "nbformat": 4,
 "nbformat_minor": 5
}
