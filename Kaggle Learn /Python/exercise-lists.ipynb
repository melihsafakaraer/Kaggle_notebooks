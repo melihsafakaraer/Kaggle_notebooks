{
 "cells": [
  {
   "cell_type": "markdown",
   "id": "cfa2d5a6",
   "metadata": {
    "papermill": {
     "duration": 0.004422,
     "end_time": "2024-02-22T21:28:37.587010",
     "exception": false,
     "start_time": "2024-02-22T21:28:37.582588",
     "status": "completed"
    },
    "tags": []
   },
   "source": [
    "**This notebook is an exercise in the [Python](https://www.kaggle.com/learn/python) course.  You can reference the tutorial at [this link](https://www.kaggle.com/colinmorris/lists).**\n",
    "\n",
    "---\n"
   ]
  },
  {
   "cell_type": "markdown",
   "id": "382ec270",
   "metadata": {
    "papermill": {
     "duration": 0.003579,
     "end_time": "2024-02-22T21:28:37.594722",
     "exception": false,
     "start_time": "2024-02-22T21:28:37.591143",
     "status": "completed"
    },
    "tags": []
   },
   "source": [
    "Things get more interesting with lists. You'll apply your new knowledge to solve the questions below. Remember to run the following cell first."
   ]
  },
  {
   "cell_type": "code",
   "execution_count": 1,
   "id": "7ebcb374",
   "metadata": {
    "execution": {
     "iopub.execute_input": "2024-02-22T21:28:37.604301Z",
     "iopub.status.busy": "2024-02-22T21:28:37.603650Z",
     "iopub.status.idle": "2024-02-22T21:28:38.395513Z",
     "shell.execute_reply": "2024-02-22T21:28:38.394134Z"
    },
    "papermill": {
     "duration": 0.799628,
     "end_time": "2024-02-22T21:28:38.398157",
     "exception": false,
     "start_time": "2024-02-22T21:28:37.598529",
     "status": "completed"
    },
    "tags": []
   },
   "outputs": [
    {
     "name": "stdout",
     "output_type": "stream",
     "text": [
      "Setup complete.\n"
     ]
    }
   ],
   "source": [
    "from learntools.core import binder; binder.bind(globals())\n",
    "from learntools.python.ex4 import *\n",
    "print('Setup complete.')"
   ]
  },
  {
   "cell_type": "markdown",
   "id": "6a667680",
   "metadata": {
    "papermill": {
     "duration": 0.004003,
     "end_time": "2024-02-22T21:28:38.406610",
     "exception": false,
     "start_time": "2024-02-22T21:28:38.402607",
     "status": "completed"
    },
    "tags": []
   },
   "source": [
    "# 1.\n",
    "\n",
    "Complete the function below according to its docstring."
   ]
  },
  {
   "cell_type": "code",
   "execution_count": 2,
   "id": "a9102e36",
   "metadata": {
    "execution": {
     "iopub.execute_input": "2024-02-22T21:28:38.416587Z",
     "iopub.status.busy": "2024-02-22T21:28:38.416144Z",
     "iopub.status.idle": "2024-02-22T21:28:38.426817Z",
     "shell.execute_reply": "2024-02-22T21:28:38.425963Z"
    },
    "papermill": {
     "duration": 0.017551,
     "end_time": "2024-02-22T21:28:38.428413",
     "exception": false,
     "start_time": "2024-02-22T21:28:38.410862",
     "status": "completed"
    },
    "tags": []
   },
   "outputs": [
    {
     "data": {
      "application/javascript": [
       "parent.postMessage({\"jupyterEvent\": \"custom.exercise_interaction\", \"data\": {\"outcomeType\": 1, \"valueTowardsCompletion\": 0.2, \"interactionType\": 1, \"questionType\": 2, \"questionId\": \"1_SelectSecondItem\", \"learnToolsVersion\": \"0.3.4\", \"failureMessage\": \"\", \"exceptionClass\": \"\", \"trace\": \"\"}}, \"*\")"
      ],
      "text/plain": [
       "<IPython.core.display.Javascript object>"
      ]
     },
     "metadata": {},
     "output_type": "display_data"
    },
    {
     "data": {
      "text/markdown": [
       "<span style=\"color:#33cc33\">Correct</span>"
      ],
      "text/plain": [
       "Correct"
      ]
     },
     "metadata": {},
     "output_type": "display_data"
    }
   ],
   "source": [
    "def select_second(L):\n",
    "    \"\"\"Return the second element of the given list. If the list has no second\n",
    "    element, return None.\n",
    "    \"\"\"\n",
    "    \n",
    "    if len(L) < 2:\n",
    "        return None\n",
    "    return L[1]\n",
    "\n",
    "# Check your answer\n",
    "q1.check()"
   ]
  },
  {
   "cell_type": "code",
   "execution_count": 3,
   "id": "d2544577",
   "metadata": {
    "execution": {
     "iopub.execute_input": "2024-02-22T21:28:38.438525Z",
     "iopub.status.busy": "2024-02-22T21:28:38.438151Z",
     "iopub.status.idle": "2024-02-22T21:28:38.450162Z",
     "shell.execute_reply": "2024-02-22T21:28:38.449129Z"
    },
    "papermill": {
     "duration": 0.019846,
     "end_time": "2024-02-22T21:28:38.452648",
     "exception": false,
     "start_time": "2024-02-22T21:28:38.432802",
     "status": "completed"
    },
    "tags": []
   },
   "outputs": [
    {
     "data": {
      "application/javascript": [
       "parent.postMessage({\"jupyterEvent\": \"custom.exercise_interaction\", \"data\": {\"interactionType\": 2, \"questionType\": 2, \"questionId\": \"1_SelectSecondItem\", \"learnToolsVersion\": \"0.3.4\", \"valueTowardsCompletion\": 0.0, \"failureMessage\": \"\", \"exceptionClass\": \"\", \"trace\": \"\", \"outcomeType\": 4}}, \"*\")"
      ],
      "text/plain": [
       "<IPython.core.display.Javascript object>"
      ]
     },
     "metadata": {},
     "output_type": "display_data"
    },
    {
     "data": {
      "text/markdown": [
       "<span style=\"color:#3366cc\">Hint:</span> Python starts counting at 0. So the second item isn't indexed with a 2"
      ],
      "text/plain": [
       "Hint: Python starts counting at 0. So the second item isn't indexed with a 2"
      ]
     },
     "metadata": {},
     "output_type": "display_data"
    },
    {
     "data": {
      "application/javascript": [
       "parent.postMessage({\"jupyterEvent\": \"custom.exercise_interaction\", \"data\": {\"interactionType\": 3, \"questionType\": 2, \"questionId\": \"1_SelectSecondItem\", \"learnToolsVersion\": \"0.3.4\", \"valueTowardsCompletion\": 0.0, \"failureMessage\": \"\", \"exceptionClass\": \"\", \"trace\": \"\", \"outcomeType\": 4}}, \"*\")"
      ],
      "text/plain": [
       "<IPython.core.display.Javascript object>"
      ]
     },
     "metadata": {},
     "output_type": "display_data"
    },
    {
     "data": {
      "text/markdown": [
       "<span style=\"color:#33cc99\">Solution:</span> \n",
       "```python\n",
       "def select_second(L):\n",
       "    if len(L) < 2:\n",
       "        return None\n",
       "    return L[1]\n",
       "```"
      ],
      "text/plain": [
       "Solution: \n",
       "```python\n",
       "def select_second(L):\n",
       "    if len(L) < 2:\n",
       "        return None\n",
       "    return L[1]\n",
       "```"
      ]
     },
     "metadata": {},
     "output_type": "display_data"
    }
   ],
   "source": [
    "q1.hint()\n",
    "q1.solution()"
   ]
  },
  {
   "cell_type": "markdown",
   "id": "5c45f3c8",
   "metadata": {
    "papermill": {
     "duration": 0.004447,
     "end_time": "2024-02-22T21:28:38.462144",
     "exception": false,
     "start_time": "2024-02-22T21:28:38.457697",
     "status": "completed"
    },
    "tags": []
   },
   "source": [
    "# 2.\n",
    "\n",
    "You are analyzing sports teams.  Members of each team are stored in a list. The Coach is the first name in the list, the captain is the second name in the list, and other players are listed after that. \n",
    "These lists are stored in another list, which starts with the best team and proceeds through the list to the worst team last.  Complete the function below to select the **captain** of the worst team."
   ]
  },
  {
   "cell_type": "code",
   "execution_count": 4,
   "id": "6202a057",
   "metadata": {
    "execution": {
     "iopub.execute_input": "2024-02-22T21:28:38.473138Z",
     "iopub.status.busy": "2024-02-22T21:28:38.472803Z",
     "iopub.status.idle": "2024-02-22T21:28:38.481107Z",
     "shell.execute_reply": "2024-02-22T21:28:38.479960Z"
    },
    "papermill": {
     "duration": 0.016184,
     "end_time": "2024-02-22T21:28:38.483060",
     "exception": false,
     "start_time": "2024-02-22T21:28:38.466876",
     "status": "completed"
    },
    "tags": []
   },
   "outputs": [
    {
     "data": {
      "application/javascript": [
       "parent.postMessage({\"jupyterEvent\": \"custom.exercise_interaction\", \"data\": {\"outcomeType\": 1, \"valueTowardsCompletion\": 0.2, \"interactionType\": 1, \"questionType\": 2, \"questionId\": \"2_LosingTeamCaptain\", \"learnToolsVersion\": \"0.3.4\", \"failureMessage\": \"\", \"exceptionClass\": \"\", \"trace\": \"\"}}, \"*\")"
      ],
      "text/plain": [
       "<IPython.core.display.Javascript object>"
      ]
     },
     "metadata": {},
     "output_type": "display_data"
    },
    {
     "data": {
      "text/markdown": [
       "<span style=\"color:#33cc33\">Correct</span>"
      ],
      "text/plain": [
       "Correct"
      ]
     },
     "metadata": {},
     "output_type": "display_data"
    }
   ],
   "source": [
    "def losing_team_captain(teams):\n",
    "    \"\"\"Given a list of teams, where each team is a list of names, return the 2nd player (captain)\n",
    "    from the last listed team\n",
    "    \"\"\"\n",
    "    return teams[-1][1]\n",
    "    pass\n",
    "\n",
    "# Check your answer\n",
    "q2.check()"
   ]
  },
  {
   "cell_type": "code",
   "execution_count": 5,
   "id": "be36f5d4",
   "metadata": {
    "collapsed": true,
    "execution": {
     "iopub.execute_input": "2024-02-22T21:28:38.494675Z",
     "iopub.status.busy": "2024-02-22T21:28:38.494335Z",
     "iopub.status.idle": "2024-02-22T21:28:38.499169Z",
     "shell.execute_reply": "2024-02-22T21:28:38.497530Z"
    },
    "jupyter": {
     "outputs_hidden": true
    },
    "papermill": {
     "duration": 0.014826,
     "end_time": "2024-02-22T21:28:38.503061",
     "exception": false,
     "start_time": "2024-02-22T21:28:38.488235",
     "status": "completed"
    },
    "tags": []
   },
   "outputs": [],
   "source": [
    "#q2.hint()\n",
    "#q2.solution()"
   ]
  },
  {
   "cell_type": "markdown",
   "id": "80be8f6b",
   "metadata": {
    "papermill": {
     "duration": 0.004708,
     "end_time": "2024-02-22T21:28:38.513077",
     "exception": false,
     "start_time": "2024-02-22T21:28:38.508369",
     "status": "completed"
    },
    "tags": []
   },
   "source": [
    "# 3.\n",
    "\n",
    "The next iteration of Mario Kart will feature an extra-infuriating new item, the *Purple Shell*. When used, it warps the last place racer into first place and the first place racer into last place. Complete the function below to implement the Purple Shell's effect."
   ]
  },
  {
   "cell_type": "code",
   "execution_count": 6,
   "id": "f7e32864",
   "metadata": {
    "execution": {
     "iopub.execute_input": "2024-02-22T21:28:38.524616Z",
     "iopub.status.busy": "2024-02-22T21:28:38.524296Z",
     "iopub.status.idle": "2024-02-22T21:28:38.533130Z",
     "shell.execute_reply": "2024-02-22T21:28:38.532230Z"
    },
    "papermill": {
     "duration": 0.017106,
     "end_time": "2024-02-22T21:28:38.535054",
     "exception": false,
     "start_time": "2024-02-22T21:28:38.517948",
     "status": "completed"
    },
    "tags": []
   },
   "outputs": [
    {
     "data": {
      "application/javascript": [
       "parent.postMessage({\"jupyterEvent\": \"custom.exercise_interaction\", \"data\": {\"outcomeType\": 1, \"valueTowardsCompletion\": 0.2, \"interactionType\": 1, \"questionType\": 2, \"questionId\": \"3_PurpleShell\", \"learnToolsVersion\": \"0.3.4\", \"failureMessage\": \"\", \"exceptionClass\": \"\", \"trace\": \"\"}}, \"*\")"
      ],
      "text/plain": [
       "<IPython.core.display.Javascript object>"
      ]
     },
     "metadata": {},
     "output_type": "display_data"
    },
    {
     "data": {
      "text/markdown": [
       "<span style=\"color:#33cc33\">Correct</span>"
      ],
      "text/plain": [
       "Correct"
      ]
     },
     "metadata": {},
     "output_type": "display_data"
    }
   ],
   "source": [
    "def purple_shell(racers):\n",
    "    \"\"\"Given a list of racers, set the first place racer (at the front of the list) to last\n",
    "    place and vice versa.\n",
    "    \n",
    "    >>> r = [\"Mario\", \"Bowser\", \"Luigi\"]\n",
    "    >>> purple_shell(r)\n",
    "    >>> r\n",
    "    [\"Luigi\", \"Bowser\", \"Mario\"]\n",
    "    \"\"\"\n",
    "    racers[0], racers[-1] = racers[-1], racers[0]\n",
    "    \n",
    "\n",
    "# Check your answer\n",
    "q3.check()"
   ]
  },
  {
   "cell_type": "code",
   "execution_count": 7,
   "id": "bd81bed0",
   "metadata": {
    "execution": {
     "iopub.execute_input": "2024-02-22T21:28:38.547254Z",
     "iopub.status.busy": "2024-02-22T21:28:38.546737Z",
     "iopub.status.idle": "2024-02-22T21:28:38.553159Z",
     "shell.execute_reply": "2024-02-22T21:28:38.552025Z"
    },
    "papermill": {
     "duration": 0.014306,
     "end_time": "2024-02-22T21:28:38.554834",
     "exception": false,
     "start_time": "2024-02-22T21:28:38.540528",
     "status": "completed"
    },
    "tags": []
   },
   "outputs": [
    {
     "data": {
      "application/javascript": [
       "parent.postMessage({\"jupyterEvent\": \"custom.exercise_interaction\", \"data\": {\"interactionType\": 2, \"questionType\": 2, \"questionId\": \"3_PurpleShell\", \"learnToolsVersion\": \"0.3.4\", \"valueTowardsCompletion\": 0.0, \"failureMessage\": \"\", \"exceptionClass\": \"\", \"trace\": \"\", \"outcomeType\": 4}}, \"*\")"
      ],
      "text/plain": [
       "<IPython.core.display.Javascript object>"
      ]
     },
     "metadata": {},
     "output_type": "display_data"
    },
    {
     "data": {
      "text/markdown": [
       "<span style=\"color:#3366cc\">Hint:</span> Your function should change the list it receives, but not return anything\n",
       "\n",
       "To swap the list elements, think back to the code you used in the very first exercise to swap two variables."
      ],
      "text/plain": [
       "Hint: Your function should change the list it receives, but not return anything\n",
       "\n",
       "To swap the list elements, think back to the code you used in the very first exercise to swap two variables."
      ]
     },
     "metadata": {},
     "output_type": "display_data"
    }
   ],
   "source": [
    "q3.hint()\n",
    "#q3.solution()"
   ]
  },
  {
   "cell_type": "markdown",
   "id": "6e8a8b72",
   "metadata": {
    "papermill": {
     "duration": 0.005173,
     "end_time": "2024-02-22T21:28:38.565512",
     "exception": false,
     "start_time": "2024-02-22T21:28:38.560339",
     "status": "completed"
    },
    "tags": []
   },
   "source": [
    "# 4.\n",
    "\n",
    "What are the lengths of the following lists? Fill in the variable `lengths` with your predictions. (Try to make a prediction for each list *without* just calling `len()` on it.)"
   ]
  },
  {
   "cell_type": "code",
   "execution_count": 8,
   "id": "69572caf",
   "metadata": {
    "execution": {
     "iopub.execute_input": "2024-02-22T21:28:38.578565Z",
     "iopub.status.busy": "2024-02-22T21:28:38.578245Z",
     "iopub.status.idle": "2024-02-22T21:28:38.586776Z",
     "shell.execute_reply": "2024-02-22T21:28:38.586027Z"
    },
    "papermill": {
     "duration": 0.016445,
     "end_time": "2024-02-22T21:28:38.588286",
     "exception": false,
     "start_time": "2024-02-22T21:28:38.571841",
     "status": "completed"
    },
    "tags": []
   },
   "outputs": [
    {
     "data": {
      "application/javascript": [
       "parent.postMessage({\"jupyterEvent\": \"custom.exercise_interaction\", \"data\": {\"outcomeType\": 1, \"valueTowardsCompletion\": 0.2, \"interactionType\": 1, \"questionType\": 1, \"questionId\": \"4_UnderstandLen\", \"learnToolsVersion\": \"0.3.4\", \"failureMessage\": \"\", \"exceptionClass\": \"\", \"trace\": \"\"}}, \"*\")"
      ],
      "text/plain": [
       "<IPython.core.display.Javascript object>"
      ]
     },
     "metadata": {},
     "output_type": "display_data"
    },
    {
     "data": {
      "text/markdown": [
       "<span style=\"color:#33cc33\">Correct:</span> \n",
       "\n",
       "\n",
       "- a: There are three items in this list. Nothing tricky yet.\n",
       "- b: The list `[2, 3]` counts as a single item. It has one item before it. So we have 2 items in the list\n",
       "- c: The empty list has 0 items\n",
       "- d: The expression is the same as the list `[2, 3]`, which has length 2."
      ],
      "text/plain": [
       "Correct: \n",
       "\n",
       "\n",
       "- a: There are three items in this list. Nothing tricky yet.\n",
       "- b: The list `[2, 3]` counts as a single item. It has one item before it. So we have 2 items in the list\n",
       "- c: The empty list has 0 items\n",
       "- d: The expression is the same as the list `[2, 3]`, which has length 2."
      ]
     },
     "metadata": {},
     "output_type": "display_data"
    }
   ],
   "source": [
    "a = [1, 2, 3]\n",
    "b = [1, [2, 3]]\n",
    "c = []\n",
    "d = [1, 2, 3][1:]\n",
    "\n",
    "# Put your predictions in the list below. Lengths should contain 4 numbers, the\n",
    "# first being the length of a, the second being the length of b and so on.\n",
    "lengths = [3,2,0,2]\n",
    "\n",
    "# Check your answer\n",
    "q4.check()"
   ]
  },
  {
   "cell_type": "code",
   "execution_count": 9,
   "id": "c7eac496",
   "metadata": {
    "collapsed": true,
    "execution": {
     "iopub.execute_input": "2024-02-22T21:28:38.601397Z",
     "iopub.status.busy": "2024-02-22T21:28:38.601036Z",
     "iopub.status.idle": "2024-02-22T21:28:38.604364Z",
     "shell.execute_reply": "2024-02-22T21:28:38.603682Z"
    },
    "jupyter": {
     "outputs_hidden": true
    },
    "papermill": {
     "duration": 0.011833,
     "end_time": "2024-02-22T21:28:38.605838",
     "exception": false,
     "start_time": "2024-02-22T21:28:38.594005",
     "status": "completed"
    },
    "tags": []
   },
   "outputs": [],
   "source": [
    "# line below provides some explanation\n",
    "#q4.solution()"
   ]
  },
  {
   "cell_type": "markdown",
   "id": "648b3147",
   "metadata": {
    "papermill": {
     "duration": 0.005677,
     "end_time": "2024-02-22T21:28:38.617370",
     "exception": false,
     "start_time": "2024-02-22T21:28:38.611693",
     "status": "completed"
    },
    "tags": []
   },
   "source": [
    "# 5. <span title=\"A bit spicy\" style=\"color: darkgreen \">🌶️</span>\n",
    "\n",
    "We're using lists to record people who attended our party and what order they arrived in. For example, the following list represents a party with 7 guests, in which Adela showed up first and Ford was the last to arrive:\n",
    "\n",
    "    party_attendees = ['Adela', 'Fleda', 'Owen', 'May', 'Mona', 'Gilbert', 'Ford']\n",
    "\n",
    "A guest is considered 'fashionably late' if they arrived after at least half of the party's guests. However, they must not be the very last guest (that's taking it too far). In the above example, Mona and Gilbert are the only guests who were fashionably late.\n",
    "\n",
    "Complete the function below which takes a list of party attendees as well as a person, and tells us whether that person is fashionably late."
   ]
  },
  {
   "cell_type": "code",
   "execution_count": 10,
   "id": "63bed09f",
   "metadata": {
    "execution": {
     "iopub.execute_input": "2024-02-22T21:28:38.631590Z",
     "iopub.status.busy": "2024-02-22T21:28:38.631309Z",
     "iopub.status.idle": "2024-02-22T21:28:38.639070Z",
     "shell.execute_reply": "2024-02-22T21:28:38.638464Z"
    },
    "papermill": {
     "duration": 0.018278,
     "end_time": "2024-02-22T21:28:38.641236",
     "exception": false,
     "start_time": "2024-02-22T21:28:38.622958",
     "status": "completed"
    },
    "tags": []
   },
   "outputs": [
    {
     "name": "stdout",
     "output_type": "stream",
     "text": [
      "not fashionably late\n",
      "not fashionably late\n",
      "not fashionably late\n",
      "not fashionably late\n",
      "fashionably late\n",
      "fashionably late\n",
      "not fashionably late\n",
      "not fashionably late\n",
      "not fashionably late\n"
     ]
    },
    {
     "data": {
      "application/javascript": [
       "parent.postMessage({\"jupyterEvent\": \"custom.exercise_interaction\", \"data\": {\"outcomeType\": 2, \"failureMessage\": \"Expected return value of `True` given `arrivals=['Paul', 'John', 'Ringo', 'George']`, `name='Ringo'`, but got `False` instead.\", \"interactionType\": 1, \"questionType\": 2, \"questionId\": \"5_FashionablyLate\", \"learnToolsVersion\": \"0.3.4\", \"valueTowardsCompletion\": 0.0, \"exceptionClass\": \"\", \"trace\": \"\"}}, \"*\")"
      ],
      "text/plain": [
       "<IPython.core.display.Javascript object>"
      ]
     },
     "metadata": {},
     "output_type": "display_data"
    },
    {
     "data": {
      "text/markdown": [
       "<span style=\"color:#cc3333\">Incorrect:</span> Expected return value of `True` given `arrivals=['Paul', 'John', 'Ringo', 'George']`, `name='Ringo'`, but got `False` instead."
      ],
      "text/plain": [
       "Incorrect: Expected return value of `True` given `arrivals=['Paul', 'John', 'Ringo', 'George']`, `name='Ringo'`, but got `False` instead."
      ]
     },
     "metadata": {},
     "output_type": "display_data"
    }
   ],
   "source": [
    "def fashionably_late(arrivals, name):\n",
    "    \"\"\"Given an ordered list of arrivals to the party and a name, return whether the guest with that\n",
    "    name was fashionably late.\n",
    "    \"\"\"\n",
    "    var = len(arrivals)/2\n",
    "    if arrivals.index(name)> (var) and arrivals.index(name) != (len(arrivals)-1):\n",
    "        print(\"fashionably late\")\n",
    "        return True\n",
    "    else:\n",
    "        print(\"not fashionably late\")\n",
    "        return False\n",
    "\n",
    "# Check your answer\n",
    "q5.check()"
   ]
  },
  {
   "cell_type": "code",
   "execution_count": 11,
   "id": "ddff9483",
   "metadata": {
    "collapsed": true,
    "execution": {
     "iopub.execute_input": "2024-02-22T21:28:38.655330Z",
     "iopub.status.busy": "2024-02-22T21:28:38.654945Z",
     "iopub.status.idle": "2024-02-22T21:28:38.658321Z",
     "shell.execute_reply": "2024-02-22T21:28:38.657570Z"
    },
    "jupyter": {
     "outputs_hidden": true
    },
    "papermill": {
     "duration": 0.012535,
     "end_time": "2024-02-22T21:28:38.659981",
     "exception": false,
     "start_time": "2024-02-22T21:28:38.647446",
     "status": "completed"
    },
    "tags": []
   },
   "outputs": [],
   "source": [
    "#q5.hint()\n",
    "#q5.solution()"
   ]
  },
  {
   "cell_type": "markdown",
   "id": "d4637e87",
   "metadata": {
    "papermill": {
     "duration": 0.005718,
     "end_time": "2024-02-22T21:28:38.671868",
     "exception": false,
     "start_time": "2024-02-22T21:28:38.666150",
     "status": "completed"
    },
    "tags": []
   },
   "source": [
    "# Keep Going\n",
    "\n",
    "That's it for lists and tuples! Now you have the baseline knowledge to **[learn about loops](https://www.kaggle.com/colinmorris/loops-and-list-comprehensions)**, which is where lists and tuples get really interesting. "
   ]
  },
  {
   "cell_type": "markdown",
   "id": "d81efe94",
   "metadata": {
    "papermill": {
     "duration": 0.005783,
     "end_time": "2024-02-22T21:28:38.683525",
     "exception": false,
     "start_time": "2024-02-22T21:28:38.677742",
     "status": "completed"
    },
    "tags": []
   },
   "source": [
    "---\n",
    "\n",
    "\n",
    "\n",
    "\n",
    "*Have questions or comments? Visit the [course discussion forum](https://www.kaggle.com/learn/python/discussion) to chat with other learners.*"
   ]
  }
 ],
 "metadata": {
  "kaggle": {
   "accelerator": "none",
   "dataSources": [],
   "isGpuEnabled": false,
   "isInternetEnabled": false,
   "language": "python",
   "sourceType": "notebook"
  },
  "kernelspec": {
   "display_name": "Python 3",
   "language": "python",
   "name": "python3"
  },
  "language_info": {
   "codemirror_mode": {
    "name": "ipython",
    "version": 3
   },
   "file_extension": ".py",
   "mimetype": "text/x-python",
   "name": "python",
   "nbconvert_exporter": "python",
   "pygments_lexer": "ipython3",
   "version": "3.10.13"
  },
  "learntools_metadata": {
   "lesson_index": 3,
   "type": "exercise"
  },
  "papermill": {
   "default_parameters": {},
   "duration": 3.801411,
   "end_time": "2024-02-22T21:28:39.107987",
   "environment_variables": {},
   "exception": null,
   "input_path": "__notebook__.ipynb",
   "output_path": "__notebook__.ipynb",
   "parameters": {},
   "start_time": "2024-02-22T21:28:35.306576",
   "version": "2.5.0"
  }
 },
 "nbformat": 4,
 "nbformat_minor": 5
}
