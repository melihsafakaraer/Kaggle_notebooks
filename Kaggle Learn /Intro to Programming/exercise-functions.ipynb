{
 "cells": [
  {
   "cell_type": "markdown",
   "id": "94e51cda",
   "metadata": {
    "papermill": {
     "duration": 0.008313,
     "end_time": "2024-02-22T21:32:00.055965",
     "exception": false,
     "start_time": "2024-02-22T21:32:00.047652",
     "status": "completed"
    },
    "tags": []
   },
   "source": [
    "**This notebook is an exercise in the [Intro to Programming](https://www.kaggle.com/learn/intro-to-programming) course.  You can reference the tutorial at [this link](https://www.kaggle.com/alexisbcook/functions).**\n",
    "\n",
    "---\n"
   ]
  },
  {
   "cell_type": "markdown",
   "id": "58ef518e",
   "metadata": {
    "papermill": {
     "duration": 0.007452,
     "end_time": "2024-02-22T21:32:00.071360",
     "exception": false,
     "start_time": "2024-02-22T21:32:00.063908",
     "status": "completed"
    },
    "tags": []
   },
   "source": [
    "In the tutorial, you learned about functions. In this exercise, you'll write some of your own!\n",
    "\n",
    "# Set up the notebook\n",
    "\n",
    "Run the next code cell without changes to set up the notebook."
   ]
  },
  {
   "cell_type": "code",
   "execution_count": 1,
   "id": "520aef47",
   "metadata": {
    "execution": {
     "iopub.execute_input": "2024-02-22T21:32:00.089005Z",
     "iopub.status.busy": "2024-02-22T21:32:00.088446Z",
     "iopub.status.idle": "2024-02-22T21:32:01.060377Z",
     "shell.execute_reply": "2024-02-22T21:32:01.058937Z"
    },
    "papermill": {
     "duration": 0.984308,
     "end_time": "2024-02-22T21:32:01.063432",
     "exception": false,
     "start_time": "2024-02-22T21:32:00.079124",
     "status": "completed"
    },
    "tags": []
   },
   "outputs": [
    {
     "name": "stdout",
     "output_type": "stream",
     "text": [
      "Setup complete.\n"
     ]
    }
   ],
   "source": [
    "# Set up the exercise\n",
    "import math\n",
    "from learntools.core import binder\n",
    "binder.bind(globals())\n",
    "from learntools.intro_to_programming.ex2 import *\n",
    "print('Setup complete.')"
   ]
  },
  {
   "cell_type": "markdown",
   "id": "7ea9afd2",
   "metadata": {
    "papermill": {
     "duration": 0.00772,
     "end_time": "2024-02-22T21:32:01.079146",
     "exception": false,
     "start_time": "2024-02-22T21:32:01.071426",
     "status": "completed"
    },
    "tags": []
   },
   "source": [
    "# Question 1\n",
    "\n",
    "In the [House Prices - Advanced Regression Techniques competition](https://www.kaggle.com/c/house-prices-advanced-regression-techniques/overview), you need to use information like the number of bedrooms and bathrooms to predict the price of a house.  Inspired by this competition, you'll write your own function to do this.\n",
    "\n",
    "In the next code cell, create a function `get_expected_cost()` that has two arguments:\n",
    "- `beds` - number of bedrooms \n",
    "- `baths` - number of bathrooms\n",
    "\n",
    "It should return the expected cost of a house with that number of bedrooms and bathrooms.  Assume that:\n",
    "- the expected cost for a house with 0 bedrooms and 0 bathrooms is `80000`.  \n",
    "- each bedroom adds `30000` to the expected cost\n",
    "- each bathroom adds `10000` to the expected cost.\n",
    "\n",
    "For instance, \n",
    "- a house with 1 bedroom and 1 bathroom has an expected cost of `120000`, and \n",
    "- a house with 2 bedrooms and 1 bathroom has an expected cost of `150000`."
   ]
  },
  {
   "cell_type": "code",
   "execution_count": 2,
   "id": "459b7235",
   "metadata": {
    "execution": {
     "iopub.execute_input": "2024-02-22T21:32:01.097753Z",
     "iopub.status.busy": "2024-02-22T21:32:01.096644Z",
     "iopub.status.idle": "2024-02-22T21:32:01.108140Z",
     "shell.execute_reply": "2024-02-22T21:32:01.107113Z"
    },
    "papermill": {
     "duration": 0.023726,
     "end_time": "2024-02-22T21:32:01.110532",
     "exception": false,
     "start_time": "2024-02-22T21:32:01.086806",
     "status": "completed"
    },
    "tags": []
   },
   "outputs": [
    {
     "data": {
      "application/javascript": [
       "parent.postMessage({\"jupyterEvent\": \"custom.exercise_interaction\", \"data\": {\"outcomeType\": 1, \"valueTowardsCompletion\": 0.2, \"interactionType\": 1, \"questionType\": 2, \"questionId\": \"1_GetExpectedCost\", \"learnToolsVersion\": \"0.3.4\", \"failureMessage\": \"\", \"exceptionClass\": \"\", \"trace\": \"\"}}, \"*\")"
      ],
      "text/plain": [
       "<IPython.core.display.Javascript object>"
      ]
     },
     "metadata": {},
     "output_type": "display_data"
    },
    {
     "data": {
      "text/markdown": [
       "<span style=\"color:#33cc33\">Correct</span>"
      ],
      "text/plain": [
       "Correct"
      ]
     },
     "metadata": {},
     "output_type": "display_data"
    }
   ],
   "source": [
    "# TODO: Complete the function\n",
    "def get_expected_cost(beds, baths):\n",
    "    value = 80000 + 30000*beds + 10000*baths\n",
    "    return value\n",
    "\n",
    "# Check your answer \n",
    "q1.check()"
   ]
  },
  {
   "cell_type": "code",
   "execution_count": 3,
   "id": "300b3b1b",
   "metadata": {
    "execution": {
     "iopub.execute_input": "2024-02-22T21:32:01.129828Z",
     "iopub.status.busy": "2024-02-22T21:32:01.128853Z",
     "iopub.status.idle": "2024-02-22T21:32:01.138219Z",
     "shell.execute_reply": "2024-02-22T21:32:01.137156Z"
    },
    "papermill": {
     "duration": 0.021261,
     "end_time": "2024-02-22T21:32:01.140271",
     "exception": false,
     "start_time": "2024-02-22T21:32:01.119010",
     "status": "completed"
    },
    "tags": []
   },
   "outputs": [
    {
     "data": {
      "application/javascript": [
       "parent.postMessage({\"jupyterEvent\": \"custom.exercise_interaction\", \"data\": {\"interactionType\": 2, \"questionType\": 2, \"questionId\": \"1_GetExpectedCost\", \"learnToolsVersion\": \"0.3.4\", \"valueTowardsCompletion\": 0.0, \"failureMessage\": \"\", \"exceptionClass\": \"\", \"trace\": \"\", \"outcomeType\": 4}}, \"*\")"
      ],
      "text/plain": [
       "<IPython.core.display.Javascript object>"
      ]
     },
     "metadata": {},
     "output_type": "display_data"
    },
    {
     "data": {
      "text/markdown": [
       "<span style=\"color:#3366cc\">Hint:</span> The value should be the base cost (`80000`), plus the total cost of the bedrooms (`30000 * beds`), plus the total cost of the bathrooms (`10000 * baths`)."
      ],
      "text/plain": [
       "Hint: The value should be the base cost (`80000`), plus the total cost of the bedrooms (`30000 * beds`), plus the total cost of the bathrooms (`10000 * baths`)."
      ]
     },
     "metadata": {},
     "output_type": "display_data"
    }
   ],
   "source": [
    " #Uncomment to see a hint\n",
    "q1.hint()\n",
    "\n",
    "# Uncomment to view the solution\n",
    "#q1.solution()"
   ]
  },
  {
   "cell_type": "markdown",
   "id": "7d9e74db",
   "metadata": {
    "papermill": {
     "duration": 0.008767,
     "end_time": "2024-02-22T21:32:01.157443",
     "exception": false,
     "start_time": "2024-02-22T21:32:01.148676",
     "status": "completed"
    },
    "tags": []
   },
   "source": [
    "# Question 2\n",
    "\n",
    "You are thinking about buying a home and want to get an idea of how much you will spend, based on the number of bedrooms and bathrooms.  You are trying to decide between four different options:\n",
    "- Option 1: house with two bedrooms and three bathrooms\n",
    "- Option 2: house with three bedrooms and two bathrooms\n",
    "- Option 3: house with three bedrooms and three bathrooms\n",
    "- Option 4: house with three bedrooms and four bathrooms\n",
    "\n",
    "Use the `get_expected_cost()` function you defined in question 1 to set `option_1`, `option_2`, `option_3`, and `option_4` to the expected cost of each option."
   ]
  },
  {
   "cell_type": "code",
   "execution_count": 4,
   "id": "42b69980",
   "metadata": {
    "execution": {
     "iopub.execute_input": "2024-02-22T21:32:01.177319Z",
     "iopub.status.busy": "2024-02-22T21:32:01.176907Z",
     "iopub.status.idle": "2024-02-22T21:32:01.188560Z",
     "shell.execute_reply": "2024-02-22T21:32:01.187125Z"
    },
    "papermill": {
     "duration": 0.024558,
     "end_time": "2024-02-22T21:32:01.191038",
     "exception": false,
     "start_time": "2024-02-22T21:32:01.166480",
     "status": "completed"
    },
    "tags": []
   },
   "outputs": [
    {
     "name": "stdout",
     "output_type": "stream",
     "text": [
      "170000\n",
      "190000\n",
      "200000\n",
      "210000\n"
     ]
    },
    {
     "data": {
      "application/javascript": [
       "parent.postMessage({\"jupyterEvent\": \"custom.exercise_interaction\", \"data\": {\"outcomeType\": 1, \"valueTowardsCompletion\": 0.2, \"interactionType\": 1, \"questionType\": 1, \"questionId\": \"2_RunGetExpectedCost\", \"learnToolsVersion\": \"0.3.4\", \"failureMessage\": \"\", \"exceptionClass\": \"\", \"trace\": \"\"}}, \"*\")"
      ],
      "text/plain": [
       "<IPython.core.display.Javascript object>"
      ]
     },
     "metadata": {},
     "output_type": "display_data"
    },
    {
     "data": {
      "text/markdown": [
       "<span style=\"color:#33cc33\">Correct</span>"
      ],
      "text/plain": [
       "Correct"
      ]
     },
     "metadata": {},
     "output_type": "display_data"
    }
   ],
   "source": [
    "# TODO: Use the get_expected_cost function to fill in each value\n",
    "option_one = get_expected_cost(2,3)\n",
    "option_two = get_expected_cost(3,2)\n",
    "option_three = get_expected_cost(3,3)\n",
    "option_four = get_expected_cost(3,4)\n",
    "\n",
    "print(option_one)\n",
    "print(option_two)\n",
    "print(option_three)\n",
    "print(option_four)\n",
    "\n",
    "# Check your answer\n",
    "q2.check()"
   ]
  },
  {
   "cell_type": "code",
   "execution_count": 5,
   "id": "e5ae5d81",
   "metadata": {
    "execution": {
     "iopub.execute_input": "2024-02-22T21:32:01.211847Z",
     "iopub.status.busy": "2024-02-22T21:32:01.211431Z",
     "iopub.status.idle": "2024-02-22T21:32:01.216191Z",
     "shell.execute_reply": "2024-02-22T21:32:01.215214Z"
    },
    "papermill": {
     "duration": 0.017935,
     "end_time": "2024-02-22T21:32:01.218337",
     "exception": false,
     "start_time": "2024-02-22T21:32:01.200402",
     "status": "completed"
    },
    "tags": []
   },
   "outputs": [],
   "source": [
    "# Uncomment to see a hint\n",
    "#q2.hint()\n",
    "\n",
    "# Uncomment to view the solution\n",
    "#q2.solution()"
   ]
  },
  {
   "cell_type": "markdown",
   "id": "9a22668e",
   "metadata": {
    "papermill": {
     "duration": 0.009136,
     "end_time": "2024-02-22T21:32:01.236874",
     "exception": false,
     "start_time": "2024-02-22T21:32:01.227738",
     "status": "completed"
    },
    "tags": []
   },
   "source": [
    "# Question 3\n",
    "\n",
    "You're a home decorator, and you'd like to use Python to streamline some of your work.  Specifically, you're creating a tool that you intend to use to calculate the cost of painting a room.\n",
    "\n",
    "As a first step, define a function `get_cost()` that takes as input:\n",
    "- `sqft_walls` = total square feet of walls to be painted\n",
    "- `sqft_ceiling` = square feet of ceiling to be painted\n",
    "- `sqft_per_gallon` = number of square feet that you can cover with one gallon of paint\n",
    "- `cost_per_gallon` = cost (in dollars) of one gallon of paint\n",
    "\n",
    "It should return the cost (in dollars) of putting one coat of paint on all walls and the ceiling.  Assume you can buy the exact amount of paint that you need, so you can buy partial gallons (e.g., if you need 7.523 gallons, you can buy that exact amount, instead of needing to buy 8 gallons and waste some paint).  Do not round your answer."
   ]
  },
  {
   "cell_type": "code",
   "execution_count": 6,
   "id": "018a6593",
   "metadata": {
    "execution": {
     "iopub.execute_input": "2024-02-22T21:32:01.258247Z",
     "iopub.status.busy": "2024-02-22T21:32:01.256798Z",
     "iopub.status.idle": "2024-02-22T21:32:01.267496Z",
     "shell.execute_reply": "2024-02-22T21:32:01.266403Z"
    },
    "papermill": {
     "duration": 0.023664,
     "end_time": "2024-02-22T21:32:01.269725",
     "exception": false,
     "start_time": "2024-02-22T21:32:01.246061",
     "status": "completed"
    },
    "tags": []
   },
   "outputs": [
    {
     "data": {
      "application/javascript": [
       "parent.postMessage({\"jupyterEvent\": \"custom.exercise_interaction\", \"data\": {\"outcomeType\": 1, \"valueTowardsCompletion\": 0.2, \"interactionType\": 1, \"questionType\": 2, \"questionId\": \"3_GetCostPaint\", \"learnToolsVersion\": \"0.3.4\", \"failureMessage\": \"\", \"exceptionClass\": \"\", \"trace\": \"\"}}, \"*\")"
      ],
      "text/plain": [
       "<IPython.core.display.Javascript object>"
      ]
     },
     "metadata": {},
     "output_type": "display_data"
    },
    {
     "data": {
      "text/markdown": [
       "<span style=\"color:#33cc33\">Correct</span>"
      ],
      "text/plain": [
       "Correct"
      ]
     },
     "metadata": {},
     "output_type": "display_data"
    }
   ],
   "source": [
    "# TODO: Finish defining the function\n",
    "def get_cost(sqft_walls, sqft_ceiling, sqft_per_gallon, cost_per_gallon):\n",
    "    cost = cost_per_gallon*((sqft_walls+sqft_ceiling)/sqft_per_gallon)\n",
    "    return cost\n",
    "\n",
    "# Check your answer\n",
    "q3.check()"
   ]
  },
  {
   "cell_type": "code",
   "execution_count": 7,
   "id": "4132bce4",
   "metadata": {
    "execution": {
     "iopub.execute_input": "2024-02-22T21:32:01.293083Z",
     "iopub.status.busy": "2024-02-22T21:32:01.292645Z",
     "iopub.status.idle": "2024-02-22T21:32:01.297301Z",
     "shell.execute_reply": "2024-02-22T21:32:01.296187Z"
    },
    "papermill": {
     "duration": 0.020707,
     "end_time": "2024-02-22T21:32:01.299674",
     "exception": false,
     "start_time": "2024-02-22T21:32:01.278967",
     "status": "completed"
    },
    "tags": []
   },
   "outputs": [],
   "source": [
    "# Uncomment to see a hint\n",
    "#q3.hint()\n",
    "\n",
    "# Uncomment to view the solution\n",
    "#q3.solution()"
   ]
  },
  {
   "cell_type": "markdown",
   "id": "892433e5",
   "metadata": {
    "papermill": {
     "duration": 0.00907,
     "end_time": "2024-02-22T21:32:01.318282",
     "exception": false,
     "start_time": "2024-02-22T21:32:01.309212",
     "status": "completed"
    },
    "tags": []
   },
   "source": [
    "# Question 4\n",
    "\n",
    "Use the `get_cost()` function you defined in Question 3 to calculate the cost of applying one coat of paint to a room with:\n",
    "- 432 square feet of walls, and\n",
    "- 144 square feet of ceiling.\n",
    "\n",
    "Assume that one gallon of paint covers 400 square feet and costs $15.  As in Question 3, assume you can buy partial gallons of paint.  Do not round your answer."
   ]
  },
  {
   "cell_type": "code",
   "execution_count": 8,
   "id": "795e557b",
   "metadata": {
    "execution": {
     "iopub.execute_input": "2024-02-22T21:32:01.340261Z",
     "iopub.status.busy": "2024-02-22T21:32:01.339270Z",
     "iopub.status.idle": "2024-02-22T21:32:01.348694Z",
     "shell.execute_reply": "2024-02-22T21:32:01.347773Z"
    },
    "papermill": {
     "duration": 0.022989,
     "end_time": "2024-02-22T21:32:01.351134",
     "exception": false,
     "start_time": "2024-02-22T21:32:01.328145",
     "status": "completed"
    },
    "tags": []
   },
   "outputs": [
    {
     "data": {
      "application/javascript": [
       "parent.postMessage({\"jupyterEvent\": \"custom.exercise_interaction\", \"data\": {\"outcomeType\": 1, \"valueTowardsCompletion\": 0.2, \"interactionType\": 1, \"questionType\": 1, \"questionId\": \"4_GetCostPaintExample\", \"learnToolsVersion\": \"0.3.4\", \"failureMessage\": \"\", \"exceptionClass\": \"\", \"trace\": \"\"}}, \"*\")"
      ],
      "text/plain": [
       "<IPython.core.display.Javascript object>"
      ]
     },
     "metadata": {},
     "output_type": "display_data"
    },
    {
     "data": {
      "text/markdown": [
       "<span style=\"color:#33cc33\">Correct</span>"
      ],
      "text/plain": [
       "Correct"
      ]
     },
     "metadata": {},
     "output_type": "display_data"
    }
   ],
   "source": [
    "# TODO: Set the project_cost variable to the cost of the project\n",
    "project_cost = get_cost(432,144,400,15)\n",
    "\n",
    "# Check your answer\n",
    "q4.check()"
   ]
  },
  {
   "cell_type": "code",
   "execution_count": 9,
   "id": "c576df87",
   "metadata": {
    "execution": {
     "iopub.execute_input": "2024-02-22T21:32:01.374001Z",
     "iopub.status.busy": "2024-02-22T21:32:01.373547Z",
     "iopub.status.idle": "2024-02-22T21:32:01.378610Z",
     "shell.execute_reply": "2024-02-22T21:32:01.377437Z"
    },
    "papermill": {
     "duration": 0.019691,
     "end_time": "2024-02-22T21:32:01.381029",
     "exception": false,
     "start_time": "2024-02-22T21:32:01.361338",
     "status": "completed"
    },
    "tags": []
   },
   "outputs": [],
   "source": [
    "# Uncomment to see a hint\n",
    "#q4.hint()\n",
    "\n",
    "# Uncomment to view the solution\n",
    "#q4.solution()"
   ]
  },
  {
   "cell_type": "markdown",
   "id": "6fee251a",
   "metadata": {
    "papermill": {
     "duration": 0.009982,
     "end_time": "2024-02-22T21:32:01.400990",
     "exception": false,
     "start_time": "2024-02-22T21:32:01.391008",
     "status": "completed"
    },
    "tags": []
   },
   "source": [
    "# 🌶️ Question 5\n",
    "\n",
    "Now say you can no longer buy fractions of a gallon.  (For instance, if you need 4.3 gallons to do a project, then you have to buy 5 gallons of paint.)\n",
    "\n",
    "With this new scenario, you will create a new function `get_actual_cost` that uses the same inputs and calculates the cost of your project.\n",
    "\n",
    "One function that you'll need to use to do this is `math.ceil()`.  We demonstrate usage of this function in the code cell below.  It takes as a number as input and rounds the number up to the nearest integer.  \n",
    "\n",
    "Run the next code cell to test this function for yourself.  Feel free to change the value of `test_value` and make sure `math.ceil()` returns the number you expect."
   ]
  },
  {
   "cell_type": "code",
   "execution_count": 10,
   "id": "08cbb029",
   "metadata": {
    "execution": {
     "iopub.execute_input": "2024-02-22T21:32:01.422903Z",
     "iopub.status.busy": "2024-02-22T21:32:01.422474Z",
     "iopub.status.idle": "2024-02-22T21:32:01.427943Z",
     "shell.execute_reply": "2024-02-22T21:32:01.427142Z"
    },
    "papermill": {
     "duration": 0.019443,
     "end_time": "2024-02-22T21:32:01.430428",
     "exception": false,
     "start_time": "2024-02-22T21:32:01.410985",
     "status": "completed"
    },
    "tags": []
   },
   "outputs": [
    {
     "name": "stdout",
     "output_type": "stream",
     "text": [
      "3\n"
     ]
    }
   ],
   "source": [
    "test_value = 2.17\n",
    "\n",
    "rounded_value = math.ceil(test_value)\n",
    "print(rounded_value)"
   ]
  },
  {
   "cell_type": "markdown",
   "id": "0b879825",
   "metadata": {
    "papermill": {
     "duration": 0.009799,
     "end_time": "2024-02-22T21:32:01.450199",
     "exception": false,
     "start_time": "2024-02-22T21:32:01.440400",
     "status": "completed"
    },
    "tags": []
   },
   "source": [
    "Use the next code cell to define the function `get_actual_cost()`.  You'll need to use the `math.ceil()` function to do this.\n",
    "\n",
    "When answering this question, note that it's completely valid to define a function that makes use of another function.  For instance, we can define a function `round_up_and_divide_by_three` that makes use of the `math.ceil` function:\n",
    "```\n",
    "def round_up_and_divide_by_three(num):\n",
    "    new_value = math.ceil(num)\n",
    "    final_value = new_value / 3\n",
    "    return final_value\n",
    "```"
   ]
  },
  {
   "cell_type": "code",
   "execution_count": 11,
   "id": "b2eb8e9f",
   "metadata": {
    "execution": {
     "iopub.execute_input": "2024-02-22T21:32:01.472101Z",
     "iopub.status.busy": "2024-02-22T21:32:01.471638Z",
     "iopub.status.idle": "2024-02-22T21:32:01.480601Z",
     "shell.execute_reply": "2024-02-22T21:32:01.479751Z"
    },
    "papermill": {
     "duration": 0.02271,
     "end_time": "2024-02-22T21:32:01.482852",
     "exception": false,
     "start_time": "2024-02-22T21:32:01.460142",
     "status": "completed"
    },
    "tags": []
   },
   "outputs": [
    {
     "data": {
      "application/javascript": [
       "parent.postMessage({\"jupyterEvent\": \"custom.exercise_interaction\", \"data\": {\"outcomeType\": 1, \"valueTowardsCompletion\": 0.2, \"interactionType\": 1, \"questionType\": 2, \"questionId\": \"5_NoMoreFractions\", \"learnToolsVersion\": \"0.3.4\", \"failureMessage\": \"\", \"exceptionClass\": \"\", \"trace\": \"\"}}, \"*\")"
      ],
      "text/plain": [
       "<IPython.core.display.Javascript object>"
      ]
     },
     "metadata": {},
     "output_type": "display_data"
    },
    {
     "data": {
      "text/markdown": [
       "<span style=\"color:#33cc33\">Correct</span>"
      ],
      "text/plain": [
       "Correct"
      ]
     },
     "metadata": {},
     "output_type": "display_data"
    }
   ],
   "source": [
    "def get_actual_cost(sqft_walls, sqft_ceiling, sqft_per_gallon, cost_per_gallon):\n",
    "    cost = cost_per_gallon*math.ceil(((sqft_walls+sqft_ceiling)/sqft_per_gallon)) \n",
    "    return cost\n",
    "\n",
    "# Check your answer\n",
    "q5.check()"
   ]
  },
  {
   "cell_type": "code",
   "execution_count": 12,
   "id": "ab8210f1",
   "metadata": {
    "execution": {
     "iopub.execute_input": "2024-02-22T21:32:01.505429Z",
     "iopub.status.busy": "2024-02-22T21:32:01.504968Z",
     "iopub.status.idle": "2024-02-22T21:32:01.510066Z",
     "shell.execute_reply": "2024-02-22T21:32:01.508786Z"
    },
    "papermill": {
     "duration": 0.019253,
     "end_time": "2024-02-22T21:32:01.512339",
     "exception": false,
     "start_time": "2024-02-22T21:32:01.493086",
     "status": "completed"
    },
    "tags": []
   },
   "outputs": [],
   "source": [
    "# Uncomment to see a hint\n",
    "#q5.hint()\n",
    "\n",
    "# Uncomment to view the solution\n",
    "#q5.solution()"
   ]
  },
  {
   "cell_type": "markdown",
   "id": "980244c3",
   "metadata": {
    "papermill": {
     "duration": 0.009936,
     "end_time": "2024-02-22T21:32:01.532577",
     "exception": false,
     "start_time": "2024-02-22T21:32:01.522641",
     "status": "completed"
    },
    "tags": []
   },
   "source": [
    "Once your function is verified as correct, run the next code cell to calculate the updated cost of your project."
   ]
  },
  {
   "cell_type": "code",
   "execution_count": 13,
   "id": "c3d1900b",
   "metadata": {
    "execution": {
     "iopub.execute_input": "2024-02-22T21:32:01.554881Z",
     "iopub.status.busy": "2024-02-22T21:32:01.554453Z",
     "iopub.status.idle": "2024-02-22T21:32:01.560920Z",
     "shell.execute_reply": "2024-02-22T21:32:01.560144Z"
    },
    "papermill": {
     "duration": 0.020393,
     "end_time": "2024-02-22T21:32:01.563176",
     "exception": false,
     "start_time": "2024-02-22T21:32:01.542783",
     "status": "completed"
    },
    "tags": []
   },
   "outputs": [
    {
     "data": {
      "text/plain": [
       "30"
      ]
     },
     "execution_count": 13,
     "metadata": {},
     "output_type": "execute_result"
    }
   ],
   "source": [
    "get_actual_cost(432, 144, 400, 15) "
   ]
  },
  {
   "cell_type": "markdown",
   "id": "f9d0cf25",
   "metadata": {
    "papermill": {
     "duration": 0.009975,
     "end_time": "2024-02-22T21:32:01.583516",
     "exception": false,
     "start_time": "2024-02-22T21:32:01.573541",
     "status": "completed"
    },
    "tags": []
   },
   "source": [
    "Say you're working with a slightly larger room.  Run the next code cell to calculate the cost of the project."
   ]
  },
  {
   "cell_type": "code",
   "execution_count": 14,
   "id": "426e6185",
   "metadata": {
    "execution": {
     "iopub.execute_input": "2024-02-22T21:32:01.606170Z",
     "iopub.status.busy": "2024-02-22T21:32:01.605367Z",
     "iopub.status.idle": "2024-02-22T21:32:01.613582Z",
     "shell.execute_reply": "2024-02-22T21:32:01.612399Z"
    },
    "papermill": {
     "duration": 0.022378,
     "end_time": "2024-02-22T21:32:01.616137",
     "exception": false,
     "start_time": "2024-02-22T21:32:01.593759",
     "status": "completed"
    },
    "tags": []
   },
   "outputs": [
    {
     "data": {
      "text/plain": [
       "45"
      ]
     },
     "execution_count": 14,
     "metadata": {},
     "output_type": "execute_result"
    }
   ],
   "source": [
    "get_actual_cost(594, 288, 400, 15) "
   ]
  },
  {
   "cell_type": "markdown",
   "id": "a35d4029",
   "metadata": {
    "papermill": {
     "duration": 0.010333,
     "end_time": "2024-02-22T21:32:01.637307",
     "exception": false,
     "start_time": "2024-02-22T21:32:01.626974",
     "status": "completed"
    },
    "tags": []
   },
   "source": [
    "# Keep going\n",
    "\n",
    "Continue to learn about **[data types](https://www.kaggle.com/alexisbcook/data-types)**."
   ]
  },
  {
   "cell_type": "markdown",
   "id": "5e6b9b22",
   "metadata": {
    "papermill": {
     "duration": 0.01041,
     "end_time": "2024-02-22T21:32:01.658265",
     "exception": false,
     "start_time": "2024-02-22T21:32:01.647855",
     "status": "completed"
    },
    "tags": []
   },
   "source": [
    "---\n",
    "\n",
    "\n",
    "\n",
    "\n",
    "*Have questions or comments? Visit the [course discussion forum](https://www.kaggle.com/learn/intro-to-programming/discussion) to chat with other learners.*"
   ]
  }
 ],
 "metadata": {
  "kaggle": {
   "accelerator": "none",
   "dataSources": [],
   "isGpuEnabled": false,
   "isInternetEnabled": false,
   "language": "python",
   "sourceType": "notebook"
  },
  "kernelspec": {
   "display_name": "Python 3",
   "language": "python",
   "name": "python3"
  },
  "language_info": {
   "codemirror_mode": {
    "name": "ipython",
    "version": 3
   },
   "file_extension": ".py",
   "mimetype": "text/x-python",
   "name": "python",
   "nbconvert_exporter": "python",
   "pygments_lexer": "ipython3",
   "version": "3.10.13"
  },
  "papermill": {
   "default_parameters": {},
   "duration": 5.323673,
   "end_time": "2024-02-22T21:32:02.292279",
   "environment_variables": {},
   "exception": null,
   "input_path": "__notebook__.ipynb",
   "output_path": "__notebook__.ipynb",
   "parameters": {},
   "start_time": "2024-02-22T21:31:56.968606",
   "version": "2.5.0"
  }
 },
 "nbformat": 4,
 "nbformat_minor": 5
}
