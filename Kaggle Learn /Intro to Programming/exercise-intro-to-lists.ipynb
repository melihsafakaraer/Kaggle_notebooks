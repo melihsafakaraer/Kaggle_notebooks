{
 "cells": [
  {
   "cell_type": "markdown",
   "id": "299f530f",
   "metadata": {
    "papermill": {
     "duration": 0.005798,
     "end_time": "2024-02-22T21:31:30.975747",
     "exception": false,
     "start_time": "2024-02-22T21:31:30.969949",
     "status": "completed"
    },
    "tags": []
   },
   "source": [
    "**This notebook is an exercise in the [Intro to Programming](https://www.kaggle.com/learn/intro-to-programming) course.  You can reference the tutorial at [this link](https://www.kaggle.com/alexisbcook/intro-to-lists).**\n",
    "\n",
    "---\n"
   ]
  },
  {
   "cell_type": "markdown",
   "id": "513107a9",
   "metadata": {
    "papermill": {
     "duration": 0.005376,
     "end_time": "2024-02-22T21:31:30.986864",
     "exception": false,
     "start_time": "2024-02-22T21:31:30.981488",
     "status": "completed"
    },
    "tags": []
   },
   "source": [
    "In the tutorial, you learned how to define and modify Python lists.  In this exercise, you will use your new knowledge to solve several problems.\n",
    "\n",
    "# Set up the notebook\n",
    "\n",
    "Run the next code cell without changes to set up the notebook."
   ]
  },
  {
   "cell_type": "code",
   "execution_count": 1,
   "id": "38263890",
   "metadata": {
    "execution": {
     "iopub.execute_input": "2024-02-22T21:31:31.000240Z",
     "iopub.status.busy": "2024-02-22T21:31:30.999853Z",
     "iopub.status.idle": "2024-02-22T21:31:32.119021Z",
     "shell.execute_reply": "2024-02-22T21:31:32.117661Z"
    },
    "papermill": {
     "duration": 1.128842,
     "end_time": "2024-02-22T21:31:32.121823",
     "exception": false,
     "start_time": "2024-02-22T21:31:30.992981",
     "status": "completed"
    },
    "tags": []
   },
   "outputs": [
    {
     "name": "stdout",
     "output_type": "stream",
     "text": [
      "Setup complete.\n"
     ]
    }
   ],
   "source": [
    "from learntools.core import binder\n",
    "binder.bind(globals())\n",
    "from learntools.intro_to_programming.ex5 import *\n",
    "print('Setup complete.')"
   ]
  },
  {
   "cell_type": "markdown",
   "id": "f648930d",
   "metadata": {
    "papermill": {
     "duration": 0.006056,
     "end_time": "2024-02-22T21:31:32.134210",
     "exception": false,
     "start_time": "2024-02-22T21:31:32.128154",
     "status": "completed"
    },
    "tags": []
   },
   "source": [
    "# Question 1\n",
    "\n",
    "You own a restaurant with five food dishes, organized in the Python list `menu` below.  One day, you decide to:\n",
    "- remove bean soup (`'bean soup'`) from the menu, and\n",
    "- add roasted beet salad (`'roasted beet salad'`) to the menu.\n",
    "\n",
    "Implement this change to the list below.  While completing this task, \n",
    "- do not change the line that creates the `menu` list.  \n",
    "- your answer should use `.remove()` and `.append()`.  "
   ]
  },
  {
   "cell_type": "code",
   "execution_count": 2,
   "id": "64e02d23",
   "metadata": {
    "execution": {
     "iopub.execute_input": "2024-02-22T21:31:32.148111Z",
     "iopub.status.busy": "2024-02-22T21:31:32.147617Z",
     "iopub.status.idle": "2024-02-22T21:31:32.158830Z",
     "shell.execute_reply": "2024-02-22T21:31:32.157183Z"
    },
    "papermill": {
     "duration": 0.021478,
     "end_time": "2024-02-22T21:31:32.161278",
     "exception": false,
     "start_time": "2024-02-22T21:31:32.139800",
     "status": "completed"
    },
    "tags": []
   },
   "outputs": [
    {
     "data": {
      "application/javascript": [
       "parent.postMessage({\"jupyterEvent\": \"custom.exercise_interaction\", \"data\": {\"outcomeType\": 1, \"valueTowardsCompletion\": 0.2, \"interactionType\": 1, \"questionType\": 2, \"questionId\": \"1_FoodMenu\", \"learnToolsVersion\": \"0.3.4\", \"failureMessage\": \"\", \"exceptionClass\": \"\", \"trace\": \"\"}}, \"*\")"
      ],
      "text/plain": [
       "<IPython.core.display.Javascript object>"
      ]
     },
     "metadata": {},
     "output_type": "display_data"
    },
    {
     "data": {
      "text/markdown": [
       "<span style=\"color:#33cc33\">Correct</span>"
      ],
      "text/plain": [
       "Correct"
      ]
     },
     "metadata": {},
     "output_type": "display_data"
    }
   ],
   "source": [
    "# Do not change: Initial menu for your restaurant\n",
    "menu = ['stewed meat with onions', 'bean soup', 'risotto with trout and shrimp',\n",
    "       'fish soup with cream and onion', 'gyro']\n",
    "\n",
    "# TODO: remove 'bean soup', and add 'roasted beet salad' to the end of the menu\n",
    "menu.remove('bean soup')\n",
    "menu.append('roasted beet salad')\n",
    "\n",
    "# Do not change: Check your answer\n",
    "q1.check()"
   ]
  },
  {
   "cell_type": "code",
   "execution_count": 3,
   "id": "bbe3ed15",
   "metadata": {
    "execution": {
     "iopub.execute_input": "2024-02-22T21:31:32.174720Z",
     "iopub.status.busy": "2024-02-22T21:31:32.174369Z",
     "iopub.status.idle": "2024-02-22T21:31:32.180043Z",
     "shell.execute_reply": "2024-02-22T21:31:32.178548Z"
    },
    "papermill": {
     "duration": 0.015849,
     "end_time": "2024-02-22T21:31:32.182950",
     "exception": false,
     "start_time": "2024-02-22T21:31:32.167101",
     "status": "completed"
    },
    "tags": []
   },
   "outputs": [],
   "source": [
    "# Uncomment to see a hint\n",
    "#q1.hint()\n",
    "\n",
    "# Uncomment to see the solution\n",
    "#q1.solution()"
   ]
  },
  {
   "cell_type": "markdown",
   "id": "a472db36",
   "metadata": {
    "papermill": {
     "duration": 0.00525,
     "end_time": "2024-02-22T21:31:32.194139",
     "exception": false,
     "start_time": "2024-02-22T21:31:32.188889",
     "status": "completed"
    },
    "tags": []
   },
   "source": [
    "# Question 2\n",
    "\n",
    "The list `num_customers` contains the number of customers who came into your restaurant every day over the last month (which lasted thirty days).  Fill in values for each of the following:\n",
    "- `avg_first_seven` - average number of customers who visited in the first seven days\n",
    "- `avg_last_seven` - average number of customers who visited in the last seven days\n",
    "- `max_month` - number of customers on the day that got the most customers in the last month\n",
    "- `min_month` - number of customers on the day that got the least customers in the last month\n",
    "\n",
    "Answer this question by writing code.  For instance, if you have to find the minimum value in a list, use `min()` instead of scanning for the smallest value and directly filling in a number."
   ]
  },
  {
   "cell_type": "code",
   "execution_count": 4,
   "id": "ae58f98d",
   "metadata": {
    "execution": {
     "iopub.execute_input": "2024-02-22T21:31:32.209200Z",
     "iopub.status.busy": "2024-02-22T21:31:32.208828Z",
     "iopub.status.idle": "2024-02-22T21:31:32.219873Z",
     "shell.execute_reply": "2024-02-22T21:31:32.218758Z"
    },
    "papermill": {
     "duration": 0.020836,
     "end_time": "2024-02-22T21:31:32.221666",
     "exception": false,
     "start_time": "2024-02-22T21:31:32.200830",
     "status": "completed"
    },
    "tags": []
   },
   "outputs": [
    {
     "data": {
      "application/javascript": [
       "parent.postMessage({\"jupyterEvent\": \"custom.exercise_interaction\", \"data\": {\"outcomeType\": 1, \"valueTowardsCompletion\": 0.2, \"interactionType\": 1, \"questionType\": 1, \"questionId\": \"2_NumCustomers\", \"learnToolsVersion\": \"0.3.4\", \"failureMessage\": \"\", \"exceptionClass\": \"\", \"trace\": \"\"}}, \"*\")"
      ],
      "text/plain": [
       "<IPython.core.display.Javascript object>"
      ]
     },
     "metadata": {},
     "output_type": "display_data"
    },
    {
     "data": {
      "text/markdown": [
       "<span style=\"color:#33cc33\">Correct</span>"
      ],
      "text/plain": [
       "Correct"
      ]
     },
     "metadata": {},
     "output_type": "display_data"
    }
   ],
   "source": [
    "# Do not change: Number of customers each day for the last month\n",
    "num_customers = [137, 147, 135, 128, 170, 174, 165, 146, 126, 159,\n",
    "                 141, 148, 132, 147, 168, 153, 170, 161, 148, 152,\n",
    "                 141, 151, 131, 149, 164, 163, 143, 143, 166, 171]\n",
    "\n",
    "# TODO: Fill in values for the variables below\n",
    "avg_first_seven = sum(num_customers[:7])/7\n",
    "avg_last_seven = sum(num_customers[-7:])/7 \n",
    "max_month = max(num_customers)\n",
    "min_month = min(num_customers)\n",
    "\n",
    "# Do not change: Check your answer\n",
    "q2.check()"
   ]
  },
  {
   "cell_type": "code",
   "execution_count": 5,
   "id": "e9902656",
   "metadata": {
    "execution": {
     "iopub.execute_input": "2024-02-22T21:31:32.235689Z",
     "iopub.status.busy": "2024-02-22T21:31:32.235316Z",
     "iopub.status.idle": "2024-02-22T21:31:32.239306Z",
     "shell.execute_reply": "2024-02-22T21:31:32.238529Z"
    },
    "papermill": {
     "duration": 0.013446,
     "end_time": "2024-02-22T21:31:32.241101",
     "exception": false,
     "start_time": "2024-02-22T21:31:32.227655",
     "status": "completed"
    },
    "tags": []
   },
   "outputs": [],
   "source": [
    "# Uncomment to see a hint\n",
    "#q2.hint()\n",
    "\n",
    "# Uncomment to see the solution\n",
    "#q2.solution()"
   ]
  },
  {
   "cell_type": "markdown",
   "id": "3d160b18",
   "metadata": {
    "papermill": {
     "duration": 0.006663,
     "end_time": "2024-02-22T21:31:32.253777",
     "exception": false,
     "start_time": "2024-02-22T21:31:32.247114",
     "status": "completed"
    },
    "tags": []
   },
   "source": [
    "# Question 3\n",
    "\n",
    "In the tutorial, we gave an example of a Python string with information that was better as a list."
   ]
  },
  {
   "cell_type": "code",
   "execution_count": 6,
   "id": "d9f787cb",
   "metadata": {
    "execution": {
     "iopub.execute_input": "2024-02-22T21:31:32.268327Z",
     "iopub.status.busy": "2024-02-22T21:31:32.268008Z",
     "iopub.status.idle": "2024-02-22T21:31:32.271807Z",
     "shell.execute_reply": "2024-02-22T21:31:32.271137Z"
    },
    "papermill": {
     "duration": 0.012353,
     "end_time": "2024-02-22T21:31:32.273306",
     "exception": false,
     "start_time": "2024-02-22T21:31:32.260953",
     "status": "completed"
    },
    "tags": []
   },
   "outputs": [],
   "source": [
    "flowers = \"pink primrose,hard-leaved pocket orchid,canterbury bells,sweet pea,english marigold,tiger lily,moon orchid,bird of paradise,monkshood,globe thistle\""
   ]
  },
  {
   "cell_type": "markdown",
   "id": "49fea4c3",
   "metadata": {
    "papermill": {
     "duration": 0.005372,
     "end_time": "2024-02-22T21:31:32.284490",
     "exception": false,
     "start_time": "2024-02-22T21:31:32.279118",
     "status": "completed"
    },
    "tags": []
   },
   "source": [
    "You can actually use Python to quickly turn this string into a list with `.split()`.  In the parentheses, we need to provide the character should be used to mark the end of one list item and the beginning of another, and enclose it in quotation marks.  In this case, that character is a comma."
   ]
  },
  {
   "cell_type": "code",
   "execution_count": 7,
   "id": "252da17b",
   "metadata": {
    "execution": {
     "iopub.execute_input": "2024-02-22T21:31:32.297907Z",
     "iopub.status.busy": "2024-02-22T21:31:32.297599Z",
     "iopub.status.idle": "2024-02-22T21:31:32.304234Z",
     "shell.execute_reply": "2024-02-22T21:31:32.302322Z"
    },
    "papermill": {
     "duration": 0.016617,
     "end_time": "2024-02-22T21:31:32.306862",
     "exception": false,
     "start_time": "2024-02-22T21:31:32.290245",
     "status": "completed"
    },
    "tags": []
   },
   "outputs": [
    {
     "name": "stdout",
     "output_type": "stream",
     "text": [
      "['pink primrose', 'hard-leaved pocket orchid', 'canterbury bells', 'sweet pea', 'english marigold', 'tiger lily', 'moon orchid', 'bird of paradise', 'monkshood', 'globe thistle']\n"
     ]
    }
   ],
   "source": [
    " print(flowers.split(\",\"))"
   ]
  },
  {
   "cell_type": "markdown",
   "id": "889682f0",
   "metadata": {
    "papermill": {
     "duration": 0.006203,
     "end_time": "2024-02-22T21:31:32.319296",
     "exception": false,
     "start_time": "2024-02-22T21:31:32.313093",
     "status": "completed"
    },
    "tags": []
   },
   "source": [
    "Now it is your turn to try this out!  Create two Python lists:\n",
    "- `letters` should be a Python list where each entry is an uppercase letter of the English alphabet.  For instance, the first two entries should be `\"A\"` and `\"B\"`, and the final two entries should be `\"Y\"` and `\"Z\"`.  Use the string `alphabet` to create this list.\n",
    "- `address` should be a Python list where each row in `address` is a different item in the list.  Currently, each row in `address` is separated by a comma. "
   ]
  },
  {
   "cell_type": "code",
   "execution_count": 8,
   "id": "1605b60a",
   "metadata": {
    "execution": {
     "iopub.execute_input": "2024-02-22T21:31:32.332960Z",
     "iopub.status.busy": "2024-02-22T21:31:32.332600Z",
     "iopub.status.idle": "2024-02-22T21:31:32.341594Z",
     "shell.execute_reply": "2024-02-22T21:31:32.340751Z"
    },
    "papermill": {
     "duration": 0.018062,
     "end_time": "2024-02-22T21:31:32.343435",
     "exception": false,
     "start_time": "2024-02-22T21:31:32.325373",
     "status": "completed"
    },
    "tags": []
   },
   "outputs": [
    {
     "data": {
      "application/javascript": [
       "parent.postMessage({\"jupyterEvent\": \"custom.exercise_interaction\", \"data\": {\"outcomeType\": 1, \"valueTowardsCompletion\": 0.2, \"interactionType\": 1, \"questionType\": 1, \"questionId\": \"3_SplitString\", \"learnToolsVersion\": \"0.3.4\", \"failureMessage\": \"\", \"exceptionClass\": \"\", \"trace\": \"\"}}, \"*\")"
      ],
      "text/plain": [
       "<IPython.core.display.Javascript object>"
      ]
     },
     "metadata": {},
     "output_type": "display_data"
    },
    {
     "data": {
      "text/markdown": [
       "<span style=\"color:#33cc33\">Correct</span>"
      ],
      "text/plain": [
       "Correct"
      ]
     },
     "metadata": {},
     "output_type": "display_data"
    }
   ],
   "source": [
    "# DO not change: Define two Python strings\n",
    "alphabet = \"A.B.C.D.E.F.G.H.I.J.K.L.M.N.O.P.Q.R.S.T.U.V.W.X.Y.Z\"\n",
    "address = \"Mr. H. Potter,The cupboard under the Stairs,4 Privet Drive,Little Whinging,Surrey\"\n",
    "\n",
    "# TODO: Convert strings into Python lists\n",
    "letters = alphabet.split(\".\")\n",
    "formatted_address = address.split(\",\")\n",
    "\n",
    "# Do not change: Check your answer\n",
    "q3.check()"
   ]
  },
  {
   "cell_type": "code",
   "execution_count": 9,
   "id": "fafd9ad6",
   "metadata": {
    "execution": {
     "iopub.execute_input": "2024-02-22T21:31:32.357679Z",
     "iopub.status.busy": "2024-02-22T21:31:32.357273Z",
     "iopub.status.idle": "2024-02-22T21:31:32.361003Z",
     "shell.execute_reply": "2024-02-22T21:31:32.360096Z"
    },
    "papermill": {
     "duration": 0.013112,
     "end_time": "2024-02-22T21:31:32.362843",
     "exception": false,
     "start_time": "2024-02-22T21:31:32.349731",
     "status": "completed"
    },
    "tags": []
   },
   "outputs": [],
   "source": [
    "# Uncomment to see a hint\n",
    "#q3.hint()\n",
    "\n",
    "# Uncomment to see the solution\n",
    "#q3.solution()"
   ]
  },
  {
   "cell_type": "markdown",
   "id": "c9c2d937",
   "metadata": {
    "papermill": {
     "duration": 0.005877,
     "end_time": "2024-02-22T21:31:32.375223",
     "exception": false,
     "start_time": "2024-02-22T21:31:32.369346",
     "status": "completed"
    },
    "tags": []
   },
   "source": [
    "# Question 4\n",
    "\n",
    "In the Python course, you'll learn all about **list comprehensions**, which allow you to create a list based on the values in another list.  In this question, you'll get a brief preview of how they work.\n",
    "\n",
    "Say we're working with the list below."
   ]
  },
  {
   "cell_type": "code",
   "execution_count": 10,
   "id": "353ea9fa",
   "metadata": {
    "execution": {
     "iopub.execute_input": "2024-02-22T21:31:32.389524Z",
     "iopub.status.busy": "2024-02-22T21:31:32.388986Z",
     "iopub.status.idle": "2024-02-22T21:31:32.393042Z",
     "shell.execute_reply": "2024-02-22T21:31:32.392301Z"
    },
    "papermill": {
     "duration": 0.013341,
     "end_time": "2024-02-22T21:31:32.394879",
     "exception": false,
     "start_time": "2024-02-22T21:31:32.381538",
     "status": "completed"
    },
    "tags": []
   },
   "outputs": [],
   "source": [
    "test_ratings = [1, 2, 3, 4, 5]"
   ]
  },
  {
   "cell_type": "markdown",
   "id": "739cd4d5",
   "metadata": {
    "papermill": {
     "duration": 0.006113,
     "end_time": "2024-02-22T21:31:32.407616",
     "exception": false,
     "start_time": "2024-02-22T21:31:32.401503",
     "status": "completed"
    },
    "tags": []
   },
   "source": [
    "Then we can use this list (`test_ratings`) to create a new list (`test_liked`) where each item has been turned into a boolean, depending on whether or not the item is greater than or equal to four."
   ]
  },
  {
   "cell_type": "code",
   "execution_count": 11,
   "id": "9396b378",
   "metadata": {
    "execution": {
     "iopub.execute_input": "2024-02-22T21:31:32.421953Z",
     "iopub.status.busy": "2024-02-22T21:31:32.421386Z",
     "iopub.status.idle": "2024-02-22T21:31:32.426984Z",
     "shell.execute_reply": "2024-02-22T21:31:32.425580Z"
    },
    "papermill": {
     "duration": 0.015595,
     "end_time": "2024-02-22T21:31:32.429347",
     "exception": false,
     "start_time": "2024-02-22T21:31:32.413752",
     "status": "completed"
    },
    "tags": []
   },
   "outputs": [
    {
     "name": "stdout",
     "output_type": "stream",
     "text": [
      "[False, False, False, True, True]\n"
     ]
    }
   ],
   "source": [
    "test_liked = [i>=4 for i in test_ratings]\n",
    "print(test_liked)"
   ]
  },
  {
   "cell_type": "markdown",
   "id": "01d9e427",
   "metadata": {
    "papermill": {
     "duration": 0.006104,
     "end_time": "2024-02-22T21:31:32.442198",
     "exception": false,
     "start_time": "2024-02-22T21:31:32.436094",
     "status": "completed"
    },
    "tags": []
   },
   "source": [
    "In this question, you'll use this list comprehension to define a function `percentage_liked()` that takes one argument as input:\n",
    "- `ratings`: list of ratings that people gave to a movie, where each rating is a number between 1-5, inclusive\n",
    "\n",
    "We say someone liked the movie, if they gave a rating of either 4 or 5.  Your function should return the percentage of people who liked the movie.\n",
    "\n",
    "For instance, if we supply a value of `[1, 2, 3, 4, 5, 4, 5, 1]`, then 50% (4/8) of the people liked the movie, and the function should return `0.5`.\n",
    "\n",
    "Part of the function has already been completed for you.  You need only use `list_liked` to calculate `percentage_liked`."
   ]
  },
  {
   "cell_type": "code",
   "execution_count": 12,
   "id": "5fa4d67d",
   "metadata": {
    "execution": {
     "iopub.execute_input": "2024-02-22T21:31:32.456487Z",
     "iopub.status.busy": "2024-02-22T21:31:32.455847Z",
     "iopub.status.idle": "2024-02-22T21:31:32.463161Z",
     "shell.execute_reply": "2024-02-22T21:31:32.462567Z"
    },
    "papermill": {
     "duration": 0.016348,
     "end_time": "2024-02-22T21:31:32.464735",
     "exception": false,
     "start_time": "2024-02-22T21:31:32.448387",
     "status": "completed"
    },
    "tags": []
   },
   "outputs": [
    {
     "data": {
      "application/javascript": [
       "parent.postMessage({\"jupyterEvent\": \"custom.exercise_interaction\", \"data\": {\"outcomeType\": 1, \"valueTowardsCompletion\": 0.2, \"interactionType\": 1, \"questionType\": 2, \"questionId\": \"4_PercentageLiked\", \"learnToolsVersion\": \"0.3.4\", \"failureMessage\": \"\", \"exceptionClass\": \"\", \"trace\": \"\"}}, \"*\")"
      ],
      "text/plain": [
       "<IPython.core.display.Javascript object>"
      ]
     },
     "metadata": {},
     "output_type": "display_data"
    },
    {
     "data": {
      "text/markdown": [
       "<span style=\"color:#33cc33\">Correct</span>"
      ],
      "text/plain": [
       "Correct"
      ]
     },
     "metadata": {},
     "output_type": "display_data"
    }
   ],
   "source": [
    "\n",
    "def percentage_liked(ratings):\n",
    "    list_liked = [i>=4 for i in ratings]\n",
    "    # TODO: Complete the function\n",
    "    percentage_liked = sum(list_liked)/len(ratings)\n",
    "    return percentage_liked\n",
    "\n",
    "# Do not change: should return 0.5\n",
    "percentage_liked([1, 2, 3, 4, 5, 4, 5, 1])\n",
    "\n",
    "# Do not change: Check your answer\n",
    "q4.check()"
   ]
  },
  {
   "cell_type": "code",
   "execution_count": 13,
   "id": "00961eda",
   "metadata": {
    "execution": {
     "iopub.execute_input": "2024-02-22T21:31:32.480028Z",
     "iopub.status.busy": "2024-02-22T21:31:32.479420Z",
     "iopub.status.idle": "2024-02-22T21:31:32.485928Z",
     "shell.execute_reply": "2024-02-22T21:31:32.484863Z"
    },
    "papermill": {
     "duration": 0.017203,
     "end_time": "2024-02-22T21:31:32.488593",
     "exception": false,
     "start_time": "2024-02-22T21:31:32.471390",
     "status": "completed"
    },
    "tags": []
   },
   "outputs": [
    {
     "data": {
      "application/javascript": [
       "parent.postMessage({\"jupyterEvent\": \"custom.exercise_interaction\", \"data\": {\"interactionType\": 2, \"questionType\": 2, \"questionId\": \"4_PercentageLiked\", \"learnToolsVersion\": \"0.3.4\", \"valueTowardsCompletion\": 0.0, \"failureMessage\": \"\", \"exceptionClass\": \"\", \"trace\": \"\", \"outcomeType\": 4}}, \"*\")"
      ],
      "text/plain": [
       "<IPython.core.display.Javascript object>"
      ]
     },
     "metadata": {},
     "output_type": "display_data"
    },
    {
     "data": {
      "text/markdown": [
       "<span style=\"color:#3366cc\">Hint:</span> Remember that when we add booleans, it returns the total number of entries in the sum that are `True`."
      ],
      "text/plain": [
       "Hint: Remember that when we add booleans, it returns the total number of entries in the sum that are `True`."
      ]
     },
     "metadata": {},
     "output_type": "display_data"
    }
   ],
   "source": [
    "# Uncomment to see a hint\n",
    "q4.hint()\n",
    "\n",
    "# Uncomment to see the solution\n",
    "#q4.solution()"
   ]
  },
  {
   "cell_type": "markdown",
   "id": "eba7f92a",
   "metadata": {
    "papermill": {
     "duration": 0.006715,
     "end_time": "2024-02-22T21:31:32.502293",
     "exception": false,
     "start_time": "2024-02-22T21:31:32.495578",
     "status": "completed"
    },
    "tags": []
   },
   "source": [
    "# 🌶️ Question 5\n",
    " \n",
    "Say you're doing analytics for a website.  You need to write a function that returns the percentage growth in the total number of users relative to a specified number of years ago.\n",
    "\n",
    "Your function `percentage_growth()` should take two arguments as input:\n",
    "- `num_users` = Python list with the total number of users each year.  So `num_users[0]` is the total number of users in the first year, `num_users[1]` is the total number of users in the second year, and so on.  The final entry in the list gives the total number of users in the most recently completed year.\n",
    "- `yrs_ago` = number of years to go back in time when calculating the growth percentage\n",
    "\n",
    "For instance, say `num_users = [920344, 1043553, 1204334, 1458996, 1503323, 1593432, 1623463, 1843064, 1930992, 2001078]`.\n",
    "- if `yrs_ago = 1`, we want the function to return a value of about `0.036`. This corresponds to a percentage growth of approximately 3.6%, calculated as (2001078 - 1930992)/1930992.\n",
    "- if `years_ago = 7`, we would want to return approximately `0.66`.  This corresponds to a percentage growth of approximately 66%, calculated as (2001078 - 1204334)/1204334.\n",
    "\n",
    "Your coworker sent you a draft of a function, but it doesn't seem to be doing the correct calculation.  Can you figure out what has gone wrong and make the needed changes?"
   ]
  },
  {
   "cell_type": "code",
   "execution_count": 14,
   "id": "9e769fc1",
   "metadata": {
    "execution": {
     "iopub.execute_input": "2024-02-22T21:31:32.517540Z",
     "iopub.status.busy": "2024-02-22T21:31:32.516845Z",
     "iopub.status.idle": "2024-02-22T21:31:32.527002Z",
     "shell.execute_reply": "2024-02-22T21:31:32.525825Z"
    },
    "papermill": {
     "duration": 0.019895,
     "end_time": "2024-02-22T21:31:32.528815",
     "exception": false,
     "start_time": "2024-02-22T21:31:32.508920",
     "status": "completed"
    },
    "tags": []
   },
   "outputs": [
    {
     "name": "stdout",
     "output_type": "stream",
     "text": [
      "0.03629533421163837\n",
      "0.6615639847417742\n"
     ]
    },
    {
     "data": {
      "application/javascript": [
       "parent.postMessage({\"jupyterEvent\": \"custom.exercise_interaction\", \"data\": {\"outcomeType\": 1, \"valueTowardsCompletion\": 0.2, \"interactionType\": 1, \"questionType\": 2, \"questionId\": \"5_WebsiteAnalytics\", \"learnToolsVersion\": \"0.3.4\", \"failureMessage\": \"\", \"exceptionClass\": \"\", \"trace\": \"\"}}, \"*\")"
      ],
      "text/plain": [
       "<IPython.core.display.Javascript object>"
      ]
     },
     "metadata": {},
     "output_type": "display_data"
    },
    {
     "data": {
      "text/markdown": [
       "<span style=\"color:#33cc33\">Correct</span>"
      ],
      "text/plain": [
       "Correct"
      ]
     },
     "metadata": {},
     "output_type": "display_data"
    }
   ],
   "source": [
    "# TODO: Edit the function\n",
    "def percentage_growth(num_users, yrs_ago):\n",
    "    growth = (num_users[len(num_users)-1] - num_users[len(num_users)-yrs_ago-1])/num_users[len(num_users)-yrs_ago-1]\n",
    "    return growth\n",
    "\n",
    "# Do not change: Variable for calculating some test examples\n",
    "num_users_test = [920344, 1043553, 1204334, 1458996, 1503323, 1593432, 1623463, 1843064, 1930992, 2001078]\n",
    "\n",
    "# Do not change: Should return .036\n",
    "print(percentage_growth(num_users_test, 1))\n",
    "\n",
    "# Do not change: Should return 0.66\n",
    "print(percentage_growth(num_users_test, 7))\n",
    "\n",
    "# Do not change: Check your answer\n",
    "q5.check()"
   ]
  },
  {
   "cell_type": "code",
   "execution_count": 15,
   "id": "006d29e3",
   "metadata": {
    "execution": {
     "iopub.execute_input": "2024-02-22T21:31:32.544475Z",
     "iopub.status.busy": "2024-02-22T21:31:32.544135Z",
     "iopub.status.idle": "2024-02-22T21:31:32.547543Z",
     "shell.execute_reply": "2024-02-22T21:31:32.546745Z"
    },
    "papermill": {
     "duration": 0.01323,
     "end_time": "2024-02-22T21:31:32.549113",
     "exception": false,
     "start_time": "2024-02-22T21:31:32.535883",
     "status": "completed"
    },
    "tags": []
   },
   "outputs": [],
   "source": [
    "# Uncomment to see a hint\n",
    "#q5.hint()\n",
    "\n",
    "# Uncomment to see the solution\n",
    "#q5.solution()"
   ]
  },
  {
   "cell_type": "markdown",
   "id": "1db8f38a",
   "metadata": {
    "papermill": {
     "duration": 0.006728,
     "end_time": "2024-02-22T21:31:32.562789",
     "exception": false,
     "start_time": "2024-02-22T21:31:32.556061",
     "status": "completed"
    },
    "tags": []
   },
   "source": [
    "# Congratulations!\n",
    "\n",
    "Congratulations for finishing the Intro to Programming course!  You should be proud of your very first steps with learning programming.  As next steps, we recommend taking:\n",
    "- the **[Python course](http://www.kaggle.com/learn/python)**, and \n",
    "- the **[Intro to Machine Learning course](https://www.kaggle.com/learn/intro-to-machine-learning)**."
   ]
  },
  {
   "cell_type": "markdown",
   "id": "641332e1",
   "metadata": {
    "papermill": {
     "duration": 0.006568,
     "end_time": "2024-02-22T21:31:32.576355",
     "exception": false,
     "start_time": "2024-02-22T21:31:32.569787",
     "status": "completed"
    },
    "tags": []
   },
   "source": [
    "---\n",
    "\n",
    "\n",
    "\n",
    "\n",
    "*Have questions or comments? Visit the [course discussion forum](https://www.kaggle.com/learn/intro-to-programming/discussion) to chat with other learners.*"
   ]
  }
 ],
 "metadata": {
  "kaggle": {
   "accelerator": "none",
   "dataSources": [],
   "isGpuEnabled": false,
   "isInternetEnabled": false,
   "language": "python",
   "sourceType": "notebook"
  },
  "kernelspec": {
   "display_name": "Python 3",
   "language": "python",
   "name": "python3"
  },
  "language_info": {
   "codemirror_mode": {
    "name": "ipython",
    "version": 3
   },
   "file_extension": ".py",
   "mimetype": "text/x-python",
   "name": "python",
   "nbconvert_exporter": "python",
   "pygments_lexer": "ipython3",
   "version": "3.10.13"
  },
  "papermill": {
   "default_parameters": {},
   "duration": 4.730101,
   "end_time": "2024-02-22T21:31:33.102166",
   "environment_variables": {},
   "exception": null,
   "input_path": "__notebook__.ipynb",
   "output_path": "__notebook__.ipynb",
   "parameters": {},
   "start_time": "2024-02-22T21:31:28.372065",
   "version": "2.5.0"
  }
 },
 "nbformat": 4,
 "nbformat_minor": 5
}
