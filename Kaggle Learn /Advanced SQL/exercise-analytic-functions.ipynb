{
 "cells": [
  {
   "cell_type": "markdown",
   "id": "f3618852",
   "metadata": {
    "papermill": {
     "duration": 0.003818,
     "end_time": "2024-02-22T12:28:11.002458",
     "exception": false,
     "start_time": "2024-02-22T12:28:10.998640",
     "status": "completed"
    },
    "tags": []
   },
   "source": [
    "**This notebook is an exercise in the [Advanced SQL](https://www.kaggle.com/learn/advanced-sql) course.  You can reference the tutorial at [this link](https://www.kaggle.com/alexisbcook/analytic-functions).**\n",
    "\n",
    "---\n"
   ]
  },
  {
   "cell_type": "markdown",
   "id": "baba4c00",
   "metadata": {
    "papermill": {
     "duration": 0.002952,
     "end_time": "2024-02-22T12:28:11.008782",
     "exception": false,
     "start_time": "2024-02-22T12:28:11.005830",
     "status": "completed"
    },
    "tags": []
   },
   "source": [
    "# Introduction\n",
    "\n",
    "Here, you'll use window functions to answer questions about the [Chicago Taxi Trips](https://www.kaggle.com/chicago/chicago-taxi-trips-bq) dataset.\n",
    "\n",
    "Before you get started, run the code cell below to set everything up."
   ]
  },
  {
   "cell_type": "code",
   "execution_count": 1,
   "id": "9f6a8b61",
   "metadata": {
    "execution": {
     "iopub.execute_input": "2024-02-22T12:28:11.016428Z",
     "iopub.status.busy": "2024-02-22T12:28:11.016071Z",
     "iopub.status.idle": "2024-02-22T12:29:13.706998Z",
     "shell.execute_reply": "2024-02-22T12:29:13.706180Z"
    },
    "papermill": {
     "duration": 62.696983,
     "end_time": "2024-02-22T12:29:13.708863",
     "exception": false,
     "start_time": "2024-02-22T12:28:11.011880",
     "status": "completed"
    },
    "tags": []
   },
   "outputs": [
    {
     "name": "stdout",
     "output_type": "stream",
     "text": [
      "Collecting git+https://github.com/Kaggle/learntools.git\r\n",
      "  Cloning https://github.com/Kaggle/learntools.git to /tmp/pip-req-build-dcnsimpl\r\n",
      "  Running command git clone --filter=blob:none --quiet https://github.com/Kaggle/learntools.git /tmp/pip-req-build-dcnsimpl\r\n",
      "  fatal: unable to access 'https://github.com/Kaggle/learntools.git/': Could not resolve host: github.com\r\n",
      "  \u001b[1;31merror\u001b[0m: \u001b[1msubprocess-exited-with-error\u001b[0m\r\n",
      "  \r\n",
      "  \u001b[31m×\u001b[0m \u001b[32mgit clone --\u001b[0m\u001b[32mfilter\u001b[0m\u001b[32m=\u001b[0m\u001b[32mblob\u001b[0m\u001b[32m:none --quiet \u001b[0m\u001b[4;32mhttps://github.com/Kaggle/learntools.git\u001b[0m\u001b[32m \u001b[0m\u001b[32m/tmp/\u001b[0m\u001b[32mpip-req-build-dcnsimpl\u001b[0m did not run successfully.\r\n",
      "  \u001b[31m│\u001b[0m exit code: \u001b[1;36m128\u001b[0m\r\n",
      "  \u001b[31m╰─>\u001b[0m See above for output.\r\n",
      "  \r\n",
      "  \u001b[1;35mnote\u001b[0m: This error originates from a subprocess, and is likely not a problem with pip.\r\n",
      "\u001b[1;31merror\u001b[0m: \u001b[1msubprocess-exited-with-error\u001b[0m\r\n",
      "\r\n",
      "\u001b[31m×\u001b[0m \u001b[32mgit clone --\u001b[0m\u001b[32mfilter\u001b[0m\u001b[32m=\u001b[0m\u001b[32mblob\u001b[0m\u001b[32m:none --quiet \u001b[0m\u001b[4;32mhttps://github.com/Kaggle/learntools.git\u001b[0m\u001b[32m \u001b[0m\u001b[32m/tmp/\u001b[0m\u001b[32mpip-req-build-dcnsimpl\u001b[0m did not run successfully.\r\n",
      "\u001b[31m│\u001b[0m exit code: \u001b[1;36m128\u001b[0m\r\n",
      "\u001b[31m╰─>\u001b[0m See above for output.\r\n",
      "\r\n",
      "\u001b[1;35mnote\u001b[0m: This error originates from a subprocess, and is likely not a problem with pip.\r\n",
      "Using Kaggle's public dataset BigQuery integration.\n",
      "Setup Complete\n"
     ]
    }
   ],
   "source": [
    "# Get most recent checking code\n",
    "!pip install -U -t /kaggle/working/ git+https://github.com/Kaggle/learntools.git\n",
    "# Set up feedback system\n",
    "from learntools.core import binder\n",
    "binder.bind(globals())\n",
    "from learntools.sql_advanced.ex2 import *\n",
    "print(\"Setup Complete\")"
   ]
  },
  {
   "cell_type": "markdown",
   "id": "7a365954",
   "metadata": {
    "papermill": {
     "duration": 0.003294,
     "end_time": "2024-02-22T12:29:13.716085",
     "exception": false,
     "start_time": "2024-02-22T12:29:13.712791",
     "status": "completed"
    },
    "tags": []
   },
   "source": [
    "The following code cell fetches the `taxi_trips` table from the `chicago_taxi_trips` dataset. We also preview the first five rows of the table.  You'll use the table to answer the questions below."
   ]
  },
  {
   "cell_type": "code",
   "execution_count": 2,
   "id": "29996643",
   "metadata": {
    "execution": {
     "iopub.execute_input": "2024-02-22T12:29:13.724537Z",
     "iopub.status.busy": "2024-02-22T12:29:13.724007Z",
     "iopub.status.idle": "2024-02-22T12:29:15.759970Z",
     "shell.execute_reply": "2024-02-22T12:29:15.758677Z"
    },
    "papermill": {
     "duration": 2.04221,
     "end_time": "2024-02-22T12:29:15.761866",
     "exception": false,
     "start_time": "2024-02-22T12:29:13.719656",
     "status": "completed"
    },
    "tags": []
   },
   "outputs": [
    {
     "name": "stdout",
     "output_type": "stream",
     "text": [
      "Using Kaggle's public dataset BigQuery integration.\n"
     ]
    },
    {
     "data": {
      "text/html": [
       "<div>\n",
       "<style scoped>\n",
       "    .dataframe tbody tr th:only-of-type {\n",
       "        vertical-align: middle;\n",
       "    }\n",
       "\n",
       "    .dataframe tbody tr th {\n",
       "        vertical-align: top;\n",
       "    }\n",
       "\n",
       "    .dataframe thead th {\n",
       "        text-align: right;\n",
       "    }\n",
       "</style>\n",
       "<table border=\"1\" class=\"dataframe\">\n",
       "  <thead>\n",
       "    <tr style=\"text-align: right;\">\n",
       "      <th></th>\n",
       "      <th>unique_key</th>\n",
       "      <th>taxi_id</th>\n",
       "      <th>trip_start_timestamp</th>\n",
       "      <th>trip_end_timestamp</th>\n",
       "      <th>trip_seconds</th>\n",
       "      <th>trip_miles</th>\n",
       "      <th>pickup_census_tract</th>\n",
       "      <th>dropoff_census_tract</th>\n",
       "      <th>pickup_community_area</th>\n",
       "      <th>dropoff_community_area</th>\n",
       "      <th>...</th>\n",
       "      <th>extras</th>\n",
       "      <th>trip_total</th>\n",
       "      <th>payment_type</th>\n",
       "      <th>company</th>\n",
       "      <th>pickup_latitude</th>\n",
       "      <th>pickup_longitude</th>\n",
       "      <th>pickup_location</th>\n",
       "      <th>dropoff_latitude</th>\n",
       "      <th>dropoff_longitude</th>\n",
       "      <th>dropoff_location</th>\n",
       "    </tr>\n",
       "  </thead>\n",
       "  <tbody>\n",
       "    <tr>\n",
       "      <th>0</th>\n",
       "      <td>d0dd5f20073d6174a456961088231dc46006a5c0</td>\n",
       "      <td>efce437d4bc2a79b12ac131e37789da8fe5e53f37d12c2...</td>\n",
       "      <td>2015-10-17 19:15:00+00:00</td>\n",
       "      <td>2015-10-17 19:30:00+00:00</td>\n",
       "      <td>780</td>\n",
       "      <td>2.2</td>\n",
       "      <td>1.703107e+10</td>\n",
       "      <td>1.703106e+10</td>\n",
       "      <td>7</td>\n",
       "      <td>6</td>\n",
       "      <td>...</td>\n",
       "      <td>0.0</td>\n",
       "      <td>10.20</td>\n",
       "      <td>Credit Card</td>\n",
       "      <td>None</td>\n",
       "      <td>41.926811</td>\n",
       "      <td>-87.642605</td>\n",
       "      <td>POINT (-87.6426052473 41.9268111821)</td>\n",
       "      <td>41.953400</td>\n",
       "      <td>-87.646007</td>\n",
       "      <td>POINT (-87.6460070664 41.9534000435)</td>\n",
       "    </tr>\n",
       "    <tr>\n",
       "      <th>1</th>\n",
       "      <td>37682f189f404780d57f266556003849c5fec752</td>\n",
       "      <td>a02e1f355041b6350e4d79a4de1e650b266f5dc1ea40d1...</td>\n",
       "      <td>2015-10-12 23:45:00+00:00</td>\n",
       "      <td>2015-10-12 23:45:00+00:00</td>\n",
       "      <td>300</td>\n",
       "      <td>1.0</td>\n",
       "      <td>NaN</td>\n",
       "      <td>NaN</td>\n",
       "      <td>11</td>\n",
       "      <td>15</td>\n",
       "      <td>...</td>\n",
       "      <td>0.0</td>\n",
       "      <td>5.45</td>\n",
       "      <td>Cash</td>\n",
       "      <td>None</td>\n",
       "      <td>41.978830</td>\n",
       "      <td>-87.771167</td>\n",
       "      <td>POINT (-87.771166703 41.9788295262)</td>\n",
       "      <td>41.954028</td>\n",
       "      <td>-87.763399</td>\n",
       "      <td>POINT (-87.7633990316 41.9540276487)</td>\n",
       "    </tr>\n",
       "    <tr>\n",
       "      <th>2</th>\n",
       "      <td>7add88253c78688a6a0920cb30adbb4944418601</td>\n",
       "      <td>e637e1afe0dab0e2d04c635335602caf1045d43e3741c2...</td>\n",
       "      <td>2015-10-16 15:45:00+00:00</td>\n",
       "      <td>2015-10-16 15:45:00+00:00</td>\n",
       "      <td>360</td>\n",
       "      <td>0.8</td>\n",
       "      <td>1.703108e+10</td>\n",
       "      <td>1.703184e+10</td>\n",
       "      <td>8</td>\n",
       "      <td>32</td>\n",
       "      <td>...</td>\n",
       "      <td>1.0</td>\n",
       "      <td>6.25</td>\n",
       "      <td>Cash</td>\n",
       "      <td>None</td>\n",
       "      <td>41.909496</td>\n",
       "      <td>-87.630964</td>\n",
       "      <td>POINT (-87.630963601 41.9094956686)</td>\n",
       "      <td>41.871016</td>\n",
       "      <td>-87.631407</td>\n",
       "      <td>POINT (-87.6314065252 41.8710158803)</td>\n",
       "    </tr>\n",
       "    <tr>\n",
       "      <th>3</th>\n",
       "      <td>7d597ed8fa15502482d3c98b74fdc084785c7f14</td>\n",
       "      <td>a538132e78f04101a86f83f4697f6944ea8c97acef8eb3...</td>\n",
       "      <td>2015-10-11 02:15:00+00:00</td>\n",
       "      <td>2015-10-11 02:15:00+00:00</td>\n",
       "      <td>780</td>\n",
       "      <td>6.6</td>\n",
       "      <td>1.703103e+10</td>\n",
       "      <td>1.703107e+10</td>\n",
       "      <td>77</td>\n",
       "      <td>7</td>\n",
       "      <td>...</td>\n",
       "      <td>1.0</td>\n",
       "      <td>16.65</td>\n",
       "      <td>Cash</td>\n",
       "      <td>None</td>\n",
       "      <td>41.994442</td>\n",
       "      <td>-87.665225</td>\n",
       "      <td>POINT (-87.6652247765 41.9944422482)</td>\n",
       "      <td>41.921855</td>\n",
       "      <td>-87.646211</td>\n",
       "      <td>POINT (-87.6462109769 41.9218549112)</td>\n",
       "    </tr>\n",
       "    <tr>\n",
       "      <th>4</th>\n",
       "      <td>053c4b3fe66ca85a76998502de77bbc34ddf4668</td>\n",
       "      <td>0c1aa5b32422ba0cc2082cd87c91d95f8ec088421d886a...</td>\n",
       "      <td>2015-10-11 01:30:00+00:00</td>\n",
       "      <td>2015-10-11 01:45:00+00:00</td>\n",
       "      <td>480</td>\n",
       "      <td>2.0</td>\n",
       "      <td>1.703105e+10</td>\n",
       "      <td>1.703104e+10</td>\n",
       "      <td>5</td>\n",
       "      <td>4</td>\n",
       "      <td>...</td>\n",
       "      <td>0.0</td>\n",
       "      <td>7.45</td>\n",
       "      <td>Cash</td>\n",
       "      <td>None</td>\n",
       "      <td>41.950546</td>\n",
       "      <td>-87.676182</td>\n",
       "      <td>POINT (-87.6761824959 41.95054569650001)</td>\n",
       "      <td>41.966806</td>\n",
       "      <td>-87.694020</td>\n",
       "      <td>POINT (-87.6940200973 41.9668063463)</td>\n",
       "    </tr>\n",
       "  </tbody>\n",
       "</table>\n",
       "<p>5 rows × 23 columns</p>\n",
       "</div>"
      ],
      "text/plain": [
       "                                 unique_key  \\\n",
       "0  d0dd5f20073d6174a456961088231dc46006a5c0   \n",
       "1  37682f189f404780d57f266556003849c5fec752   \n",
       "2  7add88253c78688a6a0920cb30adbb4944418601   \n",
       "3  7d597ed8fa15502482d3c98b74fdc084785c7f14   \n",
       "4  053c4b3fe66ca85a76998502de77bbc34ddf4668   \n",
       "\n",
       "                                             taxi_id  \\\n",
       "0  efce437d4bc2a79b12ac131e37789da8fe5e53f37d12c2...   \n",
       "1  a02e1f355041b6350e4d79a4de1e650b266f5dc1ea40d1...   \n",
       "2  e637e1afe0dab0e2d04c635335602caf1045d43e3741c2...   \n",
       "3  a538132e78f04101a86f83f4697f6944ea8c97acef8eb3...   \n",
       "4  0c1aa5b32422ba0cc2082cd87c91d95f8ec088421d886a...   \n",
       "\n",
       "       trip_start_timestamp        trip_end_timestamp  trip_seconds  \\\n",
       "0 2015-10-17 19:15:00+00:00 2015-10-17 19:30:00+00:00           780   \n",
       "1 2015-10-12 23:45:00+00:00 2015-10-12 23:45:00+00:00           300   \n",
       "2 2015-10-16 15:45:00+00:00 2015-10-16 15:45:00+00:00           360   \n",
       "3 2015-10-11 02:15:00+00:00 2015-10-11 02:15:00+00:00           780   \n",
       "4 2015-10-11 01:30:00+00:00 2015-10-11 01:45:00+00:00           480   \n",
       "\n",
       "   trip_miles  pickup_census_tract  dropoff_census_tract  \\\n",
       "0         2.2         1.703107e+10          1.703106e+10   \n",
       "1         1.0                  NaN                   NaN   \n",
       "2         0.8         1.703108e+10          1.703184e+10   \n",
       "3         6.6         1.703103e+10          1.703107e+10   \n",
       "4         2.0         1.703105e+10          1.703104e+10   \n",
       "\n",
       "   pickup_community_area  dropoff_community_area  ...  extras  trip_total  \\\n",
       "0                      7                       6  ...     0.0       10.20   \n",
       "1                     11                      15  ...     0.0        5.45   \n",
       "2                      8                      32  ...     1.0        6.25   \n",
       "3                     77                       7  ...     1.0       16.65   \n",
       "4                      5                       4  ...     0.0        7.45   \n",
       "\n",
       "   payment_type  company  pickup_latitude pickup_longitude  \\\n",
       "0   Credit Card     None        41.926811       -87.642605   \n",
       "1          Cash     None        41.978830       -87.771167   \n",
       "2          Cash     None        41.909496       -87.630964   \n",
       "3          Cash     None        41.994442       -87.665225   \n",
       "4          Cash     None        41.950546       -87.676182   \n",
       "\n",
       "                            pickup_location  dropoff_latitude  \\\n",
       "0      POINT (-87.6426052473 41.9268111821)         41.953400   \n",
       "1       POINT (-87.771166703 41.9788295262)         41.954028   \n",
       "2       POINT (-87.630963601 41.9094956686)         41.871016   \n",
       "3      POINT (-87.6652247765 41.9944422482)         41.921855   \n",
       "4  POINT (-87.6761824959 41.95054569650001)         41.966806   \n",
       "\n",
       "   dropoff_longitude                      dropoff_location  \n",
       "0         -87.646007  POINT (-87.6460070664 41.9534000435)  \n",
       "1         -87.763399  POINT (-87.7633990316 41.9540276487)  \n",
       "2         -87.631407  POINT (-87.6314065252 41.8710158803)  \n",
       "3         -87.646211  POINT (-87.6462109769 41.9218549112)  \n",
       "4         -87.694020  POINT (-87.6940200973 41.9668063463)  \n",
       "\n",
       "[5 rows x 23 columns]"
      ]
     },
     "execution_count": 2,
     "metadata": {},
     "output_type": "execute_result"
    }
   ],
   "source": [
    "from google.cloud import bigquery\n",
    "\n",
    "# Create a \"Client\" object\n",
    "client = bigquery.Client()\n",
    "\n",
    "# Construct a reference to the \"chicago_taxi_trips\" dataset\n",
    "dataset_ref = client.dataset(\"chicago_taxi_trips\", project=\"bigquery-public-data\")\n",
    "\n",
    "# API request - fetch the dataset\n",
    "dataset = client.get_dataset(dataset_ref)\n",
    "\n",
    "# Construct a reference to the \"taxi_trips\" table\n",
    "table_ref = dataset_ref.table(\"taxi_trips\")\n",
    "\n",
    "# API request - fetch the table\n",
    "table = client.get_table(table_ref)\n",
    "\n",
    "# Preview the first five lines of the table\n",
    "client.list_rows(table, max_results=5).to_dataframe()"
   ]
  },
  {
   "cell_type": "markdown",
   "id": "a79a1b1a",
   "metadata": {
    "papermill": {
     "duration": 0.003695,
     "end_time": "2024-02-22T12:29:15.769645",
     "exception": false,
     "start_time": "2024-02-22T12:29:15.765950",
     "status": "completed"
    },
    "tags": []
   },
   "source": [
    "# Exercises\n",
    "\n",
    "### 1) How can you predict the demand for taxis?\n",
    "\n",
    "Say you work for a taxi company, and you're interested in predicting the demand for taxis.  Towards this goal, you'd like to create a plot that shows a rolling average of the daily number of taxi trips.  Amend the (partial) query below to return a DataFrame with two columns:\n",
    "- `trip_date` - contains one entry for each date from January 1, 2016, to March 31, 2016.\n",
    "- `avg_num_trips` - shows the average number of daily trips, calculated over a window including the value for the current date, along with the values for the preceding 3 days and the following 3 days, as long as the days fit within the three-month time frame.  For instance, when calculating the value in this column for January 3, 2016, the window will include the number of trips for the preceding 2 days, the current date, and the following 3 days.\n",
    "\n",
    "This query is partially completed for you, and you need only write the part that calculates the `avg_num_trips` column.  Note that this query uses a common table expression (CTE); if you need to review how to use CTEs, you're encouraged to check out [this tutorial](https://www.kaggle.com/dansbecker/as-with) in the [Intro to SQL](https://www.kaggle.com/learn/intro-to-sql) course."
   ]
  },
  {
   "cell_type": "code",
   "execution_count": 3,
   "id": "b52dfa49",
   "metadata": {
    "execution": {
     "iopub.execute_input": "2024-02-22T12:29:15.778725Z",
     "iopub.status.busy": "2024-02-22T12:29:15.778428Z",
     "iopub.status.idle": "2024-02-22T12:29:17.087553Z",
     "shell.execute_reply": "2024-02-22T12:29:17.086596Z"
    },
    "papermill": {
     "duration": 1.315822,
     "end_time": "2024-02-22T12:29:17.089382",
     "exception": false,
     "start_time": "2024-02-22T12:29:15.773560",
     "status": "completed"
    },
    "tags": []
   },
   "outputs": [
    {
     "data": {
      "text/html": [
       "<div>\n",
       "<style scoped>\n",
       "    .dataframe tbody tr th:only-of-type {\n",
       "        vertical-align: middle;\n",
       "    }\n",
       "\n",
       "    .dataframe tbody tr th {\n",
       "        vertical-align: top;\n",
       "    }\n",
       "\n",
       "    .dataframe thead th {\n",
       "        text-align: right;\n",
       "    }\n",
       "</style>\n",
       "<table border=\"1\" class=\"dataframe\">\n",
       "  <thead>\n",
       "    <tr style=\"text-align: right;\">\n",
       "      <th></th>\n",
       "      <th>trip_date</th>\n",
       "      <th>avg_num_trips</th>\n",
       "    </tr>\n",
       "  </thead>\n",
       "  <tbody>\n",
       "    <tr>\n",
       "      <th>0</th>\n",
       "      <td>2016-03-10</td>\n",
       "      <td>98769.714286</td>\n",
       "    </tr>\n",
       "    <tr>\n",
       "      <th>1</th>\n",
       "      <td>2016-01-10</td>\n",
       "      <td>82083.428571</td>\n",
       "    </tr>\n",
       "    <tr>\n",
       "      <th>2</th>\n",
       "      <td>2016-03-28</td>\n",
       "      <td>78639.428571</td>\n",
       "    </tr>\n",
       "    <tr>\n",
       "      <th>3</th>\n",
       "      <td>2016-02-02</td>\n",
       "      <td>79947.285714</td>\n",
       "    </tr>\n",
       "    <tr>\n",
       "      <th>4</th>\n",
       "      <td>2016-01-11</td>\n",
       "      <td>83323.714286</td>\n",
       "    </tr>\n",
       "  </tbody>\n",
       "</table>\n",
       "</div>"
      ],
      "text/plain": [
       "    trip_date  avg_num_trips\n",
       "0  2016-03-10   98769.714286\n",
       "1  2016-01-10   82083.428571\n",
       "2  2016-03-28   78639.428571\n",
       "3  2016-02-02   79947.285714\n",
       "4  2016-01-11   83323.714286"
      ]
     },
     "metadata": {},
     "output_type": "display_data"
    },
    {
     "data": {
      "application/javascript": [
       "parent.postMessage({\"jupyterEvent\": \"custom.exercise_interaction\", \"data\": {\"outcomeType\": 1, \"valueTowardsCompletion\": 0.3333333333333333, \"interactionType\": 1, \"questionType\": 2, \"questionId\": \"1_TaxiDemand\", \"learnToolsVersion\": \"0.3.4\", \"failureMessage\": \"\", \"exceptionClass\": \"\", \"trace\": \"\"}}, \"*\")"
      ],
      "text/plain": [
       "<IPython.core.display.Javascript object>"
      ]
     },
     "metadata": {},
     "output_type": "display_data"
    },
    {
     "data": {
      "text/markdown": [
       "<span style=\"color:#33cc33\">Correct</span>"
      ],
      "text/plain": [
       "Correct"
      ]
     },
     "metadata": {},
     "output_type": "display_data"
    }
   ],
   "source": [
    "# Fill in the blank below\n",
    "avg_num_trips_query = \"\"\"\n",
    "                      WITH trips_by_day AS\n",
    "                      (\n",
    "                      SELECT DATE(trip_start_timestamp) AS trip_date,\n",
    "                          COUNT(*) as num_trips\n",
    "                      FROM `bigquery-public-data.chicago_taxi_trips.taxi_trips`\n",
    "                      WHERE trip_start_timestamp > '2016-01-01' AND trip_start_timestamp < '2016-04-01'\n",
    "                      GROUP BY trip_date\n",
    "                      ORDER BY trip_date\n",
    "                      )\n",
    "                      SELECT trip_date,\n",
    "                          AVG(num_trips)\n",
    "                          OVER (\n",
    "                               ORDER BY trip_date\n",
    "                               ROWS BETWEEN 3 PRECEDING AND 3 FOLLOWING\n",
    "                               ) AS avg_num_trips\n",
    "                      FROM trips_by_day\n",
    "                      \"\"\"\n",
    "\n",
    "# Check your answer\n",
    "q_1.check()"
   ]
  },
  {
   "cell_type": "code",
   "execution_count": 4,
   "id": "733b5d01",
   "metadata": {
    "execution": {
     "iopub.execute_input": "2024-02-22T12:29:17.099429Z",
     "iopub.status.busy": "2024-02-22T12:29:17.099172Z",
     "iopub.status.idle": "2024-02-22T12:29:17.102987Z",
     "shell.execute_reply": "2024-02-22T12:29:17.101981Z"
    },
    "papermill": {
     "duration": 0.011006,
     "end_time": "2024-02-22T12:29:17.104787",
     "exception": false,
     "start_time": "2024-02-22T12:29:17.093781",
     "status": "completed"
    },
    "tags": []
   },
   "outputs": [],
   "source": [
    "# Lines below will give you a hint or solution code\n",
    "#q_1.hint()\n",
    "#q_1.solution()"
   ]
  },
  {
   "cell_type": "markdown",
   "id": "b162d4ec",
   "metadata": {
    "papermill": {
     "duration": 0.004311,
     "end_time": "2024-02-22T12:29:17.114041",
     "exception": false,
     "start_time": "2024-02-22T12:29:17.109730",
     "status": "completed"
    },
    "tags": []
   },
   "source": [
    "### 2) Can you separate and order trips by community area?\n",
    "\n",
    "The query below returns a DataFrame with three columns from the table: `pickup_community_area`, `trip_start_timestamp`, and `trip_end_timestamp`.  \n",
    "\n",
    "Amend the query to return an additional column called `trip_number` which shows the order in which the trips were taken from their respective community areas.  So, the first trip of the day originating from community area 1 should receive a value of 1; the second trip of the day from the same area should receive a value of 2.  Likewise, the first trip of the day from community area 2 should receive a value of 1, and so on.\n",
    "\n",
    "Note that there are many numbering functions that can be used to solve this problem (depending on how you want to deal with trips that started at the same time from the same community area); to answer this question, please use the **RANK()** function."
   ]
  },
  {
   "cell_type": "code",
   "execution_count": 5,
   "id": "b41a5ce1",
   "metadata": {
    "execution": {
     "iopub.execute_input": "2024-02-22T12:29:17.123963Z",
     "iopub.status.busy": "2024-02-22T12:29:17.123701Z",
     "iopub.status.idle": "2024-02-22T12:29:22.010343Z",
     "shell.execute_reply": "2024-02-22T12:29:22.009579Z"
    },
    "papermill": {
     "duration": 4.893623,
     "end_time": "2024-02-22T12:29:22.012083",
     "exception": false,
     "start_time": "2024-02-22T12:29:17.118460",
     "status": "completed"
    },
    "tags": []
   },
   "outputs": [
    {
     "data": {
      "text/html": [
       "<div>\n",
       "<style scoped>\n",
       "    .dataframe tbody tr th:only-of-type {\n",
       "        vertical-align: middle;\n",
       "    }\n",
       "\n",
       "    .dataframe tbody tr th {\n",
       "        vertical-align: top;\n",
       "    }\n",
       "\n",
       "    .dataframe thead th {\n",
       "        text-align: right;\n",
       "    }\n",
       "</style>\n",
       "<table border=\"1\" class=\"dataframe\">\n",
       "  <thead>\n",
       "    <tr style=\"text-align: right;\">\n",
       "      <th></th>\n",
       "      <th>pickup_community_area</th>\n",
       "      <th>trip_start_timestamp</th>\n",
       "      <th>trip_end_timestamp</th>\n",
       "      <th>trip_number</th>\n",
       "    </tr>\n",
       "  </thead>\n",
       "  <tbody>\n",
       "    <tr>\n",
       "      <th>0</th>\n",
       "      <td>57.0</td>\n",
       "      <td>2013-10-03 04:45:00+00:00</td>\n",
       "      <td>2013-10-03 05:00:00+00:00</td>\n",
       "      <td>1</td>\n",
       "    </tr>\n",
       "    <tr>\n",
       "      <th>1</th>\n",
       "      <td>57.0</td>\n",
       "      <td>2013-10-03 15:30:00+00:00</td>\n",
       "      <td>2013-10-03 16:30:00+00:00</td>\n",
       "      <td>2</td>\n",
       "    </tr>\n",
       "    <tr>\n",
       "      <th>2</th>\n",
       "      <td>57.0</td>\n",
       "      <td>2013-10-03 18:45:00+00:00</td>\n",
       "      <td>2013-10-03 19:00:00+00:00</td>\n",
       "      <td>3</td>\n",
       "    </tr>\n",
       "    <tr>\n",
       "      <th>3</th>\n",
       "      <td>57.0</td>\n",
       "      <td>2013-10-03 19:15:00+00:00</td>\n",
       "      <td>2013-10-03 19:30:00+00:00</td>\n",
       "      <td>4</td>\n",
       "    </tr>\n",
       "    <tr>\n",
       "      <th>4</th>\n",
       "      <td>57.0</td>\n",
       "      <td>2013-10-03 22:00:00+00:00</td>\n",
       "      <td>2013-10-03 22:30:00+00:00</td>\n",
       "      <td>5</td>\n",
       "    </tr>\n",
       "  </tbody>\n",
       "</table>\n",
       "</div>"
      ],
      "text/plain": [
       "   pickup_community_area      trip_start_timestamp        trip_end_timestamp  \\\n",
       "0                   57.0 2013-10-03 04:45:00+00:00 2013-10-03 05:00:00+00:00   \n",
       "1                   57.0 2013-10-03 15:30:00+00:00 2013-10-03 16:30:00+00:00   \n",
       "2                   57.0 2013-10-03 18:45:00+00:00 2013-10-03 19:00:00+00:00   \n",
       "3                   57.0 2013-10-03 19:15:00+00:00 2013-10-03 19:30:00+00:00   \n",
       "4                   57.0 2013-10-03 22:00:00+00:00 2013-10-03 22:30:00+00:00   \n",
       "\n",
       "   trip_number  \n",
       "0            1  \n",
       "1            2  \n",
       "2            3  \n",
       "3            4  \n",
       "4            5  "
      ]
     },
     "metadata": {},
     "output_type": "display_data"
    },
    {
     "data": {
      "application/javascript": [
       "parent.postMessage({\"jupyterEvent\": \"custom.exercise_interaction\", \"data\": {\"outcomeType\": 1, \"valueTowardsCompletion\": 0.3333333333333333, \"interactionType\": 1, \"questionType\": 2, \"questionId\": \"2_CommunityArea\", \"learnToolsVersion\": \"0.3.4\", \"failureMessage\": \"\", \"exceptionClass\": \"\", \"trace\": \"\"}}, \"*\")"
      ],
      "text/plain": [
       "<IPython.core.display.Javascript object>"
      ]
     },
     "metadata": {},
     "output_type": "display_data"
    },
    {
     "data": {
      "text/markdown": [
       "<span style=\"color:#33cc33\">Correct</span>"
      ],
      "text/plain": [
       "Correct"
      ]
     },
     "metadata": {},
     "output_type": "display_data"
    }
   ],
   "source": [
    "# Amend the query below\n",
    "trip_number_query = \"\"\"\n",
    "                    SELECT pickup_community_area,\n",
    "                        trip_start_timestamp,\n",
    "                        trip_end_timestamp,\n",
    "                        RANK()\n",
    "                            OVER (\n",
    "                                  PARTITION BY pickup_community_area\n",
    "                                  ORDER BY trip_start_timestamp\n",
    "                                 ) AS trip_number\n",
    "                    FROM `bigquery-public-data.chicago_taxi_trips.taxi_trips`\n",
    "                    WHERE DATE(trip_start_timestamp) = '2013-10-03' \n",
    "                    \"\"\"\n",
    "\n",
    "# Check your answer\n",
    "q_2.check()"
   ]
  },
  {
   "cell_type": "code",
   "execution_count": 6,
   "id": "c51ab724",
   "metadata": {
    "execution": {
     "iopub.execute_input": "2024-02-22T12:29:22.026241Z",
     "iopub.status.busy": "2024-02-22T12:29:22.025879Z",
     "iopub.status.idle": "2024-02-22T12:29:22.036588Z",
     "shell.execute_reply": "2024-02-22T12:29:22.035686Z"
    },
    "papermill": {
     "duration": 0.020012,
     "end_time": "2024-02-22T12:29:22.038230",
     "exception": false,
     "start_time": "2024-02-22T12:29:22.018218",
     "status": "completed"
    },
    "tags": []
   },
   "outputs": [
    {
     "data": {
      "application/javascript": [
       "parent.postMessage({\"jupyterEvent\": \"custom.exercise_interaction\", \"data\": {\"interactionType\": 2, \"questionType\": 2, \"questionId\": \"2_CommunityArea\", \"learnToolsVersion\": \"0.3.4\", \"valueTowardsCompletion\": 0.0, \"failureMessage\": \"\", \"exceptionClass\": \"\", \"trace\": \"\", \"outcomeType\": 4}}, \"*\")"
      ],
      "text/plain": [
       "<IPython.core.display.Javascript object>"
      ]
     },
     "metadata": {},
     "output_type": "display_data"
    },
    {
     "data": {
      "text/markdown": [
       "<span style=\"color:#3366cc\">Hint:</span> You don't need a **GROUP BY** clause.  Use the **RANK()** function.  Your **OVER** clause should order the rows by the `trip_start_timestamp` column and break the data into partitions based on `pickup_community_area`."
      ],
      "text/plain": [
       "Hint: You don't need a **GROUP BY** clause.  Use the **RANK()** function.  Your **OVER** clause should order the rows by the `trip_start_timestamp` column and break the data into partitions based on `pickup_community_area`."
      ]
     },
     "metadata": {},
     "output_type": "display_data"
    },
    {
     "data": {
      "application/javascript": [
       "parent.postMessage({\"jupyterEvent\": \"custom.exercise_interaction\", \"data\": {\"interactionType\": 3, \"questionType\": 2, \"questionId\": \"2_CommunityArea\", \"learnToolsVersion\": \"0.3.4\", \"valueTowardsCompletion\": 0.0, \"failureMessage\": \"\", \"exceptionClass\": \"\", \"trace\": \"\", \"outcomeType\": 4}}, \"*\")"
      ],
      "text/plain": [
       "<IPython.core.display.Javascript object>"
      ]
     },
     "metadata": {},
     "output_type": "display_data"
    },
    {
     "data": {
      "text/markdown": [
       "<span style=\"color:#33cc99\">Solution:</span> \n",
       "```python\n",
       "\n",
       "trip_number_query = \"\"\"\n",
       "                    SELECT pickup_community_area,\n",
       "                        trip_start_timestamp,\n",
       "                        trip_end_timestamp,\n",
       "                        RANK()\n",
       "                            OVER (\n",
       "                                  PARTITION BY pickup_community_area\n",
       "                                  ORDER BY trip_start_timestamp\n",
       "                                 ) AS trip_number\n",
       "                    FROM `bigquery-public-data.chicago_taxi_trips.taxi_trips`\n",
       "                    WHERE DATE(trip_start_timestamp) = '2013-10-03' \n",
       "                    \"\"\"\n",
       "\n",
       "trip_number_result = client.query(trip_number_query).result().to_dataframe()\n",
       "\n",
       "```"
      ],
      "text/plain": [
       "Solution: \n",
       "```python\n",
       "\n",
       "trip_number_query = \"\"\"\n",
       "                    SELECT pickup_community_area,\n",
       "                        trip_start_timestamp,\n",
       "                        trip_end_timestamp,\n",
       "                        RANK()\n",
       "                            OVER (\n",
       "                                  PARTITION BY pickup_community_area\n",
       "                                  ORDER BY trip_start_timestamp\n",
       "                                 ) AS trip_number\n",
       "                    FROM `bigquery-public-data.chicago_taxi_trips.taxi_trips`\n",
       "                    WHERE DATE(trip_start_timestamp) = '2013-10-03' \n",
       "                    \"\"\"\n",
       "\n",
       "trip_number_result = client.query(trip_number_query).result().to_dataframe()\n",
       "\n",
       "```"
      ]
     },
     "metadata": {},
     "output_type": "display_data"
    }
   ],
   "source": [
    "# Lines below will give you a hint or solution code\n",
    "q_2.hint()\n",
    "q_2.solution()"
   ]
  },
  {
   "cell_type": "markdown",
   "id": "b09d792a",
   "metadata": {
    "papermill": {
     "duration": 0.004969,
     "end_time": "2024-02-22T12:29:22.048449",
     "exception": false,
     "start_time": "2024-02-22T12:29:22.043480",
     "status": "completed"
    },
    "tags": []
   },
   "source": [
    "### 3) How much time elapses between trips?\n",
    "\n",
    "The (partial) query in the code cell below shows, for each trip in the selected time frame, the corresponding `taxi_id`, `trip_start_timestamp`, and `trip_end_timestamp`. \n",
    "\n",
    "Your task in this exercise is to edit the query to include an additional `prev_break` column that shows the length of the break (in minutes) that the driver had before each trip started (this corresponds to the time between `trip_start_timestamp` of the current trip and `trip_end_timestamp` of the previous trip).  Partition the calculation by `taxi_id`, and order the results within each partition by `trip_start_timestamp`.\n",
    "\n",
    "Some sample results are shown below, where all rows correspond to the same driver (or `taxi_id`).  Take the time now to make sure that the values in the `prev_break` column make sense to you!\n",
    "\n",
    "![first_commands](https://storage.googleapis.com/kaggle-media/learn/images/qjvQzg8.png)\n",
    "\n",
    "Note that the first trip of the day for each driver should have a value of **NaN** (not a number) in the `prev_break` column."
   ]
  },
  {
   "cell_type": "code",
   "execution_count": 7,
   "id": "48f294ee",
   "metadata": {
    "execution": {
     "iopub.execute_input": "2024-02-22T12:29:22.059927Z",
     "iopub.status.busy": "2024-02-22T12:29:22.059602Z",
     "iopub.status.idle": "2024-02-22T12:29:31.838611Z",
     "shell.execute_reply": "2024-02-22T12:29:31.837718Z"
    },
    "papermill": {
     "duration": 9.786995,
     "end_time": "2024-02-22T12:29:31.840456",
     "exception": false,
     "start_time": "2024-02-22T12:29:22.053461",
     "status": "completed"
    },
    "tags": []
   },
   "outputs": [
    {
     "data": {
      "text/html": [
       "<div>\n",
       "<style scoped>\n",
       "    .dataframe tbody tr th:only-of-type {\n",
       "        vertical-align: middle;\n",
       "    }\n",
       "\n",
       "    .dataframe tbody tr th {\n",
       "        vertical-align: top;\n",
       "    }\n",
       "\n",
       "    .dataframe thead th {\n",
       "        text-align: right;\n",
       "    }\n",
       "</style>\n",
       "<table border=\"1\" class=\"dataframe\">\n",
       "  <thead>\n",
       "    <tr style=\"text-align: right;\">\n",
       "      <th></th>\n",
       "      <th>taxi_id</th>\n",
       "      <th>trip_start_timestamp</th>\n",
       "      <th>trip_end_timestamp</th>\n",
       "      <th>prev_break</th>\n",
       "    </tr>\n",
       "  </thead>\n",
       "  <tbody>\n",
       "    <tr>\n",
       "      <th>0</th>\n",
       "      <td>0aaea64bf911ab90bb84533e204d8e1bb8a8d9bd19f727...</td>\n",
       "      <td>2013-10-03 08:30:00+00:00</td>\n",
       "      <td>2013-10-03 09:00:00+00:00</td>\n",
       "      <td>360.0</td>\n",
       "    </tr>\n",
       "    <tr>\n",
       "      <th>1</th>\n",
       "      <td>10a1a12aaa298a258ad67d07cb3ad152e721f24494442a...</td>\n",
       "      <td>2013-10-03 14:30:00+00:00</td>\n",
       "      <td>2013-10-03 14:45:00+00:00</td>\n",
       "      <td>270.0</td>\n",
       "    </tr>\n",
       "    <tr>\n",
       "      <th>2</th>\n",
       "      <td>1a1189d1e9f4f676bbeaf49903912684b94453576a234f...</td>\n",
       "      <td>2013-10-03 12:30:00+00:00</td>\n",
       "      <td>2013-10-03 12:30:00+00:00</td>\n",
       "      <td>210.0</td>\n",
       "    </tr>\n",
       "    <tr>\n",
       "      <th>3</th>\n",
       "      <td>1b9ab0532482023ae1a4cd4364c4e40f33028c7f1a2b03...</td>\n",
       "      <td>2013-10-03 16:15:00+00:00</td>\n",
       "      <td>2013-10-03 16:30:00+00:00</td>\n",
       "      <td>930.0</td>\n",
       "    </tr>\n",
       "    <tr>\n",
       "      <th>4</th>\n",
       "      <td>1ead5ed235bc01d5b1bfb526f74d7680a2cdae3c0eb9f8...</td>\n",
       "      <td>2013-10-03 16:30:00+00:00</td>\n",
       "      <td>2013-10-03 16:15:00+00:00</td>\n",
       "      <td>420.0</td>\n",
       "    </tr>\n",
       "  </tbody>\n",
       "</table>\n",
       "</div>"
      ],
      "text/plain": [
       "                                             taxi_id  \\\n",
       "0  0aaea64bf911ab90bb84533e204d8e1bb8a8d9bd19f727...   \n",
       "1  10a1a12aaa298a258ad67d07cb3ad152e721f24494442a...   \n",
       "2  1a1189d1e9f4f676bbeaf49903912684b94453576a234f...   \n",
       "3  1b9ab0532482023ae1a4cd4364c4e40f33028c7f1a2b03...   \n",
       "4  1ead5ed235bc01d5b1bfb526f74d7680a2cdae3c0eb9f8...   \n",
       "\n",
       "       trip_start_timestamp        trip_end_timestamp  prev_break  \n",
       "0 2013-10-03 08:30:00+00:00 2013-10-03 09:00:00+00:00       360.0  \n",
       "1 2013-10-03 14:30:00+00:00 2013-10-03 14:45:00+00:00       270.0  \n",
       "2 2013-10-03 12:30:00+00:00 2013-10-03 12:30:00+00:00       210.0  \n",
       "3 2013-10-03 16:15:00+00:00 2013-10-03 16:30:00+00:00       930.0  \n",
       "4 2013-10-03 16:30:00+00:00 2013-10-03 16:15:00+00:00       420.0  "
      ]
     },
     "metadata": {},
     "output_type": "display_data"
    },
    {
     "data": {
      "application/javascript": [
       "parent.postMessage({\"jupyterEvent\": \"custom.exercise_interaction\", \"data\": {\"outcomeType\": 1, \"valueTowardsCompletion\": 0.3333333333333333, \"interactionType\": 1, \"questionType\": 2, \"questionId\": \"3_BreakTime\", \"learnToolsVersion\": \"0.3.4\", \"failureMessage\": \"\", \"exceptionClass\": \"\", \"trace\": \"\"}}, \"*\")"
      ],
      "text/plain": [
       "<IPython.core.display.Javascript object>"
      ]
     },
     "metadata": {},
     "output_type": "display_data"
    },
    {
     "data": {
      "text/markdown": [
       "<span style=\"color:#33cc33\">Correct</span>"
      ],
      "text/plain": [
       "Correct"
      ]
     },
     "metadata": {},
     "output_type": "display_data"
    }
   ],
   "source": [
    "# Fill in the blanks below\n",
    "break_time_query = \"\"\"\n",
    "                   SELECT taxi_id,\n",
    "                       trip_start_timestamp,\n",
    "                       trip_end_timestamp,\n",
    "                       TIMESTAMP_DIFF(\n",
    "                           trip_start_timestamp, \n",
    "                           LAG(trip_end_timestamp, 1) \n",
    "                               OVER (\n",
    "                                    PARTITION BY taxi_id \n",
    "                                    ORDER BY trip_start_timestamp), \n",
    "                           MINUTE) as prev_break\n",
    "                   FROM `bigquery-public-data.chicago_taxi_trips.taxi_trips`\n",
    "                   WHERE DATE(trip_start_timestamp) = '2013-10-03' \n",
    "                   \"\"\"\n",
    "\n",
    "# Check your answer\n",
    "q_3.check()"
   ]
  },
  {
   "cell_type": "code",
   "execution_count": 8,
   "id": "3d468f06",
   "metadata": {
    "execution": {
     "iopub.execute_input": "2024-02-22T12:29:31.855130Z",
     "iopub.status.busy": "2024-02-22T12:29:31.854789Z",
     "iopub.status.idle": "2024-02-22T12:29:31.861813Z",
     "shell.execute_reply": "2024-02-22T12:29:31.860949Z"
    },
    "papermill": {
     "duration": 0.015696,
     "end_time": "2024-02-22T12:29:31.863553",
     "exception": false,
     "start_time": "2024-02-22T12:29:31.847857",
     "status": "completed"
    },
    "tags": []
   },
   "outputs": [
    {
     "data": {
      "application/javascript": [
       "parent.postMessage({\"jupyterEvent\": \"custom.exercise_interaction\", \"data\": {\"interactionType\": 2, \"questionType\": 2, \"questionId\": \"3_BreakTime\", \"learnToolsVersion\": \"0.3.4\", \"valueTowardsCompletion\": 0.0, \"failureMessage\": \"\", \"exceptionClass\": \"\", \"trace\": \"\", \"outcomeType\": 4}}, \"*\")"
      ],
      "text/plain": [
       "<IPython.core.display.Javascript object>"
      ]
     },
     "metadata": {},
     "output_type": "display_data"
    },
    {
     "data": {
      "text/markdown": [
       "<span style=\"color:#3366cc\">Hint:</span> The `TIMESTAMP_DIFF()` function takes three arguments, where the first (`trip_start_timestamp`) and the last (`MINUTE`) are provided for you.  This function provides the time difference (in minutes) of the timestamps in the first two arguments. You need only fill in the second argument, which should use the **LAG()** function to pull the timestamp corresponding to the end of the previous trip (for the same `taxi_id`)."
      ],
      "text/plain": [
       "Hint: The `TIMESTAMP_DIFF()` function takes three arguments, where the first (`trip_start_timestamp`) and the last (`MINUTE`) are provided for you.  This function provides the time difference (in minutes) of the timestamps in the first two arguments. You need only fill in the second argument, which should use the **LAG()** function to pull the timestamp corresponding to the end of the previous trip (for the same `taxi_id`)."
      ]
     },
     "metadata": {},
     "output_type": "display_data"
    }
   ],
   "source": [
    "# Lines below will give you a hint or solution code\n",
    "q_3.hint()\n",
    "#q_3.solution()"
   ]
  },
  {
   "cell_type": "markdown",
   "id": "aba43333",
   "metadata": {
    "papermill": {
     "duration": 0.005619,
     "end_time": "2024-02-22T12:29:31.875283",
     "exception": false,
     "start_time": "2024-02-22T12:29:31.869664",
     "status": "completed"
    },
    "tags": []
   },
   "source": [
    "# Keep going\n",
    "\n",
    "Move on to learn how to query **[nested and repeated data](https://www.kaggle.com/alexisbcook/nested-and-repeated-data)**."
   ]
  },
  {
   "cell_type": "markdown",
   "id": "2b102374",
   "metadata": {
    "papermill": {
     "duration": 0.005772,
     "end_time": "2024-02-22T12:29:31.887188",
     "exception": false,
     "start_time": "2024-02-22T12:29:31.881416",
     "status": "completed"
    },
    "tags": []
   },
   "source": [
    "---\n",
    "\n",
    "\n",
    "\n",
    "\n",
    "*Have questions or comments? Visit the [course discussion forum](https://www.kaggle.com/learn/advanced-sql/discussion) to chat with other learners.*"
   ]
  }
 ],
 "metadata": {
  "kaggle": {
   "accelerator": "none",
   "dataSources": [
    {
     "datasetId": 22219,
     "sourceId": 28536,
     "sourceType": "datasetVersion"
    }
   ],
   "isGpuEnabled": false,
   "isInternetEnabled": false,
   "language": "python",
   "sourceType": "notebook"
  },
  "kernelspec": {
   "display_name": "Python 3",
   "language": "python",
   "name": "python3"
  },
  "language_info": {
   "codemirror_mode": {
    "name": "ipython",
    "version": 3
   },
   "file_extension": ".py",
   "mimetype": "text/x-python",
   "name": "python",
   "nbconvert_exporter": "python",
   "pygments_lexer": "ipython3",
   "version": "3.10.13"
  },
  "papermill": {
   "default_parameters": {},
   "duration": 83.680785,
   "end_time": "2024-02-22T12:29:32.511544",
   "environment_variables": {},
   "exception": null,
   "input_path": "__notebook__.ipynb",
   "output_path": "__notebook__.ipynb",
   "parameters": {},
   "start_time": "2024-02-22T12:28:08.830759",
   "version": "2.5.0"
  }
 },
 "nbformat": 4,
 "nbformat_minor": 5
}
