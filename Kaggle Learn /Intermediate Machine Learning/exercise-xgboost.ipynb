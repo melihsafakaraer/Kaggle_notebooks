{
 "cells": [
  {
   "cell_type": "markdown",
   "id": "5ba04a61",
   "metadata": {
    "papermill": {
     "duration": 0.007336,
     "end_time": "2024-02-22T12:42:58.681825",
     "exception": false,
     "start_time": "2024-02-22T12:42:58.674489",
     "status": "completed"
    },
    "tags": []
   },
   "source": [
    "**This notebook is an exercise in the [Intermediate Machine Learning](https://www.kaggle.com/learn/intermediate-machine-learning) course.  You can reference the tutorial at [this link](https://www.kaggle.com/alexisbcook/xgboost).**\n",
    "\n",
    "---\n"
   ]
  },
  {
   "cell_type": "markdown",
   "id": "d2e624f5",
   "metadata": {
    "papermill": {
     "duration": 0.006294,
     "end_time": "2024-02-22T12:42:58.695027",
     "exception": false,
     "start_time": "2024-02-22T12:42:58.688733",
     "status": "completed"
    },
    "tags": []
   },
   "source": [
    "In this exercise, you will use your new knowledge to train a model with **gradient boosting**.\n",
    "\n",
    "# Setup\n",
    "\n",
    "The questions below will give you feedback on your work. Run the following cell to set up the feedback system."
   ]
  },
  {
   "cell_type": "code",
   "execution_count": 1,
   "id": "9a548d5c",
   "metadata": {
    "execution": {
     "iopub.execute_input": "2024-02-22T12:42:58.711248Z",
     "iopub.status.busy": "2024-02-22T12:42:58.710572Z",
     "iopub.status.idle": "2024-02-22T12:43:02.452347Z",
     "shell.execute_reply": "2024-02-22T12:43:02.451205Z"
    },
    "papermill": {
     "duration": 3.753486,
     "end_time": "2024-02-22T12:43:02.455226",
     "exception": false,
     "start_time": "2024-02-22T12:42:58.701740",
     "status": "completed"
    },
    "tags": []
   },
   "outputs": [
    {
     "name": "stdout",
     "output_type": "stream",
     "text": [
      "Setup Complete\n"
     ]
    }
   ],
   "source": [
    "# Set up code checking\n",
    "import os\n",
    "if not os.path.exists(\"../input/train.csv\"):\n",
    "    os.symlink(\"../input/home-data-for-ml-course/train.csv\", \"../input/train.csv\")  \n",
    "    os.symlink(\"../input/home-data-for-ml-course/test.csv\", \"../input/test.csv\") \n",
    "from learntools.core import binder\n",
    "binder.bind(globals())\n",
    "from learntools.ml_intermediate.ex6 import *\n",
    "print(\"Setup Complete\")"
   ]
  },
  {
   "cell_type": "markdown",
   "id": "65c34a08",
   "metadata": {
    "papermill": {
     "duration": 0.00671,
     "end_time": "2024-02-22T12:43:02.469242",
     "exception": false,
     "start_time": "2024-02-22T12:43:02.462532",
     "status": "completed"
    },
    "tags": []
   },
   "source": [
    "You will work with the [Housing Prices Competition for Kaggle Learn Users](https://www.kaggle.com/c/home-data-for-ml-course) dataset from the previous exercise. \n",
    "\n",
    "![Ames Housing dataset image](https://storage.googleapis.com/kaggle-media/learn/images/lTJVG4e.png)\n",
    "\n",
    "Run the next code cell without changes to load the training and validation sets in `X_train`, `X_valid`, `y_train`, and `y_valid`.  The test set is loaded in `X_test`."
   ]
  },
  {
   "cell_type": "code",
   "execution_count": 2,
   "id": "fd181946",
   "metadata": {
    "execution": {
     "iopub.execute_input": "2024-02-22T12:43:02.485650Z",
     "iopub.status.busy": "2024-02-22T12:43:02.484511Z",
     "iopub.status.idle": "2024-02-22T12:43:02.689895Z",
     "shell.execute_reply": "2024-02-22T12:43:02.688638Z"
    },
    "papermill": {
     "duration": 0.216784,
     "end_time": "2024-02-22T12:43:02.692934",
     "exception": false,
     "start_time": "2024-02-22T12:43:02.476150",
     "status": "completed"
    },
    "tags": []
   },
   "outputs": [],
   "source": [
    "import pandas as pd\n",
    "from sklearn.model_selection import train_test_split\n",
    "\n",
    "# Read the data\n",
    "X = pd.read_csv('../input/train.csv', index_col='Id')\n",
    "X_test_full = pd.read_csv('../input/test.csv', index_col='Id')\n",
    "\n",
    "# Remove rows with missing target, separate target from predictors\n",
    "X.dropna(axis=0, subset=['SalePrice'], inplace=True)\n",
    "y = X.SalePrice              \n",
    "X.drop(['SalePrice'], axis=1, inplace=True)\n",
    "\n",
    "# Break off validation set from training data\n",
    "X_train_full, X_valid_full, y_train, y_valid = train_test_split(X, y, train_size=0.8, test_size=0.2,\n",
    "                                                                random_state=0)\n",
    "\n",
    "# \"Cardinality\" means the number of unique values in a column\n",
    "# Select categorical columns with relatively low cardinality (convenient but arbitrary)\n",
    "low_cardinality_cols = [cname for cname in X_train_full.columns if X_train_full[cname].nunique() < 10 and \n",
    "                        X_train_full[cname].dtype == \"object\"]\n",
    "\n",
    "# Select numeric columns\n",
    "numeric_cols = [cname for cname in X_train_full.columns if X_train_full[cname].dtype in ['int64', 'float64']]\n",
    "\n",
    "# Keep selected columns only\n",
    "my_cols = low_cardinality_cols + numeric_cols\n",
    "X_train = X_train_full[my_cols].copy()\n",
    "X_valid = X_valid_full[my_cols].copy()\n",
    "X_test = X_test_full[my_cols].copy()\n",
    "\n",
    "# One-hot encode the data (to shorten the code, we use pandas)\n",
    "X_train = pd.get_dummies(X_train)\n",
    "X_valid = pd.get_dummies(X_valid)\n",
    "X_test = pd.get_dummies(X_test)\n",
    "X_train, X_valid = X_train.align(X_valid, join='left', axis=1)\n",
    "X_train, X_test = X_train.align(X_test, join='left', axis=1)"
   ]
  },
  {
   "cell_type": "markdown",
   "id": "4ea31ce7",
   "metadata": {
    "papermill": {
     "duration": 0.006471,
     "end_time": "2024-02-22T12:43:02.706701",
     "exception": false,
     "start_time": "2024-02-22T12:43:02.700230",
     "status": "completed"
    },
    "tags": []
   },
   "source": [
    "# Step 1: Build model\n",
    "\n",
    "### Part A\n",
    "\n",
    "In this step, you'll build and train your first model with gradient boosting.\n",
    "\n",
    "- Begin by setting `my_model_1` to an XGBoost model.  Use the [XGBRegressor](https://xgboost.readthedocs.io/en/latest/python/python_api.html#xgboost.XGBRegressor) class, and set the random seed to 0 (`random_state=0`).  **Leave all other parameters as default.**\n",
    "- Then, fit the model to the training data in `X_train` and `y_train`."
   ]
  },
  {
   "cell_type": "code",
   "execution_count": 3,
   "id": "25972997",
   "metadata": {
    "execution": {
     "iopub.execute_input": "2024-02-22T12:43:02.722455Z",
     "iopub.status.busy": "2024-02-22T12:43:02.721947Z",
     "iopub.status.idle": "2024-02-22T12:43:03.288844Z",
     "shell.execute_reply": "2024-02-22T12:43:03.287609Z"
    },
    "papermill": {
     "duration": 0.578085,
     "end_time": "2024-02-22T12:43:03.291553",
     "exception": false,
     "start_time": "2024-02-22T12:43:02.713468",
     "status": "completed"
    },
    "tags": []
   },
   "outputs": [
    {
     "data": {
      "application/javascript": [
       "parent.postMessage({\"jupyterEvent\": \"custom.exercise_interaction\", \"data\": {\"outcomeType\": 1, \"valueTowardsCompletion\": 0.5, \"interactionType\": 1, \"questionType\": 2, \"questionId\": \"1.1_Model1A\", \"learnToolsVersion\": \"0.3.4\", \"failureMessage\": \"\", \"exceptionClass\": \"\", \"trace\": \"\"}}, \"*\")"
      ],
      "text/plain": [
       "<IPython.core.display.Javascript object>"
      ]
     },
     "metadata": {},
     "output_type": "display_data"
    },
    {
     "data": {
      "text/markdown": [
       "<span style=\"color:#33cc33\">Correct</span>"
      ],
      "text/plain": [
       "Correct"
      ]
     },
     "metadata": {},
     "output_type": "display_data"
    }
   ],
   "source": [
    "from xgboost import XGBRegressor\n",
    "\n",
    "# Define the model\n",
    "my_model_1 = XGBRegressor(random_state = 0) # Your code here\n",
    "\n",
    "# Fit the model\n",
    "my_model_1.fit(X_train, y_train) # Your code here\n",
    "\n",
    "# Check your answer\n",
    "step_1.a.check()"
   ]
  },
  {
   "cell_type": "code",
   "execution_count": 4,
   "id": "cbebc59d",
   "metadata": {
    "execution": {
     "iopub.execute_input": "2024-02-22T12:43:03.308819Z",
     "iopub.status.busy": "2024-02-22T12:43:03.308323Z",
     "iopub.status.idle": "2024-02-22T12:43:03.313710Z",
     "shell.execute_reply": "2024-02-22T12:43:03.312632Z"
    },
    "papermill": {
     "duration": 0.016842,
     "end_time": "2024-02-22T12:43:03.315958",
     "exception": false,
     "start_time": "2024-02-22T12:43:03.299116",
     "status": "completed"
    },
    "tags": []
   },
   "outputs": [],
   "source": [
    "# Lines below will give you a hint or solution code\n",
    "#step_1.a.hint()\n",
    "#step_1.a.solution()"
   ]
  },
  {
   "cell_type": "markdown",
   "id": "d7152aa9",
   "metadata": {
    "papermill": {
     "duration": 0.006914,
     "end_time": "2024-02-22T12:43:03.330082",
     "exception": false,
     "start_time": "2024-02-22T12:43:03.323168",
     "status": "completed"
    },
    "tags": []
   },
   "source": [
    "### Part B\n",
    "\n",
    "Set `predictions_1` to the model's predictions for the validation data.  Recall that the validation features are stored in `X_valid`."
   ]
  },
  {
   "cell_type": "code",
   "execution_count": 5,
   "id": "07ec9c36",
   "metadata": {
    "execution": {
     "iopub.execute_input": "2024-02-22T12:43:03.346709Z",
     "iopub.status.busy": "2024-02-22T12:43:03.346232Z",
     "iopub.status.idle": "2024-02-22T12:43:03.406329Z",
     "shell.execute_reply": "2024-02-22T12:43:03.405325Z"
    },
    "papermill": {
     "duration": 0.071524,
     "end_time": "2024-02-22T12:43:03.408856",
     "exception": false,
     "start_time": "2024-02-22T12:43:03.337332",
     "status": "completed"
    },
    "tags": []
   },
   "outputs": [
    {
     "data": {
      "application/javascript": [
       "parent.postMessage({\"jupyterEvent\": \"custom.exercise_interaction\", \"data\": {\"outcomeType\": 1, \"valueTowardsCompletion\": 0.5, \"interactionType\": 1, \"questionType\": 2, \"questionId\": \"1.2_Model1B\", \"learnToolsVersion\": \"0.3.4\", \"failureMessage\": \"\", \"exceptionClass\": \"\", \"trace\": \"\"}}, \"*\")"
      ],
      "text/plain": [
       "<IPython.core.display.Javascript object>"
      ]
     },
     "metadata": {},
     "output_type": "display_data"
    },
    {
     "data": {
      "text/markdown": [
       "<span style=\"color:#33cc33\">Correct</span>"
      ],
      "text/plain": [
       "Correct"
      ]
     },
     "metadata": {},
     "output_type": "display_data"
    }
   ],
   "source": [
    "from sklearn.metrics import mean_absolute_error\n",
    "\n",
    "# Get predictions\n",
    "predictions_1 = my_model_1.predict(X_valid) # Your code here\n",
    "\n",
    "# Check your answer\n",
    "step_1.b.check()"
   ]
  },
  {
   "cell_type": "code",
   "execution_count": 6,
   "id": "ac30701d",
   "metadata": {
    "execution": {
     "iopub.execute_input": "2024-02-22T12:43:03.426630Z",
     "iopub.status.busy": "2024-02-22T12:43:03.426236Z",
     "iopub.status.idle": "2024-02-22T12:43:03.431045Z",
     "shell.execute_reply": "2024-02-22T12:43:03.429916Z"
    },
    "papermill": {
     "duration": 0.016224,
     "end_time": "2024-02-22T12:43:03.433482",
     "exception": false,
     "start_time": "2024-02-22T12:43:03.417258",
     "status": "completed"
    },
    "tags": []
   },
   "outputs": [],
   "source": [
    "# Lines below will give you a hint or solution code\n",
    "#step_1.b.hint()\n",
    "#step_1.b.solution()"
   ]
  },
  {
   "cell_type": "markdown",
   "id": "118e1d3e",
   "metadata": {
    "papermill": {
     "duration": 0.008913,
     "end_time": "2024-02-22T12:43:03.449889",
     "exception": false,
     "start_time": "2024-02-22T12:43:03.440976",
     "status": "completed"
    },
    "tags": []
   },
   "source": [
    "### Part C\n",
    "\n",
    "Finally, use the `mean_absolute_error()` function to calculate the mean absolute error (MAE) corresponding to the predictions for the validation set.  Recall that the labels for the validation data are stored in `y_valid`."
   ]
  },
  {
   "cell_type": "code",
   "execution_count": 7,
   "id": "cd906036",
   "metadata": {
    "execution": {
     "iopub.execute_input": "2024-02-22T12:43:03.469307Z",
     "iopub.status.busy": "2024-02-22T12:43:03.468810Z",
     "iopub.status.idle": "2024-02-22T12:43:03.481540Z",
     "shell.execute_reply": "2024-02-22T12:43:03.480621Z"
    },
    "papermill": {
     "duration": 0.026372,
     "end_time": "2024-02-22T12:43:03.484374",
     "exception": false,
     "start_time": "2024-02-22T12:43:03.458002",
     "status": "completed"
    },
    "tags": []
   },
   "outputs": [
    {
     "name": "stdout",
     "output_type": "stream",
     "text": [
      "Mean Absolute Error: 18161.82412510702\n"
     ]
    },
    {
     "data": {
      "application/javascript": [
       "parent.postMessage({\"jupyterEvent\": \"custom.exercise_interaction\", \"data\": {\"outcomeType\": 1, \"valueTowardsCompletion\": 0.5, \"interactionType\": 1, \"questionType\": 2, \"questionId\": \"1.3_Model1C\", \"learnToolsVersion\": \"0.3.4\", \"failureMessage\": \"\", \"exceptionClass\": \"\", \"trace\": \"\"}}, \"*\")"
      ],
      "text/plain": [
       "<IPython.core.display.Javascript object>"
      ]
     },
     "metadata": {},
     "output_type": "display_data"
    },
    {
     "data": {
      "text/markdown": [
       "<span style=\"color:#33cc33\">Correct</span>"
      ],
      "text/plain": [
       "Correct"
      ]
     },
     "metadata": {},
     "output_type": "display_data"
    }
   ],
   "source": [
    "# Calculate MAE\n",
    "mae_1 = mean_absolute_error(y_valid, predictions_1) # Your code here\n",
    "\n",
    "# Uncomment to print MAE\n",
    "print(\"Mean Absolute Error:\" , mae_1)\n",
    "\n",
    "# Check your answer\n",
    "step_1.c.check()"
   ]
  },
  {
   "cell_type": "code",
   "execution_count": 8,
   "id": "50887813",
   "metadata": {
    "execution": {
     "iopub.execute_input": "2024-02-22T12:43:03.502959Z",
     "iopub.status.busy": "2024-02-22T12:43:03.502533Z",
     "iopub.status.idle": "2024-02-22T12:43:03.507699Z",
     "shell.execute_reply": "2024-02-22T12:43:03.506331Z"
    },
    "papermill": {
     "duration": 0.017325,
     "end_time": "2024-02-22T12:43:03.509946",
     "exception": false,
     "start_time": "2024-02-22T12:43:03.492621",
     "status": "completed"
    },
    "tags": []
   },
   "outputs": [],
   "source": [
    "# Lines below will give you a hint or solution code\n",
    "#step_1.c.hint()\n",
    "#step_1.c.solution()"
   ]
  },
  {
   "cell_type": "markdown",
   "id": "d5314083",
   "metadata": {
    "papermill": {
     "duration": 0.008002,
     "end_time": "2024-02-22T12:43:03.526375",
     "exception": false,
     "start_time": "2024-02-22T12:43:03.518373",
     "status": "completed"
    },
    "tags": []
   },
   "source": [
    "# Step 2: Improve the model\n",
    "\n",
    "Now that you've trained a default model as baseline, it's time to tinker with the parameters, to see if you can get better performance!\n",
    "- Begin by setting `my_model_2` to an XGBoost model, using the [XGBRegressor](https://xgboost.readthedocs.io/en/latest/python/python_api.html#xgboost.XGBRegressor) class.  Use what you learned in the previous tutorial to figure out how to change the default parameters (like `n_estimators` and `learning_rate`) to get better results.\n",
    "- Then, fit the model to the training data in `X_train` and `y_train`.\n",
    "- Set `predictions_2` to the model's predictions for the validation data.  Recall that the validation features are stored in `X_valid`.\n",
    "- Finally, use the `mean_absolute_error()` function to calculate the mean absolute error (MAE) corresponding to the predictions on the validation set.  Recall that the labels for the validation data are stored in `y_valid`.\n",
    "\n",
    "In order for this step to be marked correct, your model in `my_model_2` must attain lower MAE than the model in `my_model_1`. "
   ]
  },
  {
   "cell_type": "code",
   "execution_count": 9,
   "id": "0e65fb5f",
   "metadata": {
    "execution": {
     "iopub.execute_input": "2024-02-22T12:43:03.545322Z",
     "iopub.status.busy": "2024-02-22T12:43:03.544880Z",
     "iopub.status.idle": "2024-02-22T12:43:07.489220Z",
     "shell.execute_reply": "2024-02-22T12:43:07.488332Z"
    },
    "papermill": {
     "duration": 3.95703,
     "end_time": "2024-02-22T12:43:07.491850",
     "exception": false,
     "start_time": "2024-02-22T12:43:03.534820",
     "status": "completed"
    },
    "tags": []
   },
   "outputs": [
    {
     "name": "stdout",
     "output_type": "stream",
     "text": [
      "Mean Absolute Error: 17101.580024614726\n"
     ]
    },
    {
     "data": {
      "application/javascript": [
       "parent.postMessage({\"jupyterEvent\": \"custom.exercise_interaction\", \"data\": {\"outcomeType\": 1, \"valueTowardsCompletion\": 0.5, \"interactionType\": 1, \"questionType\": 2, \"questionId\": \"2_Model2\", \"learnToolsVersion\": \"0.3.4\", \"failureMessage\": \"\", \"exceptionClass\": \"\", \"trace\": \"\"}}, \"*\")"
      ],
      "text/plain": [
       "<IPython.core.display.Javascript object>"
      ]
     },
     "metadata": {},
     "output_type": "display_data"
    },
    {
     "data": {
      "text/markdown": [
       "<span style=\"color:#33cc33\">Correct</span>"
      ],
      "text/plain": [
       "Correct"
      ]
     },
     "metadata": {},
     "output_type": "display_data"
    }
   ],
   "source": [
    "# Define the model\n",
    "my_model_2 = XGBRegressor(n_estimators=500, learning_rate = 0.05) # Your code here\n",
    "\n",
    "# Fit the model\n",
    "my_model_2.fit(X_train, y_train)  # Your code here\n",
    "\n",
    "# Get predictions\n",
    "predictions_2 = my_model_2.predict(X_valid) # Your code here\n",
    "\n",
    "# Calculate MAE\n",
    "mae_2 = mean_absolute_error(y_valid, predictions_2) # Your code here\n",
    "\n",
    "# Uncomment to print MAE\n",
    "print(\"Mean Absolute Error:\" , mae_2)\n",
    "\n",
    "# Check your answer\n",
    "step_2.check()"
   ]
  },
  {
   "cell_type": "code",
   "execution_count": 10,
   "id": "2696668e",
   "metadata": {
    "execution": {
     "iopub.execute_input": "2024-02-22T12:43:07.511448Z",
     "iopub.status.busy": "2024-02-22T12:43:07.511012Z",
     "iopub.status.idle": "2024-02-22T12:43:07.516019Z",
     "shell.execute_reply": "2024-02-22T12:43:07.514798Z"
    },
    "papermill": {
     "duration": 0.01838,
     "end_time": "2024-02-22T12:43:07.518908",
     "exception": false,
     "start_time": "2024-02-22T12:43:07.500528",
     "status": "completed"
    },
    "tags": []
   },
   "outputs": [],
   "source": [
    "# Lines below will give you a hint or solution code\n",
    "#step_2.hint()\n",
    "#step_2.solution()"
   ]
  },
  {
   "cell_type": "markdown",
   "id": "a2589593",
   "metadata": {
    "papermill": {
     "duration": 0.008813,
     "end_time": "2024-02-22T12:43:07.536812",
     "exception": false,
     "start_time": "2024-02-22T12:43:07.527999",
     "status": "completed"
    },
    "tags": []
   },
   "source": [
    "# Step 3: Break the model\n",
    "\n",
    "In this step, you will create a model that performs worse than the original model in Step 1.  This will help you to develop your intuition for how to set parameters.  You might even find that you accidentally get better performance, which is ultimately a nice problem to have and a valuable learning experience!\n",
    "- Begin by setting `my_model_3` to an XGBoost model, using the [XGBRegressor](https://xgboost.readthedocs.io/en/latest/python/python_api.html#xgboost.XGBRegressor) class.  Use what you learned in the previous tutorial to figure out how to change the default parameters (like `n_estimators` and `learning_rate`) to design a model to get high MAE.\n",
    "- Then, fit the model to the training data in `X_train` and `y_train`.\n",
    "- Set `predictions_3` to the model's predictions for the validation data.  Recall that the validation features are stored in `X_valid`.\n",
    "- Finally, use the `mean_absolute_error()` function to calculate the mean absolute error (MAE) corresponding to the predictions on the validation set.  Recall that the labels for the validation data are stored in `y_valid`.\n",
    "\n",
    "In order for this step to be marked correct, your model in `my_model_3` must attain higher MAE than the model in `my_model_1`. "
   ]
  },
  {
   "cell_type": "code",
   "execution_count": 11,
   "id": "1ca95b30",
   "metadata": {
    "execution": {
     "iopub.execute_input": "2024-02-22T12:43:07.556720Z",
     "iopub.status.busy": "2024-02-22T12:43:07.556307Z",
     "iopub.status.idle": "2024-02-22T12:43:09.885743Z",
     "shell.execute_reply": "2024-02-22T12:43:09.884877Z"
    },
    "papermill": {
     "duration": 2.342447,
     "end_time": "2024-02-22T12:43:09.888321",
     "exception": false,
     "start_time": "2024-02-22T12:43:07.545874",
     "status": "completed"
    },
    "tags": []
   },
   "outputs": [
    {
     "name": "stdout",
     "output_type": "stream",
     "text": [
      "Mean Absolute Error: 21630.502207298803\n"
     ]
    },
    {
     "data": {
      "application/javascript": [
       "parent.postMessage({\"jupyterEvent\": \"custom.exercise_interaction\", \"data\": {\"outcomeType\": 1, \"valueTowardsCompletion\": 0.5, \"interactionType\": 1, \"questionType\": 2, \"questionId\": \"3_Model3\", \"learnToolsVersion\": \"0.3.4\", \"failureMessage\": \"\", \"exceptionClass\": \"\", \"trace\": \"\"}}, \"*\")"
      ],
      "text/plain": [
       "<IPython.core.display.Javascript object>"
      ]
     },
     "metadata": {},
     "output_type": "display_data"
    },
    {
     "data": {
      "text/markdown": [
       "<span style=\"color:#33cc33\">Correct</span>"
      ],
      "text/plain": [
       "Correct"
      ]
     },
     "metadata": {},
     "output_type": "display_data"
    }
   ],
   "source": [
    "# Define the model\n",
    "my_model_3 = XGBRegressor(random_state = 0,learning_rate= 0.7,n_estimators = 500)\n",
    "\n",
    "# Fit the model\n",
    "my_model_3.fit(X_train,y_train)# Your code here\n",
    "\n",
    "# Get predictions\n",
    "predictions_3 = my_model_3.predict(X_valid)\n",
    "\n",
    "# Calculate MAE\n",
    "mae_3 = mean_absolute_error(y_valid,predictions_3)\n",
    "\n",
    "# Uncomment to print MAE\n",
    "print(\"Mean Absolute Error:\" , mae_3)\n",
    "\n",
    "# Check your answer\n",
    "step_3.check()"
   ]
  },
  {
   "cell_type": "code",
   "execution_count": 12,
   "id": "7afe3074",
   "metadata": {
    "execution": {
     "iopub.execute_input": "2024-02-22T12:43:09.909054Z",
     "iopub.status.busy": "2024-02-22T12:43:09.908600Z",
     "iopub.status.idle": "2024-02-22T12:43:09.913522Z",
     "shell.execute_reply": "2024-02-22T12:43:09.912596Z"
    },
    "papermill": {
     "duration": 0.018405,
     "end_time": "2024-02-22T12:43:09.916319",
     "exception": false,
     "start_time": "2024-02-22T12:43:09.897914",
     "status": "completed"
    },
    "tags": []
   },
   "outputs": [],
   "source": [
    "# Lines below will give you a hint or solution code\n",
    "#step_3.hint()\n",
    "#step_3.solution()"
   ]
  },
  {
   "cell_type": "markdown",
   "id": "e6a0e173",
   "metadata": {
    "papermill": {
     "duration": 0.009017,
     "end_time": "2024-02-22T12:43:09.934774",
     "exception": false,
     "start_time": "2024-02-22T12:43:09.925757",
     "status": "completed"
    },
    "tags": []
   },
   "source": [
    "# Keep going\n",
    "\n",
    "Continue to learn about **[data leakage](https://www.kaggle.com/alexisbcook/data-leakage)**.  This is an important issue for a data scientist to understand, and it has the potential to ruin your models in subtle and dangerous ways!"
   ]
  },
  {
   "cell_type": "markdown",
   "id": "55ec65cb",
   "metadata": {
    "papermill": {
     "duration": 0.00915,
     "end_time": "2024-02-22T12:43:09.953399",
     "exception": false,
     "start_time": "2024-02-22T12:43:09.944249",
     "status": "completed"
    },
    "tags": []
   },
   "source": [
    "---\n",
    "\n",
    "\n",
    "\n",
    "\n",
    "*Have questions or comments? Visit the [course discussion forum](https://www.kaggle.com/learn/intermediate-machine-learning/discussion) to chat with other learners.*"
   ]
  }
 ],
 "metadata": {
  "kaggle": {
   "accelerator": "none",
   "dataSources": [
    {
     "databundleVersionId": 111096,
     "sourceId": 10211,
     "sourceType": "competition"
    }
   ],
   "isGpuEnabled": false,
   "isInternetEnabled": false,
   "language": "python",
   "sourceType": "notebook"
  },
  "kernelspec": {
   "display_name": "Python 3",
   "language": "python",
   "name": "python3"
  },
  "language_info": {
   "codemirror_mode": {
    "name": "ipython",
    "version": 3
   },
   "file_extension": ".py",
   "mimetype": "text/x-python",
   "name": "python",
   "nbconvert_exporter": "python",
   "pygments_lexer": "ipython3",
   "version": "3.10.13"
  },
  "papermill": {
   "default_parameters": {},
   "duration": 15.40307,
   "end_time": "2024-02-22T12:43:10.784993",
   "environment_variables": {},
   "exception": null,
   "input_path": "__notebook__.ipynb",
   "output_path": "__notebook__.ipynb",
   "parameters": {},
   "start_time": "2024-02-22T12:42:55.381923",
   "version": "2.5.0"
  }
 },
 "nbformat": 4,
 "nbformat_minor": 5
}
