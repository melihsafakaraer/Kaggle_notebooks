{
 "cells": [
  {
   "cell_type": "markdown",
   "id": "dc4a55aa",
   "metadata": {
    "papermill": {
     "duration": 0.007118,
     "end_time": "2024-02-22T12:40:41.915041",
     "exception": false,
     "start_time": "2024-02-22T12:40:41.907923",
     "status": "completed"
    },
    "tags": []
   },
   "source": [
    "**This notebook is an exercise in the [Intermediate Machine Learning](https://www.kaggle.com/learn/intermediate-machine-learning) course.  You can reference the tutorial at [this link](https://www.kaggle.com/alexisbcook/introduction).**\n",
    "\n",
    "---\n"
   ]
  },
  {
   "cell_type": "markdown",
   "id": "424d5224",
   "metadata": {
    "papermill": {
     "duration": 0.006358,
     "end_time": "2024-02-22T12:40:41.928323",
     "exception": false,
     "start_time": "2024-02-22T12:40:41.921965",
     "status": "completed"
    },
    "tags": []
   },
   "source": [
    "As a warm-up, you'll review some machine learning fundamentals and submit your initial results to a Kaggle competition.\n",
    "\n",
    "# Setup\n",
    "\n",
    "The questions below will give you feedback on your work. Run the following cell to set up the feedback system."
   ]
  },
  {
   "cell_type": "code",
   "execution_count": 1,
   "id": "ef26185b",
   "metadata": {
    "execution": {
     "iopub.execute_input": "2024-02-22T12:40:41.943512Z",
     "iopub.status.busy": "2024-02-22T12:40:41.943080Z",
     "iopub.status.idle": "2024-02-22T12:40:45.386570Z",
     "shell.execute_reply": "2024-02-22T12:40:45.384776Z"
    },
    "papermill": {
     "duration": 3.455421,
     "end_time": "2024-02-22T12:40:45.390331",
     "exception": false,
     "start_time": "2024-02-22T12:40:41.934910",
     "status": "completed"
    },
    "tags": []
   },
   "outputs": [
    {
     "name": "stdout",
     "output_type": "stream",
     "text": [
      "Setup Complete\n"
     ]
    }
   ],
   "source": [
    "# Set up code checking\n",
    "import os\n",
    "if not os.path.exists(\"../input/train.csv\"):\n",
    "    os.symlink(\"../input/home-data-for-ml-course/train.csv\", \"../input/train.csv\")  \n",
    "    os.symlink(\"../input/home-data-for-ml-course/test.csv\", \"../input/test.csv\")  \n",
    "from learntools.core import binder\n",
    "binder.bind(globals())\n",
    "from learntools.ml_intermediate.ex1 import *\n",
    "print(\"Setup Complete\")"
   ]
  },
  {
   "cell_type": "markdown",
   "id": "9317fa29",
   "metadata": {
    "papermill": {
     "duration": 0.007286,
     "end_time": "2024-02-22T12:40:45.405099",
     "exception": false,
     "start_time": "2024-02-22T12:40:45.397813",
     "status": "completed"
    },
    "tags": []
   },
   "source": [
    "You will work with data from the [Housing Prices Competition for Kaggle Learn Users](https://www.kaggle.com/c/home-data-for-ml-course) to predict home prices in Iowa using 79 explanatory variables describing (almost) every aspect of the homes.  \n",
    "\n",
    "![Ames Housing dataset image](https://storage.googleapis.com/kaggle-media/learn/images/lTJVG4e.png)\n",
    "\n",
    "Run the next code cell without changes to load the training and validation features in `X_train` and `X_valid`, along with the prediction targets in `y_train` and `y_valid`.  The test features are loaded in `X_test`.  (_If you need to review **features** and **prediction targets**, please check out [this short tutorial](https://www.kaggle.com/dansbecker/your-first-machine-learning-model).  To read about model **validation**, look [here](https://www.kaggle.com/dansbecker/model-validation).  Alternatively, if you'd prefer to look through a full course to review all of these topics, start [here](https://www.kaggle.com/learn/machine-learning).)_"
   ]
  },
  {
   "cell_type": "code",
   "execution_count": 2,
   "id": "3ac52df8",
   "metadata": {
    "execution": {
     "iopub.execute_input": "2024-02-22T12:40:45.424136Z",
     "iopub.status.busy": "2024-02-22T12:40:45.422846Z",
     "iopub.status.idle": "2024-02-22T12:40:45.545529Z",
     "shell.execute_reply": "2024-02-22T12:40:45.544146Z"
    },
    "papermill": {
     "duration": 0.135283,
     "end_time": "2024-02-22T12:40:45.548306",
     "exception": false,
     "start_time": "2024-02-22T12:40:45.413023",
     "status": "completed"
    },
    "tags": []
   },
   "outputs": [],
   "source": [
    "import pandas as pd\n",
    "from sklearn.model_selection import train_test_split\n",
    "\n",
    "# Read the data\n",
    "X_full = pd.read_csv('../input/train.csv', index_col='Id')\n",
    "X_test_full = pd.read_csv('../input/test.csv', index_col='Id')\n",
    "\n",
    "# Obtain target and predictors\n",
    "y = X_full.SalePrice\n",
    "features = ['LotArea', 'YearBuilt', '1stFlrSF', '2ndFlrSF', 'FullBath', 'BedroomAbvGr', 'TotRmsAbvGrd']\n",
    "X = X_full[features].copy()\n",
    "X_test = X_test_full[features].copy()\n",
    "\n",
    "# Break off validation set from training data\n",
    "X_train, X_valid, y_train, y_valid = train_test_split(X, y, train_size=0.8, test_size=0.2,\n",
    "                                                      random_state=0)"
   ]
  },
  {
   "cell_type": "markdown",
   "id": "66bbb103",
   "metadata": {
    "papermill": {
     "duration": 0.006695,
     "end_time": "2024-02-22T12:40:45.563240",
     "exception": false,
     "start_time": "2024-02-22T12:40:45.556545",
     "status": "completed"
    },
    "tags": []
   },
   "source": [
    "Use the next cell to print the first several rows of the data. It's a nice way to get an overview of the data you will use in your price prediction model."
   ]
  },
  {
   "cell_type": "code",
   "execution_count": 3,
   "id": "65630731",
   "metadata": {
    "execution": {
     "iopub.execute_input": "2024-02-22T12:40:45.581519Z",
     "iopub.status.busy": "2024-02-22T12:40:45.580703Z",
     "iopub.status.idle": "2024-02-22T12:40:45.599889Z",
     "shell.execute_reply": "2024-02-22T12:40:45.598674Z"
    },
    "papermill": {
     "duration": 0.03132,
     "end_time": "2024-02-22T12:40:45.602858",
     "exception": false,
     "start_time": "2024-02-22T12:40:45.571538",
     "status": "completed"
    },
    "tags": []
   },
   "outputs": [
    {
     "data": {
      "text/html": [
       "<div>\n",
       "<style scoped>\n",
       "    .dataframe tbody tr th:only-of-type {\n",
       "        vertical-align: middle;\n",
       "    }\n",
       "\n",
       "    .dataframe tbody tr th {\n",
       "        vertical-align: top;\n",
       "    }\n",
       "\n",
       "    .dataframe thead th {\n",
       "        text-align: right;\n",
       "    }\n",
       "</style>\n",
       "<table border=\"1\" class=\"dataframe\">\n",
       "  <thead>\n",
       "    <tr style=\"text-align: right;\">\n",
       "      <th></th>\n",
       "      <th>LotArea</th>\n",
       "      <th>YearBuilt</th>\n",
       "      <th>1stFlrSF</th>\n",
       "      <th>2ndFlrSF</th>\n",
       "      <th>FullBath</th>\n",
       "      <th>BedroomAbvGr</th>\n",
       "      <th>TotRmsAbvGrd</th>\n",
       "    </tr>\n",
       "    <tr>\n",
       "      <th>Id</th>\n",
       "      <th></th>\n",
       "      <th></th>\n",
       "      <th></th>\n",
       "      <th></th>\n",
       "      <th></th>\n",
       "      <th></th>\n",
       "      <th></th>\n",
       "    </tr>\n",
       "  </thead>\n",
       "  <tbody>\n",
       "    <tr>\n",
       "      <th>619</th>\n",
       "      <td>11694</td>\n",
       "      <td>2007</td>\n",
       "      <td>1828</td>\n",
       "      <td>0</td>\n",
       "      <td>2</td>\n",
       "      <td>3</td>\n",
       "      <td>9</td>\n",
       "    </tr>\n",
       "    <tr>\n",
       "      <th>871</th>\n",
       "      <td>6600</td>\n",
       "      <td>1962</td>\n",
       "      <td>894</td>\n",
       "      <td>0</td>\n",
       "      <td>1</td>\n",
       "      <td>2</td>\n",
       "      <td>5</td>\n",
       "    </tr>\n",
       "    <tr>\n",
       "      <th>93</th>\n",
       "      <td>13360</td>\n",
       "      <td>1921</td>\n",
       "      <td>964</td>\n",
       "      <td>0</td>\n",
       "      <td>1</td>\n",
       "      <td>2</td>\n",
       "      <td>5</td>\n",
       "    </tr>\n",
       "    <tr>\n",
       "      <th>818</th>\n",
       "      <td>13265</td>\n",
       "      <td>2002</td>\n",
       "      <td>1689</td>\n",
       "      <td>0</td>\n",
       "      <td>2</td>\n",
       "      <td>3</td>\n",
       "      <td>7</td>\n",
       "    </tr>\n",
       "    <tr>\n",
       "      <th>303</th>\n",
       "      <td>13704</td>\n",
       "      <td>2001</td>\n",
       "      <td>1541</td>\n",
       "      <td>0</td>\n",
       "      <td>2</td>\n",
       "      <td>3</td>\n",
       "      <td>6</td>\n",
       "    </tr>\n",
       "  </tbody>\n",
       "</table>\n",
       "</div>"
      ],
      "text/plain": [
       "     LotArea  YearBuilt  1stFlrSF  2ndFlrSF  FullBath  BedroomAbvGr  \\\n",
       "Id                                                                    \n",
       "619    11694       2007      1828         0         2             3   \n",
       "871     6600       1962       894         0         1             2   \n",
       "93     13360       1921       964         0         1             2   \n",
       "818    13265       2002      1689         0         2             3   \n",
       "303    13704       2001      1541         0         2             3   \n",
       "\n",
       "     TotRmsAbvGrd  \n",
       "Id                 \n",
       "619             9  \n",
       "871             5  \n",
       "93              5  \n",
       "818             7  \n",
       "303             6  "
      ]
     },
     "execution_count": 3,
     "metadata": {},
     "output_type": "execute_result"
    }
   ],
   "source": [
    "X_train.head()"
   ]
  },
  {
   "cell_type": "markdown",
   "id": "86f86746",
   "metadata": {
    "papermill": {
     "duration": 0.007609,
     "end_time": "2024-02-22T12:40:45.618515",
     "exception": false,
     "start_time": "2024-02-22T12:40:45.610906",
     "status": "completed"
    },
    "tags": []
   },
   "source": [
    "The next code cell defines five different random forest models.  Run this code cell without changes.  (_To review **random forests**, look [here](https://www.kaggle.com/dansbecker/random-forests)._)"
   ]
  },
  {
   "cell_type": "code",
   "execution_count": 4,
   "id": "85599e65",
   "metadata": {
    "execution": {
     "iopub.execute_input": "2024-02-22T12:40:45.636985Z",
     "iopub.status.busy": "2024-02-22T12:40:45.635675Z",
     "iopub.status.idle": "2024-02-22T12:40:45.647474Z",
     "shell.execute_reply": "2024-02-22T12:40:45.645429Z"
    },
    "papermill": {
     "duration": 0.024219,
     "end_time": "2024-02-22T12:40:45.650791",
     "exception": false,
     "start_time": "2024-02-22T12:40:45.626572",
     "status": "completed"
    },
    "tags": []
   },
   "outputs": [],
   "source": [
    "from sklearn.ensemble import RandomForestRegressor\n",
    "\n",
    "# Define the models\n",
    "model_1 = RandomForestRegressor(n_estimators=50, random_state=0)\n",
    "model_2 = RandomForestRegressor(n_estimators=100, random_state=0)\n",
    "model_3 = RandomForestRegressor(n_estimators=100, criterion='absolute_error', random_state=0)\n",
    "model_4 = RandomForestRegressor(n_estimators=200, min_samples_split=20, random_state=0)\n",
    "model_5 = RandomForestRegressor(n_estimators=100, max_depth=7, random_state=0)\n",
    "\n",
    "models = [model_1, model_2, model_3, model_4, model_5]"
   ]
  },
  {
   "cell_type": "markdown",
   "id": "62877926",
   "metadata": {
    "papermill": {
     "duration": 0.007355,
     "end_time": "2024-02-22T12:40:45.666234",
     "exception": false,
     "start_time": "2024-02-22T12:40:45.658879",
     "status": "completed"
    },
    "tags": []
   },
   "source": [
    "To select the best model out of the five, we define a function `score_model()` below.  This function returns the mean absolute error (MAE) from the validation set.  Recall that the best model will obtain the lowest MAE.  (_To review **mean absolute error**, look [here](https://www.kaggle.com/dansbecker/model-validation).)_\n",
    "\n",
    "Run the code cell without changes."
   ]
  },
  {
   "cell_type": "code",
   "execution_count": 5,
   "id": "c03bab8d",
   "metadata": {
    "execution": {
     "iopub.execute_input": "2024-02-22T12:40:45.684979Z",
     "iopub.status.busy": "2024-02-22T12:40:45.684252Z",
     "iopub.status.idle": "2024-02-22T12:40:51.293210Z",
     "shell.execute_reply": "2024-02-22T12:40:51.291814Z"
    },
    "papermill": {
     "duration": 5.621701,
     "end_time": "2024-02-22T12:40:51.296510",
     "exception": false,
     "start_time": "2024-02-22T12:40:45.674809",
     "status": "completed"
    },
    "tags": []
   },
   "outputs": [
    {
     "name": "stdout",
     "output_type": "stream",
     "text": [
      "Model 1 MAE: 24015\n",
      "Model 2 MAE: 23740\n",
      "Model 3 MAE: 23528\n",
      "Model 4 MAE: 23996\n",
      "Model 5 MAE: 23706\n"
     ]
    }
   ],
   "source": [
    "from sklearn.metrics import mean_absolute_error\n",
    "\n",
    "# Function for comparing different models\n",
    "def score_model(model, X_t=X_train, X_v=X_valid, y_t=y_train, y_v=y_valid):\n",
    "    model.fit(X_t, y_t)\n",
    "    preds = model.predict(X_v)\n",
    "    return mean_absolute_error(y_v, preds)\n",
    "\n",
    "for i in range(0, len(models)):\n",
    "    mae = score_model(models[i])\n",
    "    print(\"Model %d MAE: %d\" % (i+1, mae))"
   ]
  },
  {
   "cell_type": "markdown",
   "id": "6de105f3",
   "metadata": {
    "papermill": {
     "duration": 0.007899,
     "end_time": "2024-02-22T12:40:51.312850",
     "exception": false,
     "start_time": "2024-02-22T12:40:51.304951",
     "status": "completed"
    },
    "tags": []
   },
   "source": [
    "# Step 1: Evaluate several models\n",
    "\n",
    "Use the above results to fill in the line below.  Which model is the best model?  Your answer should be one of `model_1`, `model_2`, `model_3`, `model_4`, or `model_5`."
   ]
  },
  {
   "cell_type": "code",
   "execution_count": 6,
   "id": "edda27cc",
   "metadata": {
    "execution": {
     "iopub.execute_input": "2024-02-22T12:40:51.330172Z",
     "iopub.status.busy": "2024-02-22T12:40:51.329722Z",
     "iopub.status.idle": "2024-02-22T12:40:51.341375Z",
     "shell.execute_reply": "2024-02-22T12:40:51.340000Z"
    },
    "papermill": {
     "duration": 0.023498,
     "end_time": "2024-02-22T12:40:51.344100",
     "exception": false,
     "start_time": "2024-02-22T12:40:51.320602",
     "status": "completed"
    },
    "tags": []
   },
   "outputs": [
    {
     "data": {
      "application/javascript": [
       "parent.postMessage({\"jupyterEvent\": \"custom.exercise_interaction\", \"data\": {\"outcomeType\": 1, \"valueTowardsCompletion\": 0.5, \"interactionType\": 1, \"questionType\": 2, \"questionId\": \"1_BestModel\", \"learnToolsVersion\": \"0.3.4\", \"failureMessage\": \"\", \"exceptionClass\": \"\", \"trace\": \"\"}}, \"*\")"
      ],
      "text/plain": [
       "<IPython.core.display.Javascript object>"
      ]
     },
     "metadata": {},
     "output_type": "display_data"
    },
    {
     "data": {
      "text/markdown": [
       "<span style=\"color:#33cc33\">Correct</span>"
      ],
      "text/plain": [
       "Correct"
      ]
     },
     "metadata": {},
     "output_type": "display_data"
    }
   ],
   "source": [
    "# Fill in the best model\n",
    "best_model = model_3\n",
    "\n",
    "# Check your answer\n",
    "step_1.check()"
   ]
  },
  {
   "cell_type": "code",
   "execution_count": 7,
   "id": "9a948190",
   "metadata": {
    "execution": {
     "iopub.execute_input": "2024-02-22T12:40:51.363071Z",
     "iopub.status.busy": "2024-02-22T12:40:51.362666Z",
     "iopub.status.idle": "2024-02-22T12:40:51.367204Z",
     "shell.execute_reply": "2024-02-22T12:40:51.365960Z"
    },
    "papermill": {
     "duration": 0.016819,
     "end_time": "2024-02-22T12:40:51.369897",
     "exception": false,
     "start_time": "2024-02-22T12:40:51.353078",
     "status": "completed"
    },
    "tags": []
   },
   "outputs": [],
   "source": [
    "# Lines below will give you a hint or solution code\n",
    "#step_1.hint()\n",
    "#step_1.solution()"
   ]
  },
  {
   "cell_type": "markdown",
   "id": "f48b234f",
   "metadata": {
    "papermill": {
     "duration": 0.007752,
     "end_time": "2024-02-22T12:40:51.386777",
     "exception": false,
     "start_time": "2024-02-22T12:40:51.379025",
     "status": "completed"
    },
    "tags": []
   },
   "source": [
    "# Step 2: Generate test predictions\n",
    "\n",
    "Great. You know how to evaluate what makes an accurate model. Now it's time to go through the modeling process and make predictions. In the line below, create a Random Forest model with the variable name `my_model`."
   ]
  },
  {
   "cell_type": "code",
   "execution_count": 8,
   "id": "257730f7",
   "metadata": {
    "execution": {
     "iopub.execute_input": "2024-02-22T12:40:51.405873Z",
     "iopub.status.busy": "2024-02-22T12:40:51.405458Z",
     "iopub.status.idle": "2024-02-22T12:40:51.415031Z",
     "shell.execute_reply": "2024-02-22T12:40:51.413869Z"
    },
    "papermill": {
     "duration": 0.022563,
     "end_time": "2024-02-22T12:40:51.417312",
     "exception": false,
     "start_time": "2024-02-22T12:40:51.394749",
     "status": "completed"
    },
    "tags": []
   },
   "outputs": [
    {
     "data": {
      "application/javascript": [
       "parent.postMessage({\"jupyterEvent\": \"custom.exercise_interaction\", \"data\": {\"outcomeType\": 1, \"valueTowardsCompletion\": 0.5, \"interactionType\": 1, \"questionType\": 2, \"questionId\": \"2_Predictions\", \"learnToolsVersion\": \"0.3.4\", \"failureMessage\": \"\", \"exceptionClass\": \"\", \"trace\": \"\"}}, \"*\")"
      ],
      "text/plain": [
       "<IPython.core.display.Javascript object>"
      ]
     },
     "metadata": {},
     "output_type": "display_data"
    },
    {
     "data": {
      "text/markdown": [
       "<span style=\"color:#33cc33\">Correct</span>"
      ],
      "text/plain": [
       "Correct"
      ]
     },
     "metadata": {},
     "output_type": "display_data"
    }
   ],
   "source": [
    "# Define a model\n",
    "my_model = RandomForestRegressor(n_estimators=100, criterion='absolute_error', random_state=0) # Your code here\n",
    "\n",
    "# Check your answer\n",
    "step_2.check()"
   ]
  },
  {
   "cell_type": "code",
   "execution_count": 9,
   "id": "614e8f90",
   "metadata": {
    "execution": {
     "iopub.execute_input": "2024-02-22T12:40:51.435951Z",
     "iopub.status.busy": "2024-02-22T12:40:51.435178Z",
     "iopub.status.idle": "2024-02-22T12:40:51.439730Z",
     "shell.execute_reply": "2024-02-22T12:40:51.438885Z"
    },
    "papermill": {
     "duration": 0.016689,
     "end_time": "2024-02-22T12:40:51.442183",
     "exception": false,
     "start_time": "2024-02-22T12:40:51.425494",
     "status": "completed"
    },
    "tags": []
   },
   "outputs": [],
   "source": [
    "# Lines below will give you a hint or solution code\n",
    "#step_2.hint()\n",
    "#step_2.solution()"
   ]
  },
  {
   "cell_type": "markdown",
   "id": "8841ba18",
   "metadata": {
    "papermill": {
     "duration": 0.008086,
     "end_time": "2024-02-22T12:40:51.458689",
     "exception": false,
     "start_time": "2024-02-22T12:40:51.450603",
     "status": "completed"
    },
    "tags": []
   },
   "source": [
    "Run the next code cell without changes.  The code fits the model to the training and validation data, and then generates test predictions that are saved to a CSV file.  These test predictions can be submitted directly to the competition!"
   ]
  },
  {
   "cell_type": "code",
   "execution_count": 10,
   "id": "cb47389f",
   "metadata": {
    "execution": {
     "iopub.execute_input": "2024-02-22T12:40:51.477938Z",
     "iopub.status.busy": "2024-02-22T12:40:51.477250Z",
     "iopub.status.idle": "2024-02-22T12:40:55.857816Z",
     "shell.execute_reply": "2024-02-22T12:40:55.856821Z"
    },
    "papermill": {
     "duration": 4.393241,
     "end_time": "2024-02-22T12:40:55.860507",
     "exception": false,
     "start_time": "2024-02-22T12:40:51.467266",
     "status": "completed"
    },
    "tags": []
   },
   "outputs": [],
   "source": [
    "# Fit the model to the training data\n",
    "my_model.fit(X, y)\n",
    "\n",
    "# Generate test predictions\n",
    "preds_test = my_model.predict(X_test)\n",
    "\n",
    "# Save predictions in format used for competition scoring\n",
    "output = pd.DataFrame({'Id': X_test.index,\n",
    "                       'SalePrice': preds_test})\n",
    "output.to_csv('submission.csv', index=False)"
   ]
  },
  {
   "cell_type": "markdown",
   "id": "20b3a64f",
   "metadata": {
    "papermill": {
     "duration": 0.008141,
     "end_time": "2024-02-22T12:40:55.878398",
     "exception": false,
     "start_time": "2024-02-22T12:40:55.870257",
     "status": "completed"
    },
    "tags": []
   },
   "source": [
    "# Submit your results\n",
    "\n",
    "Once you have successfully completed Step 2, you're ready to submit your results to the leaderboard!  First, you'll need to join the competition if you haven't already.  So open a new window by clicking on [this link](https://www.kaggle.com/c/home-data-for-ml-course).  Then click on the **Join Competition** button.  _(If you see a \"Submit Predictions\" button instead of a \"Join Competition\" button, you have already joined the competition, and don't need to do so again.)_\n",
    "\n",
    "Next, follow the instructions below:\n",
    "1. Begin by clicking on the **Save Version** button in the top right corner of the window.  This will generate a pop-up window.  \n",
    "2. Ensure that the **Save and Run All** option is selected, and then click on the **Save** button.\n",
    "3. This generates a window in the bottom left corner of the notebook.  After it has finished running, click on the number to the right of the **Save Version** button.  This pulls up a list of versions on the right of the screen.  Click on the ellipsis **(...)** to the right of the most recent version, and select **Open in Viewer**.  This brings you into view mode of the same page. You will need to scroll down to get back to these instructions.\n",
    "4. Click on the **Data** tab near the top of the screen.  Then, click on the file you would like to submit, and click on the **Submit** button to submit your results to the leaderboard.\n",
    "\n",
    "You have now successfully submitted to the competition!\n",
    "\n",
    "If you want to keep working to improve your performance, select the **Edit** button in the top right of the screen. Then you can change your code and repeat the process. There's a lot of room to improve, and you will climb up the leaderboard as you work.\n"
   ]
  },
  {
   "cell_type": "markdown",
   "id": "f78fecb4",
   "metadata": {
    "papermill": {
     "duration": 0.008099,
     "end_time": "2024-02-22T12:40:55.894868",
     "exception": false,
     "start_time": "2024-02-22T12:40:55.886769",
     "status": "completed"
    },
    "tags": []
   },
   "source": [
    "# Keep going\n",
    "\n",
    "You've made your first model. But how can you quickly make it better?\n",
    "\n",
    "Learn how to improve your competition results by incorporating columns with **[missing values](https://www.kaggle.com/alexisbcook/missing-values)**."
   ]
  },
  {
   "cell_type": "markdown",
   "id": "8aaa5f8b",
   "metadata": {
    "papermill": {
     "duration": 0.008004,
     "end_time": "2024-02-22T12:40:55.912502",
     "exception": false,
     "start_time": "2024-02-22T12:40:55.904498",
     "status": "completed"
    },
    "tags": []
   },
   "source": [
    "---\n",
    "\n",
    "\n",
    "\n",
    "\n",
    "*Have questions or comments? Visit the [course discussion forum](https://www.kaggle.com/learn/intermediate-machine-learning/discussion) to chat with other learners.*"
   ]
  }
 ],
 "metadata": {
  "kaggle": {
   "accelerator": "none",
   "dataSources": [
    {
     "databundleVersionId": 111096,
     "sourceId": 10211,
     "sourceType": "competition"
    }
   ],
   "isGpuEnabled": false,
   "isInternetEnabled": false,
   "language": "python",
   "sourceType": "notebook"
  },
  "kernelspec": {
   "display_name": "Python 3",
   "language": "python",
   "name": "python3"
  },
  "language_info": {
   "codemirror_mode": {
    "name": "ipython",
    "version": 3
   },
   "file_extension": ".py",
   "mimetype": "text/x-python",
   "name": "python",
   "nbconvert_exporter": "python",
   "pygments_lexer": "ipython3",
   "version": "3.10.13"
  },
  "papermill": {
   "default_parameters": {},
   "duration": 17.938087,
   "end_time": "2024-02-22T12:40:56.542171",
   "environment_variables": {},
   "exception": null,
   "input_path": "__notebook__.ipynb",
   "output_path": "__notebook__.ipynb",
   "parameters": {},
   "start_time": "2024-02-22T12:40:38.604084",
   "version": "2.5.0"
  }
 },
 "nbformat": 4,
 "nbformat_minor": 5
}
